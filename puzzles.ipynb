{
 "cells": [
  {
   "cell_type": "markdown",
   "id": "d8204266",
   "metadata": {},
   "source": [
    "# LLM Training Puzzles\n",
    "\n",
    "by Sasha Rush ([@srush_nlp](https://twitter.com/srush_nlp))"
   ]
  },
  {
   "cell_type": "code",
   "execution_count": 68,
   "id": "c65be14b",
   "metadata": {},
   "outputs": [],
   "source": [
    "%%capture\n",
    "# Uncomment to run in Colab\n",
    "!pip install -qqq git+https://github.com/chalk-diagrams/chalk asyncio\n",
    "!wget https://raw.githubusercontent.com/srush/LLM-Training-Puzzles/main/lib.py https://raw.githubusercontent.com/srush/LLM-Training-Puzzles/main/drawing.py"
   ]
  },
  {
   "cell_type": "code",
   "execution_count": 69,
   "id": "d583c979",
   "metadata": {},
   "outputs": [],
   "source": [
    "from typing import List\n",
    "from lib import Model, Dist, WeightGrad\n",
    "from drawing import draw, draw_group\n",
    "from chalk import vcat\n",
    "import asyncio\n",
    "import chalk\n",
    "chalk.set_svg_height(400)\n",
    "chalk.set_svg_draw_height(600)"
   ]
  },
  {
   "cell_type": "markdown",
   "id": "cc24dadb",
   "metadata": {},
   "source": [
    "## Preliminaries\n",
    "\n",
    "The goal of these puzzles is to learn about distributed training of LLMs. However, we will be primarily concerned with a speed and memory efficiency of completing a single update of the models. To make things simpler, we will abstract away from the standard tensor-based transformer model, and just consider a state-less representation of each of the components of a multi-layer neural network.\n",
    "\n"
   ]
  },
  {
   "cell_type": "code",
   "execution_count": 70,
   "id": "ad71f90c",
   "metadata": {},
   "outputs": [],
   "source": [
    "model = Model(layers=2, batches=4)\n",
    "weights, opt_states, activations, grad_activations, grad_weights = model.storage()"
   ]
  },
  {
   "cell_type": "markdown",
   "id": "61cf6388",
   "metadata": {},
   "source": [
    "Our library has 5 parts: \n",
    "\n",
    "* Weights\n",
    "* Optimizer States - Values needed to update the weights\n",
    "* Activations - The internal values computed on the forward pass\n",
    "* Grad Activations - The gradients of the loss wrt to activations, needed for backward pass\n",
    "* Grad Weights - The gradients of the loss wrt to weights, needed for updates\n",
    "\n",
    "For these puzzles, you are *not allowed* to have local variables. You need to store each of these in the dictionary corresponding to its type.                      \n",
    "\n",
    "We begin by tracing the lifecycle of a single model update."
   ]
  },
  {
   "cell_type": "code",
   "execution_count": 71,
   "id": "0335a17b",
   "metadata": {},
   "outputs": [
    {
     "data": {
      "image/svg+xml": [
       "<?xml version=\"1.0\" encoding=\"utf-8\" ?>\n",
       "<svg baseProfile=\"full\" height=\"400\" version=\"1.1\" width=\"233\" xmlns=\"http://www.w3.org/2000/svg\" xmlns:ev=\"http://www.w3.org/2001/xml-events\" xmlns:xlink=\"http://www.w3.org/1999/xlink\"><defs><marker id=\"arrow\" markerHeight=\"3.5\" markerWidth=\"5\" orient=\"auto\" refX=\"5.0\" refY=\"1.7\"><polygon points=\"0,0 5,1.75 0,3.5\" /></marker></defs><g style=\"fill:white;\"><g transform=\"matrix(1.0, 0.0, 0.0, 1.0, 116.50000000000001, 199.99166666666667)\"><g transform=\"matrix(73.96825396825396, 0.0, 0.0, 73.96825396825396, 0.0, 0.0)\"><g><g transform=\"matrix(1.0, 0.0, 0.0, 1.0, -0.0, -2.5749999999999997)\"><g><g style=\"stroke: black;stroke-width: 3.6;\" transform=\"matrix(1.0, 0.0, 0.0, 1.0, -0.75, 0.0)\"><path d=\"M 0.0 0.0 L 1.5 0.0 L 1.5 1.05 L 0.0 1.05 L 0.0 0.0 Z\" style=\"vector-effect: non-scaling-stroke;\" /></g><g style=\"stroke: black;stroke-width: 3.6;\" transform=\"matrix(1.0, 0.0, 0.0, 1.0, -1.5, 0.0)\"><path d=\"M 0.0 0.0 L 3.0 0.0 L 3.0 0.0 L 0.0 0.0 L 0.0 0.0 Z\" style=\"vector-effect: non-scaling-stroke;\" /></g><g transform=\"matrix(1.0, 0.0, 0.0, 1.0, 0.0, 1.05)\"><g transform=\"matrix(0.0, -1.0, 1.0, 0.0, 0.0, 0.0)\"><g /></g></g><g transform=\"matrix(1.0, 0.0, 0.0, 1.0, 0.0, 2.05)\"><g><g style=\"stroke: black;stroke-width: 3.6;\" transform=\"matrix(1.0, 0.0, 0.0, 1.0, -0.75, 0.0)\"><path d=\"M 0.0 0.0 L 1.5 0.0 L 1.5 1.05 L 0.0 1.05 L 0.0 0.0 Z\" style=\"vector-effect: non-scaling-stroke;\" /></g><g style=\"stroke: black;stroke-width: 3.6;\" transform=\"matrix(1.0, 0.0, 0.0, 1.0, -1.5, -1.0)\"><path d=\"M 0.0 0.0 L 3.0 0.0 L 3.0 1.0 L 0.0 1.0 L 0.0 0.0 Z\" style=\"vector-effect: non-scaling-stroke;\" /></g><g transform=\"matrix(1.0, 0.0, 0.0, 1.0, 0.0, 1.05)\"><g transform=\"matrix(0.0, -1.0, 1.0, 0.0, 0.0, 0.0)\"><g /></g></g><g transform=\"matrix(1.0, 0.0, 0.0, 1.0, 0.0, 2.05)\"><g><g style=\"stroke: black;stroke-width: 3.6;\" transform=\"matrix(1.0, 0.0, 0.0, 1.0, -0.75, 0.0)\"><path d=\"M 0.0 0.0 L 1.5 0.0 L 1.5 1.05 L 0.0 1.05 L 0.0 0.0 Z\" style=\"vector-effect: non-scaling-stroke;\" /></g><g style=\"stroke: black;stroke-width: 3.6;\" transform=\"matrix(1.0, 0.0, 0.0, 1.0, -1.5, -1.0)\"><path d=\"M 0.0 0.0 L 3.0 0.0 L 3.0 1.0 L 0.0 1.0 L 0.0 0.0 Z\" style=\"vector-effect: non-scaling-stroke;\" /></g></g></g></g></g><g /><g /><g /><g transform=\"matrix(1.0, 0.0, 0.0, 1.0, 0.0, 1.05)\"><g transform=\"matrix(0.0, -1.0, 1.0, 0.0, 0.0, 0.0)\"><g /></g></g><g transform=\"matrix(1.0, 0.0, 0.0, 1.0, 0.0, 2.05)\"><g><g /><g /><g /><g transform=\"matrix(1.0, 0.0, 0.0, 1.0, 0.0, 1.05)\"><g transform=\"matrix(0.0, -1.0, 1.0, 0.0, 0.0, 0.0)\"><g /></g></g><g transform=\"matrix(1.0, 0.0, 0.0, 1.0, 0.0, 2.05)\"><g><g transform=\"matrix(1.0, 0.0, 0.0, 1.0, 0.0, 0.025)\"><g transform=\"matrix(1.0, 0.0, 0.0, 1.0, 0.0, 0.5)\"><g><g style=\"fill: #008000;stroke: #ffffff;stroke-width: 0.18;fill-opacity: 1;\" transform=\"matrix(1.0, 0.0, 0.0, 1.0, 0.0, -0.5)\"><path d=\"M 0.0 0.0 L 0.375 0.0 L 0.375 1.0 L 0.0 1.0 L 0.0 0.0 Z\" style=\"vector-effect: non-scaling-stroke;\" /></g><g style=\"fill: #008000;stroke: #ffffff;stroke-width: 0.18;fill-opacity: 1;\" transform=\"matrix(1.0, 0.0, 0.0, 1.0, 0.375, -0.5)\"><path d=\"M 0.0 0.0 L 0.375 0.0 L 0.375 1.0 L 0.0 1.0 L 0.0 0.0 Z\" style=\"vector-effect: non-scaling-stroke;\" /></g></g></g></g><g /><g /></g></g></g></g></g></g><g /></g></g></g></g></svg>"
      ],
      "text/plain": [
       "Activation(layer=0, layers=2, batches=frozenset({2, 3}), total_batches=4)"
      ]
     },
     "execution_count": 71,
     "metadata": {},
     "output_type": "execute_result"
    }
   ],
   "source": [
    "# Get the input activations to the model for batches 2, 3 \n",
    "activations[0] = model.get_activation(batches=[2, 3])\n",
    "activations[0]"
   ]
  },
  {
   "cell_type": "code",
   "execution_count": 72,
   "id": "962ac1d8",
   "metadata": {},
   "outputs": [
    {
     "data": {
      "image/svg+xml": [
       "<?xml version=\"1.0\" encoding=\"utf-8\" ?>\n",
       "<svg baseProfile=\"full\" height=\"400\" version=\"1.1\" width=\"233\" xmlns=\"http://www.w3.org/2000/svg\" xmlns:ev=\"http://www.w3.org/2001/xml-events\" xmlns:xlink=\"http://www.w3.org/1999/xlink\"><defs><marker id=\"arrow\" markerHeight=\"3.5\" markerWidth=\"5\" orient=\"auto\" refX=\"5.0\" refY=\"1.7\"><polygon points=\"0,0 5,1.75 0,3.5\" /></marker></defs><g style=\"fill:white;\"><g transform=\"matrix(1.0, 0.0, 0.0, 1.0, 116.50000000000001, 199.99166666666667)\"><g transform=\"matrix(73.96825396825396, 0.0, 0.0, 73.96825396825396, 0.0, 0.0)\"><g><g transform=\"matrix(1.0, 0.0, 0.0, 1.0, -0.0, -2.5749999999999997)\"><g><g style=\"stroke: black;stroke-width: 3.6;\" transform=\"matrix(1.0, 0.0, 0.0, 1.0, -0.75, 0.0)\"><path d=\"M 0.0 0.0 L 1.5 0.0 L 1.5 1.05 L 0.0 1.05 L 0.0 0.0 Z\" style=\"vector-effect: non-scaling-stroke;\" /></g><g style=\"stroke: black;stroke-width: 3.6;\" transform=\"matrix(1.0, 0.0, 0.0, 1.0, -1.5, 0.0)\"><path d=\"M 0.0 0.0 L 3.0 0.0 L 3.0 0.0 L 0.0 0.0 L 0.0 0.0 Z\" style=\"vector-effect: non-scaling-stroke;\" /></g><g transform=\"matrix(1.0, 0.0, 0.0, 1.0, 0.0, 1.05)\"><g transform=\"matrix(0.0, -1.0, 1.0, 0.0, 0.0, 0.0)\"><g /></g></g><g transform=\"matrix(1.0, 0.0, 0.0, 1.0, 0.0, 2.05)\"><g><g style=\"stroke: black;stroke-width: 3.6;\" transform=\"matrix(1.0, 0.0, 0.0, 1.0, -0.75, 0.0)\"><path d=\"M 0.0 0.0 L 1.5 0.0 L 1.5 1.05 L 0.0 1.05 L 0.0 0.0 Z\" style=\"vector-effect: non-scaling-stroke;\" /></g><g style=\"stroke: black;stroke-width: 3.6;\" transform=\"matrix(1.0, 0.0, 0.0, 1.0, -1.5, -1.0)\"><path d=\"M 0.0 0.0 L 3.0 0.0 L 3.0 1.0 L 0.0 1.0 L 0.0 0.0 Z\" style=\"vector-effect: non-scaling-stroke;\" /></g><g transform=\"matrix(1.0, 0.0, 0.0, 1.0, 0.0, 1.05)\"><g transform=\"matrix(0.0, -1.0, 1.0, 0.0, 0.0, 0.0)\"><g /></g></g><g transform=\"matrix(1.0, 0.0, 0.0, 1.0, 0.0, 2.05)\"><g><g style=\"stroke: black;stroke-width: 3.6;\" transform=\"matrix(1.0, 0.0, 0.0, 1.0, -0.75, 0.0)\"><path d=\"M 0.0 0.0 L 1.5 0.0 L 1.5 1.05 L 0.0 1.05 L 0.0 0.0 Z\" style=\"vector-effect: non-scaling-stroke;\" /></g><g style=\"stroke: black;stroke-width: 3.6;\" transform=\"matrix(1.0, 0.0, 0.0, 1.0, -1.5, -1.0)\"><path d=\"M 0.0 0.0 L 3.0 0.0 L 3.0 1.0 L 0.0 1.0 L 0.0 0.0 Z\" style=\"vector-effect: non-scaling-stroke;\" /></g></g></g></g></g><g /><g /><g /><g transform=\"matrix(1.0, 0.0, 0.0, 1.0, 0.0, 1.05)\"><g transform=\"matrix(0.0, -1.0, 1.0, 0.0, 0.0, 0.0)\"><g /></g></g><g transform=\"matrix(1.0, 0.0, 0.0, 1.0, 0.0, 2.05)\"><g><g /><g /><g /><g transform=\"matrix(1.0, 0.0, 0.0, 1.0, 0.0, 1.05)\"><g transform=\"matrix(0.0, -1.0, 1.0, 0.0, 0.0, 0.0)\"><g /></g></g><g transform=\"matrix(1.0, 0.0, 0.0, 1.0, 0.0, 2.05)\"><g><g /><g style=\"fill: #008000;stroke: #ffffff;stroke-width: 0.18;\" transform=\"matrix(1.0, 0.0, 0.0, 1.0, -1.5, -1.0)\"><path d=\"M 0.0 0.0 L 3.0 0.0 L 3.0 1.0 L 0.0 1.0 L 0.0 0.0 Z\" style=\"vector-effect: non-scaling-stroke;\" /></g><g /></g></g></g></g></g></g><g /></g></g></g></g></svg>"
      ],
      "text/plain": [
       "Weight(layer=0, layers=2, step=0, shards=frozenset({0}), total=1)"
      ]
     },
     "execution_count": 72,
     "metadata": {},
     "output_type": "execute_result"
    }
   ],
   "source": [
    "# Load the weights (random) for layers 0 and 1\n",
    "for i in range(model.LAYERS):\n",
    "    weights[i], opt_states[i] = model.load_weights(i)\n",
    "weights[0]"
   ]
  },
  {
   "cell_type": "code",
   "execution_count": 73,
   "id": "f7a83439",
   "metadata": {},
   "outputs": [
    {
     "data": {
      "image/svg+xml": [
       "<?xml version=\"1.0\" encoding=\"utf-8\" ?>\n",
       "<svg baseProfile=\"full\" height=\"400\" version=\"1.1\" width=\"233\" xmlns=\"http://www.w3.org/2000/svg\" xmlns:ev=\"http://www.w3.org/2001/xml-events\" xmlns:xlink=\"http://www.w3.org/1999/xlink\"><defs><marker id=\"arrow\" markerHeight=\"3.5\" markerWidth=\"5\" orient=\"auto\" refX=\"5.0\" refY=\"1.7\"><polygon points=\"0,0 5,1.75 0,3.5\" /></marker></defs><g style=\"fill:white;\"><g transform=\"matrix(1.0, 0.0, 0.0, 1.0, 116.50000000000001, 199.99166666666667)\"><g transform=\"matrix(73.96825396825396, 0.0, 0.0, 73.96825396825396, 0.0, 0.0)\"><g><g transform=\"matrix(1.0, 0.0, 0.0, 1.0, -0.0, -2.5749999999999997)\"><g><g style=\"stroke: black;stroke-width: 3.6;\" transform=\"matrix(1.0, 0.0, 0.0, 1.0, -0.75, 0.0)\"><path d=\"M 0.0 0.0 L 1.5 0.0 L 1.5 1.05 L 0.0 1.05 L 0.0 0.0 Z\" style=\"vector-effect: non-scaling-stroke;\" /></g><g style=\"stroke: black;stroke-width: 3.6;\" transform=\"matrix(1.0, 0.0, 0.0, 1.0, -1.5, 0.0)\"><path d=\"M 0.0 0.0 L 3.0 0.0 L 3.0 0.0 L 0.0 0.0 L 0.0 0.0 Z\" style=\"vector-effect: non-scaling-stroke;\" /></g><g transform=\"matrix(1.0, 0.0, 0.0, 1.0, 0.0, 1.05)\"><g transform=\"matrix(0.0, -1.0, 1.0, 0.0, 0.0, 0.0)\"><g /></g></g><g transform=\"matrix(1.0, 0.0, 0.0, 1.0, 0.0, 2.05)\"><g><g style=\"stroke: black;stroke-width: 3.6;\" transform=\"matrix(1.0, 0.0, 0.0, 1.0, -0.75, 0.0)\"><path d=\"M 0.0 0.0 L 1.5 0.0 L 1.5 1.05 L 0.0 1.05 L 0.0 0.0 Z\" style=\"vector-effect: non-scaling-stroke;\" /></g><g style=\"stroke: black;stroke-width: 3.6;\" transform=\"matrix(1.0, 0.0, 0.0, 1.0, -1.5, -1.0)\"><path d=\"M 0.0 0.0 L 3.0 0.0 L 3.0 1.0 L 0.0 1.0 L 0.0 0.0 Z\" style=\"vector-effect: non-scaling-stroke;\" /></g><g transform=\"matrix(1.0, 0.0, 0.0, 1.0, 0.0, 1.05)\"><g transform=\"matrix(0.0, -1.0, 1.0, 0.0, 0.0, 0.0)\"><g /></g></g><g transform=\"matrix(1.0, 0.0, 0.0, 1.0, 0.0, 2.05)\"><g><g style=\"stroke: black;stroke-width: 3.6;\" transform=\"matrix(1.0, 0.0, 0.0, 1.0, -0.75, 0.0)\"><path d=\"M 0.0 0.0 L 1.5 0.0 L 1.5 1.05 L 0.0 1.05 L 0.0 0.0 Z\" style=\"vector-effect: non-scaling-stroke;\" /></g><g style=\"stroke: black;stroke-width: 3.6;\" transform=\"matrix(1.0, 0.0, 0.0, 1.0, -1.5, -1.0)\"><path d=\"M 0.0 0.0 L 3.0 0.0 L 3.0 1.0 L 0.0 1.0 L 0.0 0.0 Z\" style=\"vector-effect: non-scaling-stroke;\" /></g></g></g></g></g><g /><g /><g /><g transform=\"matrix(1.0, 0.0, 0.0, 1.0, 0.0, 1.05)\"><g transform=\"matrix(0.0, -1.0, 1.0, 0.0, 0.0, 0.0)\"><g /></g></g><g transform=\"matrix(1.0, 0.0, 0.0, 1.0, 0.0, 2.05)\"><g><g transform=\"matrix(1.0, 0.0, 0.0, 1.0, 0.0, 0.025)\"><g transform=\"matrix(1.0, 0.0, 0.0, 1.0, 0.0, 0.5)\"><g><g style=\"fill: #bfbf00;stroke: #ffffff;stroke-width: 0.18;fill-opacity: 1;\" transform=\"matrix(1.0, 0.0, 0.0, 1.0, 0.0, -0.5)\"><path d=\"M 0.0 0.0 L 0.375 0.0 L 0.375 1.0 L 0.0 1.0 L 0.0 0.0 Z\" style=\"vector-effect: non-scaling-stroke;\" /></g><g style=\"fill: #bfbf00;stroke: #ffffff;stroke-width: 0.18;fill-opacity: 1;\" transform=\"matrix(1.0, 0.0, 0.0, 1.0, 0.375, -0.5)\"><path d=\"M 0.0 0.0 L 0.375 0.0 L 0.375 1.0 L 0.0 1.0 L 0.0 0.0 Z\" style=\"vector-effect: non-scaling-stroke;\" /></g></g></g></g><g /><g /><g transform=\"matrix(1.0, 0.0, 0.0, 1.0, 0.0, 1.05)\"><g transform=\"matrix(0.0, -1.0, 1.0, 0.0, 0.0, 0.0)\"><g /></g></g><g transform=\"matrix(1.0, 0.0, 0.0, 1.0, 0.0, 2.05)\"><g><g /><g /><g /></g></g></g></g></g></g><g /></g></g></g></g></svg>"
      ],
      "text/plain": [
       "Activation(layer=1, layers=2, batches=frozenset({2, 3}), total_batches=4)"
      ]
     },
     "execution_count": 73,
     "metadata": {},
     "output_type": "execute_result"
    }
   ],
   "source": [
    "# Activations can be moved forward a layer if you have the weights.\n",
    "activations[1] = model.forward(layer=0, inp=activations[0], weight=weights[0])\n",
    "activations[2] = model.forward(layer=1, inp=activations[1], weight=weights[1])\n",
    "activations[1]"
   ]
  },
  {
   "cell_type": "code",
   "execution_count": 74,
   "id": "81d904e3",
   "metadata": {},
   "outputs": [
    {
     "data": {
      "image/svg+xml": [
       "<?xml version=\"1.0\" encoding=\"utf-8\" ?>\n",
       "<svg baseProfile=\"full\" height=\"400\" version=\"1.1\" width=\"233\" xmlns=\"http://www.w3.org/2000/svg\" xmlns:ev=\"http://www.w3.org/2001/xml-events\" xmlns:xlink=\"http://www.w3.org/1999/xlink\"><defs><marker id=\"arrow\" markerHeight=\"3.5\" markerWidth=\"5\" orient=\"auto\" refX=\"5.0\" refY=\"1.7\"><polygon points=\"0,0 5,1.75 0,3.5\" /></marker></defs><g style=\"fill:white;\"><g transform=\"matrix(1.0, 0.0, 0.0, 1.0, 116.50000000000001, 199.99166666666667)\"><g transform=\"matrix(73.96825396825396, 0.0, 0.0, 73.96825396825396, 0.0, 0.0)\"><g><g transform=\"matrix(1.0, 0.0, 0.0, 1.0, -0.0, -2.5749999999999997)\"><g><g style=\"stroke: black;stroke-width: 3.6;\" transform=\"matrix(1.0, 0.0, 0.0, 1.0, -0.75, 0.0)\"><path d=\"M 0.0 0.0 L 1.5 0.0 L 1.5 1.05 L 0.0 1.05 L 0.0 0.0 Z\" style=\"vector-effect: non-scaling-stroke;\" /></g><g style=\"stroke: black;stroke-width: 3.6;\" transform=\"matrix(1.0, 0.0, 0.0, 1.0, -1.5, 0.0)\"><path d=\"M 0.0 0.0 L 3.0 0.0 L 3.0 0.0 L 0.0 0.0 L 0.0 0.0 Z\" style=\"vector-effect: non-scaling-stroke;\" /></g><g transform=\"matrix(1.0, 0.0, 0.0, 1.0, 0.0, 1.05)\"><g transform=\"matrix(0.0, -1.0, 1.0, 0.0, 0.0, 0.0)\"><g /></g></g><g transform=\"matrix(1.0, 0.0, 0.0, 1.0, 0.0, 2.05)\"><g><g style=\"stroke: black;stroke-width: 3.6;\" transform=\"matrix(1.0, 0.0, 0.0, 1.0, -0.75, 0.0)\"><path d=\"M 0.0 0.0 L 1.5 0.0 L 1.5 1.05 L 0.0 1.05 L 0.0 0.0 Z\" style=\"vector-effect: non-scaling-stroke;\" /></g><g style=\"stroke: black;stroke-width: 3.6;\" transform=\"matrix(1.0, 0.0, 0.0, 1.0, -1.5, -1.0)\"><path d=\"M 0.0 0.0 L 3.0 0.0 L 3.0 1.0 L 0.0 1.0 L 0.0 0.0 Z\" style=\"vector-effect: non-scaling-stroke;\" /></g><g transform=\"matrix(1.0, 0.0, 0.0, 1.0, 0.0, 1.05)\"><g transform=\"matrix(0.0, -1.0, 1.0, 0.0, 0.0, 0.0)\"><g /></g></g><g transform=\"matrix(1.0, 0.0, 0.0, 1.0, 0.0, 2.05)\"><g><g style=\"stroke: black;stroke-width: 3.6;\" transform=\"matrix(1.0, 0.0, 0.0, 1.0, -0.75, 0.0)\"><path d=\"M 0.0 0.0 L 1.5 0.0 L 1.5 1.05 L 0.0 1.05 L 0.0 0.0 Z\" style=\"vector-effect: non-scaling-stroke;\" /></g><g style=\"stroke: black;stroke-width: 3.6;\" transform=\"matrix(1.0, 0.0, 0.0, 1.0, -1.5, -1.0)\"><path d=\"M 0.0 0.0 L 3.0 0.0 L 3.0 1.0 L 0.0 1.0 L 0.0 0.0 Z\" style=\"vector-effect: non-scaling-stroke;\" /></g></g></g></g></g><g /><g /><g /><g transform=\"matrix(1.0, 0.0, 0.0, 1.0, 0.0, 1.05)\"><g transform=\"matrix(0.0, -1.0, 1.0, 0.0, 0.0, 0.0)\"><g /></g></g><g transform=\"matrix(1.0, 0.0, 0.0, 1.0, 0.0, 2.05)\"><g><g /><g /><g /><g transform=\"matrix(1.0, 0.0, 0.0, 1.0, 0.0, 1.05)\"><g transform=\"matrix(0.0, -1.0, 1.0, 0.0, 0.0, 0.0)\"><g /></g></g><g transform=\"matrix(1.0, 0.0, 0.0, 1.0, 0.0, 2.05)\"><g><g transform=\"matrix(1.0, 0.0, 0.0, 1.0, 0.0, 0.025)\"><g transform=\"matrix(1.0, 0.0, 0.0, 1.0, 0.0, 0.5)\"><g><g style=\"fill: #008000;stroke: #ffffff;stroke-width: 0.18;fill-opacity: 1;\" transform=\"matrix(1.0, 0.0, 0.0, 1.0, 0.0, -0.5)\"><path d=\"M 0.0 0.0 L 0.375 0.0 L 0.375 1.0 L 0.0 1.0 L 0.0 0.0 Z\" style=\"vector-effect: non-scaling-stroke;\" /></g><g style=\"fill: #008000;stroke: #ffffff;stroke-width: 0.18;fill-opacity: 1;\" transform=\"matrix(1.0, 0.0, 0.0, 1.0, 0.375, -0.5)\"><path d=\"M 0.0 0.0 L 0.375 0.0 L 0.375 1.0 L 0.0 1.0 L 0.0 0.0 Z\" style=\"vector-effect: non-scaling-stroke;\" /></g></g></g></g><g /><g /></g></g></g></g><g /><g /><g /><g transform=\"matrix(1.0, 0.0, 0.0, 1.0, 0.0, 1.05)\"><g transform=\"matrix(0.0, -1.0, 1.0, 0.0, 0.0, 0.0)\"><g /></g></g><g transform=\"matrix(1.0, 0.0, 0.0, 1.0, 0.0, 2.05)\"><g><g transform=\"matrix(1.0, 0.0, 0.0, 1.0, 0.0, 0.025)\"><g transform=\"matrix(1.0, 0.0, 0.0, 1.0, 0.0, 0.5)\"><g><g style=\"fill: #bfbf00;stroke: #ffffff;stroke-width: 0.18;fill-opacity: 1;\" transform=\"matrix(1.0, 0.0, 0.0, 1.0, 0.0, -0.5)\"><path d=\"M 0.0 0.0 L 0.375 0.0 L 0.375 1.0 L 0.0 1.0 L 0.0 0.0 Z\" style=\"vector-effect: non-scaling-stroke;\" /></g><g style=\"fill: #bfbf00;stroke: #ffffff;stroke-width: 0.18;fill-opacity: 1;\" transform=\"matrix(1.0, 0.0, 0.0, 1.0, 0.375, -0.5)\"><path d=\"M 0.0 0.0 L 0.375 0.0 L 0.375 1.0 L 0.0 1.0 L 0.0 0.0 Z\" style=\"vector-effect: non-scaling-stroke;\" /></g></g></g></g><g /><g /><g transform=\"matrix(1.0, 0.0, 0.0, 1.0, 0.0, 1.05)\"><g transform=\"matrix(0.0, -1.0, 1.0, 0.0, 0.0, 0.0)\"><g /></g></g><g transform=\"matrix(1.0, 0.0, 0.0, 1.0, 0.0, 2.05)\"><g><g /><g /><g /></g></g></g></g><g transform=\"matrix(1.0, 0.0, 0.0, 1.0, 0.0, 0.025)\"><g transform=\"matrix(1.0, 0.0, 0.0, 1.0, 0.0, 0.5)\"><g><g style=\"fill: #ff0000;stroke: #ffffff;stroke-width: 0.18;fill-opacity: 1;\" transform=\"matrix(1.0, 0.0, 0.0, 1.0, 0.0, -0.5)\"><path d=\"M 0.0 0.0 L 0.375 0.0 L 0.375 1.0 L 0.0 1.0 L 0.0 0.0 Z\" style=\"vector-effect: non-scaling-stroke;\" /></g><g style=\"fill: #ff0000;stroke: #ffffff;stroke-width: 0.18;fill-opacity: 1;\" transform=\"matrix(1.0, 0.0, 0.0, 1.0, 0.375, -0.5)\"><path d=\"M 0.0 0.0 L 0.375 0.0 L 0.375 1.0 L 0.0 1.0 L 0.0 0.0 Z\" style=\"vector-effect: non-scaling-stroke;\" /></g></g></g></g><g /><g /><g transform=\"matrix(1.0, 0.0, 0.0, 1.0, 0.0, 1.05)\"><g transform=\"matrix(0.0, -1.0, 1.0, 0.0, 0.0, 0.0)\"><g /></g></g><g transform=\"matrix(1.0, 0.0, 0.0, 1.0, 0.0, 2.05)\"><g><g /><g /><g /><g transform=\"matrix(1.0, 0.0, 0.0, 1.0, 0.0, 1.05)\"><g transform=\"matrix(0.0, -1.0, 1.0, 0.0, 0.0, 0.0)\"><g /></g></g><g transform=\"matrix(1.0, 0.0, 0.0, 1.0, 0.0, 2.05)\"><g><g /><g /><g /></g></g></g></g></g></g><g /></g></g></g></g></svg>"
      ],
      "text/html": [
       "<?xml version=\"1.0\" encoding=\"utf-8\" ?>\n",
       "<svg baseProfile=\"full\" height=\"400\" version=\"1.1\" width=\"233\" xmlns=\"http://www.w3.org/2000/svg\" xmlns:ev=\"http://www.w3.org/2001/xml-events\" xmlns:xlink=\"http://www.w3.org/1999/xlink\"><defs><marker id=\"arrow\" markerHeight=\"3.5\" markerWidth=\"5\" orient=\"auto\" refX=\"5.0\" refY=\"1.7\"><polygon points=\"0,0 5,1.75 0,3.5\" /></marker></defs><g style=\"fill:white;\"><g transform=\"matrix(1.0, 0.0, 0.0, 1.0, 116.50000000000001, 199.99166666666667)\"><g transform=\"matrix(73.96825396825396, 0.0, 0.0, 73.96825396825396, 0.0, 0.0)\"><g><g transform=\"matrix(1.0, 0.0, 0.0, 1.0, -0.0, -2.5749999999999997)\"><g><g style=\"stroke: black;stroke-width: 3.6;\" transform=\"matrix(1.0, 0.0, 0.0, 1.0, -0.75, 0.0)\"><path d=\"M 0.0 0.0 L 1.5 0.0 L 1.5 1.05 L 0.0 1.05 L 0.0 0.0 Z\" style=\"vector-effect: non-scaling-stroke;\" /></g><g style=\"stroke: black;stroke-width: 3.6;\" transform=\"matrix(1.0, 0.0, 0.0, 1.0, -1.5, 0.0)\"><path d=\"M 0.0 0.0 L 3.0 0.0 L 3.0 0.0 L 0.0 0.0 L 0.0 0.0 Z\" style=\"vector-effect: non-scaling-stroke;\" /></g><g transform=\"matrix(1.0, 0.0, 0.0, 1.0, 0.0, 1.05)\"><g transform=\"matrix(0.0, -1.0, 1.0, 0.0, 0.0, 0.0)\"><g /></g></g><g transform=\"matrix(1.0, 0.0, 0.0, 1.0, 0.0, 2.05)\"><g><g style=\"stroke: black;stroke-width: 3.6;\" transform=\"matrix(1.0, 0.0, 0.0, 1.0, -0.75, 0.0)\"><path d=\"M 0.0 0.0 L 1.5 0.0 L 1.5 1.05 L 0.0 1.05 L 0.0 0.0 Z\" style=\"vector-effect: non-scaling-stroke;\" /></g><g style=\"stroke: black;stroke-width: 3.6;\" transform=\"matrix(1.0, 0.0, 0.0, 1.0, -1.5, -1.0)\"><path d=\"M 0.0 0.0 L 3.0 0.0 L 3.0 1.0 L 0.0 1.0 L 0.0 0.0 Z\" style=\"vector-effect: non-scaling-stroke;\" /></g><g transform=\"matrix(1.0, 0.0, 0.0, 1.0, 0.0, 1.05)\"><g transform=\"matrix(0.0, -1.0, 1.0, 0.0, 0.0, 0.0)\"><g /></g></g><g transform=\"matrix(1.0, 0.0, 0.0, 1.0, 0.0, 2.05)\"><g><g style=\"stroke: black;stroke-width: 3.6;\" transform=\"matrix(1.0, 0.0, 0.0, 1.0, -0.75, 0.0)\"><path d=\"M 0.0 0.0 L 1.5 0.0 L 1.5 1.05 L 0.0 1.05 L 0.0 0.0 Z\" style=\"vector-effect: non-scaling-stroke;\" /></g><g style=\"stroke: black;stroke-width: 3.6;\" transform=\"matrix(1.0, 0.0, 0.0, 1.0, -1.5, -1.0)\"><path d=\"M 0.0 0.0 L 3.0 0.0 L 3.0 1.0 L 0.0 1.0 L 0.0 0.0 Z\" style=\"vector-effect: non-scaling-stroke;\" /></g></g></g></g></g><g /><g /><g /><g transform=\"matrix(1.0, 0.0, 0.0, 1.0, 0.0, 1.05)\"><g transform=\"matrix(0.0, -1.0, 1.0, 0.0, 0.0, 0.0)\"><g /></g></g><g transform=\"matrix(1.0, 0.0, 0.0, 1.0, 0.0, 2.05)\"><g><g /><g /><g /><g transform=\"matrix(1.0, 0.0, 0.0, 1.0, 0.0, 1.05)\"><g transform=\"matrix(0.0, -1.0, 1.0, 0.0, 0.0, 0.0)\"><g /></g></g><g transform=\"matrix(1.0, 0.0, 0.0, 1.0, 0.0, 2.05)\"><g><g transform=\"matrix(1.0, 0.0, 0.0, 1.0, 0.0, 0.025)\"><g transform=\"matrix(1.0, 0.0, 0.0, 1.0, 0.0, 0.5)\"><g><g style=\"fill: #008000;stroke: #ffffff;stroke-width: 0.18;fill-opacity: 1;\" transform=\"matrix(1.0, 0.0, 0.0, 1.0, 0.0, -0.5)\"><path d=\"M 0.0 0.0 L 0.375 0.0 L 0.375 1.0 L 0.0 1.0 L 0.0 0.0 Z\" style=\"vector-effect: non-scaling-stroke;\" /></g><g style=\"fill: #008000;stroke: #ffffff;stroke-width: 0.18;fill-opacity: 1;\" transform=\"matrix(1.0, 0.0, 0.0, 1.0, 0.375, -0.5)\"><path d=\"M 0.0 0.0 L 0.375 0.0 L 0.375 1.0 L 0.0 1.0 L 0.0 0.0 Z\" style=\"vector-effect: non-scaling-stroke;\" /></g></g></g></g><g /><g /></g></g></g></g><g /><g /><g /><g transform=\"matrix(1.0, 0.0, 0.0, 1.0, 0.0, 1.05)\"><g transform=\"matrix(0.0, -1.0, 1.0, 0.0, 0.0, 0.0)\"><g /></g></g><g transform=\"matrix(1.0, 0.0, 0.0, 1.0, 0.0, 2.05)\"><g><g transform=\"matrix(1.0, 0.0, 0.0, 1.0, 0.0, 0.025)\"><g transform=\"matrix(1.0, 0.0, 0.0, 1.0, 0.0, 0.5)\"><g><g style=\"fill: #bfbf00;stroke: #ffffff;stroke-width: 0.18;fill-opacity: 1;\" transform=\"matrix(1.0, 0.0, 0.0, 1.0, 0.0, -0.5)\"><path d=\"M 0.0 0.0 L 0.375 0.0 L 0.375 1.0 L 0.0 1.0 L 0.0 0.0 Z\" style=\"vector-effect: non-scaling-stroke;\" /></g><g style=\"fill: #bfbf00;stroke: #ffffff;stroke-width: 0.18;fill-opacity: 1;\" transform=\"matrix(1.0, 0.0, 0.0, 1.0, 0.375, -0.5)\"><path d=\"M 0.0 0.0 L 0.375 0.0 L 0.375 1.0 L 0.0 1.0 L 0.0 0.0 Z\" style=\"vector-effect: non-scaling-stroke;\" /></g></g></g></g><g /><g /><g transform=\"matrix(1.0, 0.0, 0.0, 1.0, 0.0, 1.05)\"><g transform=\"matrix(0.0, -1.0, 1.0, 0.0, 0.0, 0.0)\"><g /></g></g><g transform=\"matrix(1.0, 0.0, 0.0, 1.0, 0.0, 2.05)\"><g><g /><g /><g /></g></g></g></g><g transform=\"matrix(1.0, 0.0, 0.0, 1.0, 0.0, 0.025)\"><g transform=\"matrix(1.0, 0.0, 0.0, 1.0, 0.0, 0.5)\"><g><g style=\"fill: #ff0000;stroke: #ffffff;stroke-width: 0.18;fill-opacity: 1;\" transform=\"matrix(1.0, 0.0, 0.0, 1.0, 0.0, -0.5)\"><path d=\"M 0.0 0.0 L 0.375 0.0 L 0.375 1.0 L 0.0 1.0 L 0.0 0.0 Z\" style=\"vector-effect: non-scaling-stroke;\" /></g><g style=\"fill: #ff0000;stroke: #ffffff;stroke-width: 0.18;fill-opacity: 1;\" transform=\"matrix(1.0, 0.0, 0.0, 1.0, 0.375, -0.5)\"><path d=\"M 0.0 0.0 L 0.375 0.0 L 0.375 1.0 L 0.0 1.0 L 0.0 0.0 Z\" style=\"vector-effect: non-scaling-stroke;\" /></g></g></g></g><g /><g /><g transform=\"matrix(1.0, 0.0, 0.0, 1.0, 0.0, 1.05)\"><g transform=\"matrix(0.0, -1.0, 1.0, 0.0, 0.0, 0.0)\"><g /></g></g><g transform=\"matrix(1.0, 0.0, 0.0, 1.0, 0.0, 2.05)\"><g><g /><g /><g /><g transform=\"matrix(1.0, 0.0, 0.0, 1.0, 0.0, 1.05)\"><g transform=\"matrix(0.0, -1.0, 1.0, 0.0, 0.0, 0.0)\"><g /></g></g><g transform=\"matrix(1.0, 0.0, 0.0, 1.0, 0.0, 2.05)\"><g><g /><g /><g /></g></g></g></g></g></g><g /></g></g></g></g></svg>"
      ],
      "text/plain": [
       "Compose(envelope=<chalk.envelope.Envelope object at 0x1139e66d0>, diagrams=[Primitive(shape=Path(loc_trails=[Located(trail=Trail(segments=[Segment(offset=Vec2(1.5, 0.0), origin=Vec2(0.0, 0.0)), Segment(offset=Vec2(0.0, 1.05), origin=Vec2(0.0, 0.0)), Segment(offset=Vec2(-1.5, 0.0), origin=Vec2(0.0, 0.0)), Segment(offset=Vec2(0.0, -1.05), origin=Vec2(0.0, 0.0))], closed=True), location=Vec2(0.0, 0.0))]), style=Style(line_width_=(<WidthType.NORMALIZED: 2>, 0.2), line_color_=None, fill_color_=None, fill_opacity_=None, dashing_=None, output_size=None), transform=Affine(1.0, 0.0, -0.75,\n",
       "       0.0, 1.0, 0.0)), Primitive(shape=Path(loc_trails=[Located(trail=Trail(segments=[Segment(offset=Vec2(3.0, 0.0), origin=Vec2(0.0, 0.0)), Segment(offset=Vec2(0.0, 0.0), origin=Vec2(0.0, 0.0)), Segment(offset=Vec2(-3.0, 0.0), origin=Vec2(0.0, 0.0)), Segment(offset=Vec2(0.0, 0.0), origin=Vec2(0.0, 0.0))], closed=True), location=Vec2(0.0, 0.0))]), style=Style(line_width_=(<WidthType.NORMALIZED: 2>, 0.2), line_color_=None, fill_color_=None, fill_opacity_=None, dashing_=None, output_size=None), transform=Affine(1.0, 0.0, -1.5,\n",
       "       0.0, 1.0, 0.0)), ApplyTransform(transform=Affine(1.0, 0.0, 0.0,\n",
       "       0.0, 1.0, 1.05), diagram=ApplyTransform(transform=Affine(0.0, 1.0, 0.0,\n",
       "       -1.0, 0.0, 0.0), diagram=Empty())), ApplyTransform(transform=Affine(1.0, 0.0, 0.0,\n",
       "       0.0, 1.0, 2.05), diagram=Compose(envelope=<chalk.envelope.Envelope object at 0x1138f55b0>, diagrams=[Primitive(shape=Path(loc_trails=[Located(trail=Trail(segments=[Segment(offset=Vec2(1.5, 0.0), origin=Vec2(0.0, 0.0)), Segment(offset=Vec2(0.0, 1.05), origin=Vec2(0.0, 0.0)), Segment(offset=Vec2(-1.5, 0.0), origin=Vec2(0.0, 0.0)), Segment(offset=Vec2(0.0, -1.05), origin=Vec2(0.0, 0.0))], closed=True), location=Vec2(0.0, 0.0))]), style=Style(line_width_=(<WidthType.NORMALIZED: 2>, 0.2), line_color_=None, fill_color_=None, fill_opacity_=None, dashing_=None, output_size=None), transform=Affine(1.0, 0.0, -0.75,\n",
       "       0.0, 1.0, 0.0)), Primitive(shape=Path(loc_trails=[Located(trail=Trail(segments=[Segment(offset=Vec2(3.0, 0.0), origin=Vec2(0.0, 0.0)), Segment(offset=Vec2(0.0, 1.0), origin=Vec2(0.0, 0.0)), Segment(offset=Vec2(-3.0, 0.0), origin=Vec2(0.0, 0.0)), Segment(offset=Vec2(0.0, -1.0), origin=Vec2(0.0, 0.0))], closed=True), location=Vec2(0.0, 0.0))]), style=Style(line_width_=(<WidthType.NORMALIZED: 2>, 0.2), line_color_=None, fill_color_=None, fill_opacity_=None, dashing_=None, output_size=None), transform=Affine(1.0, 0.0, -1.5,\n",
       "       0.0, 1.0, -1.0)), ApplyTransform(transform=Affine(1.0, 0.0, 0.0,\n",
       "       0.0, 1.0, 1.05), diagram=ApplyTransform(transform=Affine(0.0, 1.0, 0.0,\n",
       "       -1.0, 0.0, 0.0), diagram=Empty())), ApplyTransform(transform=Affine(1.0, 0.0, 0.0,\n",
       "       0.0, 1.0, 2.05), diagram=Compose(envelope=<chalk.envelope.Envelope object at 0x1138fd3a0>, diagrams=[Primitive(shape=Path(loc_trails=[Located(trail=Trail(segments=[Segment(offset=Vec2(1.5, 0.0), origin=Vec2(0.0, 0.0)), Segment(offset=Vec2(0.0, 1.05), origin=Vec2(0.0, 0.0)), Segment(offset=Vec2(-1.5, 0.0), origin=Vec2(0.0, 0.0)), Segment(offset=Vec2(0.0, -1.05), origin=Vec2(0.0, 0.0))], closed=True), location=Vec2(0.0, 0.0))]), style=Style(line_width_=(<WidthType.NORMALIZED: 2>, 0.2), line_color_=None, fill_color_=None, fill_opacity_=None, dashing_=None, output_size=None), transform=Affine(1.0, 0.0, -0.75,\n",
       "       0.0, 1.0, 0.0)), Primitive(shape=Path(loc_trails=[Located(trail=Trail(segments=[Segment(offset=Vec2(3.0, 0.0), origin=Vec2(0.0, 0.0)), Segment(offset=Vec2(0.0, 1.0), origin=Vec2(0.0, 0.0)), Segment(offset=Vec2(-3.0, 0.0), origin=Vec2(0.0, 0.0)), Segment(offset=Vec2(0.0, -1.0), origin=Vec2(0.0, 0.0))], closed=True), location=Vec2(0.0, 0.0))]), style=Style(line_width_=(<WidthType.NORMALIZED: 2>, 0.2), line_color_=None, fill_color_=None, fill_opacity_=None, dashing_=None, output_size=None), transform=Affine(1.0, 0.0, -1.5,\n",
       "       0.0, 1.0, -1.0))]))])), Empty(), Empty(), Empty(), ApplyTransform(transform=Affine(1.0, 0.0, 0.0,\n",
       "       0.0, 1.0, 1.05), diagram=ApplyTransform(transform=Affine(0.0, 1.0, 0.0,\n",
       "       -1.0, 0.0, 0.0), diagram=Empty())), ApplyTransform(transform=Affine(1.0, 0.0, 0.0,\n",
       "       0.0, 1.0, 2.05), diagram=Compose(envelope=<chalk.envelope.Envelope object at 0x113afc370>, diagrams=[Empty(), Empty(), Empty(), ApplyTransform(transform=Affine(1.0, 0.0, 0.0,\n",
       "       0.0, 1.0, 1.05), diagram=ApplyTransform(transform=Affine(0.0, 1.0, 0.0,\n",
       "       -1.0, 0.0, 0.0), diagram=Empty())), ApplyTransform(transform=Affine(1.0, 0.0, 0.0,\n",
       "       0.0, 1.0, 2.05), diagram=Compose(envelope=<chalk.envelope.Envelope object at 0x113afc850>, diagrams=[ApplyStyle(style=Style(line_width_=None, line_color_=None, fill_color_=None, fill_opacity_=1, dashing_=None, output_size=None), diagram=ApplyStyle(style=Style(line_width_=None, line_color_=None, fill_color_=<Color green>, fill_opacity_=None, dashing_=None, output_size=None), diagram=ApplyTransform(transform=Affine(1.0, 0.0, 0.0,\n",
       "       0.0, 1.0, 0.025), diagram=ApplyTransform(transform=Affine(1.0, 0.0, 0.0,\n",
       "       0.0, 1.0, 0.5), diagram=Compose(envelope=<chalk.envelope.Envelope object at 0x113b0d580>, diagrams=[Primitive(shape=Path(loc_trails=[Located(trail=Trail(segments=[Segment(offset=Vec2(0.375, 0.0), origin=Vec2(0.0, 0.0)), Segment(offset=Vec2(0.0, 1.0), origin=Vec2(0.0, 0.0)), Segment(offset=Vec2(-0.375, 0.0), origin=Vec2(0.0, 0.0)), Segment(offset=Vec2(0.0, -1.0), origin=Vec2(0.0, 0.0))], closed=True), location=Vec2(0.0, 0.0))]), style=Style(line_width_=(<WidthType.NORMALIZED: 2>, 0.01), line_color_=<Color white>, fill_color_=None, fill_opacity_=None, dashing_=None, output_size=None), transform=Affine(1.0, 0.0, 0.0,\n",
       "       0.0, 1.0, -0.5)), Primitive(shape=Path(loc_trails=[Located(trail=Trail(segments=[Segment(offset=Vec2(0.375, 0.0), origin=Vec2(0.0, 0.0)), Segment(offset=Vec2(0.0, 1.0), origin=Vec2(0.0, 0.0)), Segment(offset=Vec2(-0.375, 0.0), origin=Vec2(0.0, 0.0)), Segment(offset=Vec2(0.0, -1.0), origin=Vec2(0.0, 0.0))], closed=True), location=Vec2(0.0, 0.0))]), style=Style(line_width_=(<WidthType.NORMALIZED: 2>, 0.01), line_color_=<Color white>, fill_color_=None, fill_opacity_=None, dashing_=None, output_size=None), transform=Affine(1.0, 0.0, 0.375,\n",
       "       0.0, 1.0, -0.5))]))))), Empty(), Empty()]))])), Empty(), Empty(), Empty(), ApplyTransform(transform=Affine(1.0, 0.0, 0.0,\n",
       "       0.0, 1.0, 1.05), diagram=ApplyTransform(transform=Affine(0.0, 1.0, 0.0,\n",
       "       -1.0, 0.0, 0.0), diagram=Empty())), ApplyTransform(transform=Affine(1.0, 0.0, 0.0,\n",
       "       0.0, 1.0, 2.05), diagram=Compose(envelope=<chalk.envelope.Envelope object at 0x113b17820>, diagrams=[ApplyStyle(style=Style(line_width_=None, line_color_=None, fill_color_=None, fill_opacity_=1, dashing_=None, output_size=None), diagram=ApplyStyle(style=Style(line_width_=None, line_color_=None, fill_color_=<Color #bfbf00>, fill_opacity_=None, dashing_=None, output_size=None), diagram=ApplyTransform(transform=Affine(1.0, 0.0, 0.0,\n",
       "       0.0, 1.0, 0.025), diagram=ApplyTransform(transform=Affine(1.0, 0.0, 0.0,\n",
       "       0.0, 1.0, 0.5), diagram=Compose(envelope=<chalk.envelope.Envelope object at 0x113b21af0>, diagrams=[Primitive(shape=Path(loc_trails=[Located(trail=Trail(segments=[Segment(offset=Vec2(0.375, 0.0), origin=Vec2(0.0, 0.0)), Segment(offset=Vec2(0.0, 1.0), origin=Vec2(0.0, 0.0)), Segment(offset=Vec2(-0.375, 0.0), origin=Vec2(0.0, 0.0)), Segment(offset=Vec2(0.0, -1.0), origin=Vec2(0.0, 0.0))], closed=True), location=Vec2(0.0, 0.0))]), style=Style(line_width_=(<WidthType.NORMALIZED: 2>, 0.01), line_color_=<Color white>, fill_color_=None, fill_opacity_=None, dashing_=None, output_size=None), transform=Affine(1.0, 0.0, 0.0,\n",
       "       0.0, 1.0, -0.5)), Primitive(shape=Path(loc_trails=[Located(trail=Trail(segments=[Segment(offset=Vec2(0.375, 0.0), origin=Vec2(0.0, 0.0)), Segment(offset=Vec2(0.0, 1.0), origin=Vec2(0.0, 0.0)), Segment(offset=Vec2(-0.375, 0.0), origin=Vec2(0.0, 0.0)), Segment(offset=Vec2(0.0, -1.0), origin=Vec2(0.0, 0.0))], closed=True), location=Vec2(0.0, 0.0))]), style=Style(line_width_=(<WidthType.NORMALIZED: 2>, 0.01), line_color_=<Color white>, fill_color_=None, fill_opacity_=None, dashing_=None, output_size=None), transform=Affine(1.0, 0.0, 0.375,\n",
       "       0.0, 1.0, -0.5))]))))), Empty(), Empty(), ApplyTransform(transform=Affine(1.0, 0.0, 0.0,\n",
       "       0.0, 1.0, 1.05), diagram=ApplyTransform(transform=Affine(0.0, 1.0, 0.0,\n",
       "       -1.0, 0.0, 0.0), diagram=Empty())), ApplyTransform(transform=Affine(1.0, 0.0, 0.0,\n",
       "       0.0, 1.0, 2.05), diagram=Compose(envelope=<chalk.envelope.Envelope object at 0x113b1d610>, diagrams=[Empty(), Empty(), Empty()]))])), ApplyStyle(style=Style(line_width_=None, line_color_=None, fill_color_=None, fill_opacity_=1, dashing_=None, output_size=None), diagram=ApplyStyle(style=Style(line_width_=None, line_color_=None, fill_color_=<Color red>, fill_opacity_=None, dashing_=None, output_size=None), diagram=ApplyTransform(transform=Affine(1.0, 0.0, 0.0,\n",
       "       0.0, 1.0, 0.025), diagram=ApplyTransform(transform=Affine(1.0, 0.0, 0.0,\n",
       "       0.0, 1.0, 0.5), diagram=Compose(envelope=<chalk.envelope.Envelope object at 0x113b401f0>, diagrams=[Primitive(shape=Path(loc_trails=[Located(trail=Trail(segments=[Segment(offset=Vec2(0.375, 0.0), origin=Vec2(0.0, 0.0)), Segment(offset=Vec2(0.0, 1.0), origin=Vec2(0.0, 0.0)), Segment(offset=Vec2(-0.375, 0.0), origin=Vec2(0.0, 0.0)), Segment(offset=Vec2(0.0, -1.0), origin=Vec2(0.0, 0.0))], closed=True), location=Vec2(0.0, 0.0))]), style=Style(line_width_=(<WidthType.NORMALIZED: 2>, 0.01), line_color_=<Color white>, fill_color_=None, fill_opacity_=None, dashing_=None, output_size=None), transform=Affine(1.0, 0.0, 0.0,\n",
       "       0.0, 1.0, -0.5)), Primitive(shape=Path(loc_trails=[Located(trail=Trail(segments=[Segment(offset=Vec2(0.375, 0.0), origin=Vec2(0.0, 0.0)), Segment(offset=Vec2(0.0, 1.0), origin=Vec2(0.0, 0.0)), Segment(offset=Vec2(-0.375, 0.0), origin=Vec2(0.0, 0.0)), Segment(offset=Vec2(0.0, -1.0), origin=Vec2(0.0, 0.0))], closed=True), location=Vec2(0.0, 0.0))]), style=Style(line_width_=(<WidthType.NORMALIZED: 2>, 0.01), line_color_=<Color white>, fill_color_=None, fill_opacity_=None, dashing_=None, output_size=None), transform=Affine(1.0, 0.0, 0.375,\n",
       "       0.0, 1.0, -0.5))]))))), Empty(), Empty(), ApplyTransform(transform=Affine(1.0, 0.0, 0.0,\n",
       "       0.0, 1.0, 1.05), diagram=ApplyTransform(transform=Affine(0.0, 1.0, 0.0,\n",
       "       -1.0, 0.0, 0.0), diagram=Empty())), ApplyTransform(transform=Affine(1.0, 0.0, 0.0,\n",
       "       0.0, 1.0, 2.05), diagram=Compose(envelope=<chalk.envelope.Envelope object at 0x113b36280>, diagrams=[Empty(), Empty(), Empty(), ApplyTransform(transform=Affine(1.0, 0.0, 0.0,\n",
       "       0.0, 1.0, 1.05), diagram=ApplyTransform(transform=Affine(0.0, 1.0, 0.0,\n",
       "       -1.0, 0.0, 0.0), diagram=Empty())), ApplyTransform(transform=Affine(1.0, 0.0, 0.0,\n",
       "       0.0, 1.0, 2.05), diagram=Compose(envelope=<chalk.envelope.Envelope object at 0x113b36370>, diagrams=[Empty(), Empty(), Empty()]))]))])"
      ]
     },
     "execution_count": 74,
     "metadata": {},
     "output_type": "execute_result"
    }
   ],
   "source": [
    "# Draw all the current activations in memory.\n",
    "draw_group(activations)"
   ]
  },
  {
   "cell_type": "code",
   "execution_count": 75,
   "id": "80e8769a",
   "metadata": {},
   "outputs": [
    {
     "data": {
      "image/svg+xml": [
       "<?xml version=\"1.0\" encoding=\"utf-8\" ?>\n",
       "<svg baseProfile=\"full\" height=\"400\" version=\"1.1\" width=\"233\" xmlns=\"http://www.w3.org/2000/svg\" xmlns:ev=\"http://www.w3.org/2001/xml-events\" xmlns:xlink=\"http://www.w3.org/1999/xlink\"><defs><marker id=\"arrow\" markerHeight=\"3.5\" markerWidth=\"5\" orient=\"auto\" refX=\"5.0\" refY=\"1.7\"><polygon points=\"0,0 5,1.75 0,3.5\" /></marker></defs><g style=\"fill:white;\"><g transform=\"matrix(1.0, 0.0, 0.0, 1.0, 116.50000000000001, 199.99166666666667)\"><g transform=\"matrix(73.96825396825396, 0.0, 0.0, 73.96825396825396, 0.0, 0.0)\"><g><g transform=\"matrix(1.0, 0.0, 0.0, 1.0, -0.0, -2.5749999999999997)\"><g><g style=\"stroke: black;stroke-width: 3.6;\" transform=\"matrix(1.0, 0.0, 0.0, 1.0, -0.75, 0.0)\"><path d=\"M 0.0 0.0 L 1.5 0.0 L 1.5 1.05 L 0.0 1.05 L 0.0 0.0 Z\" style=\"vector-effect: non-scaling-stroke;\" /></g><g style=\"stroke: black;stroke-width: 3.6;\" transform=\"matrix(1.0, 0.0, 0.0, 1.0, -1.5, 0.0)\"><path d=\"M 0.0 0.0 L 3.0 0.0 L 3.0 0.0 L 0.0 0.0 L 0.0 0.0 Z\" style=\"vector-effect: non-scaling-stroke;\" /></g><g transform=\"matrix(1.0, 0.0, 0.0, 1.0, 0.0, 1.05)\"><g transform=\"matrix(0.0, -1.0, 1.0, 0.0, 0.0, 0.0)\"><g /></g></g><g transform=\"matrix(1.0, 0.0, 0.0, 1.0, 0.0, 2.05)\"><g><g style=\"stroke: black;stroke-width: 3.6;\" transform=\"matrix(1.0, 0.0, 0.0, 1.0, -0.75, 0.0)\"><path d=\"M 0.0 0.0 L 1.5 0.0 L 1.5 1.05 L 0.0 1.05 L 0.0 0.0 Z\" style=\"vector-effect: non-scaling-stroke;\" /></g><g style=\"stroke: black;stroke-width: 3.6;\" transform=\"matrix(1.0, 0.0, 0.0, 1.0, -1.5, -1.0)\"><path d=\"M 0.0 0.0 L 3.0 0.0 L 3.0 1.0 L 0.0 1.0 L 0.0 0.0 Z\" style=\"vector-effect: non-scaling-stroke;\" /></g><g transform=\"matrix(1.0, 0.0, 0.0, 1.0, 0.0, 1.05)\"><g transform=\"matrix(0.0, -1.0, 1.0, 0.0, 0.0, 0.0)\"><g /></g></g><g transform=\"matrix(1.0, 0.0, 0.0, 1.0, 0.0, 2.05)\"><g><g style=\"stroke: black;stroke-width: 3.6;\" transform=\"matrix(1.0, 0.0, 0.0, 1.0, -0.75, 0.0)\"><path d=\"M 0.0 0.0 L 1.5 0.0 L 1.5 1.05 L 0.0 1.05 L 0.0 0.0 Z\" style=\"vector-effect: non-scaling-stroke;\" /></g><g style=\"stroke: black;stroke-width: 3.6;\" transform=\"matrix(1.0, 0.0, 0.0, 1.0, -1.5, -1.0)\"><path d=\"M 0.0 0.0 L 3.0 0.0 L 3.0 1.0 L 0.0 1.0 L 0.0 0.0 Z\" style=\"vector-effect: non-scaling-stroke;\" /></g></g></g></g></g><g transform=\"matrix(1.0, 0.0, 0.0, 1.0, 0.0, 0.025)\"><g transform=\"matrix(1.0, 0.0, 0.0, 1.0, 0.0, 0.5)\"><g><g style=\"fill: #ff0000;stroke: #ffffff;stroke-width: 0.18;fill-opacity: 0.5;\" transform=\"matrix(1.0, 0.0, 0.0, 1.0, 0.0, -0.5)\"><path d=\"M 0.0 0.0 L 0.375 0.0 L 0.375 1.0 L 0.0 1.0 L 0.0 0.0 Z\" style=\"vector-effect: non-scaling-stroke;\" /></g><g style=\"fill: #ff0000;stroke: #ffffff;stroke-width: 0.18;fill-opacity: 0.5;\" transform=\"matrix(1.0, 0.0, 0.0, 1.0, 0.375, -0.5)\"><path d=\"M 0.0 0.0 L 0.375 0.0 L 0.375 1.0 L 0.0 1.0 L 0.0 0.0 Z\" style=\"vector-effect: non-scaling-stroke;\" /></g></g></g></g><g /><g /><g transform=\"matrix(1.0, 0.0, 0.0, 1.0, 0.0, 1.05)\"><g transform=\"matrix(0.0, -1.0, 1.0, 0.0, 0.0, 0.0)\"><g /></g></g><g transform=\"matrix(1.0, 0.0, 0.0, 1.0, 0.0, 2.05)\"><g><g /><g /><g /><g transform=\"matrix(1.0, 0.0, 0.0, 1.0, 0.0, 1.05)\"><g transform=\"matrix(0.0, -1.0, 1.0, 0.0, 0.0, 0.0)\"><g /></g></g><g transform=\"matrix(1.0, 0.0, 0.0, 1.0, 0.0, 2.05)\"><g><g /><g /><g /></g></g></g></g></g></g><g /></g></g></g></g></svg>"
      ],
      "text/plain": [
       "ActivationGrad(layer=1, layers=2, batches=frozenset({2, 3}), total_batches=4)"
      ]
     },
     "execution_count": 75,
     "metadata": {},
     "output_type": "execute_result"
    }
   ],
   "source": [
    "# At the last layer, we can convert an activation to a grad activation by calling `loss`\n",
    "grad_activations[model.LAYERS] = model.loss(activations[model.LAYERS])\n",
    "grad_activations[model.LAYERS]"
   ]
  },
  {
   "cell_type": "code",
   "execution_count": 76,
   "id": "b3299042",
   "metadata": {},
   "outputs": [
    {
     "data": {
      "image/svg+xml": [
       "<?xml version=\"1.0\" encoding=\"utf-8\" ?>\n",
       "<svg baseProfile=\"full\" height=\"400\" version=\"1.1\" width=\"233\" xmlns=\"http://www.w3.org/2000/svg\" xmlns:ev=\"http://www.w3.org/2001/xml-events\" xmlns:xlink=\"http://www.w3.org/1999/xlink\"><defs><marker id=\"arrow\" markerHeight=\"3.5\" markerWidth=\"5\" orient=\"auto\" refX=\"5.0\" refY=\"1.7\"><polygon points=\"0,0 5,1.75 0,3.5\" /></marker></defs><g style=\"fill:white;\"><g transform=\"matrix(1.0, 0.0, 0.0, 1.0, 116.50000000000001, 199.99166666666667)\"><g transform=\"matrix(73.96825396825396, 0.0, 0.0, 73.96825396825396, 0.0, 0.0)\"><g><g transform=\"matrix(1.0, 0.0, 0.0, 1.0, -0.0, -2.5749999999999997)\"><g><g style=\"stroke: black;stroke-width: 3.6;\" transform=\"matrix(1.0, 0.0, 0.0, 1.0, -0.75, 0.0)\"><path d=\"M 0.0 0.0 L 1.5 0.0 L 1.5 1.05 L 0.0 1.05 L 0.0 0.0 Z\" style=\"vector-effect: non-scaling-stroke;\" /></g><g style=\"stroke: black;stroke-width: 3.6;\" transform=\"matrix(1.0, 0.0, 0.0, 1.0, -1.5, 0.0)\"><path d=\"M 0.0 0.0 L 3.0 0.0 L 3.0 0.0 L 0.0 0.0 L 0.0 0.0 Z\" style=\"vector-effect: non-scaling-stroke;\" /></g><g transform=\"matrix(1.0, 0.0, 0.0, 1.0, 0.0, 1.05)\"><g transform=\"matrix(0.0, -1.0, 1.0, 0.0, 0.0, 0.0)\"><g /></g></g><g transform=\"matrix(1.0, 0.0, 0.0, 1.0, 0.0, 2.05)\"><g><g style=\"stroke: black;stroke-width: 3.6;\" transform=\"matrix(1.0, 0.0, 0.0, 1.0, -0.75, 0.0)\"><path d=\"M 0.0 0.0 L 1.5 0.0 L 1.5 1.05 L 0.0 1.05 L 0.0 0.0 Z\" style=\"vector-effect: non-scaling-stroke;\" /></g><g style=\"stroke: black;stroke-width: 3.6;\" transform=\"matrix(1.0, 0.0, 0.0, 1.0, -1.5, -1.0)\"><path d=\"M 0.0 0.0 L 3.0 0.0 L 3.0 1.0 L 0.0 1.0 L 0.0 0.0 Z\" style=\"vector-effect: non-scaling-stroke;\" /></g><g transform=\"matrix(1.0, 0.0, 0.0, 1.0, 0.0, 1.05)\"><g transform=\"matrix(0.0, -1.0, 1.0, 0.0, 0.0, 0.0)\"><g /></g></g><g transform=\"matrix(1.0, 0.0, 0.0, 1.0, 0.0, 2.05)\"><g><g style=\"stroke: black;stroke-width: 3.6;\" transform=\"matrix(1.0, 0.0, 0.0, 1.0, -0.75, 0.0)\"><path d=\"M 0.0 0.0 L 1.5 0.0 L 1.5 1.05 L 0.0 1.05 L 0.0 0.0 Z\" style=\"vector-effect: non-scaling-stroke;\" /></g><g style=\"stroke: black;stroke-width: 3.6;\" transform=\"matrix(1.0, 0.0, 0.0, 1.0, -1.5, -1.0)\"><path d=\"M 0.0 0.0 L 3.0 0.0 L 3.0 1.0 L 0.0 1.0 L 0.0 0.0 Z\" style=\"vector-effect: non-scaling-stroke;\" /></g></g></g></g></g><g /><g /><g /><g transform=\"matrix(1.0, 0.0, 0.0, 1.0, 0.0, 1.05)\"><g transform=\"matrix(0.0, -1.0, 1.0, 0.0, 0.0, 0.0)\"><g /></g></g><g transform=\"matrix(1.0, 0.0, 0.0, 1.0, 0.0, 2.05)\"><g><g transform=\"matrix(1.0, 0.0, 0.0, 1.0, 0.0, 0.025)\"><g transform=\"matrix(1.0, 0.0, 0.0, 1.0, 0.0, 0.5)\"><g><g style=\"fill: #bfbf00;stroke: #ffffff;stroke-width: 0.18;fill-opacity: 0.5;\" transform=\"matrix(1.0, 0.0, 0.0, 1.0, 0.0, -0.5)\"><path d=\"M 0.0 0.0 L 0.375 0.0 L 0.375 1.0 L 0.0 1.0 L 0.0 0.0 Z\" style=\"vector-effect: non-scaling-stroke;\" /></g><g style=\"fill: #bfbf00;stroke: #ffffff;stroke-width: 0.18;fill-opacity: 0.5;\" transform=\"matrix(1.0, 0.0, 0.0, 1.0, 0.375, -0.5)\"><path d=\"M 0.0 0.0 L 0.375 0.0 L 0.375 1.0 L 0.0 1.0 L 0.0 0.0 Z\" style=\"vector-effect: non-scaling-stroke;\" /></g></g></g></g><g /><g /><g transform=\"matrix(1.0, 0.0, 0.0, 1.0, 0.0, 1.05)\"><g transform=\"matrix(0.0, -1.0, 1.0, 0.0, 0.0, 0.0)\"><g /></g></g><g transform=\"matrix(1.0, 0.0, 0.0, 1.0, 0.0, 2.05)\"><g><g /><g /><g /></g></g></g></g></g></g><g /></g></g></g></g></svg>"
      ],
      "text/plain": [
       "ActivationGrad(layer=0, layers=2, batches=frozenset({2, 3}), total_batches=4)"
      ]
     },
     "execution_count": 76,
     "metadata": {},
     "output_type": "execute_result"
    }
   ],
   "source": [
    "# Calling `backward` requires the forward activation, the backward grad activation, and the weights.\n",
    "# It returns the grad weights and the backward activation.\n",
    "grad_weights[1], grad_activations[1] = model.backward(1, activations[1], grad_activations[2], weights[1])\n",
    "grad_weights[0], grad_activations[0] = model.backward(0, activations[0], grad_activations[1], weights[0])\n",
    "grad_activations[1]"
   ]
  },
  {
   "cell_type": "code",
   "execution_count": 77,
   "id": "33d82618",
   "metadata": {},
   "outputs": [
    {
     "name": "stdout",
     "output_type": "stream",
     "text": [
      "Before memory: 3145728.0\n",
      "After memory: 2883584.0\n",
      "0 <class 'lib.Weight'>,1 <class 'lib.Weight'>,0 <class 'lib.OptState'>,1 <class 'lib.OptState'>,0 <class 'lib.Activation'>,1 <class 'lib.Activation'>,2 <class 'lib.Activation'>,2 <class 'lib.ActivationGrad'>,0 <class 'lib.ActivationGrad'>,1 <class 'lib.WeightGrad'>,0 <class 'lib.WeightGrad'>,\n"
     ]
    },
    {
     "data": {
      "image/svg+xml": [
       "<?xml version=\"1.0\" encoding=\"utf-8\" ?>\n",
       "<svg baseProfile=\"full\" height=\"400\" version=\"1.1\" width=\"233\" xmlns=\"http://www.w3.org/2000/svg\" xmlns:ev=\"http://www.w3.org/2001/xml-events\" xmlns:xlink=\"http://www.w3.org/1999/xlink\"><defs><marker id=\"arrow\" markerHeight=\"3.5\" markerWidth=\"5\" orient=\"auto\" refX=\"5.0\" refY=\"1.7\"><polygon points=\"0,0 5,1.75 0,3.5\" /></marker></defs><g style=\"fill:white;\"><g transform=\"matrix(1.0, 0.0, 0.0, 1.0, 116.50000000000001, 199.99166666666667)\"><g transform=\"matrix(73.96825396825396, 0.0, 0.0, 73.96825396825396, 0.0, 0.0)\"><g><g transform=\"matrix(1.0, 0.0, 0.0, 1.0, -0.0, -2.5749999999999997)\"><g><g style=\"stroke: black;stroke-width: 3.6;\" transform=\"matrix(1.0, 0.0, 0.0, 1.0, -0.75, 0.0)\"><path d=\"M 0.0 0.0 L 1.5 0.0 L 1.5 1.05 L 0.0 1.05 L 0.0 0.0 Z\" style=\"vector-effect: non-scaling-stroke;\" /></g><g style=\"stroke: black;stroke-width: 3.6;\" transform=\"matrix(1.0, 0.0, 0.0, 1.0, -1.5, 0.0)\"><path d=\"M 0.0 0.0 L 3.0 0.0 L 3.0 0.0 L 0.0 0.0 L 0.0 0.0 Z\" style=\"vector-effect: non-scaling-stroke;\" /></g><g transform=\"matrix(1.0, 0.0, 0.0, 1.0, 0.0, 1.05)\"><g transform=\"matrix(0.0, -1.0, 1.0, 0.0, 0.0, 0.0)\"><g /></g></g><g transform=\"matrix(1.0, 0.0, 0.0, 1.0, 0.0, 2.05)\"><g><g style=\"stroke: black;stroke-width: 3.6;\" transform=\"matrix(1.0, 0.0, 0.0, 1.0, -0.75, 0.0)\"><path d=\"M 0.0 0.0 L 1.5 0.0 L 1.5 1.05 L 0.0 1.05 L 0.0 0.0 Z\" style=\"vector-effect: non-scaling-stroke;\" /></g><g style=\"stroke: black;stroke-width: 3.6;\" transform=\"matrix(1.0, 0.0, 0.0, 1.0, -1.5, -1.0)\"><path d=\"M 0.0 0.0 L 3.0 0.0 L 3.0 1.0 L 0.0 1.0 L 0.0 0.0 Z\" style=\"vector-effect: non-scaling-stroke;\" /></g><g transform=\"matrix(1.0, 0.0, 0.0, 1.0, 0.0, 1.05)\"><g transform=\"matrix(0.0, -1.0, 1.0, 0.0, 0.0, 0.0)\"><g /></g></g><g transform=\"matrix(1.0, 0.0, 0.0, 1.0, 0.0, 2.05)\"><g><g style=\"stroke: black;stroke-width: 3.6;\" transform=\"matrix(1.0, 0.0, 0.0, 1.0, -0.75, 0.0)\"><path d=\"M 0.0 0.0 L 1.5 0.0 L 1.5 1.05 L 0.0 1.05 L 0.0 0.0 Z\" style=\"vector-effect: non-scaling-stroke;\" /></g><g style=\"stroke: black;stroke-width: 3.6;\" transform=\"matrix(1.0, 0.0, 0.0, 1.0, -1.5, -1.0)\"><path d=\"M 0.0 0.0 L 3.0 0.0 L 3.0 1.0 L 0.0 1.0 L 0.0 0.0 Z\" style=\"vector-effect: non-scaling-stroke;\" /></g></g></g></g></g><g transform=\"matrix(1.0, 0.0, 0.0, 1.0, 0.0, 0.025)\"><g transform=\"matrix(1.0, 0.0, 0.0, 1.0, 0.0, 0.5)\"><g><g style=\"fill: #ff0000;stroke: #ffffff;stroke-width: 0.18;fill-opacity: 0.5;\" transform=\"matrix(1.0, 0.0, 0.0, 1.0, 0.0, -0.5)\"><path d=\"M 0.0 0.0 L 0.375 0.0 L 0.375 1.0 L 0.0 1.0 L 0.0 0.0 Z\" style=\"vector-effect: non-scaling-stroke;\" /></g><g style=\"fill: #ff0000;stroke: #ffffff;stroke-width: 0.18;fill-opacity: 0.5;\" transform=\"matrix(1.0, 0.0, 0.0, 1.0, 0.375, -0.5)\"><path d=\"M 0.0 0.0 L 0.375 0.0 L 0.375 1.0 L 0.0 1.0 L 0.0 0.0 Z\" style=\"vector-effect: non-scaling-stroke;\" /></g></g></g></g><g /><g /><g transform=\"matrix(1.0, 0.0, 0.0, 1.0, 0.0, 1.05)\"><g transform=\"matrix(0.0, -1.0, 1.0, 0.0, 0.0, 0.0)\"><g /></g></g><g transform=\"matrix(1.0, 0.0, 0.0, 1.0, 0.0, 2.05)\"><g><g /><g /><g /><g transform=\"matrix(1.0, 0.0, 0.0, 1.0, 0.0, 1.05)\"><g transform=\"matrix(0.0, -1.0, 1.0, 0.0, 0.0, 0.0)\"><g /></g></g><g transform=\"matrix(1.0, 0.0, 0.0, 1.0, 0.0, 2.05)\"><g><g /><g /><g /></g></g></g></g><g /><g /><g /><g transform=\"matrix(1.0, 0.0, 0.0, 1.0, 0.0, 1.05)\"><g transform=\"matrix(0.0, -1.0, 1.0, 0.0, 0.0, 0.0)\"><g /></g></g><g transform=\"matrix(1.0, 0.0, 0.0, 1.0, 0.0, 2.05)\"><g><g /><g /><g /><g transform=\"matrix(1.0, 0.0, 0.0, 1.0, 0.0, 1.05)\"><g transform=\"matrix(0.0, -1.0, 1.0, 0.0, 0.0, 0.0)\"><g /></g></g><g transform=\"matrix(1.0, 0.0, 0.0, 1.0, 0.0, 2.05)\"><g><g transform=\"matrix(1.0, 0.0, 0.0, 1.0, 0.0, 0.025)\"><g transform=\"matrix(1.0, 0.0, 0.0, 1.0, 0.0, 0.5)\"><g><g style=\"fill: #008000;stroke: #ffffff;stroke-width: 0.18;fill-opacity: 0.5;\" transform=\"matrix(1.0, 0.0, 0.0, 1.0, 0.0, -0.5)\"><path d=\"M 0.0 0.0 L 0.375 0.0 L 0.375 1.0 L 0.0 1.0 L 0.0 0.0 Z\" style=\"vector-effect: non-scaling-stroke;\" /></g><g style=\"fill: #008000;stroke: #ffffff;stroke-width: 0.18;fill-opacity: 0.5;\" transform=\"matrix(1.0, 0.0, 0.0, 1.0, 0.375, -0.5)\"><path d=\"M 0.0 0.0 L 0.375 0.0 L 0.375 1.0 L 0.0 1.0 L 0.0 0.0 Z\" style=\"vector-effect: non-scaling-stroke;\" /></g></g></g></g><g /><g /></g></g></g></g></g></g><g /></g></g></g></g></svg>"
      ],
      "text/html": [
       "<?xml version=\"1.0\" encoding=\"utf-8\" ?>\n",
       "<svg baseProfile=\"full\" height=\"400\" version=\"1.1\" width=\"233\" xmlns=\"http://www.w3.org/2000/svg\" xmlns:ev=\"http://www.w3.org/2001/xml-events\" xmlns:xlink=\"http://www.w3.org/1999/xlink\"><defs><marker id=\"arrow\" markerHeight=\"3.5\" markerWidth=\"5\" orient=\"auto\" refX=\"5.0\" refY=\"1.7\"><polygon points=\"0,0 5,1.75 0,3.5\" /></marker></defs><g style=\"fill:white;\"><g transform=\"matrix(1.0, 0.0, 0.0, 1.0, 116.50000000000001, 199.99166666666667)\"><g transform=\"matrix(73.96825396825396, 0.0, 0.0, 73.96825396825396, 0.0, 0.0)\"><g><g transform=\"matrix(1.0, 0.0, 0.0, 1.0, -0.0, -2.5749999999999997)\"><g><g style=\"stroke: black;stroke-width: 3.6;\" transform=\"matrix(1.0, 0.0, 0.0, 1.0, -0.75, 0.0)\"><path d=\"M 0.0 0.0 L 1.5 0.0 L 1.5 1.05 L 0.0 1.05 L 0.0 0.0 Z\" style=\"vector-effect: non-scaling-stroke;\" /></g><g style=\"stroke: black;stroke-width: 3.6;\" transform=\"matrix(1.0, 0.0, 0.0, 1.0, -1.5, 0.0)\"><path d=\"M 0.0 0.0 L 3.0 0.0 L 3.0 0.0 L 0.0 0.0 L 0.0 0.0 Z\" style=\"vector-effect: non-scaling-stroke;\" /></g><g transform=\"matrix(1.0, 0.0, 0.0, 1.0, 0.0, 1.05)\"><g transform=\"matrix(0.0, -1.0, 1.0, 0.0, 0.0, 0.0)\"><g /></g></g><g transform=\"matrix(1.0, 0.0, 0.0, 1.0, 0.0, 2.05)\"><g><g style=\"stroke: black;stroke-width: 3.6;\" transform=\"matrix(1.0, 0.0, 0.0, 1.0, -0.75, 0.0)\"><path d=\"M 0.0 0.0 L 1.5 0.0 L 1.5 1.05 L 0.0 1.05 L 0.0 0.0 Z\" style=\"vector-effect: non-scaling-stroke;\" /></g><g style=\"stroke: black;stroke-width: 3.6;\" transform=\"matrix(1.0, 0.0, 0.0, 1.0, -1.5, -1.0)\"><path d=\"M 0.0 0.0 L 3.0 0.0 L 3.0 1.0 L 0.0 1.0 L 0.0 0.0 Z\" style=\"vector-effect: non-scaling-stroke;\" /></g><g transform=\"matrix(1.0, 0.0, 0.0, 1.0, 0.0, 1.05)\"><g transform=\"matrix(0.0, -1.0, 1.0, 0.0, 0.0, 0.0)\"><g /></g></g><g transform=\"matrix(1.0, 0.0, 0.0, 1.0, 0.0, 2.05)\"><g><g style=\"stroke: black;stroke-width: 3.6;\" transform=\"matrix(1.0, 0.0, 0.0, 1.0, -0.75, 0.0)\"><path d=\"M 0.0 0.0 L 1.5 0.0 L 1.5 1.05 L 0.0 1.05 L 0.0 0.0 Z\" style=\"vector-effect: non-scaling-stroke;\" /></g><g style=\"stroke: black;stroke-width: 3.6;\" transform=\"matrix(1.0, 0.0, 0.0, 1.0, -1.5, -1.0)\"><path d=\"M 0.0 0.0 L 3.0 0.0 L 3.0 1.0 L 0.0 1.0 L 0.0 0.0 Z\" style=\"vector-effect: non-scaling-stroke;\" /></g></g></g></g></g><g transform=\"matrix(1.0, 0.0, 0.0, 1.0, 0.0, 0.025)\"><g transform=\"matrix(1.0, 0.0, 0.0, 1.0, 0.0, 0.5)\"><g><g style=\"fill: #ff0000;stroke: #ffffff;stroke-width: 0.18;fill-opacity: 0.5;\" transform=\"matrix(1.0, 0.0, 0.0, 1.0, 0.0, -0.5)\"><path d=\"M 0.0 0.0 L 0.375 0.0 L 0.375 1.0 L 0.0 1.0 L 0.0 0.0 Z\" style=\"vector-effect: non-scaling-stroke;\" /></g><g style=\"fill: #ff0000;stroke: #ffffff;stroke-width: 0.18;fill-opacity: 0.5;\" transform=\"matrix(1.0, 0.0, 0.0, 1.0, 0.375, -0.5)\"><path d=\"M 0.0 0.0 L 0.375 0.0 L 0.375 1.0 L 0.0 1.0 L 0.0 0.0 Z\" style=\"vector-effect: non-scaling-stroke;\" /></g></g></g></g><g /><g /><g transform=\"matrix(1.0, 0.0, 0.0, 1.0, 0.0, 1.05)\"><g transform=\"matrix(0.0, -1.0, 1.0, 0.0, 0.0, 0.0)\"><g /></g></g><g transform=\"matrix(1.0, 0.0, 0.0, 1.0, 0.0, 2.05)\"><g><g /><g /><g /><g transform=\"matrix(1.0, 0.0, 0.0, 1.0, 0.0, 1.05)\"><g transform=\"matrix(0.0, -1.0, 1.0, 0.0, 0.0, 0.0)\"><g /></g></g><g transform=\"matrix(1.0, 0.0, 0.0, 1.0, 0.0, 2.05)\"><g><g /><g /><g /></g></g></g></g><g /><g /><g /><g transform=\"matrix(1.0, 0.0, 0.0, 1.0, 0.0, 1.05)\"><g transform=\"matrix(0.0, -1.0, 1.0, 0.0, 0.0, 0.0)\"><g /></g></g><g transform=\"matrix(1.0, 0.0, 0.0, 1.0, 0.0, 2.05)\"><g><g /><g /><g /><g transform=\"matrix(1.0, 0.0, 0.0, 1.0, 0.0, 1.05)\"><g transform=\"matrix(0.0, -1.0, 1.0, 0.0, 0.0, 0.0)\"><g /></g></g><g transform=\"matrix(1.0, 0.0, 0.0, 1.0, 0.0, 2.05)\"><g><g transform=\"matrix(1.0, 0.0, 0.0, 1.0, 0.0, 0.025)\"><g transform=\"matrix(1.0, 0.0, 0.0, 1.0, 0.0, 0.5)\"><g><g style=\"fill: #008000;stroke: #ffffff;stroke-width: 0.18;fill-opacity: 0.5;\" transform=\"matrix(1.0, 0.0, 0.0, 1.0, 0.0, -0.5)\"><path d=\"M 0.0 0.0 L 0.375 0.0 L 0.375 1.0 L 0.0 1.0 L 0.0 0.0 Z\" style=\"vector-effect: non-scaling-stroke;\" /></g><g style=\"fill: #008000;stroke: #ffffff;stroke-width: 0.18;fill-opacity: 0.5;\" transform=\"matrix(1.0, 0.0, 0.0, 1.0, 0.375, -0.5)\"><path d=\"M 0.0 0.0 L 0.375 0.0 L 0.375 1.0 L 0.0 1.0 L 0.0 0.0 Z\" style=\"vector-effect: non-scaling-stroke;\" /></g></g></g></g><g /><g /></g></g></g></g></g></g><g /></g></g></g></g></svg>"
      ],
      "text/plain": [
       "Compose(envelope=<chalk.envelope.Envelope object at 0x113b55c70>, diagrams=[Primitive(shape=Path(loc_trails=[Located(trail=Trail(segments=[Segment(offset=Vec2(1.5, 0.0), origin=Vec2(0.0, 0.0)), Segment(offset=Vec2(0.0, 1.05), origin=Vec2(0.0, 0.0)), Segment(offset=Vec2(-1.5, 0.0), origin=Vec2(0.0, 0.0)), Segment(offset=Vec2(0.0, -1.05), origin=Vec2(0.0, 0.0))], closed=True), location=Vec2(0.0, 0.0))]), style=Style(line_width_=(<WidthType.NORMALIZED: 2>, 0.2), line_color_=None, fill_color_=None, fill_opacity_=None, dashing_=None, output_size=None), transform=Affine(1.0, 0.0, -0.75,\n",
       "       0.0, 1.0, 0.0)), Primitive(shape=Path(loc_trails=[Located(trail=Trail(segments=[Segment(offset=Vec2(3.0, 0.0), origin=Vec2(0.0, 0.0)), Segment(offset=Vec2(0.0, 0.0), origin=Vec2(0.0, 0.0)), Segment(offset=Vec2(-3.0, 0.0), origin=Vec2(0.0, 0.0)), Segment(offset=Vec2(0.0, 0.0), origin=Vec2(0.0, 0.0))], closed=True), location=Vec2(0.0, 0.0))]), style=Style(line_width_=(<WidthType.NORMALIZED: 2>, 0.2), line_color_=None, fill_color_=None, fill_opacity_=None, dashing_=None, output_size=None), transform=Affine(1.0, 0.0, -1.5,\n",
       "       0.0, 1.0, 0.0)), ApplyTransform(transform=Affine(1.0, 0.0, 0.0,\n",
       "       0.0, 1.0, 1.05), diagram=ApplyTransform(transform=Affine(0.0, 1.0, 0.0,\n",
       "       -1.0, 0.0, 0.0), diagram=Empty())), ApplyTransform(transform=Affine(1.0, 0.0, 0.0,\n",
       "       0.0, 1.0, 2.05), diagram=Compose(envelope=<chalk.envelope.Envelope object at 0x113b5d370>, diagrams=[Primitive(shape=Path(loc_trails=[Located(trail=Trail(segments=[Segment(offset=Vec2(1.5, 0.0), origin=Vec2(0.0, 0.0)), Segment(offset=Vec2(0.0, 1.05), origin=Vec2(0.0, 0.0)), Segment(offset=Vec2(-1.5, 0.0), origin=Vec2(0.0, 0.0)), Segment(offset=Vec2(0.0, -1.05), origin=Vec2(0.0, 0.0))], closed=True), location=Vec2(0.0, 0.0))]), style=Style(line_width_=(<WidthType.NORMALIZED: 2>, 0.2), line_color_=None, fill_color_=None, fill_opacity_=None, dashing_=None, output_size=None), transform=Affine(1.0, 0.0, -0.75,\n",
       "       0.0, 1.0, 0.0)), Primitive(shape=Path(loc_trails=[Located(trail=Trail(segments=[Segment(offset=Vec2(3.0, 0.0), origin=Vec2(0.0, 0.0)), Segment(offset=Vec2(0.0, 1.0), origin=Vec2(0.0, 0.0)), Segment(offset=Vec2(-3.0, 0.0), origin=Vec2(0.0, 0.0)), Segment(offset=Vec2(0.0, -1.0), origin=Vec2(0.0, 0.0))], closed=True), location=Vec2(0.0, 0.0))]), style=Style(line_width_=(<WidthType.NORMALIZED: 2>, 0.2), line_color_=None, fill_color_=None, fill_opacity_=None, dashing_=None, output_size=None), transform=Affine(1.0, 0.0, -1.5,\n",
       "       0.0, 1.0, -1.0)), ApplyTransform(transform=Affine(1.0, 0.0, 0.0,\n",
       "       0.0, 1.0, 1.05), diagram=ApplyTransform(transform=Affine(0.0, 1.0, 0.0,\n",
       "       -1.0, 0.0, 0.0), diagram=Empty())), ApplyTransform(transform=Affine(1.0, 0.0, 0.0,\n",
       "       0.0, 1.0, 2.05), diagram=Compose(envelope=<chalk.envelope.Envelope object at 0x113b4a850>, diagrams=[Primitive(shape=Path(loc_trails=[Located(trail=Trail(segments=[Segment(offset=Vec2(1.5, 0.0), origin=Vec2(0.0, 0.0)), Segment(offset=Vec2(0.0, 1.05), origin=Vec2(0.0, 0.0)), Segment(offset=Vec2(-1.5, 0.0), origin=Vec2(0.0, 0.0)), Segment(offset=Vec2(0.0, -1.05), origin=Vec2(0.0, 0.0))], closed=True), location=Vec2(0.0, 0.0))]), style=Style(line_width_=(<WidthType.NORMALIZED: 2>, 0.2), line_color_=None, fill_color_=None, fill_opacity_=None, dashing_=None, output_size=None), transform=Affine(1.0, 0.0, -0.75,\n",
       "       0.0, 1.0, 0.0)), Primitive(shape=Path(loc_trails=[Located(trail=Trail(segments=[Segment(offset=Vec2(3.0, 0.0), origin=Vec2(0.0, 0.0)), Segment(offset=Vec2(0.0, 1.0), origin=Vec2(0.0, 0.0)), Segment(offset=Vec2(-3.0, 0.0), origin=Vec2(0.0, 0.0)), Segment(offset=Vec2(0.0, -1.0), origin=Vec2(0.0, 0.0))], closed=True), location=Vec2(0.0, 0.0))]), style=Style(line_width_=(<WidthType.NORMALIZED: 2>, 0.2), line_color_=None, fill_color_=None, fill_opacity_=None, dashing_=None, output_size=None), transform=Affine(1.0, 0.0, -1.5,\n",
       "       0.0, 1.0, -1.0))]))])), ApplyStyle(style=Style(line_width_=None, line_color_=None, fill_color_=None, fill_opacity_=0.5, dashing_=None, output_size=None), diagram=ApplyStyle(style=Style(line_width_=None, line_color_=None, fill_color_=<Color red>, fill_opacity_=None, dashing_=None, output_size=None), diagram=ApplyTransform(transform=Affine(1.0, 0.0, 0.0,\n",
       "       0.0, 1.0, 0.025), diagram=ApplyTransform(transform=Affine(1.0, 0.0, 0.0,\n",
       "       0.0, 1.0, 0.5), diagram=Compose(envelope=<chalk.envelope.Envelope object at 0x113b6ff40>, diagrams=[Primitive(shape=Path(loc_trails=[Located(trail=Trail(segments=[Segment(offset=Vec2(0.375, 0.0), origin=Vec2(0.0, 0.0)), Segment(offset=Vec2(0.0, 1.0), origin=Vec2(0.0, 0.0)), Segment(offset=Vec2(-0.375, 0.0), origin=Vec2(0.0, 0.0)), Segment(offset=Vec2(0.0, -1.0), origin=Vec2(0.0, 0.0))], closed=True), location=Vec2(0.0, 0.0))]), style=Style(line_width_=(<WidthType.NORMALIZED: 2>, 0.01), line_color_=<Color white>, fill_color_=None, fill_opacity_=None, dashing_=None, output_size=None), transform=Affine(1.0, 0.0, 0.0,\n",
       "       0.0, 1.0, -0.5)), Primitive(shape=Path(loc_trails=[Located(trail=Trail(segments=[Segment(offset=Vec2(0.375, 0.0), origin=Vec2(0.0, 0.0)), Segment(offset=Vec2(0.0, 1.0), origin=Vec2(0.0, 0.0)), Segment(offset=Vec2(-0.375, 0.0), origin=Vec2(0.0, 0.0)), Segment(offset=Vec2(0.0, -1.0), origin=Vec2(0.0, 0.0))], closed=True), location=Vec2(0.0, 0.0))]), style=Style(line_width_=(<WidthType.NORMALIZED: 2>, 0.01), line_color_=<Color white>, fill_color_=None, fill_opacity_=None, dashing_=None, output_size=None), transform=Affine(1.0, 0.0, 0.375,\n",
       "       0.0, 1.0, -0.5))]))))), Empty(), Empty(), ApplyTransform(transform=Affine(1.0, 0.0, 0.0,\n",
       "       0.0, 1.0, 1.05), diagram=ApplyTransform(transform=Affine(0.0, 1.0, 0.0,\n",
       "       -1.0, 0.0, 0.0), diagram=Empty())), ApplyTransform(transform=Affine(1.0, 0.0, 0.0,\n",
       "       0.0, 1.0, 2.05), diagram=Compose(envelope=<chalk.envelope.Envelope object at 0x113b54700>, diagrams=[Empty(), Empty(), Empty(), ApplyTransform(transform=Affine(1.0, 0.0, 0.0,\n",
       "       0.0, 1.0, 1.05), diagram=ApplyTransform(transform=Affine(0.0, 1.0, 0.0,\n",
       "       -1.0, 0.0, 0.0), diagram=Empty())), ApplyTransform(transform=Affine(1.0, 0.0, 0.0,\n",
       "       0.0, 1.0, 2.05), diagram=Compose(envelope=<chalk.envelope.Envelope object at 0x1137e6c70>, diagrams=[Empty(), Empty(), Empty()]))])), Empty(), Empty(), Empty(), ApplyTransform(transform=Affine(1.0, 0.0, 0.0,\n",
       "       0.0, 1.0, 1.05), diagram=ApplyTransform(transform=Affine(0.0, 1.0, 0.0,\n",
       "       -1.0, 0.0, 0.0), diagram=Empty())), ApplyTransform(transform=Affine(1.0, 0.0, 0.0,\n",
       "       0.0, 1.0, 2.05), diagram=Compose(envelope=<chalk.envelope.Envelope object at 0x113b85dc0>, diagrams=[Empty(), Empty(), Empty(), ApplyTransform(transform=Affine(1.0, 0.0, 0.0,\n",
       "       0.0, 1.0, 1.05), diagram=ApplyTransform(transform=Affine(0.0, 1.0, 0.0,\n",
       "       -1.0, 0.0, 0.0), diagram=Empty())), ApplyTransform(transform=Affine(1.0, 0.0, 0.0,\n",
       "       0.0, 1.0, 2.05), diagram=Compose(envelope=<chalk.envelope.Envelope object at 0x113b85520>, diagrams=[ApplyStyle(style=Style(line_width_=None, line_color_=None, fill_color_=None, fill_opacity_=0.5, dashing_=None, output_size=None), diagram=ApplyStyle(style=Style(line_width_=None, line_color_=None, fill_color_=<Color green>, fill_opacity_=None, dashing_=None, output_size=None), diagram=ApplyTransform(transform=Affine(1.0, 0.0, 0.0,\n",
       "       0.0, 1.0, 0.025), diagram=ApplyTransform(transform=Affine(1.0, 0.0, 0.0,\n",
       "       0.0, 1.0, 0.5), diagram=Compose(envelope=<chalk.envelope.Envelope object at 0x113b7e2b0>, diagrams=[Primitive(shape=Path(loc_trails=[Located(trail=Trail(segments=[Segment(offset=Vec2(0.375, 0.0), origin=Vec2(0.0, 0.0)), Segment(offset=Vec2(0.0, 1.0), origin=Vec2(0.0, 0.0)), Segment(offset=Vec2(-0.375, 0.0), origin=Vec2(0.0, 0.0)), Segment(offset=Vec2(0.0, -1.0), origin=Vec2(0.0, 0.0))], closed=True), location=Vec2(0.0, 0.0))]), style=Style(line_width_=(<WidthType.NORMALIZED: 2>, 0.01), line_color_=<Color white>, fill_color_=None, fill_opacity_=None, dashing_=None, output_size=None), transform=Affine(1.0, 0.0, 0.0,\n",
       "       0.0, 1.0, -0.5)), Primitive(shape=Path(loc_trails=[Located(trail=Trail(segments=[Segment(offset=Vec2(0.375, 0.0), origin=Vec2(0.0, 0.0)), Segment(offset=Vec2(0.0, 1.0), origin=Vec2(0.0, 0.0)), Segment(offset=Vec2(-0.375, 0.0), origin=Vec2(0.0, 0.0)), Segment(offset=Vec2(0.0, -1.0), origin=Vec2(0.0, 0.0))], closed=True), location=Vec2(0.0, 0.0))]), style=Style(line_width_=(<WidthType.NORMALIZED: 2>, 0.01), line_color_=<Color white>, fill_color_=None, fill_opacity_=None, dashing_=None, output_size=None), transform=Affine(1.0, 0.0, 0.375,\n",
       "       0.0, 1.0, -0.5))]))))), Empty(), Empty()]))]))])"
      ]
     },
     "execution_count": 77,
     "metadata": {},
     "output_type": "execute_result"
    }
   ],
   "source": [
    "# We can use delete to remove any memory that is not longer needed. \n",
    "print(\"Before memory:\", model.memory())\n",
    "del grad_activations[1]\n",
    "print(\"After memory:\", model.memory())\n",
    "model.status()\n",
    "draw_group(grad_activations)"
   ]
  },
  {
   "cell_type": "code",
   "execution_count": 78,
   "id": "f48969f0",
   "metadata": {},
   "outputs": [
    {
     "data": {
      "image/svg+xml": [
       "<?xml version=\"1.0\" encoding=\"utf-8\" ?>\n",
       "<svg baseProfile=\"full\" height=\"400\" version=\"1.1\" width=\"233\" xmlns=\"http://www.w3.org/2000/svg\" xmlns:ev=\"http://www.w3.org/2001/xml-events\" xmlns:xlink=\"http://www.w3.org/1999/xlink\"><defs><marker id=\"arrow\" markerHeight=\"3.5\" markerWidth=\"5\" orient=\"auto\" refX=\"5.0\" refY=\"1.7\"><polygon points=\"0,0 5,1.75 0,3.5\" /></marker></defs><g style=\"fill:white;\"><g transform=\"matrix(1.0, 0.0, 0.0, 1.0, 116.50000000000001, 199.99166666666667)\"><g transform=\"matrix(73.96825396825396, 0.0, 0.0, 73.96825396825396, 0.0, 0.0)\"><g><g transform=\"matrix(1.0, 0.0, 0.0, 1.0, -0.0, -2.5749999999999997)\"><g><g style=\"stroke: black;stroke-width: 3.6;\" transform=\"matrix(1.0, 0.0, 0.0, 1.0, -0.75, 0.0)\"><path d=\"M 0.0 0.0 L 1.5 0.0 L 1.5 1.05 L 0.0 1.05 L 0.0 0.0 Z\" style=\"vector-effect: non-scaling-stroke;\" /></g><g style=\"stroke: black;stroke-width: 3.6;\" transform=\"matrix(1.0, 0.0, 0.0, 1.0, -1.5, 0.0)\"><path d=\"M 0.0 0.0 L 3.0 0.0 L 3.0 0.0 L 0.0 0.0 L 0.0 0.0 Z\" style=\"vector-effect: non-scaling-stroke;\" /></g><g transform=\"matrix(1.0, 0.0, 0.0, 1.0, 0.0, 1.05)\"><g transform=\"matrix(0.0, -1.0, 1.0, 0.0, 0.0, 0.0)\"><g /></g></g><g transform=\"matrix(1.0, 0.0, 0.0, 1.0, 0.0, 2.05)\"><g><g style=\"stroke: black;stroke-width: 3.6;\" transform=\"matrix(1.0, 0.0, 0.0, 1.0, -0.75, 0.0)\"><path d=\"M 0.0 0.0 L 1.5 0.0 L 1.5 1.05 L 0.0 1.05 L 0.0 0.0 Z\" style=\"vector-effect: non-scaling-stroke;\" /></g><g style=\"stroke: black;stroke-width: 3.6;\" transform=\"matrix(1.0, 0.0, 0.0, 1.0, -1.5, -1.0)\"><path d=\"M 0.0 0.0 L 3.0 0.0 L 3.0 1.0 L 0.0 1.0 L 0.0 0.0 Z\" style=\"vector-effect: non-scaling-stroke;\" /></g><g transform=\"matrix(1.0, 0.0, 0.0, 1.0, 0.0, 1.05)\"><g transform=\"matrix(0.0, -1.0, 1.0, 0.0, 0.0, 0.0)\"><g /></g></g><g transform=\"matrix(1.0, 0.0, 0.0, 1.0, 0.0, 2.05)\"><g><g style=\"stroke: black;stroke-width: 3.6;\" transform=\"matrix(1.0, 0.0, 0.0, 1.0, -0.75, 0.0)\"><path d=\"M 0.0 0.0 L 1.5 0.0 L 1.5 1.05 L 0.0 1.05 L 0.0 0.0 Z\" style=\"vector-effect: non-scaling-stroke;\" /></g><g style=\"stroke: black;stroke-width: 3.6;\" transform=\"matrix(1.0, 0.0, 0.0, 1.0, -1.5, -1.0)\"><path d=\"M 0.0 0.0 L 3.0 0.0 L 3.0 1.0 L 0.0 1.0 L 0.0 0.0 Z\" style=\"vector-effect: non-scaling-stroke;\" /></g></g></g></g></g><g /><g /><g /><g transform=\"matrix(1.0, 0.0, 0.0, 1.0, 0.0, 1.05)\"><g transform=\"matrix(0.0, -1.0, 1.0, 0.0, 0.0, 0.0)\"><g /></g></g><g transform=\"matrix(1.0, 0.0, 0.0, 1.0, 0.0, 2.05)\"><g><g /><g><g style=\"fill: #bfbf00;stroke: #ffffff;stroke-width: 0.18;fill-opacity: 0.5;\" transform=\"matrix(1.0, 0.0, 0.0, 1.0, 0.0, -1.0)\"><path d=\"M 0.0 0.0 L 0.75 0.0 L 0.75 1.0 L 0.0 1.0 L 0.0 0.0 Z\" style=\"vector-effect: non-scaling-stroke;\" /></g><g style=\"fill: #bfbf00;stroke: #ffffff;stroke-width: 0.18;fill-opacity: 0.5;\" transform=\"matrix(1.0, 0.0, 0.0, 1.0, 0.75, -1.0)\"><path d=\"M 0.0 0.0 L 0.75 0.0 L 0.75 1.0 L 0.0 1.0 L 0.0 0.0 Z\" style=\"vector-effect: non-scaling-stroke;\" /></g></g><g /><g transform=\"matrix(1.0, 0.0, 0.0, 1.0, 0.0, 1.05)\"><g transform=\"matrix(0.0, -1.0, 1.0, 0.0, 0.0, 0.0)\"><g /></g></g><g transform=\"matrix(1.0, 0.0, 0.0, 1.0, 0.0, 2.05)\"><g><g /><g /><g /></g></g></g></g><g /><g /><g /><g transform=\"matrix(1.0, 0.0, 0.0, 1.0, 0.0, 1.05)\"><g transform=\"matrix(0.0, -1.0, 1.0, 0.0, 0.0, 0.0)\"><g /></g></g><g transform=\"matrix(1.0, 0.0, 0.0, 1.0, 0.0, 2.05)\"><g><g /><g /><g /><g transform=\"matrix(1.0, 0.0, 0.0, 1.0, 0.0, 1.05)\"><g transform=\"matrix(0.0, -1.0, 1.0, 0.0, 0.0, 0.0)\"><g /></g></g><g transform=\"matrix(1.0, 0.0, 0.0, 1.0, 0.0, 2.05)\"><g><g /><g><g style=\"fill: #008000;stroke: #ffffff;stroke-width: 0.18;fill-opacity: 0.5;\" transform=\"matrix(1.0, 0.0, 0.0, 1.0, 0.0, -1.0)\"><path d=\"M 0.0 0.0 L 0.75 0.0 L 0.75 1.0 L 0.0 1.0 L 0.0 0.0 Z\" style=\"vector-effect: non-scaling-stroke;\" /></g><g style=\"fill: #008000;stroke: #ffffff;stroke-width: 0.18;fill-opacity: 0.5;\" transform=\"matrix(1.0, 0.0, 0.0, 1.0, 0.75, -1.0)\"><path d=\"M 0.0 0.0 L 0.75 0.0 L 0.75 1.0 L 0.0 1.0 L 0.0 0.0 Z\" style=\"vector-effect: non-scaling-stroke;\" /></g></g><g /></g></g></g></g></g></g><g /></g></g></g></g></svg>"
      ],
      "text/html": [
       "<?xml version=\"1.0\" encoding=\"utf-8\" ?>\n",
       "<svg baseProfile=\"full\" height=\"400\" version=\"1.1\" width=\"233\" xmlns=\"http://www.w3.org/2000/svg\" xmlns:ev=\"http://www.w3.org/2001/xml-events\" xmlns:xlink=\"http://www.w3.org/1999/xlink\"><defs><marker id=\"arrow\" markerHeight=\"3.5\" markerWidth=\"5\" orient=\"auto\" refX=\"5.0\" refY=\"1.7\"><polygon points=\"0,0 5,1.75 0,3.5\" /></marker></defs><g style=\"fill:white;\"><g transform=\"matrix(1.0, 0.0, 0.0, 1.0, 116.50000000000001, 199.99166666666667)\"><g transform=\"matrix(73.96825396825396, 0.0, 0.0, 73.96825396825396, 0.0, 0.0)\"><g><g transform=\"matrix(1.0, 0.0, 0.0, 1.0, -0.0, -2.5749999999999997)\"><g><g style=\"stroke: black;stroke-width: 3.6;\" transform=\"matrix(1.0, 0.0, 0.0, 1.0, -0.75, 0.0)\"><path d=\"M 0.0 0.0 L 1.5 0.0 L 1.5 1.05 L 0.0 1.05 L 0.0 0.0 Z\" style=\"vector-effect: non-scaling-stroke;\" /></g><g style=\"stroke: black;stroke-width: 3.6;\" transform=\"matrix(1.0, 0.0, 0.0, 1.0, -1.5, 0.0)\"><path d=\"M 0.0 0.0 L 3.0 0.0 L 3.0 0.0 L 0.0 0.0 L 0.0 0.0 Z\" style=\"vector-effect: non-scaling-stroke;\" /></g><g transform=\"matrix(1.0, 0.0, 0.0, 1.0, 0.0, 1.05)\"><g transform=\"matrix(0.0, -1.0, 1.0, 0.0, 0.0, 0.0)\"><g /></g></g><g transform=\"matrix(1.0, 0.0, 0.0, 1.0, 0.0, 2.05)\"><g><g style=\"stroke: black;stroke-width: 3.6;\" transform=\"matrix(1.0, 0.0, 0.0, 1.0, -0.75, 0.0)\"><path d=\"M 0.0 0.0 L 1.5 0.0 L 1.5 1.05 L 0.0 1.05 L 0.0 0.0 Z\" style=\"vector-effect: non-scaling-stroke;\" /></g><g style=\"stroke: black;stroke-width: 3.6;\" transform=\"matrix(1.0, 0.0, 0.0, 1.0, -1.5, -1.0)\"><path d=\"M 0.0 0.0 L 3.0 0.0 L 3.0 1.0 L 0.0 1.0 L 0.0 0.0 Z\" style=\"vector-effect: non-scaling-stroke;\" /></g><g transform=\"matrix(1.0, 0.0, 0.0, 1.0, 0.0, 1.05)\"><g transform=\"matrix(0.0, -1.0, 1.0, 0.0, 0.0, 0.0)\"><g /></g></g><g transform=\"matrix(1.0, 0.0, 0.0, 1.0, 0.0, 2.05)\"><g><g style=\"stroke: black;stroke-width: 3.6;\" transform=\"matrix(1.0, 0.0, 0.0, 1.0, -0.75, 0.0)\"><path d=\"M 0.0 0.0 L 1.5 0.0 L 1.5 1.05 L 0.0 1.05 L 0.0 0.0 Z\" style=\"vector-effect: non-scaling-stroke;\" /></g><g style=\"stroke: black;stroke-width: 3.6;\" transform=\"matrix(1.0, 0.0, 0.0, 1.0, -1.5, -1.0)\"><path d=\"M 0.0 0.0 L 3.0 0.0 L 3.0 1.0 L 0.0 1.0 L 0.0 0.0 Z\" style=\"vector-effect: non-scaling-stroke;\" /></g></g></g></g></g><g /><g /><g /><g transform=\"matrix(1.0, 0.0, 0.0, 1.0, 0.0, 1.05)\"><g transform=\"matrix(0.0, -1.0, 1.0, 0.0, 0.0, 0.0)\"><g /></g></g><g transform=\"matrix(1.0, 0.0, 0.0, 1.0, 0.0, 2.05)\"><g><g /><g><g style=\"fill: #bfbf00;stroke: #ffffff;stroke-width: 0.18;fill-opacity: 0.5;\" transform=\"matrix(1.0, 0.0, 0.0, 1.0, 0.0, -1.0)\"><path d=\"M 0.0 0.0 L 0.75 0.0 L 0.75 1.0 L 0.0 1.0 L 0.0 0.0 Z\" style=\"vector-effect: non-scaling-stroke;\" /></g><g style=\"fill: #bfbf00;stroke: #ffffff;stroke-width: 0.18;fill-opacity: 0.5;\" transform=\"matrix(1.0, 0.0, 0.0, 1.0, 0.75, -1.0)\"><path d=\"M 0.0 0.0 L 0.75 0.0 L 0.75 1.0 L 0.0 1.0 L 0.0 0.0 Z\" style=\"vector-effect: non-scaling-stroke;\" /></g></g><g /><g transform=\"matrix(1.0, 0.0, 0.0, 1.0, 0.0, 1.05)\"><g transform=\"matrix(0.0, -1.0, 1.0, 0.0, 0.0, 0.0)\"><g /></g></g><g transform=\"matrix(1.0, 0.0, 0.0, 1.0, 0.0, 2.05)\"><g><g /><g /><g /></g></g></g></g><g /><g /><g /><g transform=\"matrix(1.0, 0.0, 0.0, 1.0, 0.0, 1.05)\"><g transform=\"matrix(0.0, -1.0, 1.0, 0.0, 0.0, 0.0)\"><g /></g></g><g transform=\"matrix(1.0, 0.0, 0.0, 1.0, 0.0, 2.05)\"><g><g /><g /><g /><g transform=\"matrix(1.0, 0.0, 0.0, 1.0, 0.0, 1.05)\"><g transform=\"matrix(0.0, -1.0, 1.0, 0.0, 0.0, 0.0)\"><g /></g></g><g transform=\"matrix(1.0, 0.0, 0.0, 1.0, 0.0, 2.05)\"><g><g /><g><g style=\"fill: #008000;stroke: #ffffff;stroke-width: 0.18;fill-opacity: 0.5;\" transform=\"matrix(1.0, 0.0, 0.0, 1.0, 0.0, -1.0)\"><path d=\"M 0.0 0.0 L 0.75 0.0 L 0.75 1.0 L 0.0 1.0 L 0.0 0.0 Z\" style=\"vector-effect: non-scaling-stroke;\" /></g><g style=\"fill: #008000;stroke: #ffffff;stroke-width: 0.18;fill-opacity: 0.5;\" transform=\"matrix(1.0, 0.0, 0.0, 1.0, 0.75, -1.0)\"><path d=\"M 0.0 0.0 L 0.75 0.0 L 0.75 1.0 L 0.0 1.0 L 0.0 0.0 Z\" style=\"vector-effect: non-scaling-stroke;\" /></g></g><g /></g></g></g></g></g></g><g /></g></g></g></g></svg>"
      ],
      "text/plain": [
       "Compose(envelope=<chalk.envelope.Envelope object at 0x113ba2880>, diagrams=[Primitive(shape=Path(loc_trails=[Located(trail=Trail(segments=[Segment(offset=Vec2(1.5, 0.0), origin=Vec2(0.0, 0.0)), Segment(offset=Vec2(0.0, 1.05), origin=Vec2(0.0, 0.0)), Segment(offset=Vec2(-1.5, 0.0), origin=Vec2(0.0, 0.0)), Segment(offset=Vec2(0.0, -1.05), origin=Vec2(0.0, 0.0))], closed=True), location=Vec2(0.0, 0.0))]), style=Style(line_width_=(<WidthType.NORMALIZED: 2>, 0.2), line_color_=None, fill_color_=None, fill_opacity_=None, dashing_=None, output_size=None), transform=Affine(1.0, 0.0, -0.75,\n",
       "       0.0, 1.0, 0.0)), Primitive(shape=Path(loc_trails=[Located(trail=Trail(segments=[Segment(offset=Vec2(3.0, 0.0), origin=Vec2(0.0, 0.0)), Segment(offset=Vec2(0.0, 0.0), origin=Vec2(0.0, 0.0)), Segment(offset=Vec2(-3.0, 0.0), origin=Vec2(0.0, 0.0)), Segment(offset=Vec2(0.0, 0.0), origin=Vec2(0.0, 0.0))], closed=True), location=Vec2(0.0, 0.0))]), style=Style(line_width_=(<WidthType.NORMALIZED: 2>, 0.2), line_color_=None, fill_color_=None, fill_opacity_=None, dashing_=None, output_size=None), transform=Affine(1.0, 0.0, -1.5,\n",
       "       0.0, 1.0, 0.0)), ApplyTransform(transform=Affine(1.0, 0.0, 0.0,\n",
       "       0.0, 1.0, 1.05), diagram=ApplyTransform(transform=Affine(0.0, 1.0, 0.0,\n",
       "       -1.0, 0.0, 0.0), diagram=Empty())), ApplyTransform(transform=Affine(1.0, 0.0, 0.0,\n",
       "       0.0, 1.0, 2.05), diagram=Compose(envelope=<chalk.envelope.Envelope object at 0x113b63340>, diagrams=[Primitive(shape=Path(loc_trails=[Located(trail=Trail(segments=[Segment(offset=Vec2(1.5, 0.0), origin=Vec2(0.0, 0.0)), Segment(offset=Vec2(0.0, 1.05), origin=Vec2(0.0, 0.0)), Segment(offset=Vec2(-1.5, 0.0), origin=Vec2(0.0, 0.0)), Segment(offset=Vec2(0.0, -1.05), origin=Vec2(0.0, 0.0))], closed=True), location=Vec2(0.0, 0.0))]), style=Style(line_width_=(<WidthType.NORMALIZED: 2>, 0.2), line_color_=None, fill_color_=None, fill_opacity_=None, dashing_=None, output_size=None), transform=Affine(1.0, 0.0, -0.75,\n",
       "       0.0, 1.0, 0.0)), Primitive(shape=Path(loc_trails=[Located(trail=Trail(segments=[Segment(offset=Vec2(3.0, 0.0), origin=Vec2(0.0, 0.0)), Segment(offset=Vec2(0.0, 1.0), origin=Vec2(0.0, 0.0)), Segment(offset=Vec2(-3.0, 0.0), origin=Vec2(0.0, 0.0)), Segment(offset=Vec2(0.0, -1.0), origin=Vec2(0.0, 0.0))], closed=True), location=Vec2(0.0, 0.0))]), style=Style(line_width_=(<WidthType.NORMALIZED: 2>, 0.2), line_color_=None, fill_color_=None, fill_opacity_=None, dashing_=None, output_size=None), transform=Affine(1.0, 0.0, -1.5,\n",
       "       0.0, 1.0, -1.0)), ApplyTransform(transform=Affine(1.0, 0.0, 0.0,\n",
       "       0.0, 1.0, 1.05), diagram=ApplyTransform(transform=Affine(0.0, 1.0, 0.0,\n",
       "       -1.0, 0.0, 0.0), diagram=Empty())), ApplyTransform(transform=Affine(1.0, 0.0, 0.0,\n",
       "       0.0, 1.0, 2.05), diagram=Compose(envelope=<chalk.envelope.Envelope object at 0x113987df0>, diagrams=[Primitive(shape=Path(loc_trails=[Located(trail=Trail(segments=[Segment(offset=Vec2(1.5, 0.0), origin=Vec2(0.0, 0.0)), Segment(offset=Vec2(0.0, 1.05), origin=Vec2(0.0, 0.0)), Segment(offset=Vec2(-1.5, 0.0), origin=Vec2(0.0, 0.0)), Segment(offset=Vec2(0.0, -1.05), origin=Vec2(0.0, 0.0))], closed=True), location=Vec2(0.0, 0.0))]), style=Style(line_width_=(<WidthType.NORMALIZED: 2>, 0.2), line_color_=None, fill_color_=None, fill_opacity_=None, dashing_=None, output_size=None), transform=Affine(1.0, 0.0, -0.75,\n",
       "       0.0, 1.0, 0.0)), Primitive(shape=Path(loc_trails=[Located(trail=Trail(segments=[Segment(offset=Vec2(3.0, 0.0), origin=Vec2(0.0, 0.0)), Segment(offset=Vec2(0.0, 1.0), origin=Vec2(0.0, 0.0)), Segment(offset=Vec2(-3.0, 0.0), origin=Vec2(0.0, 0.0)), Segment(offset=Vec2(0.0, -1.0), origin=Vec2(0.0, 0.0))], closed=True), location=Vec2(0.0, 0.0))]), style=Style(line_width_=(<WidthType.NORMALIZED: 2>, 0.2), line_color_=None, fill_color_=None, fill_opacity_=None, dashing_=None, output_size=None), transform=Affine(1.0, 0.0, -1.5,\n",
       "       0.0, 1.0, -1.0))]))])), Empty(), Empty(), Empty(), ApplyTransform(transform=Affine(1.0, 0.0, 0.0,\n",
       "       0.0, 1.0, 1.05), diagram=ApplyTransform(transform=Affine(0.0, 1.0, 0.0,\n",
       "       -1.0, 0.0, 0.0), diagram=Empty())), ApplyTransform(transform=Affine(1.0, 0.0, 0.0,\n",
       "       0.0, 1.0, 2.05), diagram=Compose(envelope=<chalk.envelope.Envelope object at 0x113bb9fd0>, diagrams=[Empty(), ApplyStyle(style=Style(line_width_=None, line_color_=None, fill_color_=None, fill_opacity_=0.5, dashing_=None, output_size=None), diagram=ApplyStyle(style=Style(line_width_=None, line_color_=None, fill_color_=<Color #bfbf00>, fill_opacity_=None, dashing_=None, output_size=None), diagram=Compose(envelope=<chalk.envelope.Envelope object at 0x113bb1c70>, diagrams=[Primitive(shape=Path(loc_trails=[Located(trail=Trail(segments=[Segment(offset=Vec2(0.75, 0.0), origin=Vec2(0.0, 0.0)), Segment(offset=Vec2(0.0, 1.0), origin=Vec2(0.0, 0.0)), Segment(offset=Vec2(-0.75, 0.0), origin=Vec2(0.0, 0.0)), Segment(offset=Vec2(0.0, -1.0), origin=Vec2(0.0, 0.0))], closed=True), location=Vec2(0.0, 0.0))]), style=Style(line_width_=(<WidthType.NORMALIZED: 2>, 0.01), line_color_=<Color white>, fill_color_=None, fill_opacity_=None, dashing_=None, output_size=None), transform=Affine(1.0, 0.0, 0.0,\n",
       "       0.0, 1.0, -1.0)), Primitive(shape=Path(loc_trails=[Located(trail=Trail(segments=[Segment(offset=Vec2(0.75, 0.0), origin=Vec2(0.0, 0.0)), Segment(offset=Vec2(0.0, 1.0), origin=Vec2(0.0, 0.0)), Segment(offset=Vec2(-0.75, 0.0), origin=Vec2(0.0, 0.0)), Segment(offset=Vec2(0.0, -1.0), origin=Vec2(0.0, 0.0))], closed=True), location=Vec2(0.0, 0.0))]), style=Style(line_width_=(<WidthType.NORMALIZED: 2>, 0.01), line_color_=<Color white>, fill_color_=None, fill_opacity_=None, dashing_=None, output_size=None), transform=Affine(1.0, 0.0, 0.75,\n",
       "       0.0, 1.0, -1.0))]))), Empty(), ApplyTransform(transform=Affine(1.0, 0.0, 0.0,\n",
       "       0.0, 1.0, 1.05), diagram=ApplyTransform(transform=Affine(0.0, 1.0, 0.0,\n",
       "       -1.0, 0.0, 0.0), diagram=Empty())), ApplyTransform(transform=Affine(1.0, 0.0, 0.0,\n",
       "       0.0, 1.0, 2.05), diagram=Compose(envelope=<chalk.envelope.Envelope object at 0x113baffd0>, diagrams=[Empty(), Empty(), Empty()]))])), Empty(), Empty(), Empty(), ApplyTransform(transform=Affine(1.0, 0.0, 0.0,\n",
       "       0.0, 1.0, 1.05), diagram=ApplyTransform(transform=Affine(0.0, 1.0, 0.0,\n",
       "       -1.0, 0.0, 0.0), diagram=Empty())), ApplyTransform(transform=Affine(1.0, 0.0, 0.0,\n",
       "       0.0, 1.0, 2.05), diagram=Compose(envelope=<chalk.envelope.Envelope object at 0x113bd4dc0>, diagrams=[Empty(), Empty(), Empty(), ApplyTransform(transform=Affine(1.0, 0.0, 0.0,\n",
       "       0.0, 1.0, 1.05), diagram=ApplyTransform(transform=Affine(0.0, 1.0, 0.0,\n",
       "       -1.0, 0.0, 0.0), diagram=Empty())), ApplyTransform(transform=Affine(1.0, 0.0, 0.0,\n",
       "       0.0, 1.0, 2.05), diagram=Compose(envelope=<chalk.envelope.Envelope object at 0x113bcf190>, diagrams=[Empty(), ApplyStyle(style=Style(line_width_=None, line_color_=None, fill_color_=None, fill_opacity_=0.5, dashing_=None, output_size=None), diagram=ApplyStyle(style=Style(line_width_=None, line_color_=None, fill_color_=<Color green>, fill_opacity_=None, dashing_=None, output_size=None), diagram=Compose(envelope=<chalk.envelope.Envelope object at 0x113bc6160>, diagrams=[Primitive(shape=Path(loc_trails=[Located(trail=Trail(segments=[Segment(offset=Vec2(0.75, 0.0), origin=Vec2(0.0, 0.0)), Segment(offset=Vec2(0.0, 1.0), origin=Vec2(0.0, 0.0)), Segment(offset=Vec2(-0.75, 0.0), origin=Vec2(0.0, 0.0)), Segment(offset=Vec2(0.0, -1.0), origin=Vec2(0.0, 0.0))], closed=True), location=Vec2(0.0, 0.0))]), style=Style(line_width_=(<WidthType.NORMALIZED: 2>, 0.01), line_color_=<Color white>, fill_color_=None, fill_opacity_=None, dashing_=None, output_size=None), transform=Affine(1.0, 0.0, 0.0,\n",
       "       0.0, 1.0, -1.0)), Primitive(shape=Path(loc_trails=[Located(trail=Trail(segments=[Segment(offset=Vec2(0.75, 0.0), origin=Vec2(0.0, 0.0)), Segment(offset=Vec2(0.0, 1.0), origin=Vec2(0.0, 0.0)), Segment(offset=Vec2(-0.75, 0.0), origin=Vec2(0.0, 0.0)), Segment(offset=Vec2(0.0, -1.0), origin=Vec2(0.0, 0.0))], closed=True), location=Vec2(0.0, 0.0))]), style=Style(line_width_=(<WidthType.NORMALIZED: 2>, 0.01), line_color_=<Color white>, fill_color_=None, fill_opacity_=None, dashing_=None, output_size=None), transform=Affine(1.0, 0.0, 0.75,\n",
       "       0.0, 1.0, -1.0))]))), Empty()]))]))])"
      ]
     },
     "execution_count": 78,
     "metadata": {},
     "output_type": "execute_result"
    }
   ],
   "source": [
    "# Grad weights keep track of which batches they are for. Here we only have the grad weights for batches 2 and 3.\n",
    "draw_group(grad_weights)"
   ]
  },
  {
   "cell_type": "code",
   "execution_count": 79,
   "id": "d3d469f7",
   "metadata": {},
   "outputs": [
    {
     "name": "stdout",
     "output_type": "stream",
     "text": [
      "Error! Only have batches\n",
      "{2, 3}\n"
     ]
    }
   ],
   "source": [
    "# If we try to update with the grad weights we will get an error.\n",
    "try:\n",
    "    model.update(0, weight_grad=grad_weights[0], weight=weights[0], opt_state=opt_states[0])\n",
    "except AssertionError as e:\n",
    "    print(\"Error! Only have batches\")\n",
    "    print(e)"
   ]
  },
  {
   "cell_type": "code",
   "execution_count": 80,
   "id": "55046513",
   "metadata": {
    "lines_to_next_cell": 2
   },
   "outputs": [
    {
     "data": {
      "image/svg+xml": [
       "<?xml version=\"1.0\" encoding=\"utf-8\" ?>\n",
       "<svg baseProfile=\"full\" height=\"400\" version=\"1.1\" width=\"233\" xmlns=\"http://www.w3.org/2000/svg\" xmlns:ev=\"http://www.w3.org/2001/xml-events\" xmlns:xlink=\"http://www.w3.org/1999/xlink\"><defs><marker id=\"arrow\" markerHeight=\"3.5\" markerWidth=\"5\" orient=\"auto\" refX=\"5.0\" refY=\"1.7\"><polygon points=\"0,0 5,1.75 0,3.5\" /></marker></defs><g style=\"fill:white;\"><g transform=\"matrix(1.0, 0.0, 0.0, 1.0, 116.50000000000001, 199.99166666666667)\"><g transform=\"matrix(73.96825396825396, 0.0, 0.0, 73.96825396825396, 0.0, 0.0)\"><g><g transform=\"matrix(1.0, 0.0, 0.0, 1.0, -0.0, -2.5749999999999997)\"><g><g style=\"stroke: black;stroke-width: 3.6;\" transform=\"matrix(1.0, 0.0, 0.0, 1.0, -0.75, 0.0)\"><path d=\"M 0.0 0.0 L 1.5 0.0 L 1.5 1.05 L 0.0 1.05 L 0.0 0.0 Z\" style=\"vector-effect: non-scaling-stroke;\" /></g><g style=\"stroke: black;stroke-width: 3.6;\" transform=\"matrix(1.0, 0.0, 0.0, 1.0, -1.5, 0.0)\"><path d=\"M 0.0 0.0 L 3.0 0.0 L 3.0 0.0 L 0.0 0.0 L 0.0 0.0 Z\" style=\"vector-effect: non-scaling-stroke;\" /></g><g transform=\"matrix(1.0, 0.0, 0.0, 1.0, 0.0, 1.05)\"><g transform=\"matrix(0.0, -1.0, 1.0, 0.0, 0.0, 0.0)\"><g /></g></g><g transform=\"matrix(1.0, 0.0, 0.0, 1.0, 0.0, 2.05)\"><g><g style=\"stroke: black;stroke-width: 3.6;\" transform=\"matrix(1.0, 0.0, 0.0, 1.0, -0.75, 0.0)\"><path d=\"M 0.0 0.0 L 1.5 0.0 L 1.5 1.05 L 0.0 1.05 L 0.0 0.0 Z\" style=\"vector-effect: non-scaling-stroke;\" /></g><g style=\"stroke: black;stroke-width: 3.6;\" transform=\"matrix(1.0, 0.0, 0.0, 1.0, -1.5, -1.0)\"><path d=\"M 0.0 0.0 L 3.0 0.0 L 3.0 1.0 L 0.0 1.0 L 0.0 0.0 Z\" style=\"vector-effect: non-scaling-stroke;\" /></g><g transform=\"matrix(1.0, 0.0, 0.0, 1.0, 0.0, 1.05)\"><g transform=\"matrix(0.0, -1.0, 1.0, 0.0, 0.0, 0.0)\"><g /></g></g><g transform=\"matrix(1.0, 0.0, 0.0, 1.0, 0.0, 2.05)\"><g><g style=\"stroke: black;stroke-width: 3.6;\" transform=\"matrix(1.0, 0.0, 0.0, 1.0, -0.75, 0.0)\"><path d=\"M 0.0 0.0 L 1.5 0.0 L 1.5 1.05 L 0.0 1.05 L 0.0 0.0 Z\" style=\"vector-effect: non-scaling-stroke;\" /></g><g style=\"stroke: black;stroke-width: 3.6;\" transform=\"matrix(1.0, 0.0, 0.0, 1.0, -1.5, -1.0)\"><path d=\"M 0.0 0.0 L 3.0 0.0 L 3.0 1.0 L 0.0 1.0 L 0.0 0.0 Z\" style=\"vector-effect: non-scaling-stroke;\" /></g></g></g></g></g><g /><g /><g /><g transform=\"matrix(1.0, 0.0, 0.0, 1.0, 0.0, 1.05)\"><g transform=\"matrix(0.0, -1.0, 1.0, 0.0, 0.0, 0.0)\"><g /></g></g><g transform=\"matrix(1.0, 0.0, 0.0, 1.0, 0.0, 2.05)\"><g><g /><g /><g /><g transform=\"matrix(1.0, 0.0, 0.0, 1.0, 0.0, 1.05)\"><g transform=\"matrix(0.0, -1.0, 1.0, 0.0, 0.0, 0.0)\"><g /></g></g><g transform=\"matrix(1.0, 0.0, 0.0, 1.0, 0.0, 2.05)\"><g><g /><g><g style=\"fill: #008000;stroke: #ffffff;stroke-width: 0.18;fill-opacity: 0.5;\" transform=\"matrix(1.0, 0.0, 0.0, 1.0, -1.5, -1.0)\"><path d=\"M 0.0 0.0 L 0.75 0.0 L 0.75 1.0 L 0.0 1.0 L 0.0 0.0 Z\" style=\"vector-effect: non-scaling-stroke;\" /></g><g style=\"fill: #008000;stroke: #ffffff;stroke-width: 0.18;fill-opacity: 0.5;\" transform=\"matrix(1.0, 0.0, 0.0, 1.0, -0.75, -1.0)\"><path d=\"M 0.0 0.0 L 0.75 0.0 L 0.75 1.0 L 0.0 1.0 L 0.0 0.0 Z\" style=\"vector-effect: non-scaling-stroke;\" /></g></g><g /></g></g></g></g></g></g><g /></g></g></g></g></svg>"
      ],
      "text/plain": [
       "WeightGrad(layer=0, layers=2, batches=frozenset({0, 1}), total_batches=4, shards=frozenset({0}), total=1)"
      ]
     },
     "execution_count": 80,
     "metadata": {},
     "output_type": "execute_result"
    }
   ],
   "source": [
    "# For this example, we can cheat. Pretend we had the other gradients we needed. \n",
    "grad_weights[0, 0] = model.fake_grad(0, [0,1])\n",
    "grad_weights[1, 0] = model.fake_grad(1, [0,1])\n",
    "grad_weights[0, 0] "
   ]
  },
  {
   "cell_type": "code",
   "execution_count": 81,
   "id": "f5caee88",
   "metadata": {},
   "outputs": [],
   "source": [
    "# Summing together grad_weights gives the full gradient.\n",
    "grad_weights[0] = grad_weights[0] + grad_weights[0, 0]"
   ]
  },
  {
   "cell_type": "code",
   "execution_count": 82,
   "id": "dfe2165e",
   "metadata": {
    "lines_to_next_cell": 2
   },
   "outputs": [],
   "source": [
    "# Now we can call update to the get the new weights and opt_state.\n",
    "weights[0], opt_states[0] = model.update(0, weight_grad=grad_weights[0], weight=weights[0], \n",
    "                                         opt_state=opt_states[0])\n",
    "\n",
    "# WARNING: You need to set all variables. Otherwise they are not counted towards memory.\n",
    "grad_weights[1] = grad_weights[1] + grad_weights[1, 0]\n",
    "weights[1], opt_states[1] = model.update(1, weight_grad=grad_weights[1],\n",
    "                                         weight=weights[1], opt_state=opt_states[1])"
   ]
  },
  {
   "cell_type": "code",
   "execution_count": 83,
   "id": "f9582594",
   "metadata": {},
   "outputs": [
    {
     "name": "stdout",
     "output_type": "stream",
     "text": [
      "Correct!\n"
     ]
    },
    {
     "data": {
      "image/svg+xml": [
       "<?xml version=\"1.0\" encoding=\"utf-8\" ?>\n",
       "<svg baseProfile=\"full\" height=\"400\" version=\"1.1\" width=\"233\" xmlns=\"http://www.w3.org/2000/svg\" xmlns:ev=\"http://www.w3.org/2001/xml-events\" xmlns:xlink=\"http://www.w3.org/1999/xlink\"><defs><marker id=\"arrow\" markerHeight=\"3.5\" markerWidth=\"5\" orient=\"auto\" refX=\"5.0\" refY=\"1.7\"><polygon points=\"0,0 5,1.75 0,3.5\" /></marker></defs><g style=\"fill:white;\"><g transform=\"matrix(1.0, 0.0, 0.0, 1.0, 116.50000000000001, 199.99166666666667)\"><g transform=\"matrix(73.96825396825396, 0.0, 0.0, 73.96825396825396, 0.0, 0.0)\"><g><g transform=\"matrix(1.0, 0.0, 0.0, 1.0, -0.0, -2.5749999999999997)\"><g><g style=\"stroke: black;stroke-width: 3.6;\" transform=\"matrix(1.0, 0.0, 0.0, 1.0, -0.75, 0.0)\"><path d=\"M 0.0 0.0 L 1.5 0.0 L 1.5 1.05 L 0.0 1.05 L 0.0 0.0 Z\" style=\"vector-effect: non-scaling-stroke;\" /></g><g style=\"stroke: black;stroke-width: 3.6;\" transform=\"matrix(1.0, 0.0, 0.0, 1.0, -1.5, 0.0)\"><path d=\"M 0.0 0.0 L 3.0 0.0 L 3.0 0.0 L 0.0 0.0 L 0.0 0.0 Z\" style=\"vector-effect: non-scaling-stroke;\" /></g><g transform=\"matrix(1.0, 0.0, 0.0, 1.0, 0.0, 1.05)\"><g transform=\"matrix(0.0, -1.0, 1.0, 0.0, 0.0, 0.0)\"><g /></g></g><g transform=\"matrix(1.0, 0.0, 0.0, 1.0, 0.0, 2.05)\"><g><g style=\"stroke: black;stroke-width: 3.6;\" transform=\"matrix(1.0, 0.0, 0.0, 1.0, -0.75, 0.0)\"><path d=\"M 0.0 0.0 L 1.5 0.0 L 1.5 1.05 L 0.0 1.05 L 0.0 0.0 Z\" style=\"vector-effect: non-scaling-stroke;\" /></g><g style=\"stroke: black;stroke-width: 3.6;\" transform=\"matrix(1.0, 0.0, 0.0, 1.0, -1.5, -1.0)\"><path d=\"M 0.0 0.0 L 3.0 0.0 L 3.0 1.0 L 0.0 1.0 L 0.0 0.0 Z\" style=\"vector-effect: non-scaling-stroke;\" /></g><g transform=\"matrix(1.0, 0.0, 0.0, 1.0, 0.0, 1.05)\"><g transform=\"matrix(0.0, -1.0, 1.0, 0.0, 0.0, 0.0)\"><g /></g></g><g transform=\"matrix(1.0, 0.0, 0.0, 1.0, 0.0, 2.05)\"><g><g style=\"stroke: black;stroke-width: 3.6;\" transform=\"matrix(1.0, 0.0, 0.0, 1.0, -0.75, 0.0)\"><path d=\"M 0.0 0.0 L 1.5 0.0 L 1.5 1.05 L 0.0 1.05 L 0.0 0.0 Z\" style=\"vector-effect: non-scaling-stroke;\" /></g><g style=\"stroke: black;stroke-width: 3.6;\" transform=\"matrix(1.0, 0.0, 0.0, 1.0, -1.5, -1.0)\"><path d=\"M 0.0 0.0 L 3.0 0.0 L 3.0 1.0 L 0.0 1.0 L 0.0 0.0 Z\" style=\"vector-effect: non-scaling-stroke;\" /></g></g></g></g></g><g /><g /><g /><g transform=\"matrix(1.0, 0.0, 0.0, 1.0, 0.0, 1.05)\"><g transform=\"matrix(0.0, -1.0, 1.0, 0.0, 0.0, 0.0)\"><g /></g></g><g transform=\"matrix(1.0, 0.0, 0.0, 1.0, 0.0, 2.05)\"><g><g /><g /><g /><g transform=\"matrix(1.0, 0.0, 0.0, 1.0, 0.0, 1.05)\"><g transform=\"matrix(0.0, -1.0, 1.0, 0.0, 0.0, 0.0)\"><g /></g></g><g transform=\"matrix(1.0, 0.0, 0.0, 1.0, 0.0, 2.05)\"><g><g /><g style=\"fill: #008000;stroke: #ffffff;stroke-width: 0.18;\" transform=\"matrix(1.0, 0.0, 0.0, 1.0, -1.5, -1.0)\"><path d=\"M 0.0 0.0 L 3.0 0.0 L 3.0 1.0 L 0.0 1.0 L 0.0 0.0 Z\" style=\"vector-effect: non-scaling-stroke;\" /></g><g /></g></g></g></g><g /><g /><g /><g transform=\"matrix(1.0, 0.0, 0.0, 1.0, 0.0, 1.05)\"><g transform=\"matrix(0.0, -1.0, 1.0, 0.0, 0.0, 0.0)\"><g /></g></g><g transform=\"matrix(1.0, 0.0, 0.0, 1.0, 0.0, 2.05)\"><g><g /><g style=\"fill: #bfbf00;stroke: #ffffff;stroke-width: 0.18;\" transform=\"matrix(1.0, 0.0, 0.0, 1.0, -1.5, -1.0)\"><path d=\"M 0.0 0.0 L 3.0 0.0 L 3.0 1.0 L 0.0 1.0 L 0.0 0.0 Z\" style=\"vector-effect: non-scaling-stroke;\" /></g><g /><g transform=\"matrix(1.0, 0.0, 0.0, 1.0, 0.0, 1.05)\"><g transform=\"matrix(0.0, -1.0, 1.0, 0.0, 0.0, 0.0)\"><g /></g></g><g transform=\"matrix(1.0, 0.0, 0.0, 1.0, 0.0, 2.05)\"><g><g /><g /><g /></g></g></g></g></g></g><g /></g></g></g></g></svg>"
      ],
      "text/html": [
       "<?xml version=\"1.0\" encoding=\"utf-8\" ?>\n",
       "<svg baseProfile=\"full\" height=\"400\" version=\"1.1\" width=\"233\" xmlns=\"http://www.w3.org/2000/svg\" xmlns:ev=\"http://www.w3.org/2001/xml-events\" xmlns:xlink=\"http://www.w3.org/1999/xlink\"><defs><marker id=\"arrow\" markerHeight=\"3.5\" markerWidth=\"5\" orient=\"auto\" refX=\"5.0\" refY=\"1.7\"><polygon points=\"0,0 5,1.75 0,3.5\" /></marker></defs><g style=\"fill:white;\"><g transform=\"matrix(1.0, 0.0, 0.0, 1.0, 116.50000000000001, 199.99166666666667)\"><g transform=\"matrix(73.96825396825396, 0.0, 0.0, 73.96825396825396, 0.0, 0.0)\"><g><g transform=\"matrix(1.0, 0.0, 0.0, 1.0, -0.0, -2.5749999999999997)\"><g><g style=\"stroke: black;stroke-width: 3.6;\" transform=\"matrix(1.0, 0.0, 0.0, 1.0, -0.75, 0.0)\"><path d=\"M 0.0 0.0 L 1.5 0.0 L 1.5 1.05 L 0.0 1.05 L 0.0 0.0 Z\" style=\"vector-effect: non-scaling-stroke;\" /></g><g style=\"stroke: black;stroke-width: 3.6;\" transform=\"matrix(1.0, 0.0, 0.0, 1.0, -1.5, 0.0)\"><path d=\"M 0.0 0.0 L 3.0 0.0 L 3.0 0.0 L 0.0 0.0 L 0.0 0.0 Z\" style=\"vector-effect: non-scaling-stroke;\" /></g><g transform=\"matrix(1.0, 0.0, 0.0, 1.0, 0.0, 1.05)\"><g transform=\"matrix(0.0, -1.0, 1.0, 0.0, 0.0, 0.0)\"><g /></g></g><g transform=\"matrix(1.0, 0.0, 0.0, 1.0, 0.0, 2.05)\"><g><g style=\"stroke: black;stroke-width: 3.6;\" transform=\"matrix(1.0, 0.0, 0.0, 1.0, -0.75, 0.0)\"><path d=\"M 0.0 0.0 L 1.5 0.0 L 1.5 1.05 L 0.0 1.05 L 0.0 0.0 Z\" style=\"vector-effect: non-scaling-stroke;\" /></g><g style=\"stroke: black;stroke-width: 3.6;\" transform=\"matrix(1.0, 0.0, 0.0, 1.0, -1.5, -1.0)\"><path d=\"M 0.0 0.0 L 3.0 0.0 L 3.0 1.0 L 0.0 1.0 L 0.0 0.0 Z\" style=\"vector-effect: non-scaling-stroke;\" /></g><g transform=\"matrix(1.0, 0.0, 0.0, 1.0, 0.0, 1.05)\"><g transform=\"matrix(0.0, -1.0, 1.0, 0.0, 0.0, 0.0)\"><g /></g></g><g transform=\"matrix(1.0, 0.0, 0.0, 1.0, 0.0, 2.05)\"><g><g style=\"stroke: black;stroke-width: 3.6;\" transform=\"matrix(1.0, 0.0, 0.0, 1.0, -0.75, 0.0)\"><path d=\"M 0.0 0.0 L 1.5 0.0 L 1.5 1.05 L 0.0 1.05 L 0.0 0.0 Z\" style=\"vector-effect: non-scaling-stroke;\" /></g><g style=\"stroke: black;stroke-width: 3.6;\" transform=\"matrix(1.0, 0.0, 0.0, 1.0, -1.5, -1.0)\"><path d=\"M 0.0 0.0 L 3.0 0.0 L 3.0 1.0 L 0.0 1.0 L 0.0 0.0 Z\" style=\"vector-effect: non-scaling-stroke;\" /></g></g></g></g></g><g /><g /><g /><g transform=\"matrix(1.0, 0.0, 0.0, 1.0, 0.0, 1.05)\"><g transform=\"matrix(0.0, -1.0, 1.0, 0.0, 0.0, 0.0)\"><g /></g></g><g transform=\"matrix(1.0, 0.0, 0.0, 1.0, 0.0, 2.05)\"><g><g /><g /><g /><g transform=\"matrix(1.0, 0.0, 0.0, 1.0, 0.0, 1.05)\"><g transform=\"matrix(0.0, -1.0, 1.0, 0.0, 0.0, 0.0)\"><g /></g></g><g transform=\"matrix(1.0, 0.0, 0.0, 1.0, 0.0, 2.05)\"><g><g /><g style=\"fill: #008000;stroke: #ffffff;stroke-width: 0.18;\" transform=\"matrix(1.0, 0.0, 0.0, 1.0, -1.5, -1.0)\"><path d=\"M 0.0 0.0 L 3.0 0.0 L 3.0 1.0 L 0.0 1.0 L 0.0 0.0 Z\" style=\"vector-effect: non-scaling-stroke;\" /></g><g /></g></g></g></g><g /><g /><g /><g transform=\"matrix(1.0, 0.0, 0.0, 1.0, 0.0, 1.05)\"><g transform=\"matrix(0.0, -1.0, 1.0, 0.0, 0.0, 0.0)\"><g /></g></g><g transform=\"matrix(1.0, 0.0, 0.0, 1.0, 0.0, 2.05)\"><g><g /><g style=\"fill: #bfbf00;stroke: #ffffff;stroke-width: 0.18;\" transform=\"matrix(1.0, 0.0, 0.0, 1.0, -1.5, -1.0)\"><path d=\"M 0.0 0.0 L 3.0 0.0 L 3.0 1.0 L 0.0 1.0 L 0.0 0.0 Z\" style=\"vector-effect: non-scaling-stroke;\" /></g><g /><g transform=\"matrix(1.0, 0.0, 0.0, 1.0, 0.0, 1.05)\"><g transform=\"matrix(0.0, -1.0, 1.0, 0.0, 0.0, 0.0)\"><g /></g></g><g transform=\"matrix(1.0, 0.0, 0.0, 1.0, 0.0, 2.05)\"><g><g /><g /><g /></g></g></g></g></g></g><g /></g></g></g></g></svg>"
      ],
      "text/plain": [
       "Compose(envelope=<chalk.envelope.Envelope object at 0x113b9ce50>, diagrams=[Primitive(shape=Path(loc_trails=[Located(trail=Trail(segments=[Segment(offset=Vec2(1.5, 0.0), origin=Vec2(0.0, 0.0)), Segment(offset=Vec2(0.0, 1.05), origin=Vec2(0.0, 0.0)), Segment(offset=Vec2(-1.5, 0.0), origin=Vec2(0.0, 0.0)), Segment(offset=Vec2(0.0, -1.05), origin=Vec2(0.0, 0.0))], closed=True), location=Vec2(0.0, 0.0))]), style=Style(line_width_=(<WidthType.NORMALIZED: 2>, 0.2), line_color_=None, fill_color_=None, fill_opacity_=None, dashing_=None, output_size=None), transform=Affine(1.0, 0.0, -0.75,\n",
       "       0.0, 1.0, 0.0)), Primitive(shape=Path(loc_trails=[Located(trail=Trail(segments=[Segment(offset=Vec2(3.0, 0.0), origin=Vec2(0.0, 0.0)), Segment(offset=Vec2(0.0, 0.0), origin=Vec2(0.0, 0.0)), Segment(offset=Vec2(-3.0, 0.0), origin=Vec2(0.0, 0.0)), Segment(offset=Vec2(0.0, 0.0), origin=Vec2(0.0, 0.0))], closed=True), location=Vec2(0.0, 0.0))]), style=Style(line_width_=(<WidthType.NORMALIZED: 2>, 0.2), line_color_=None, fill_color_=None, fill_opacity_=None, dashing_=None, output_size=None), transform=Affine(1.0, 0.0, -1.5,\n",
       "       0.0, 1.0, 0.0)), ApplyTransform(transform=Affine(1.0, 0.0, 0.0,\n",
       "       0.0, 1.0, 1.05), diagram=ApplyTransform(transform=Affine(0.0, 1.0, 0.0,\n",
       "       -1.0, 0.0, 0.0), diagram=Empty())), ApplyTransform(transform=Affine(1.0, 0.0, 0.0,\n",
       "       0.0, 1.0, 2.05), diagram=Compose(envelope=<chalk.envelope.Envelope object at 0x113bc28b0>, diagrams=[Primitive(shape=Path(loc_trails=[Located(trail=Trail(segments=[Segment(offset=Vec2(1.5, 0.0), origin=Vec2(0.0, 0.0)), Segment(offset=Vec2(0.0, 1.05), origin=Vec2(0.0, 0.0)), Segment(offset=Vec2(-1.5, 0.0), origin=Vec2(0.0, 0.0)), Segment(offset=Vec2(0.0, -1.05), origin=Vec2(0.0, 0.0))], closed=True), location=Vec2(0.0, 0.0))]), style=Style(line_width_=(<WidthType.NORMALIZED: 2>, 0.2), line_color_=None, fill_color_=None, fill_opacity_=None, dashing_=None, output_size=None), transform=Affine(1.0, 0.0, -0.75,\n",
       "       0.0, 1.0, 0.0)), Primitive(shape=Path(loc_trails=[Located(trail=Trail(segments=[Segment(offset=Vec2(3.0, 0.0), origin=Vec2(0.0, 0.0)), Segment(offset=Vec2(0.0, 1.0), origin=Vec2(0.0, 0.0)), Segment(offset=Vec2(-3.0, 0.0), origin=Vec2(0.0, 0.0)), Segment(offset=Vec2(0.0, -1.0), origin=Vec2(0.0, 0.0))], closed=True), location=Vec2(0.0, 0.0))]), style=Style(line_width_=(<WidthType.NORMALIZED: 2>, 0.2), line_color_=None, fill_color_=None, fill_opacity_=None, dashing_=None, output_size=None), transform=Affine(1.0, 0.0, -1.5,\n",
       "       0.0, 1.0, -1.0)), ApplyTransform(transform=Affine(1.0, 0.0, 0.0,\n",
       "       0.0, 1.0, 1.05), diagram=ApplyTransform(transform=Affine(0.0, 1.0, 0.0,\n",
       "       -1.0, 0.0, 0.0), diagram=Empty())), ApplyTransform(transform=Affine(1.0, 0.0, 0.0,\n",
       "       0.0, 1.0, 2.05), diagram=Compose(envelope=<chalk.envelope.Envelope object at 0x113bd93a0>, diagrams=[Primitive(shape=Path(loc_trails=[Located(trail=Trail(segments=[Segment(offset=Vec2(1.5, 0.0), origin=Vec2(0.0, 0.0)), Segment(offset=Vec2(0.0, 1.05), origin=Vec2(0.0, 0.0)), Segment(offset=Vec2(-1.5, 0.0), origin=Vec2(0.0, 0.0)), Segment(offset=Vec2(0.0, -1.05), origin=Vec2(0.0, 0.0))], closed=True), location=Vec2(0.0, 0.0))]), style=Style(line_width_=(<WidthType.NORMALIZED: 2>, 0.2), line_color_=None, fill_color_=None, fill_opacity_=None, dashing_=None, output_size=None), transform=Affine(1.0, 0.0, -0.75,\n",
       "       0.0, 1.0, 0.0)), Primitive(shape=Path(loc_trails=[Located(trail=Trail(segments=[Segment(offset=Vec2(3.0, 0.0), origin=Vec2(0.0, 0.0)), Segment(offset=Vec2(0.0, 1.0), origin=Vec2(0.0, 0.0)), Segment(offset=Vec2(-3.0, 0.0), origin=Vec2(0.0, 0.0)), Segment(offset=Vec2(0.0, -1.0), origin=Vec2(0.0, 0.0))], closed=True), location=Vec2(0.0, 0.0))]), style=Style(line_width_=(<WidthType.NORMALIZED: 2>, 0.2), line_color_=None, fill_color_=None, fill_opacity_=None, dashing_=None, output_size=None), transform=Affine(1.0, 0.0, -1.5,\n",
       "       0.0, 1.0, -1.0))]))])), Empty(), Empty(), Empty(), ApplyTransform(transform=Affine(1.0, 0.0, 0.0,\n",
       "       0.0, 1.0, 1.05), diagram=ApplyTransform(transform=Affine(0.0, 1.0, 0.0,\n",
       "       -1.0, 0.0, 0.0), diagram=Empty())), ApplyTransform(transform=Affine(1.0, 0.0, 0.0,\n",
       "       0.0, 1.0, 2.05), diagram=Compose(envelope=<chalk.envelope.Envelope object at 0x113ba2730>, diagrams=[Empty(), Empty(), Empty(), ApplyTransform(transform=Affine(1.0, 0.0, 0.0,\n",
       "       0.0, 1.0, 1.05), diagram=ApplyTransform(transform=Affine(0.0, 1.0, 0.0,\n",
       "       -1.0, 0.0, 0.0), diagram=Empty())), ApplyTransform(transform=Affine(1.0, 0.0, 0.0,\n",
       "       0.0, 1.0, 2.05), diagram=Compose(envelope=<chalk.envelope.Envelope object at 0x113c01e50>, diagrams=[Empty(), Primitive(shape=Path(loc_trails=[Located(trail=Trail(segments=[Segment(offset=Vec2(3.0, 0.0), origin=Vec2(0.0, 0.0)), Segment(offset=Vec2(0.0, 1.0), origin=Vec2(0.0, 0.0)), Segment(offset=Vec2(-3.0, 0.0), origin=Vec2(0.0, 0.0)), Segment(offset=Vec2(0.0, -1.0), origin=Vec2(0.0, 0.0))], closed=True), location=Vec2(0.0, 0.0))]), style=Style(line_width_=(<WidthType.NORMALIZED: 2>, 0.01), line_color_=<Color white>, fill_color_=<Color green>, fill_opacity_=None, dashing_=None, output_size=None), transform=Affine(1.0, 0.0, -1.5,\n",
       "       0.0, 1.0, -1.0)), Empty()]))])), Empty(), Empty(), Empty(), ApplyTransform(transform=Affine(1.0, 0.0, 0.0,\n",
       "       0.0, 1.0, 1.05), diagram=ApplyTransform(transform=Affine(0.0, 1.0, 0.0,\n",
       "       -1.0, 0.0, 0.0), diagram=Empty())), ApplyTransform(transform=Affine(1.0, 0.0, 0.0,\n",
       "       0.0, 1.0, 2.05), diagram=Compose(envelope=<chalk.envelope.Envelope object at 0x113c15e80>, diagrams=[Empty(), Primitive(shape=Path(loc_trails=[Located(trail=Trail(segments=[Segment(offset=Vec2(3.0, 0.0), origin=Vec2(0.0, 0.0)), Segment(offset=Vec2(0.0, 1.0), origin=Vec2(0.0, 0.0)), Segment(offset=Vec2(-3.0, 0.0), origin=Vec2(0.0, 0.0)), Segment(offset=Vec2(0.0, -1.0), origin=Vec2(0.0, 0.0))], closed=True), location=Vec2(0.0, 0.0))]), style=Style(line_width_=(<WidthType.NORMALIZED: 2>, 0.01), line_color_=<Color white>, fill_color_=<Color #bfbf00>, fill_opacity_=None, dashing_=None, output_size=None), transform=Affine(1.0, 0.0, -1.5,\n",
       "       0.0, 1.0, -1.0)), Empty(), ApplyTransform(transform=Affine(1.0, 0.0, 0.0,\n",
       "       0.0, 1.0, 1.05), diagram=ApplyTransform(transform=Affine(0.0, 1.0, 0.0,\n",
       "       -1.0, 0.0, 0.0), diagram=Empty())), ApplyTransform(transform=Affine(1.0, 0.0, 0.0,\n",
       "       0.0, 1.0, 2.05), diagram=Compose(envelope=<chalk.envelope.Envelope object at 0x113c152b0>, diagrams=[Empty(), Empty(), Empty()]))]))])"
      ]
     },
     "execution_count": 83,
     "metadata": {},
     "output_type": "execute_result"
    }
   ],
   "source": [
    "# We can complete the tests by setting these as the final weights and calling check.\n",
    "model.set_final_weight(0, weights[0])\n",
    "model.set_final_weight(1, weights[1])\n",
    "Model.check([model])\n",
    "draw_group(model.final_weights)"
   ]
  },
  {
   "cell_type": "code",
   "execution_count": 84,
   "id": "7b2f0a3b",
   "metadata": {},
   "outputs": [
    {
     "name": "stdout",
     "output_type": "stream",
     "text": [
      "Timesteps: 8.5 \n",
      "Maximum Memory: 3407872.0 at GPU: 0 time: 8\n"
     ]
    },
    {
     "data": {
      "image/svg+xml": [
       "<?xml version=\"1.0\" encoding=\"utf-8\" ?>\n",
       "<svg baseProfile=\"full\" height=\"400\" version=\"1.1\" width=\"550\" xmlns=\"http://www.w3.org/2000/svg\" xmlns:ev=\"http://www.w3.org/2001/xml-events\" xmlns:xlink=\"http://www.w3.org/1999/xlink\"><defs><marker id=\"arrow\" markerHeight=\"3.5\" markerWidth=\"5\" orient=\"auto\" refX=\"5.0\" refY=\"1.7\"><polygon points=\"0,0 5,1.75 0,3.5\" /></marker></defs><g style=\"fill:white;\"><g transform=\"matrix(1.0, 0.0, 0.0, 1.0, 275.0, 200.0)\"><g transform=\"matrix(47.61904761904762, 0.0, 0.0, 47.61904761904762, 0.0, 0.0)\"><g><g transform=\"matrix(1.0, 0.0, 0.0, 1.0, -0.0, -0.0)\"><g><g style=\"stroke: black;stroke-width: 0.0;\" transform=\"matrix(1.0, 0.0, 0.0, 1.0, -0.75, -4.0)\"><path d=\"M 0.0 0.0 L 1.5 0.0 L 1.5 8.0 L 0.0 8.0 L 0.0 0.0 Z\" style=\"vector-effect: non-scaling-stroke;\" /></g><g transform=\"matrix(1.0, 0.0, 0.0, 1.0, -4.0, -0.25)\"><g transform=\"matrix(0.5, 0.0, 0.0, 0.5, 0.0, 0.0)\"><g><g /><g style=\"fill: #d3d3d3;stroke: black;stroke-width: 1.8;\" transform=\"matrix(1.0, 0.0, 0.0, 1.0, 0.0, -0.5)\"><path d=\"M 0.0 0.0 L 19.0 0.0 L 19.0 1.0 L 0.0 1.0 L 0.0 0.0 Z\" style=\"vector-effect: non-scaling-stroke;\" /></g><g transform=\"matrix(1.0, 0.0, 0.0, 1.0, -2.0, 0.0)\"><g><g style=\"fill: #ffa500;stroke: black;stroke-width: 0.0;\" transform=\"matrix(1.0, 0.0, 0.0, 1.0, 0.0, 0.0)\"><text style=\"text-align:center; text-anchor:middle; dominant-baseline:middle;&#10;                      font-family:sans-serif; font-weight: bold;&#10;                      font-size:1px;&#10;                      vector-effect: non-scaling-stroke;\" transform=\"translate(-5e-05, 0)\">0</text></g><g /></g></g><g transform=\"matrix(1.0, 0.0, 0.0, 1.0, 0.0, 0.0)\"><g transform=\"matrix(1.0, 0.0, 0.0, 1.0, 1.975, 0.0)\"><g><g style=\"fill: #008000;stroke: black;stroke-width: 0.0;\" transform=\"matrix(1.0, 0.0, 0.0, 1.0, -1.975, -0.45)\"><path d=\"M 0.0 0.0 L 3.95 0.0 L 3.95 0.9 L 0.0 0.9 L 0.0 0.0 Z\" style=\"vector-effect: non-scaling-stroke;\" /></g><g style=\"fill: #008000;stroke: black;stroke-width: 0.9;\" transform=\"matrix(1.0, 0.0, 0.0, 1.0, 0.0, 0.1)\"><text style=\"text-align:center; text-anchor:middle; dominant-baseline:middle;&#10;                      font-family:sans-serif; font-weight: bold;&#10;                      font-size:0.9px;&#10;                      vector-effect: non-scaling-stroke;\" transform=\"translate(-5e-05, 0)\">2 3</text></g></g></g></g><g transform=\"matrix(1.0, 0.0, 0.0, 1.0, 4.0, 0.0)\"><g transform=\"matrix(1.0, 0.0, 0.0, 1.0, 1.975, 0.0)\"><g><g style=\"fill: #bfbf00;stroke: black;stroke-width: 0.0;\" transform=\"matrix(1.0, 0.0, 0.0, 1.0, -1.975, -0.45)\"><path d=\"M 0.0 0.0 L 3.95 0.0 L 3.95 0.9 L 0.0 0.9 L 0.0 0.0 Z\" style=\"vector-effect: non-scaling-stroke;\" /></g><g style=\"fill: #bfbf00;stroke: black;stroke-width: 0.9;\" transform=\"matrix(1.0, 0.0, 0.0, 1.0, 0.0, 0.1)\"><text style=\"text-align:center; text-anchor:middle; dominant-baseline:middle;&#10;                      font-family:sans-serif; font-weight: bold;&#10;                      font-size:0.9px;&#10;                      vector-effect: non-scaling-stroke;\" transform=\"translate(-5e-05, 0)\">2 3</text></g></g></g></g><g transform=\"matrix(1.0, 0.0, 0.0, 1.0, 8.0, 0.0)\"><g transform=\"matrix(1.0, 0.0, 0.0, 1.0, 1.975, 0.0)\"><g><g style=\"fill: #bfbf00;stroke: black;stroke-width: 0.0;fill-opacity: 0.2;\" transform=\"matrix(1.0, 0.0, 0.0, 1.0, -1.975, -0.45)\"><path d=\"M 0.0 0.0 L 3.95 0.0 L 3.95 0.9 L 0.0 0.9 L 0.0 0.0 Z\" style=\"vector-effect: non-scaling-stroke;\" /></g><g style=\"fill: #bfbf00;stroke: black;stroke-width: 0.9;fill-opacity: 0.2;\" transform=\"matrix(1.0, 0.0, 0.0, 1.0, 0.0, 0.1)\"><text style=\"text-align:center; text-anchor:middle; dominant-baseline:middle;&#10;                      font-family:sans-serif; font-weight: bold;&#10;                      font-size:0.9px;&#10;                      vector-effect: non-scaling-stroke;\" transform=\"translate(-5e-05, 0)\">2 3</text></g></g></g></g><g transform=\"matrix(1.0, 0.0, 0.0, 1.0, 12.0, 0.0)\"><g transform=\"matrix(1.0, 0.0, 0.0, 1.0, 1.975, 0.0)\"><g><g style=\"fill: #008000;stroke: black;stroke-width: 0.0;fill-opacity: 0.2;\" transform=\"matrix(1.0, 0.0, 0.0, 1.0, -1.975, -0.45)\"><path d=\"M 0.0 0.0 L 3.95 0.0 L 3.95 0.9 L 0.0 0.9 L 0.0 0.0 Z\" style=\"vector-effect: non-scaling-stroke;\" /></g><g style=\"fill: #008000;stroke: black;stroke-width: 0.9;fill-opacity: 0.2;\" transform=\"matrix(1.0, 0.0, 0.0, 1.0, 0.0, 0.1)\"><text style=\"text-align:center; text-anchor:middle; dominant-baseline:middle;&#10;                      font-family:sans-serif; font-weight: bold;&#10;                      font-size:0.9px;&#10;                      vector-effect: non-scaling-stroke;\" transform=\"translate(-5e-05, 0)\">2 3</text></g></g></g></g><g transform=\"matrix(1.0, 0.0, 0.0, 1.0, 16.0, 0.0)\"><g transform=\"matrix(1.0, 0.0, 0.0, 1.0, 0.475, 0.0)\"><g><g style=\"fill: #ffff00;stroke: black;stroke-width: 0.0;fill-opacity: 0.5;\" transform=\"matrix(1.0, 0.0, 0.0, 1.0, -0.475, -0.45)\"><path d=\"M 0.0 0.0 L 0.95 0.0 L 0.95 0.9 L 0.0 0.9 L 0.0 0.0 Z\" style=\"vector-effect: non-scaling-stroke;\" /></g><g style=\"fill: #ffff00;stroke: black;stroke-width: 0.9;fill-opacity: 0.5;\" transform=\"matrix(1.0, 0.0, 0.0, 1.0, 0.0, 0.1)\"><text style=\"text-align:center; text-anchor:middle; dominant-baseline:middle;&#10;                      font-family:sans-serif; font-weight: bold;&#10;                      font-size:0.9px;&#10;                      vector-effect: non-scaling-stroke;\" transform=\"translate(-5e-05, 0)\" /></g></g></g></g><g transform=\"matrix(1.0, 0.0, 0.0, 1.0, 17.0, 0.0)\"><g transform=\"matrix(1.0, 0.0, 0.0, 1.0, 0.475, 0.0)\"><g><g style=\"fill: #ffff00;stroke: black;stroke-width: 0.0;fill-opacity: 0.5;\" transform=\"matrix(1.0, 0.0, 0.0, 1.0, -0.475, -0.45)\"><path d=\"M 0.0 0.0 L 0.95 0.0 L 0.95 0.9 L 0.0 0.9 L 0.0 0.0 Z\" style=\"vector-effect: non-scaling-stroke;\" /></g><g style=\"fill: #ffff00;stroke: black;stroke-width: 0.9;fill-opacity: 0.5;\" transform=\"matrix(1.0, 0.0, 0.0, 1.0, 0.0, 0.1)\"><text style=\"text-align:center; text-anchor:middle; dominant-baseline:middle;&#10;                      font-family:sans-serif; font-weight: bold;&#10;                      font-size:0.9px;&#10;                      vector-effect: non-scaling-stroke;\" transform=\"translate(-5e-05, 0)\" /></g></g></g></g><g transform=\"matrix(1.0, 0.0, 0.0, 1.0, 0.0, 0.5)\"><g transform=\"matrix(0.0, -1.0, 1.0, 0.0, 0.0, 0.0)\"><g /></g></g><g transform=\"matrix(1.0, 0.0, 0.0, 1.0, 0.0, 0.5)\"><g /></g><g transform=\"matrix(1.0, 0.0, 0.0, 1.0, 0.0, 0.5)\"><g transform=\"matrix(0.0, -1.0, 1.0, 0.0, 0.0, 0.0)\"><g /></g></g><g transform=\"matrix(1.0, 0.0, 0.0, 1.0, 0.0, 1.5)\"><g><g transform=\"matrix(1.0, 0.0, 0.0, 1.0, -0.0, -0.0)\"><g><g transform=\"matrix(1.0, 0.0, 0.0, 1.0, -0.0, -0.0)\"><g><g transform=\"matrix(1.0, 0.0, 0.0, 1.0, -0.0, -0.0)\"><g><g transform=\"matrix(1.0, 0.0, 0.0, 1.0, -0.0, -0.0)\"><g><g transform=\"matrix(1.0, 0.0, 0.0, 1.0, -0.0, -0.0)\"><g><g transform=\"matrix(1.0, 0.0, 0.0, 1.0, -0.0, -0.0)\"><g><g transform=\"matrix(1.0, 0.0, 0.0, 1.0, -0.0, -0.5)\"><g><g style=\"fill: #ffffff;stroke: black;stroke-width: 1.8;\" transform=\"matrix(1.0, 0.0, 0.0, 1.0, 0.0, -0.5)\"><path d=\"M 0.0 0.0 L 19.0 0.0 L 19.0 1.0 L 0.0 1.0 L 0.0 0.0 Z\" style=\"vector-effect: non-scaling-stroke;\" /></g><g transform=\"matrix(1.0, 0.0, 0.0, 1.0, -2.0, 0.0)\"><g><g style=\"fill: #808080;stroke: black;stroke-width: 0.0;\" transform=\"matrix(1.0, 0.0, 0.0, 1.0, 0.0, 0.0)\"><text style=\"text-align:center; text-anchor:middle; dominant-baseline:middle;&#10;                      font-family:sans-serif; font-weight: bold;&#10;                      font-size:1px;&#10;                      vector-effect: non-scaling-stroke;\" transform=\"translate(-5e-05, 0)\">0</text></g><g /></g></g></g></g><g style=\"fill: #808080;stroke: black;stroke-width: 0.0;\" transform=\"matrix(1.0, 0.0, 0.0, 1.0, 0.0, -0.2564102564102564)\"><path d=\"M 0.0 0.0 L 4.0 0.0 L 4.0 0.2564102564102564 L 0.0 0.2564102564102564 L 0.0 0.0 Z\" style=\"vector-effect: non-scaling-stroke;\" /></g></g></g><g style=\"fill: #808080;stroke: black;stroke-width: 0.0;\" transform=\"matrix(1.0, 0.0, 0.0, 1.0, 4.0, -0.3076923076923077)\"><path d=\"M 0.0 0.0 L 4.0 0.0 L 4.0 0.3076923076923077 L 0.0 0.3076923076923077 L 0.0 0.0 Z\" style=\"vector-effect: non-scaling-stroke;\" /></g></g></g><g style=\"fill: #808080;stroke: black;stroke-width: 0.0;\" transform=\"matrix(1.0, 0.0, 0.0, 1.0, 8.0, -0.358974358974359)\"><path d=\"M 0.0 0.0 L 0.0 0.0 L 0.0 0.358974358974359 L 0.0 0.358974358974359 L 0.0 0.0 Z\" style=\"vector-effect: non-scaling-stroke;\" /></g></g></g><g style=\"fill: #808080;stroke: black;stroke-width: 0.0;\" transform=\"matrix(1.0, 0.0, 0.0, 1.0, 8.0, -0.41025641025641024)\"><path d=\"M 0.0 0.0 L 4.0 0.0 L 4.0 0.41025641025641024 L 0.0 0.41025641025641024 L 0.0 0.0 Z\" style=\"vector-effect: non-scaling-stroke;\" /></g></g></g><g style=\"fill: #808080;stroke: black;stroke-width: 0.0;\" transform=\"matrix(1.0, 0.0, 0.0, 1.0, 12.0, -0.5128205128205128)\"><path d=\"M 0.0 0.0 L 4.0 0.0 L 4.0 0.5128205128205128 L 0.0 0.5128205128205128 L 0.0 0.0 Z\" style=\"vector-effect: non-scaling-stroke;\" /></g></g></g><g style=\"fill: #808080;stroke: black;stroke-width: 0.0;\" transform=\"matrix(1.0, 0.0, 0.0, 1.0, 16.0, -0.6666666666666666)\"><path d=\"M 0.0 0.0 L 1.0 0.0 L 1.0 0.6666666666666666 L 0.0 0.6666666666666666 L 0.0 0.0 Z\" style=\"vector-effect: non-scaling-stroke;\" /></g></g></g><g style=\"fill: #808080;stroke: black;stroke-width: 0.0;\" transform=\"matrix(1.0, 0.0, 0.0, 1.0, 17.0, -0.6666666666666666)\"><path d=\"M 0.0 0.0 L 1.0 0.0 L 1.0 0.6666666666666666 L 0.0 0.6666666666666666 L 0.0 0.0 Z\" style=\"vector-effect: non-scaling-stroke;\" /></g><g style=\"stroke: #ff0000;stroke-width: 1.8;\" transform=\"matrix(1.0, 0.0, 0.0, 1.0, 15.95, -1.0)\"><path d=\"M 0.0 0.0 L 0.1 0.0 L 0.1 1.0 L 0.0 1.0 L 0.0 0.0 Z\" style=\"vector-effect: non-scaling-stroke;\" /></g><g transform=\"matrix(1.0, 0.0, 0.0, 1.0, 0.0, 0.0)\"><g transform=\"matrix(0.0, -1.0, 1.0, 0.0, 0.0, 0.0)\"><g /></g></g><g transform=\"matrix(1.0, 0.0, 0.0, 1.0, 0.0, 0.0)\"><g /></g></g></g></g></g></g></g></g><g /></g></g></g></g></svg>"
      ],
      "text/html": [
       "<?xml version=\"1.0\" encoding=\"utf-8\" ?>\n",
       "<svg baseProfile=\"full\" height=\"400\" version=\"1.1\" width=\"550\" xmlns=\"http://www.w3.org/2000/svg\" xmlns:ev=\"http://www.w3.org/2001/xml-events\" xmlns:xlink=\"http://www.w3.org/1999/xlink\"><defs><marker id=\"arrow\" markerHeight=\"3.5\" markerWidth=\"5\" orient=\"auto\" refX=\"5.0\" refY=\"1.7\"><polygon points=\"0,0 5,1.75 0,3.5\" /></marker></defs><g style=\"fill:white;\"><g transform=\"matrix(1.0, 0.0, 0.0, 1.0, 275.0, 200.0)\"><g transform=\"matrix(47.61904761904762, 0.0, 0.0, 47.61904761904762, 0.0, 0.0)\"><g><g transform=\"matrix(1.0, 0.0, 0.0, 1.0, -0.0, -0.0)\"><g><g style=\"stroke: black;stroke-width: 0.0;\" transform=\"matrix(1.0, 0.0, 0.0, 1.0, -0.75, -4.0)\"><path d=\"M 0.0 0.0 L 1.5 0.0 L 1.5 8.0 L 0.0 8.0 L 0.0 0.0 Z\" style=\"vector-effect: non-scaling-stroke;\" /></g><g transform=\"matrix(1.0, 0.0, 0.0, 1.0, -4.0, -0.25)\"><g transform=\"matrix(0.5, 0.0, 0.0, 0.5, 0.0, 0.0)\"><g><g /><g style=\"fill: #d3d3d3;stroke: black;stroke-width: 1.8;\" transform=\"matrix(1.0, 0.0, 0.0, 1.0, 0.0, -0.5)\"><path d=\"M 0.0 0.0 L 19.0 0.0 L 19.0 1.0 L 0.0 1.0 L 0.0 0.0 Z\" style=\"vector-effect: non-scaling-stroke;\" /></g><g transform=\"matrix(1.0, 0.0, 0.0, 1.0, -2.0, 0.0)\"><g><g style=\"fill: #ffa500;stroke: black;stroke-width: 0.0;\" transform=\"matrix(1.0, 0.0, 0.0, 1.0, 0.0, 0.0)\"><text style=\"text-align:center; text-anchor:middle; dominant-baseline:middle;&#10;                      font-family:sans-serif; font-weight: bold;&#10;                      font-size:1px;&#10;                      vector-effect: non-scaling-stroke;\" transform=\"translate(-5e-05, 0)\">0</text></g><g /></g></g><g transform=\"matrix(1.0, 0.0, 0.0, 1.0, 0.0, 0.0)\"><g transform=\"matrix(1.0, 0.0, 0.0, 1.0, 1.975, 0.0)\"><g><g style=\"fill: #008000;stroke: black;stroke-width: 0.0;\" transform=\"matrix(1.0, 0.0, 0.0, 1.0, -1.975, -0.45)\"><path d=\"M 0.0 0.0 L 3.95 0.0 L 3.95 0.9 L 0.0 0.9 L 0.0 0.0 Z\" style=\"vector-effect: non-scaling-stroke;\" /></g><g style=\"fill: #008000;stroke: black;stroke-width: 0.9;\" transform=\"matrix(1.0, 0.0, 0.0, 1.0, 0.0, 0.1)\"><text style=\"text-align:center; text-anchor:middle; dominant-baseline:middle;&#10;                      font-family:sans-serif; font-weight: bold;&#10;                      font-size:0.9px;&#10;                      vector-effect: non-scaling-stroke;\" transform=\"translate(-5e-05, 0)\">2 3</text></g></g></g></g><g transform=\"matrix(1.0, 0.0, 0.0, 1.0, 4.0, 0.0)\"><g transform=\"matrix(1.0, 0.0, 0.0, 1.0, 1.975, 0.0)\"><g><g style=\"fill: #bfbf00;stroke: black;stroke-width: 0.0;\" transform=\"matrix(1.0, 0.0, 0.0, 1.0, -1.975, -0.45)\"><path d=\"M 0.0 0.0 L 3.95 0.0 L 3.95 0.9 L 0.0 0.9 L 0.0 0.0 Z\" style=\"vector-effect: non-scaling-stroke;\" /></g><g style=\"fill: #bfbf00;stroke: black;stroke-width: 0.9;\" transform=\"matrix(1.0, 0.0, 0.0, 1.0, 0.0, 0.1)\"><text style=\"text-align:center; text-anchor:middle; dominant-baseline:middle;&#10;                      font-family:sans-serif; font-weight: bold;&#10;                      font-size:0.9px;&#10;                      vector-effect: non-scaling-stroke;\" transform=\"translate(-5e-05, 0)\">2 3</text></g></g></g></g><g transform=\"matrix(1.0, 0.0, 0.0, 1.0, 8.0, 0.0)\"><g transform=\"matrix(1.0, 0.0, 0.0, 1.0, 1.975, 0.0)\"><g><g style=\"fill: #bfbf00;stroke: black;stroke-width: 0.0;fill-opacity: 0.2;\" transform=\"matrix(1.0, 0.0, 0.0, 1.0, -1.975, -0.45)\"><path d=\"M 0.0 0.0 L 3.95 0.0 L 3.95 0.9 L 0.0 0.9 L 0.0 0.0 Z\" style=\"vector-effect: non-scaling-stroke;\" /></g><g style=\"fill: #bfbf00;stroke: black;stroke-width: 0.9;fill-opacity: 0.2;\" transform=\"matrix(1.0, 0.0, 0.0, 1.0, 0.0, 0.1)\"><text style=\"text-align:center; text-anchor:middle; dominant-baseline:middle;&#10;                      font-family:sans-serif; font-weight: bold;&#10;                      font-size:0.9px;&#10;                      vector-effect: non-scaling-stroke;\" transform=\"translate(-5e-05, 0)\">2 3</text></g></g></g></g><g transform=\"matrix(1.0, 0.0, 0.0, 1.0, 12.0, 0.0)\"><g transform=\"matrix(1.0, 0.0, 0.0, 1.0, 1.975, 0.0)\"><g><g style=\"fill: #008000;stroke: black;stroke-width: 0.0;fill-opacity: 0.2;\" transform=\"matrix(1.0, 0.0, 0.0, 1.0, -1.975, -0.45)\"><path d=\"M 0.0 0.0 L 3.95 0.0 L 3.95 0.9 L 0.0 0.9 L 0.0 0.0 Z\" style=\"vector-effect: non-scaling-stroke;\" /></g><g style=\"fill: #008000;stroke: black;stroke-width: 0.9;fill-opacity: 0.2;\" transform=\"matrix(1.0, 0.0, 0.0, 1.0, 0.0, 0.1)\"><text style=\"text-align:center; text-anchor:middle; dominant-baseline:middle;&#10;                      font-family:sans-serif; font-weight: bold;&#10;                      font-size:0.9px;&#10;                      vector-effect: non-scaling-stroke;\" transform=\"translate(-5e-05, 0)\">2 3</text></g></g></g></g><g transform=\"matrix(1.0, 0.0, 0.0, 1.0, 16.0, 0.0)\"><g transform=\"matrix(1.0, 0.0, 0.0, 1.0, 0.475, 0.0)\"><g><g style=\"fill: #ffff00;stroke: black;stroke-width: 0.0;fill-opacity: 0.5;\" transform=\"matrix(1.0, 0.0, 0.0, 1.0, -0.475, -0.45)\"><path d=\"M 0.0 0.0 L 0.95 0.0 L 0.95 0.9 L 0.0 0.9 L 0.0 0.0 Z\" style=\"vector-effect: non-scaling-stroke;\" /></g><g style=\"fill: #ffff00;stroke: black;stroke-width: 0.9;fill-opacity: 0.5;\" transform=\"matrix(1.0, 0.0, 0.0, 1.0, 0.0, 0.1)\"><text style=\"text-align:center; text-anchor:middle; dominant-baseline:middle;&#10;                      font-family:sans-serif; font-weight: bold;&#10;                      font-size:0.9px;&#10;                      vector-effect: non-scaling-stroke;\" transform=\"translate(-5e-05, 0)\" /></g></g></g></g><g transform=\"matrix(1.0, 0.0, 0.0, 1.0, 17.0, 0.0)\"><g transform=\"matrix(1.0, 0.0, 0.0, 1.0, 0.475, 0.0)\"><g><g style=\"fill: #ffff00;stroke: black;stroke-width: 0.0;fill-opacity: 0.5;\" transform=\"matrix(1.0, 0.0, 0.0, 1.0, -0.475, -0.45)\"><path d=\"M 0.0 0.0 L 0.95 0.0 L 0.95 0.9 L 0.0 0.9 L 0.0 0.0 Z\" style=\"vector-effect: non-scaling-stroke;\" /></g><g style=\"fill: #ffff00;stroke: black;stroke-width: 0.9;fill-opacity: 0.5;\" transform=\"matrix(1.0, 0.0, 0.0, 1.0, 0.0, 0.1)\"><text style=\"text-align:center; text-anchor:middle; dominant-baseline:middle;&#10;                      font-family:sans-serif; font-weight: bold;&#10;                      font-size:0.9px;&#10;                      vector-effect: non-scaling-stroke;\" transform=\"translate(-5e-05, 0)\" /></g></g></g></g><g transform=\"matrix(1.0, 0.0, 0.0, 1.0, 0.0, 0.5)\"><g transform=\"matrix(0.0, -1.0, 1.0, 0.0, 0.0, 0.0)\"><g /></g></g><g transform=\"matrix(1.0, 0.0, 0.0, 1.0, 0.0, 0.5)\"><g /></g><g transform=\"matrix(1.0, 0.0, 0.0, 1.0, 0.0, 0.5)\"><g transform=\"matrix(0.0, -1.0, 1.0, 0.0, 0.0, 0.0)\"><g /></g></g><g transform=\"matrix(1.0, 0.0, 0.0, 1.0, 0.0, 1.5)\"><g><g transform=\"matrix(1.0, 0.0, 0.0, 1.0, -0.0, -0.0)\"><g><g transform=\"matrix(1.0, 0.0, 0.0, 1.0, -0.0, -0.0)\"><g><g transform=\"matrix(1.0, 0.0, 0.0, 1.0, -0.0, -0.0)\"><g><g transform=\"matrix(1.0, 0.0, 0.0, 1.0, -0.0, -0.0)\"><g><g transform=\"matrix(1.0, 0.0, 0.0, 1.0, -0.0, -0.0)\"><g><g transform=\"matrix(1.0, 0.0, 0.0, 1.0, -0.0, -0.0)\"><g><g transform=\"matrix(1.0, 0.0, 0.0, 1.0, -0.0, -0.5)\"><g><g style=\"fill: #ffffff;stroke: black;stroke-width: 1.8;\" transform=\"matrix(1.0, 0.0, 0.0, 1.0, 0.0, -0.5)\"><path d=\"M 0.0 0.0 L 19.0 0.0 L 19.0 1.0 L 0.0 1.0 L 0.0 0.0 Z\" style=\"vector-effect: non-scaling-stroke;\" /></g><g transform=\"matrix(1.0, 0.0, 0.0, 1.0, -2.0, 0.0)\"><g><g style=\"fill: #808080;stroke: black;stroke-width: 0.0;\" transform=\"matrix(1.0, 0.0, 0.0, 1.0, 0.0, 0.0)\"><text style=\"text-align:center; text-anchor:middle; dominant-baseline:middle;&#10;                      font-family:sans-serif; font-weight: bold;&#10;                      font-size:1px;&#10;                      vector-effect: non-scaling-stroke;\" transform=\"translate(-5e-05, 0)\">0</text></g><g /></g></g></g></g><g style=\"fill: #808080;stroke: black;stroke-width: 0.0;\" transform=\"matrix(1.0, 0.0, 0.0, 1.0, 0.0, -0.2564102564102564)\"><path d=\"M 0.0 0.0 L 4.0 0.0 L 4.0 0.2564102564102564 L 0.0 0.2564102564102564 L 0.0 0.0 Z\" style=\"vector-effect: non-scaling-stroke;\" /></g></g></g><g style=\"fill: #808080;stroke: black;stroke-width: 0.0;\" transform=\"matrix(1.0, 0.0, 0.0, 1.0, 4.0, -0.3076923076923077)\"><path d=\"M 0.0 0.0 L 4.0 0.0 L 4.0 0.3076923076923077 L 0.0 0.3076923076923077 L 0.0 0.0 Z\" style=\"vector-effect: non-scaling-stroke;\" /></g></g></g><g style=\"fill: #808080;stroke: black;stroke-width: 0.0;\" transform=\"matrix(1.0, 0.0, 0.0, 1.0, 8.0, -0.358974358974359)\"><path d=\"M 0.0 0.0 L 0.0 0.0 L 0.0 0.358974358974359 L 0.0 0.358974358974359 L 0.0 0.0 Z\" style=\"vector-effect: non-scaling-stroke;\" /></g></g></g><g style=\"fill: #808080;stroke: black;stroke-width: 0.0;\" transform=\"matrix(1.0, 0.0, 0.0, 1.0, 8.0, -0.41025641025641024)\"><path d=\"M 0.0 0.0 L 4.0 0.0 L 4.0 0.41025641025641024 L 0.0 0.41025641025641024 L 0.0 0.0 Z\" style=\"vector-effect: non-scaling-stroke;\" /></g></g></g><g style=\"fill: #808080;stroke: black;stroke-width: 0.0;\" transform=\"matrix(1.0, 0.0, 0.0, 1.0, 12.0, -0.5128205128205128)\"><path d=\"M 0.0 0.0 L 4.0 0.0 L 4.0 0.5128205128205128 L 0.0 0.5128205128205128 L 0.0 0.0 Z\" style=\"vector-effect: non-scaling-stroke;\" /></g></g></g><g style=\"fill: #808080;stroke: black;stroke-width: 0.0;\" transform=\"matrix(1.0, 0.0, 0.0, 1.0, 16.0, -0.6666666666666666)\"><path d=\"M 0.0 0.0 L 1.0 0.0 L 1.0 0.6666666666666666 L 0.0 0.6666666666666666 L 0.0 0.0 Z\" style=\"vector-effect: non-scaling-stroke;\" /></g></g></g><g style=\"fill: #808080;stroke: black;stroke-width: 0.0;\" transform=\"matrix(1.0, 0.0, 0.0, 1.0, 17.0, -0.6666666666666666)\"><path d=\"M 0.0 0.0 L 1.0 0.0 L 1.0 0.6666666666666666 L 0.0 0.6666666666666666 L 0.0 0.0 Z\" style=\"vector-effect: non-scaling-stroke;\" /></g><g style=\"stroke: #ff0000;stroke-width: 1.8;\" transform=\"matrix(1.0, 0.0, 0.0, 1.0, 15.95, -1.0)\"><path d=\"M 0.0 0.0 L 0.1 0.0 L 0.1 1.0 L 0.0 1.0 L 0.0 0.0 Z\" style=\"vector-effect: non-scaling-stroke;\" /></g><g transform=\"matrix(1.0, 0.0, 0.0, 1.0, 0.0, 0.0)\"><g transform=\"matrix(0.0, -1.0, 1.0, 0.0, 0.0, 0.0)\"><g /></g></g><g transform=\"matrix(1.0, 0.0, 0.0, 1.0, 0.0, 0.0)\"><g /></g></g></g></g></g></g></g></g><g /></g></g></g></g></svg>"
      ],
      "text/plain": [
       "Compose(envelope=<chalk.envelope.Envelope object at 0x113c5db80>, diagrams=[Primitive(shape=Path(loc_trails=[Located(trail=Trail(segments=[Segment(offset=Vec2(1.5, 0.0), origin=Vec2(0.0, 0.0)), Segment(offset=Vec2(0.0, 8.0), origin=Vec2(0.0, 0.0)), Segment(offset=Vec2(-1.5, 0.0), origin=Vec2(0.0, 0.0)), Segment(offset=Vec2(0.0, -8.0), origin=Vec2(0.0, 0.0))], closed=True), location=Vec2(0.0, 0.0))]), style=Style(line_width_=(<WidthType.NORMALIZED: 2>, 0), line_color_=None, fill_color_=None, fill_opacity_=None, dashing_=None, output_size=None), transform=Affine(1.0, 0.0, -0.75,\n",
       "       0.0, 1.0, -4.0)), ApplyTransform(transform=Affine(1.0, 0.0, -4.0,\n",
       "       0.0, 1.0, -0.25), diagram=ApplyTransform(transform=Affine(0.5, 0.0, 0.0,\n",
       "       0.0, 0.5, 0.0), diagram=Compose(envelope=<chalk.envelope.Envelope object at 0x113c5abb0>, diagrams=[Empty(), Primitive(shape=Path(loc_trails=[Located(trail=Trail(segments=[Segment(offset=Vec2(19.0, 0.0), origin=Vec2(0.0, 0.0)), Segment(offset=Vec2(0.0, 1.0), origin=Vec2(0.0, 0.0)), Segment(offset=Vec2(-19.0, 0.0), origin=Vec2(0.0, 0.0)), Segment(offset=Vec2(0.0, -1.0), origin=Vec2(0.0, 0.0))], closed=True), location=Vec2(0.0, 0.0))]), style=Style(line_width_=None, line_color_=None, fill_color_=<Color LightGray>, fill_opacity_=None, dashing_=None, output_size=None), transform=Affine(1.0, 0.0, 0.0,\n",
       "       0.0, 1.0, -0.5)), ApplyStyle(style=Style(line_width_=None, line_color_=None, fill_color_=<Color orange>, fill_opacity_=None, dashing_=None, output_size=None), diagram=ApplyTransform(transform=Affine(1.0, 0.0, -2.0,\n",
       "       0.0, 1.0, 0.0), diagram=Compose(envelope=<chalk.envelope.Envelope object at 0x113bd74c0>, diagrams=[Primitive(shape=Text(text='0', font_size=1), style=Style(line_width_=(<WidthType.NORMALIZED: 2>, 0), line_color_=None, fill_color_=None, fill_opacity_=None, dashing_=None, output_size=None), transform=Affine(1.0, 0.0, 0.0,\n",
       "       0.0, 1.0, 0.0)), Empty()]))), ApplyStyle(style=Style(line_width_=None, line_color_=None, fill_color_=<Color green>, fill_opacity_=None, dashing_=None, output_size=None), diagram=ApplyTransform(transform=Affine(1.0, 0.0, 0.0,\n",
       "       0.0, 1.0, 0.0), diagram=ApplyTransform(transform=Affine(1.0, 0.0, 1.975,\n",
       "       0.0, 1.0, 0.0), diagram=Compose(envelope=<chalk.envelope.Envelope object at 0x113be0c10>, diagrams=[Primitive(shape=Path(loc_trails=[Located(trail=Trail(segments=[Segment(offset=Vec2(3.95, 0.0), origin=Vec2(0.0, 0.0)), Segment(offset=Vec2(0.0, 0.9), origin=Vec2(0.0, 0.0)), Segment(offset=Vec2(-3.95, 0.0), origin=Vec2(0.0, 0.0)), Segment(offset=Vec2(0.0, -0.9), origin=Vec2(0.0, 0.0))], closed=True), location=Vec2(0.0, 0.0))]), style=Style(line_width_=(<WidthType.NORMALIZED: 2>, 0), line_color_=None, fill_color_=None, fill_opacity_=None, dashing_=None, output_size=None), transform=Affine(1.0, 0.0, -1.975,\n",
       "       0.0, 1.0, -0.45)), Primitive(shape=Text(text='2 3', font_size=0.9), style=Style(line_width_=(<WidthType.NORMALIZED: 2>, 0.05), line_color_=None, fill_color_=<Color black>, fill_opacity_=None, dashing_=None, output_size=None), transform=Affine(1.0, 0.0, 0.0,\n",
       "       0.0, 1.0, 0.1))])))), ApplyStyle(style=Style(line_width_=None, line_color_=None, fill_color_=<Color #bfbf00>, fill_opacity_=None, dashing_=None, output_size=None), diagram=ApplyTransform(transform=Affine(1.0, 0.0, 4.0,\n",
       "       0.0, 1.0, 0.0), diagram=ApplyTransform(transform=Affine(1.0, 0.0, 1.975,\n",
       "       0.0, 1.0, 0.0), diagram=Compose(envelope=<chalk.envelope.Envelope object at 0x113bf42b0>, diagrams=[Primitive(shape=Path(loc_trails=[Located(trail=Trail(segments=[Segment(offset=Vec2(3.95, 0.0), origin=Vec2(0.0, 0.0)), Segment(offset=Vec2(0.0, 0.9), origin=Vec2(0.0, 0.0)), Segment(offset=Vec2(-3.95, 0.0), origin=Vec2(0.0, 0.0)), Segment(offset=Vec2(0.0, -0.9), origin=Vec2(0.0, 0.0))], closed=True), location=Vec2(0.0, 0.0))]), style=Style(line_width_=(<WidthType.NORMALIZED: 2>, 0), line_color_=None, fill_color_=None, fill_opacity_=None, dashing_=None, output_size=None), transform=Affine(1.0, 0.0, -1.975,\n",
       "       0.0, 1.0, -0.45)), Primitive(shape=Text(text='2 3', font_size=0.9), style=Style(line_width_=(<WidthType.NORMALIZED: 2>, 0.05), line_color_=None, fill_color_=<Color black>, fill_opacity_=None, dashing_=None, output_size=None), transform=Affine(1.0, 0.0, 0.0,\n",
       "       0.0, 1.0, 0.1))])))), ApplyStyle(style=Style(line_width_=None, line_color_=None, fill_color_=None, fill_opacity_=0.2, dashing_=None, output_size=None), diagram=ApplyStyle(style=Style(line_width_=None, line_color_=None, fill_color_=<Color #bfbf00>, fill_opacity_=None, dashing_=None, output_size=None), diagram=ApplyTransform(transform=Affine(1.0, 0.0, 8.0,\n",
       "       0.0, 1.0, 0.0), diagram=ApplyTransform(transform=Affine(1.0, 0.0, 1.975,\n",
       "       0.0, 1.0, 0.0), diagram=Compose(envelope=<chalk.envelope.Envelope object at 0x113c23370>, diagrams=[Primitive(shape=Path(loc_trails=[Located(trail=Trail(segments=[Segment(offset=Vec2(3.95, 0.0), origin=Vec2(0.0, 0.0)), Segment(offset=Vec2(0.0, 0.9), origin=Vec2(0.0, 0.0)), Segment(offset=Vec2(-3.95, 0.0), origin=Vec2(0.0, 0.0)), Segment(offset=Vec2(0.0, -0.9), origin=Vec2(0.0, 0.0))], closed=True), location=Vec2(0.0, 0.0))]), style=Style(line_width_=(<WidthType.NORMALIZED: 2>, 0), line_color_=None, fill_color_=None, fill_opacity_=None, dashing_=None, output_size=None), transform=Affine(1.0, 0.0, -1.975,\n",
       "       0.0, 1.0, -0.45)), Primitive(shape=Text(text='2 3', font_size=0.9), style=Style(line_width_=(<WidthType.NORMALIZED: 2>, 0.05), line_color_=None, fill_color_=<Color black>, fill_opacity_=None, dashing_=None, output_size=None), transform=Affine(1.0, 0.0, 0.0,\n",
       "       0.0, 1.0, 0.1))]))))), ApplyStyle(style=Style(line_width_=None, line_color_=None, fill_color_=None, fill_opacity_=0.2, dashing_=None, output_size=None), diagram=ApplyStyle(style=Style(line_width_=None, line_color_=None, fill_color_=<Color green>, fill_opacity_=None, dashing_=None, output_size=None), diagram=ApplyTransform(transform=Affine(1.0, 0.0, 12.0,\n",
       "       0.0, 1.0, 0.0), diagram=ApplyTransform(transform=Affine(1.0, 0.0, 1.975,\n",
       "       0.0, 1.0, 0.0), diagram=Compose(envelope=<chalk.envelope.Envelope object at 0x113c2ab50>, diagrams=[Primitive(shape=Path(loc_trails=[Located(trail=Trail(segments=[Segment(offset=Vec2(3.95, 0.0), origin=Vec2(0.0, 0.0)), Segment(offset=Vec2(0.0, 0.9), origin=Vec2(0.0, 0.0)), Segment(offset=Vec2(-3.95, 0.0), origin=Vec2(0.0, 0.0)), Segment(offset=Vec2(0.0, -0.9), origin=Vec2(0.0, 0.0))], closed=True), location=Vec2(0.0, 0.0))]), style=Style(line_width_=(<WidthType.NORMALIZED: 2>, 0), line_color_=None, fill_color_=None, fill_opacity_=None, dashing_=None, output_size=None), transform=Affine(1.0, 0.0, -1.975,\n",
       "       0.0, 1.0, -0.45)), Primitive(shape=Text(text='2 3', font_size=0.9), style=Style(line_width_=(<WidthType.NORMALIZED: 2>, 0.05), line_color_=None, fill_color_=<Color black>, fill_opacity_=None, dashing_=None, output_size=None), transform=Affine(1.0, 0.0, 0.0,\n",
       "       0.0, 1.0, 0.1))]))))), ApplyStyle(style=Style(line_width_=None, line_color_=None, fill_color_=None, fill_opacity_=0.5, dashing_=None, output_size=None), diagram=ApplyStyle(style=Style(line_width_=None, line_color_=None, fill_color_=<Color yellow>, fill_opacity_=None, dashing_=None, output_size=None), diagram=ApplyTransform(transform=Affine(1.0, 0.0, 16.0,\n",
       "       0.0, 1.0, 0.0), diagram=ApplyTransform(transform=Affine(1.0, 0.0, 0.475,\n",
       "       0.0, 1.0, 0.0), diagram=Compose(envelope=<chalk.envelope.Envelope object at 0x113c30340>, diagrams=[Primitive(shape=Path(loc_trails=[Located(trail=Trail(segments=[Segment(offset=Vec2(0.95, 0.0), origin=Vec2(0.0, 0.0)), Segment(offset=Vec2(0.0, 0.9), origin=Vec2(0.0, 0.0)), Segment(offset=Vec2(-0.95, 0.0), origin=Vec2(0.0, 0.0)), Segment(offset=Vec2(0.0, -0.9), origin=Vec2(0.0, 0.0))], closed=True), location=Vec2(0.0, 0.0))]), style=Style(line_width_=(<WidthType.NORMALIZED: 2>, 0), line_color_=None, fill_color_=None, fill_opacity_=None, dashing_=None, output_size=None), transform=Affine(1.0, 0.0, -0.475,\n",
       "       0.0, 1.0, -0.45)), Primitive(shape=Text(text='', font_size=0.9), style=Style(line_width_=(<WidthType.NORMALIZED: 2>, 0.05), line_color_=None, fill_color_=<Color black>, fill_opacity_=None, dashing_=None, output_size=None), transform=Affine(1.0, 0.0, 0.0,\n",
       "       0.0, 1.0, 0.1))]))))), ApplyStyle(style=Style(line_width_=None, line_color_=None, fill_color_=None, fill_opacity_=0.5, dashing_=None, output_size=None), diagram=ApplyStyle(style=Style(line_width_=None, line_color_=None, fill_color_=<Color yellow>, fill_opacity_=None, dashing_=None, output_size=None), diagram=ApplyTransform(transform=Affine(1.0, 0.0, 17.0,\n",
       "       0.0, 1.0, 0.0), diagram=ApplyTransform(transform=Affine(1.0, 0.0, 0.475,\n",
       "       0.0, 1.0, 0.0), diagram=Compose(envelope=<chalk.envelope.Envelope object at 0x113c32b80>, diagrams=[Primitive(shape=Path(loc_trails=[Located(trail=Trail(segments=[Segment(offset=Vec2(0.95, 0.0), origin=Vec2(0.0, 0.0)), Segment(offset=Vec2(0.0, 0.9), origin=Vec2(0.0, 0.0)), Segment(offset=Vec2(-0.95, 0.0), origin=Vec2(0.0, 0.0)), Segment(offset=Vec2(0.0, -0.9), origin=Vec2(0.0, 0.0))], closed=True), location=Vec2(0.0, 0.0))]), style=Style(line_width_=(<WidthType.NORMALIZED: 2>, 0), line_color_=None, fill_color_=None, fill_opacity_=None, dashing_=None, output_size=None), transform=Affine(1.0, 0.0, -0.475,\n",
       "       0.0, 1.0, -0.45)), Primitive(shape=Text(text='', font_size=0.9), style=Style(line_width_=(<WidthType.NORMALIZED: 2>, 0.05), line_color_=None, fill_color_=<Color black>, fill_opacity_=None, dashing_=None, output_size=None), transform=Affine(1.0, 0.0, 0.0,\n",
       "       0.0, 1.0, 0.1))]))))), ApplyTransform(transform=Affine(1.0, 0.0, 0.0,\n",
       "       0.0, 1.0, 0.5), diagram=ApplyTransform(transform=Affine(0.0, 1.0, 0.0,\n",
       "       -1.0, 0.0, 0.0), diagram=Empty())), ApplyTransform(transform=Affine(1.0, 0.0, 0.0,\n",
       "       0.0, 1.0, 0.5), diagram=Empty()), ApplyTransform(transform=Affine(1.0, 0.0, 0.0,\n",
       "       0.0, 1.0, 0.5), diagram=ApplyTransform(transform=Affine(0.0, 1.0, 0.0,\n",
       "       -1.0, 0.0, 0.0), diagram=Empty())), ApplyTransform(transform=Affine(1.0, 0.0, 0.0,\n",
       "       0.0, 1.0, 1.5), diagram=Compose(envelope=<chalk.envelope.Envelope object at 0x113c5a2b0>, diagrams=[ApplyTransform(transform=Affine(1.0, 0.0, -0.0,\n",
       "       0.0, 1.0, -0.0), diagram=Compose(envelope=<chalk.envelope.Envelope object at 0x113c4f8b0>, diagrams=[ApplyTransform(transform=Affine(1.0, 0.0, -0.0,\n",
       "       0.0, 1.0, -0.0), diagram=Compose(envelope=<chalk.envelope.Envelope object at 0x113c4d550>, diagrams=[ApplyTransform(transform=Affine(1.0, 0.0, -0.0,\n",
       "       0.0, 1.0, -0.0), diagram=Compose(envelope=<chalk.envelope.Envelope object at 0x113c48760>, diagrams=[ApplyTransform(transform=Affine(1.0, 0.0, -0.0,\n",
       "       0.0, 1.0, -0.0), diagram=Compose(envelope=<chalk.envelope.Envelope object at 0x113c46550>, diagrams=[ApplyTransform(transform=Affine(1.0, 0.0, -0.0,\n",
       "       0.0, 1.0, -0.0), diagram=Compose(envelope=<chalk.envelope.Envelope object at 0x113c3ff40>, diagrams=[ApplyTransform(transform=Affine(1.0, 0.0, -0.0,\n",
       "       0.0, 1.0, -0.0), diagram=Compose(envelope=<chalk.envelope.Envelope object at 0x113c3aee0>, diagrams=[ApplyTransform(transform=Affine(1.0, 0.0, -0.0,\n",
       "       0.0, 1.0, -0.5), diagram=Compose(envelope=<chalk.envelope.Envelope object at 0x113c3a670>, diagrams=[Primitive(shape=Path(loc_trails=[Located(trail=Trail(segments=[Segment(offset=Vec2(19.0, 0.0), origin=Vec2(0.0, 0.0)), Segment(offset=Vec2(0.0, 1.0), origin=Vec2(0.0, 0.0)), Segment(offset=Vec2(-19.0, 0.0), origin=Vec2(0.0, 0.0)), Segment(offset=Vec2(0.0, -1.0), origin=Vec2(0.0, 0.0))], closed=True), location=Vec2(0.0, 0.0))]), style=Style(line_width_=None, line_color_=None, fill_color_=<Color white>, fill_opacity_=None, dashing_=None, output_size=None), transform=Affine(1.0, 0.0, 0.0,\n",
       "       0.0, 1.0, -0.5)), ApplyStyle(style=Style(line_width_=None, line_color_=None, fill_color_=<Color gray>, fill_opacity_=None, dashing_=None, output_size=None), diagram=ApplyTransform(transform=Affine(1.0, 0.0, -2.0,\n",
       "       0.0, 1.0, 0.0), diagram=Compose(envelope=<chalk.envelope.Envelope object at 0x113c39a30>, diagrams=[Primitive(shape=Text(text='0', font_size=1), style=Style(line_width_=(<WidthType.NORMALIZED: 2>, 0), line_color_=None, fill_color_=None, fill_opacity_=None, dashing_=None, output_size=None), transform=Affine(1.0, 0.0, 0.0,\n",
       "       0.0, 1.0, 0.0)), Empty()])))])), Primitive(shape=Path(loc_trails=[Located(trail=Trail(segments=[Segment(offset=Vec2(4.0, 0.0), origin=Vec2(0.0, 0.0)), Segment(offset=Vec2(0.0, 0.2564102564102564), origin=Vec2(0.0, 0.0)), Segment(offset=Vec2(-4.0, 0.0), origin=Vec2(0.0, 0.0)), Segment(offset=Vec2(0.0, -0.2564102564102564), origin=Vec2(0.0, 0.0))], closed=True), location=Vec2(0.0, 0.0))]), style=Style(line_width_=(<WidthType.NORMALIZED: 2>, 0), line_color_=None, fill_color_=<Color gray>, fill_opacity_=None, dashing_=None, output_size=None), transform=Affine(1.0, 0.0, 0.0,\n",
       "       0.0, 1.0, -0.2564102564102564))])), Primitive(shape=Path(loc_trails=[Located(trail=Trail(segments=[Segment(offset=Vec2(4.0, 0.0), origin=Vec2(0.0, 0.0)), Segment(offset=Vec2(0.0, 0.3076923076923077), origin=Vec2(0.0, 0.0)), Segment(offset=Vec2(-4.0, 0.0), origin=Vec2(0.0, 0.0)), Segment(offset=Vec2(0.0, -0.3076923076923077), origin=Vec2(0.0, 0.0))], closed=True), location=Vec2(0.0, 0.0))]), style=Style(line_width_=(<WidthType.NORMALIZED: 2>, 0), line_color_=None, fill_color_=<Color gray>, fill_opacity_=None, dashing_=None, output_size=None), transform=Affine(1.0, 0.0, 4.0,\n",
       "       0.0, 1.0, -0.3076923076923077))])), Primitive(shape=Path(loc_trails=[Located(trail=Trail(segments=[Segment(offset=Vec2(0.0, 0.0), origin=Vec2(0.0, 0.0)), Segment(offset=Vec2(0.0, 0.358974358974359), origin=Vec2(0.0, 0.0)), Segment(offset=Vec2(0.0, 0.0), origin=Vec2(0.0, 0.0)), Segment(offset=Vec2(0.0, -0.358974358974359), origin=Vec2(0.0, 0.0))], closed=True), location=Vec2(0.0, 0.0))]), style=Style(line_width_=(<WidthType.NORMALIZED: 2>, 0), line_color_=None, fill_color_=<Color gray>, fill_opacity_=None, dashing_=None, output_size=None), transform=Affine(1.0, 0.0, 8.0,\n",
       "       0.0, 1.0, -0.358974358974359))])), Primitive(shape=Path(loc_trails=[Located(trail=Trail(segments=[Segment(offset=Vec2(4.0, 0.0), origin=Vec2(0.0, 0.0)), Segment(offset=Vec2(0.0, 0.41025641025641024), origin=Vec2(0.0, 0.0)), Segment(offset=Vec2(-4.0, 0.0), origin=Vec2(0.0, 0.0)), Segment(offset=Vec2(0.0, -0.41025641025641024), origin=Vec2(0.0, 0.0))], closed=True), location=Vec2(0.0, 0.0))]), style=Style(line_width_=(<WidthType.NORMALIZED: 2>, 0), line_color_=None, fill_color_=<Color gray>, fill_opacity_=None, dashing_=None, output_size=None), transform=Affine(1.0, 0.0, 8.0,\n",
       "       0.0, 1.0, -0.41025641025641024))])), Primitive(shape=Path(loc_trails=[Located(trail=Trail(segments=[Segment(offset=Vec2(4.0, 0.0), origin=Vec2(0.0, 0.0)), Segment(offset=Vec2(0.0, 0.5128205128205128), origin=Vec2(0.0, 0.0)), Segment(offset=Vec2(-4.0, 0.0), origin=Vec2(0.0, 0.0)), Segment(offset=Vec2(0.0, -0.5128205128205128), origin=Vec2(0.0, 0.0))], closed=True), location=Vec2(0.0, 0.0))]), style=Style(line_width_=(<WidthType.NORMALIZED: 2>, 0), line_color_=None, fill_color_=<Color gray>, fill_opacity_=None, dashing_=None, output_size=None), transform=Affine(1.0, 0.0, 12.0,\n",
       "       0.0, 1.0, -0.5128205128205128))])), Primitive(shape=Path(loc_trails=[Located(trail=Trail(segments=[Segment(offset=Vec2(1.0, 0.0), origin=Vec2(0.0, 0.0)), Segment(offset=Vec2(0.0, 0.6666666666666666), origin=Vec2(0.0, 0.0)), Segment(offset=Vec2(-1.0, 0.0), origin=Vec2(0.0, 0.0)), Segment(offset=Vec2(0.0, -0.6666666666666666), origin=Vec2(0.0, 0.0))], closed=True), location=Vec2(0.0, 0.0))]), style=Style(line_width_=(<WidthType.NORMALIZED: 2>, 0), line_color_=None, fill_color_=<Color gray>, fill_opacity_=None, dashing_=None, output_size=None), transform=Affine(1.0, 0.0, 16.0,\n",
       "       0.0, 1.0, -0.6666666666666666))])), Primitive(shape=Path(loc_trails=[Located(trail=Trail(segments=[Segment(offset=Vec2(1.0, 0.0), origin=Vec2(0.0, 0.0)), Segment(offset=Vec2(0.0, 0.6666666666666666), origin=Vec2(0.0, 0.0)), Segment(offset=Vec2(-1.0, 0.0), origin=Vec2(0.0, 0.0)), Segment(offset=Vec2(0.0, -0.6666666666666666), origin=Vec2(0.0, 0.0))], closed=True), location=Vec2(0.0, 0.0))]), style=Style(line_width_=(<WidthType.NORMALIZED: 2>, 0), line_color_=None, fill_color_=<Color gray>, fill_opacity_=None, dashing_=None, output_size=None), transform=Affine(1.0, 0.0, 17.0,\n",
       "       0.0, 1.0, -0.6666666666666666)), Primitive(shape=Path(loc_trails=[Located(trail=Trail(segments=[Segment(offset=Vec2(0.1, 0.0), origin=Vec2(0.0, 0.0)), Segment(offset=Vec2(0.0, 1.0), origin=Vec2(0.0, 0.0)), Segment(offset=Vec2(-0.1, 0.0), origin=Vec2(0.0, 0.0)), Segment(offset=Vec2(0.0, -1.0), origin=Vec2(0.0, 0.0))], closed=True), location=Vec2(0.0, 0.0))]), style=Style(line_width_=None, line_color_=<Color red>, fill_color_=None, fill_opacity_=None, dashing_=None, output_size=None), transform=Affine(1.0, 0.0, 15.95,\n",
       "       0.0, 1.0, -1.0)), ApplyTransform(transform=Affine(1.0, 0.0, 0.0,\n",
       "       0.0, 1.0, 0.0), diagram=ApplyTransform(transform=Affine(0.0, 1.0, 0.0,\n",
       "       -1.0, 0.0, 0.0), diagram=Empty())), ApplyTransform(transform=Affine(1.0, 0.0, 0.0,\n",
       "       0.0, 1.0, 0.0), diagram=Empty())]))])))])"
      ]
     },
     "execution_count": 84,
     "metadata": {},
     "output_type": "execute_result"
    }
   ],
   "source": [
    "# We can view the final outcome of the system as a diagram. \n",
    "# This show the forward and backward passes (numbers of batches) and the updates.\n",
    "# The lines on the bottom show the memory that is used at each time step.\n",
    "draw([model])"
   ]
  },
  {
   "cell_type": "code",
   "execution_count": null,
   "id": "01aa8d66",
   "metadata": {},
   "outputs": [],
   "source": []
  },
  {
   "cell_type": "markdown",
   "id": "26e5ea60",
   "metadata": {},
   "source": [
    "### Puzzle 0 - Standard Training\n",
    "\n",
    "Write a standard (non-distributed) training loop that acts on all the batches and loads all the weights. It should just run forward, loss, backward, and update. Aim for the least amount of max memory used. \n",
    "\n",
    "* Target Time:  17 steps\n",
    "* Target Memory: 2600000"
   ]
  },
  {
   "cell_type": "code",
   "execution_count": 85,
   "id": "04dbf7ea",
   "metadata": {},
   "outputs": [],
   "source": [
    "def basic(model: Model) -> Model:\n",
    "    # Storage on device.\n",
    "    weights, opt_states, activations, grad_activations, grad_weights = model.storage()\n",
    "\n",
    "    # Load in the full weights\n",
    "    for l in range(model.LAYERS):\n",
    "        weights[l], opt_states[l] = model.load_weights(l)\n",
    "\n",
    "    # Load the input layer activations\n",
    "    activations[0] = model.get_activation(range(model.BATCHES))\n",
    "    for l in range(model.LAYERS):\n",
    "        activations[l+1] = model.forward(l, activations[l], weights[l])\n",
    "\n",
    "    grad_activations[model.LAYERS] = model.loss(activations[model.LAYERS])\n",
    "    for l in reversed(range(model.LAYERS)):\n",
    "        grad_weights[l], grad_activations[l] = model.backward(l, activations[l], grad_activations[l+1], weights[l])\n",
    "        del grad_activations[l+1]\n",
    "        del activations[l]\n",
    "        weights[l], opt_states[l] = model.update(l, grad_weights[l], weights[l], opt_states[l])\n",
    "        del grad_weights[l]\n",
    "        del opt_states[l]\n",
    "    \n",
    "    # assert False, 'TODO: Implement me'\n",
    "    \n",
    "    for l in range(model.LAYERS):\n",
    "        model.set_final_weight(l, weights[l])\n",
    "    Model.check([model])\n",
    "    return model"
   ]
  },
  {
   "cell_type": "code",
   "execution_count": 86,
   "id": "e3632f24",
   "metadata": {},
   "outputs": [
    {
     "name": "stdout",
     "output_type": "stream",
     "text": [
      "Correct!\n"
     ]
    },
    {
     "data": {
      "image/svg+xml": [
       "<?xml version=\"1.0\" encoding=\"utf-8\" ?>\n",
       "<svg baseProfile=\"full\" height=\"400\" version=\"1.1\" width=\"233\" xmlns=\"http://www.w3.org/2000/svg\" xmlns:ev=\"http://www.w3.org/2001/xml-events\" xmlns:xlink=\"http://www.w3.org/1999/xlink\"><defs><marker id=\"arrow\" markerHeight=\"3.5\" markerWidth=\"5\" orient=\"auto\" refX=\"5.0\" refY=\"1.7\"><polygon points=\"0,0 5,1.75 0,3.5\" /></marker></defs><g style=\"fill:white;\"><g transform=\"matrix(1.0, 0.0, 0.0, 1.0, 116.50000000000001, 199.99166666666667)\"><g transform=\"matrix(73.96825396825396, 0.0, 0.0, 73.96825396825396, 0.0, 0.0)\"><g><g transform=\"matrix(1.0, 0.0, 0.0, 1.0, -0.0, -2.5749999999999997)\"><g><g style=\"stroke: black;stroke-width: 3.6;\" transform=\"matrix(1.0, 0.0, 0.0, 1.0, -0.75, 0.0)\"><path d=\"M 0.0 0.0 L 1.5 0.0 L 1.5 1.05 L 0.0 1.05 L 0.0 0.0 Z\" style=\"vector-effect: non-scaling-stroke;\" /></g><g style=\"stroke: black;stroke-width: 3.6;\" transform=\"matrix(1.0, 0.0, 0.0, 1.0, -1.5, 0.0)\"><path d=\"M 0.0 0.0 L 3.0 0.0 L 3.0 0.0 L 0.0 0.0 L 0.0 0.0 Z\" style=\"vector-effect: non-scaling-stroke;\" /></g><g transform=\"matrix(1.0, 0.0, 0.0, 1.0, 0.0, 1.05)\"><g transform=\"matrix(0.0, -1.0, 1.0, 0.0, 0.0, 0.0)\"><g /></g></g><g transform=\"matrix(1.0, 0.0, 0.0, 1.0, 0.0, 2.05)\"><g><g style=\"stroke: black;stroke-width: 3.6;\" transform=\"matrix(1.0, 0.0, 0.0, 1.0, -0.75, 0.0)\"><path d=\"M 0.0 0.0 L 1.5 0.0 L 1.5 1.05 L 0.0 1.05 L 0.0 0.0 Z\" style=\"vector-effect: non-scaling-stroke;\" /></g><g style=\"stroke: black;stroke-width: 3.6;\" transform=\"matrix(1.0, 0.0, 0.0, 1.0, -1.5, -1.0)\"><path d=\"M 0.0 0.0 L 3.0 0.0 L 3.0 1.0 L 0.0 1.0 L 0.0 0.0 Z\" style=\"vector-effect: non-scaling-stroke;\" /></g><g transform=\"matrix(1.0, 0.0, 0.0, 1.0, 0.0, 1.05)\"><g transform=\"matrix(0.0, -1.0, 1.0, 0.0, 0.0, 0.0)\"><g /></g></g><g transform=\"matrix(1.0, 0.0, 0.0, 1.0, 0.0, 2.05)\"><g><g style=\"stroke: black;stroke-width: 3.6;\" transform=\"matrix(1.0, 0.0, 0.0, 1.0, -0.75, 0.0)\"><path d=\"M 0.0 0.0 L 1.5 0.0 L 1.5 1.05 L 0.0 1.05 L 0.0 0.0 Z\" style=\"vector-effect: non-scaling-stroke;\" /></g><g style=\"stroke: black;stroke-width: 3.6;\" transform=\"matrix(1.0, 0.0, 0.0, 1.0, -1.5, -1.0)\"><path d=\"M 0.0 0.0 L 3.0 0.0 L 3.0 1.0 L 0.0 1.0 L 0.0 0.0 Z\" style=\"vector-effect: non-scaling-stroke;\" /></g></g></g></g></g><g /><g /><g /><g transform=\"matrix(1.0, 0.0, 0.0, 1.0, 0.0, 1.05)\"><g transform=\"matrix(0.0, -1.0, 1.0, 0.0, 0.0, 0.0)\"><g /></g></g><g transform=\"matrix(1.0, 0.0, 0.0, 1.0, 0.0, 2.05)\"><g><g /><g /><g /><g transform=\"matrix(1.0, 0.0, 0.0, 1.0, 0.0, 1.05)\"><g transform=\"matrix(0.0, -1.0, 1.0, 0.0, 0.0, 0.0)\"><g /></g></g><g transform=\"matrix(1.0, 0.0, 0.0, 1.0, 0.0, 2.05)\"><g><g /><g style=\"fill: #008000;stroke: #ffffff;stroke-width: 0.18;\" transform=\"matrix(1.0, 0.0, 0.0, 1.0, -1.5, -1.0)\"><path d=\"M 0.0 0.0 L 3.0 0.0 L 3.0 1.0 L 0.0 1.0 L 0.0 0.0 Z\" style=\"vector-effect: non-scaling-stroke;\" /></g><g /></g></g></g></g><g /><g /><g /><g transform=\"matrix(1.0, 0.0, 0.0, 1.0, 0.0, 1.05)\"><g transform=\"matrix(0.0, -1.0, 1.0, 0.0, 0.0, 0.0)\"><g /></g></g><g transform=\"matrix(1.0, 0.0, 0.0, 1.0, 0.0, 2.05)\"><g><g /><g style=\"fill: #bfbf00;stroke: #ffffff;stroke-width: 0.18;\" transform=\"matrix(1.0, 0.0, 0.0, 1.0, -1.5, -1.0)\"><path d=\"M 0.0 0.0 L 3.0 0.0 L 3.0 1.0 L 0.0 1.0 L 0.0 0.0 Z\" style=\"vector-effect: non-scaling-stroke;\" /></g><g /><g transform=\"matrix(1.0, 0.0, 0.0, 1.0, 0.0, 1.05)\"><g transform=\"matrix(0.0, -1.0, 1.0, 0.0, 0.0, 0.0)\"><g /></g></g><g transform=\"matrix(1.0, 0.0, 0.0, 1.0, 0.0, 2.05)\"><g><g /><g /><g /></g></g></g></g></g></g><g /></g></g></g></g></svg>"
      ],
      "text/html": [
       "<?xml version=\"1.0\" encoding=\"utf-8\" ?>\n",
       "<svg baseProfile=\"full\" height=\"400\" version=\"1.1\" width=\"233\" xmlns=\"http://www.w3.org/2000/svg\" xmlns:ev=\"http://www.w3.org/2001/xml-events\" xmlns:xlink=\"http://www.w3.org/1999/xlink\"><defs><marker id=\"arrow\" markerHeight=\"3.5\" markerWidth=\"5\" orient=\"auto\" refX=\"5.0\" refY=\"1.7\"><polygon points=\"0,0 5,1.75 0,3.5\" /></marker></defs><g style=\"fill:white;\"><g transform=\"matrix(1.0, 0.0, 0.0, 1.0, 116.50000000000001, 199.99166666666667)\"><g transform=\"matrix(73.96825396825396, 0.0, 0.0, 73.96825396825396, 0.0, 0.0)\"><g><g transform=\"matrix(1.0, 0.0, 0.0, 1.0, -0.0, -2.5749999999999997)\"><g><g style=\"stroke: black;stroke-width: 3.6;\" transform=\"matrix(1.0, 0.0, 0.0, 1.0, -0.75, 0.0)\"><path d=\"M 0.0 0.0 L 1.5 0.0 L 1.5 1.05 L 0.0 1.05 L 0.0 0.0 Z\" style=\"vector-effect: non-scaling-stroke;\" /></g><g style=\"stroke: black;stroke-width: 3.6;\" transform=\"matrix(1.0, 0.0, 0.0, 1.0, -1.5, 0.0)\"><path d=\"M 0.0 0.0 L 3.0 0.0 L 3.0 0.0 L 0.0 0.0 L 0.0 0.0 Z\" style=\"vector-effect: non-scaling-stroke;\" /></g><g transform=\"matrix(1.0, 0.0, 0.0, 1.0, 0.0, 1.05)\"><g transform=\"matrix(0.0, -1.0, 1.0, 0.0, 0.0, 0.0)\"><g /></g></g><g transform=\"matrix(1.0, 0.0, 0.0, 1.0, 0.0, 2.05)\"><g><g style=\"stroke: black;stroke-width: 3.6;\" transform=\"matrix(1.0, 0.0, 0.0, 1.0, -0.75, 0.0)\"><path d=\"M 0.0 0.0 L 1.5 0.0 L 1.5 1.05 L 0.0 1.05 L 0.0 0.0 Z\" style=\"vector-effect: non-scaling-stroke;\" /></g><g style=\"stroke: black;stroke-width: 3.6;\" transform=\"matrix(1.0, 0.0, 0.0, 1.0, -1.5, -1.0)\"><path d=\"M 0.0 0.0 L 3.0 0.0 L 3.0 1.0 L 0.0 1.0 L 0.0 0.0 Z\" style=\"vector-effect: non-scaling-stroke;\" /></g><g transform=\"matrix(1.0, 0.0, 0.0, 1.0, 0.0, 1.05)\"><g transform=\"matrix(0.0, -1.0, 1.0, 0.0, 0.0, 0.0)\"><g /></g></g><g transform=\"matrix(1.0, 0.0, 0.0, 1.0, 0.0, 2.05)\"><g><g style=\"stroke: black;stroke-width: 3.6;\" transform=\"matrix(1.0, 0.0, 0.0, 1.0, -0.75, 0.0)\"><path d=\"M 0.0 0.0 L 1.5 0.0 L 1.5 1.05 L 0.0 1.05 L 0.0 0.0 Z\" style=\"vector-effect: non-scaling-stroke;\" /></g><g style=\"stroke: black;stroke-width: 3.6;\" transform=\"matrix(1.0, 0.0, 0.0, 1.0, -1.5, -1.0)\"><path d=\"M 0.0 0.0 L 3.0 0.0 L 3.0 1.0 L 0.0 1.0 L 0.0 0.0 Z\" style=\"vector-effect: non-scaling-stroke;\" /></g></g></g></g></g><g /><g /><g /><g transform=\"matrix(1.0, 0.0, 0.0, 1.0, 0.0, 1.05)\"><g transform=\"matrix(0.0, -1.0, 1.0, 0.0, 0.0, 0.0)\"><g /></g></g><g transform=\"matrix(1.0, 0.0, 0.0, 1.0, 0.0, 2.05)\"><g><g /><g /><g /><g transform=\"matrix(1.0, 0.0, 0.0, 1.0, 0.0, 1.05)\"><g transform=\"matrix(0.0, -1.0, 1.0, 0.0, 0.0, 0.0)\"><g /></g></g><g transform=\"matrix(1.0, 0.0, 0.0, 1.0, 0.0, 2.05)\"><g><g /><g style=\"fill: #008000;stroke: #ffffff;stroke-width: 0.18;\" transform=\"matrix(1.0, 0.0, 0.0, 1.0, -1.5, -1.0)\"><path d=\"M 0.0 0.0 L 3.0 0.0 L 3.0 1.0 L 0.0 1.0 L 0.0 0.0 Z\" style=\"vector-effect: non-scaling-stroke;\" /></g><g /></g></g></g></g><g /><g /><g /><g transform=\"matrix(1.0, 0.0, 0.0, 1.0, 0.0, 1.05)\"><g transform=\"matrix(0.0, -1.0, 1.0, 0.0, 0.0, 0.0)\"><g /></g></g><g transform=\"matrix(1.0, 0.0, 0.0, 1.0, 0.0, 2.05)\"><g><g /><g style=\"fill: #bfbf00;stroke: #ffffff;stroke-width: 0.18;\" transform=\"matrix(1.0, 0.0, 0.0, 1.0, -1.5, -1.0)\"><path d=\"M 0.0 0.0 L 3.0 0.0 L 3.0 1.0 L 0.0 1.0 L 0.0 0.0 Z\" style=\"vector-effect: non-scaling-stroke;\" /></g><g /><g transform=\"matrix(1.0, 0.0, 0.0, 1.0, 0.0, 1.05)\"><g transform=\"matrix(0.0, -1.0, 1.0, 0.0, 0.0, 0.0)\"><g /></g></g><g transform=\"matrix(1.0, 0.0, 0.0, 1.0, 0.0, 2.05)\"><g><g /><g /><g /></g></g></g></g></g></g><g /></g></g></g></g></svg>"
      ],
      "text/plain": [
       "Compose(envelope=<chalk.envelope.Envelope object at 0x113c783d0>, diagrams=[Primitive(shape=Path(loc_trails=[Located(trail=Trail(segments=[Segment(offset=Vec2(1.5, 0.0), origin=Vec2(0.0, 0.0)), Segment(offset=Vec2(0.0, 1.05), origin=Vec2(0.0, 0.0)), Segment(offset=Vec2(-1.5, 0.0), origin=Vec2(0.0, 0.0)), Segment(offset=Vec2(0.0, -1.05), origin=Vec2(0.0, 0.0))], closed=True), location=Vec2(0.0, 0.0))]), style=Style(line_width_=(<WidthType.NORMALIZED: 2>, 0.2), line_color_=None, fill_color_=None, fill_opacity_=None, dashing_=None, output_size=None), transform=Affine(1.0, 0.0, -0.75,\n",
       "       0.0, 1.0, 0.0)), Primitive(shape=Path(loc_trails=[Located(trail=Trail(segments=[Segment(offset=Vec2(3.0, 0.0), origin=Vec2(0.0, 0.0)), Segment(offset=Vec2(0.0, 0.0), origin=Vec2(0.0, 0.0)), Segment(offset=Vec2(-3.0, 0.0), origin=Vec2(0.0, 0.0)), Segment(offset=Vec2(0.0, 0.0), origin=Vec2(0.0, 0.0))], closed=True), location=Vec2(0.0, 0.0))]), style=Style(line_width_=(<WidthType.NORMALIZED: 2>, 0.2), line_color_=None, fill_color_=None, fill_opacity_=None, dashing_=None, output_size=None), transform=Affine(1.0, 0.0, -1.5,\n",
       "       0.0, 1.0, 0.0)), ApplyTransform(transform=Affine(1.0, 0.0, 0.0,\n",
       "       0.0, 1.0, 1.05), diagram=ApplyTransform(transform=Affine(0.0, 1.0, 0.0,\n",
       "       -1.0, 0.0, 0.0), diagram=Empty())), ApplyTransform(transform=Affine(1.0, 0.0, 0.0,\n",
       "       0.0, 1.0, 2.05), diagram=Compose(envelope=<chalk.envelope.Envelope object at 0x113c75a90>, diagrams=[Primitive(shape=Path(loc_trails=[Located(trail=Trail(segments=[Segment(offset=Vec2(1.5, 0.0), origin=Vec2(0.0, 0.0)), Segment(offset=Vec2(0.0, 1.05), origin=Vec2(0.0, 0.0)), Segment(offset=Vec2(-1.5, 0.0), origin=Vec2(0.0, 0.0)), Segment(offset=Vec2(0.0, -1.05), origin=Vec2(0.0, 0.0))], closed=True), location=Vec2(0.0, 0.0))]), style=Style(line_width_=(<WidthType.NORMALIZED: 2>, 0.2), line_color_=None, fill_color_=None, fill_opacity_=None, dashing_=None, output_size=None), transform=Affine(1.0, 0.0, -0.75,\n",
       "       0.0, 1.0, 0.0)), Primitive(shape=Path(loc_trails=[Located(trail=Trail(segments=[Segment(offset=Vec2(3.0, 0.0), origin=Vec2(0.0, 0.0)), Segment(offset=Vec2(0.0, 1.0), origin=Vec2(0.0, 0.0)), Segment(offset=Vec2(-3.0, 0.0), origin=Vec2(0.0, 0.0)), Segment(offset=Vec2(0.0, -1.0), origin=Vec2(0.0, 0.0))], closed=True), location=Vec2(0.0, 0.0))]), style=Style(line_width_=(<WidthType.NORMALIZED: 2>, 0.2), line_color_=None, fill_color_=None, fill_opacity_=None, dashing_=None, output_size=None), transform=Affine(1.0, 0.0, -1.5,\n",
       "       0.0, 1.0, -1.0)), ApplyTransform(transform=Affine(1.0, 0.0, 0.0,\n",
       "       0.0, 1.0, 1.05), diagram=ApplyTransform(transform=Affine(0.0, 1.0, 0.0,\n",
       "       -1.0, 0.0, 0.0), diagram=Empty())), ApplyTransform(transform=Affine(1.0, 0.0, 0.0,\n",
       "       0.0, 1.0, 2.05), diagram=Compose(envelope=<chalk.envelope.Envelope object at 0x113c5df70>, diagrams=[Primitive(shape=Path(loc_trails=[Located(trail=Trail(segments=[Segment(offset=Vec2(1.5, 0.0), origin=Vec2(0.0, 0.0)), Segment(offset=Vec2(0.0, 1.05), origin=Vec2(0.0, 0.0)), Segment(offset=Vec2(-1.5, 0.0), origin=Vec2(0.0, 0.0)), Segment(offset=Vec2(0.0, -1.05), origin=Vec2(0.0, 0.0))], closed=True), location=Vec2(0.0, 0.0))]), style=Style(line_width_=(<WidthType.NORMALIZED: 2>, 0.2), line_color_=None, fill_color_=None, fill_opacity_=None, dashing_=None, output_size=None), transform=Affine(1.0, 0.0, -0.75,\n",
       "       0.0, 1.0, 0.0)), Primitive(shape=Path(loc_trails=[Located(trail=Trail(segments=[Segment(offset=Vec2(3.0, 0.0), origin=Vec2(0.0, 0.0)), Segment(offset=Vec2(0.0, 1.0), origin=Vec2(0.0, 0.0)), Segment(offset=Vec2(-3.0, 0.0), origin=Vec2(0.0, 0.0)), Segment(offset=Vec2(0.0, -1.0), origin=Vec2(0.0, 0.0))], closed=True), location=Vec2(0.0, 0.0))]), style=Style(line_width_=(<WidthType.NORMALIZED: 2>, 0.2), line_color_=None, fill_color_=None, fill_opacity_=None, dashing_=None, output_size=None), transform=Affine(1.0, 0.0, -1.5,\n",
       "       0.0, 1.0, -1.0))]))])), Empty(), Empty(), Empty(), ApplyTransform(transform=Affine(1.0, 0.0, 0.0,\n",
       "       0.0, 1.0, 1.05), diagram=ApplyTransform(transform=Affine(0.0, 1.0, 0.0,\n",
       "       -1.0, 0.0, 0.0), diagram=Empty())), ApplyTransform(transform=Affine(1.0, 0.0, 0.0,\n",
       "       0.0, 1.0, 2.05), diagram=Compose(envelope=<chalk.envelope.Envelope object at 0x113c78c70>, diagrams=[Empty(), Empty(), Empty(), ApplyTransform(transform=Affine(1.0, 0.0, 0.0,\n",
       "       0.0, 1.0, 1.05), diagram=ApplyTransform(transform=Affine(0.0, 1.0, 0.0,\n",
       "       -1.0, 0.0, 0.0), diagram=Empty())), ApplyTransform(transform=Affine(1.0, 0.0, 0.0,\n",
       "       0.0, 1.0, 2.05), diagram=Compose(envelope=<chalk.envelope.Envelope object at 0x113c99280>, diagrams=[Empty(), Primitive(shape=Path(loc_trails=[Located(trail=Trail(segments=[Segment(offset=Vec2(3.0, 0.0), origin=Vec2(0.0, 0.0)), Segment(offset=Vec2(0.0, 1.0), origin=Vec2(0.0, 0.0)), Segment(offset=Vec2(-3.0, 0.0), origin=Vec2(0.0, 0.0)), Segment(offset=Vec2(0.0, -1.0), origin=Vec2(0.0, 0.0))], closed=True), location=Vec2(0.0, 0.0))]), style=Style(line_width_=(<WidthType.NORMALIZED: 2>, 0.01), line_color_=<Color white>, fill_color_=<Color green>, fill_opacity_=None, dashing_=None, output_size=None), transform=Affine(1.0, 0.0, -1.5,\n",
       "       0.0, 1.0, -1.0)), Empty()]))])), Empty(), Empty(), Empty(), ApplyTransform(transform=Affine(1.0, 0.0, 0.0,\n",
       "       0.0, 1.0, 1.05), diagram=ApplyTransform(transform=Affine(0.0, 1.0, 0.0,\n",
       "       -1.0, 0.0, 0.0), diagram=Empty())), ApplyTransform(transform=Affine(1.0, 0.0, 0.0,\n",
       "       0.0, 1.0, 2.05), diagram=Compose(envelope=<chalk.envelope.Envelope object at 0x113ca4c40>, diagrams=[Empty(), Primitive(shape=Path(loc_trails=[Located(trail=Trail(segments=[Segment(offset=Vec2(3.0, 0.0), origin=Vec2(0.0, 0.0)), Segment(offset=Vec2(0.0, 1.0), origin=Vec2(0.0, 0.0)), Segment(offset=Vec2(-3.0, 0.0), origin=Vec2(0.0, 0.0)), Segment(offset=Vec2(0.0, -1.0), origin=Vec2(0.0, 0.0))], closed=True), location=Vec2(0.0, 0.0))]), style=Style(line_width_=(<WidthType.NORMALIZED: 2>, 0.01), line_color_=<Color white>, fill_color_=<Color #bfbf00>, fill_opacity_=None, dashing_=None, output_size=None), transform=Affine(1.0, 0.0, -1.5,\n",
       "       0.0, 1.0, -1.0)), Empty(), ApplyTransform(transform=Affine(1.0, 0.0, 0.0,\n",
       "       0.0, 1.0, 1.05), diagram=ApplyTransform(transform=Affine(0.0, 1.0, 0.0,\n",
       "       -1.0, 0.0, 0.0), diagram=Empty())), ApplyTransform(transform=Affine(1.0, 0.0, 0.0,\n",
       "       0.0, 1.0, 2.05), diagram=Compose(envelope=<chalk.envelope.Envelope object at 0x113ca8940>, diagrams=[Empty(), Empty(), Empty()]))]))])"
      ]
     },
     "execution_count": 86,
     "metadata": {},
     "output_type": "execute_result"
    }
   ],
   "source": [
    "out = basic(Model(layers=2, batches=4, rank=0, dist=Dist(1)))\n",
    "draw_group(out.final_weights)"
   ]
  },
  {
   "cell_type": "code",
   "execution_count": 87,
   "id": "21c87306",
   "metadata": {},
   "outputs": [
    {
     "name": "stdout",
     "output_type": "stream",
     "text": [
      "Timesteps: 16.5 \n",
      "Maximum Memory: 3145728.0 at GPU: 0 time: 8\n"
     ]
    },
    {
     "data": {
      "image/svg+xml": [
       "<?xml version=\"1.0\" encoding=\"utf-8\" ?>\n",
       "<svg baseProfile=\"full\" height=\"400\" version=\"1.1\" width=\"950\" xmlns=\"http://www.w3.org/2000/svg\" xmlns:ev=\"http://www.w3.org/2001/xml-events\" xmlns:xlink=\"http://www.w3.org/1999/xlink\"><defs><marker id=\"arrow\" markerHeight=\"3.5\" markerWidth=\"5\" orient=\"auto\" refX=\"5.0\" refY=\"1.7\"><polygon points=\"0,0 5,1.75 0,3.5\" /></marker></defs><g style=\"fill:white;\"><g transform=\"matrix(1.0, 0.0, 0.0, 1.0, 474.99999999999994, 200.0)\"><g transform=\"matrix(47.61904761904762, 0.0, 0.0, 47.61904761904762, 0.0, 0.0)\"><g><g transform=\"matrix(1.0, 0.0, 0.0, 1.0, -0.0, -0.0)\"><g><g style=\"stroke: black;stroke-width: 0.0;\" transform=\"matrix(1.0, 0.0, 0.0, 1.0, -0.75, -4.0)\"><path d=\"M 0.0 0.0 L 1.5 0.0 L 1.5 8.0 L 0.0 8.0 L 0.0 0.0 Z\" style=\"vector-effect: non-scaling-stroke;\" /></g><g transform=\"matrix(1.0, 0.0, 0.0, 1.0, -8.0, -0.25)\"><g transform=\"matrix(0.5, 0.0, 0.0, 0.5, 0.0, 0.0)\"><g><g /><g style=\"fill: #d3d3d3;stroke: black;stroke-width: 1.8;\" transform=\"matrix(1.0, 0.0, 0.0, 1.0, 0.0, -0.5)\"><path d=\"M 0.0 0.0 L 35.0 0.0 L 35.0 1.0 L 0.0 1.0 L 0.0 0.0 Z\" style=\"vector-effect: non-scaling-stroke;\" /></g><g transform=\"matrix(1.0, 0.0, 0.0, 1.0, -2.0, 0.0)\"><g><g style=\"fill: #ffa500;stroke: black;stroke-width: 0.0;\" transform=\"matrix(1.0, 0.0, 0.0, 1.0, 0.0, 0.0)\"><text style=\"text-align:center; text-anchor:middle; dominant-baseline:middle;&#10;                      font-family:sans-serif; font-weight: bold;&#10;                      font-size:1px;&#10;                      vector-effect: non-scaling-stroke;\" transform=\"translate(-5e-05, 0)\">0</text></g><g /></g></g><g transform=\"matrix(1.0, 0.0, 0.0, 1.0, 0.0, 0.0)\"><g transform=\"matrix(1.0, 0.0, 0.0, 1.0, 3.975, 0.0)\"><g><g style=\"fill: #008000;stroke: black;stroke-width: 0.0;\" transform=\"matrix(1.0, 0.0, 0.0, 1.0, -3.975, -0.45)\"><path d=\"M 0.0 0.0 L 7.95 0.0 L 7.95 0.9 L 0.0 0.9 L 0.0 0.0 Z\" style=\"vector-effect: non-scaling-stroke;\" /></g><g style=\"fill: #008000;stroke: black;stroke-width: 0.9;\" transform=\"matrix(1.0, 0.0, 0.0, 1.0, 0.0, 0.1)\"><text style=\"text-align:center; text-anchor:middle; dominant-baseline:middle;&#10;                      font-family:sans-serif; font-weight: bold;&#10;                      font-size:0.9px;&#10;                      vector-effect: non-scaling-stroke;\" transform=\"translate(-5e-05, 0)\">0 1 2 3</text></g></g></g></g><g transform=\"matrix(1.0, 0.0, 0.0, 1.0, 8.0, 0.0)\"><g transform=\"matrix(1.0, 0.0, 0.0, 1.0, 3.975, 0.0)\"><g><g style=\"fill: #bfbf00;stroke: black;stroke-width: 0.0;\" transform=\"matrix(1.0, 0.0, 0.0, 1.0, -3.975, -0.45)\"><path d=\"M 0.0 0.0 L 7.95 0.0 L 7.95 0.9 L 0.0 0.9 L 0.0 0.0 Z\" style=\"vector-effect: non-scaling-stroke;\" /></g><g style=\"fill: #bfbf00;stroke: black;stroke-width: 0.9;\" transform=\"matrix(1.0, 0.0, 0.0, 1.0, 0.0, 0.1)\"><text style=\"text-align:center; text-anchor:middle; dominant-baseline:middle;&#10;                      font-family:sans-serif; font-weight: bold;&#10;                      font-size:0.9px;&#10;                      vector-effect: non-scaling-stroke;\" transform=\"translate(-5e-05, 0)\">0 1 2 3</text></g></g></g></g><g transform=\"matrix(1.0, 0.0, 0.0, 1.0, 16.0, 0.0)\"><g transform=\"matrix(1.0, 0.0, 0.0, 1.0, 3.975, 0.0)\"><g><g style=\"fill: #bfbf00;stroke: black;stroke-width: 0.0;fill-opacity: 0.2;\" transform=\"matrix(1.0, 0.0, 0.0, 1.0, -3.975, -0.45)\"><path d=\"M 0.0 0.0 L 7.95 0.0 L 7.95 0.9 L 0.0 0.9 L 0.0 0.0 Z\" style=\"vector-effect: non-scaling-stroke;\" /></g><g style=\"fill: #bfbf00;stroke: black;stroke-width: 0.9;fill-opacity: 0.2;\" transform=\"matrix(1.0, 0.0, 0.0, 1.0, 0.0, 0.1)\"><text style=\"text-align:center; text-anchor:middle; dominant-baseline:middle;&#10;                      font-family:sans-serif; font-weight: bold;&#10;                      font-size:0.9px;&#10;                      vector-effect: non-scaling-stroke;\" transform=\"translate(-5e-05, 0)\">0 1 2 3</text></g></g></g></g><g transform=\"matrix(1.0, 0.0, 0.0, 1.0, 24.0, 0.0)\"><g transform=\"matrix(1.0, 0.0, 0.0, 1.0, 0.475, 0.0)\"><g><g style=\"fill: #ffff00;stroke: black;stroke-width: 0.0;fill-opacity: 0.5;\" transform=\"matrix(1.0, 0.0, 0.0, 1.0, -0.475, -0.45)\"><path d=\"M 0.0 0.0 L 0.95 0.0 L 0.95 0.9 L 0.0 0.9 L 0.0 0.0 Z\" style=\"vector-effect: non-scaling-stroke;\" /></g><g style=\"fill: #ffff00;stroke: black;stroke-width: 0.9;fill-opacity: 0.5;\" transform=\"matrix(1.0, 0.0, 0.0, 1.0, 0.0, 0.1)\"><text style=\"text-align:center; text-anchor:middle; dominant-baseline:middle;&#10;                      font-family:sans-serif; font-weight: bold;&#10;                      font-size:0.9px;&#10;                      vector-effect: non-scaling-stroke;\" transform=\"translate(-5e-05, 0)\" /></g></g></g></g><g transform=\"matrix(1.0, 0.0, 0.0, 1.0, 25.0, 0.0)\"><g transform=\"matrix(1.0, 0.0, 0.0, 1.0, 3.975, 0.0)\"><g><g style=\"fill: #008000;stroke: black;stroke-width: 0.0;fill-opacity: 0.2;\" transform=\"matrix(1.0, 0.0, 0.0, 1.0, -3.975, -0.45)\"><path d=\"M 0.0 0.0 L 7.95 0.0 L 7.95 0.9 L 0.0 0.9 L 0.0 0.0 Z\" style=\"vector-effect: non-scaling-stroke;\" /></g><g style=\"fill: #008000;stroke: black;stroke-width: 0.9;fill-opacity: 0.2;\" transform=\"matrix(1.0, 0.0, 0.0, 1.0, 0.0, 0.1)\"><text style=\"text-align:center; text-anchor:middle; dominant-baseline:middle;&#10;                      font-family:sans-serif; font-weight: bold;&#10;                      font-size:0.9px;&#10;                      vector-effect: non-scaling-stroke;\" transform=\"translate(-5e-05, 0)\">0 1 2 3</text></g></g></g></g><g transform=\"matrix(1.0, 0.0, 0.0, 1.0, 33.0, 0.0)\"><g transform=\"matrix(1.0, 0.0, 0.0, 1.0, 0.475, 0.0)\"><g><g style=\"fill: #ffff00;stroke: black;stroke-width: 0.0;fill-opacity: 0.5;\" transform=\"matrix(1.0, 0.0, 0.0, 1.0, -0.475, -0.45)\"><path d=\"M 0.0 0.0 L 0.95 0.0 L 0.95 0.9 L 0.0 0.9 L 0.0 0.0 Z\" style=\"vector-effect: non-scaling-stroke;\" /></g><g style=\"fill: #ffff00;stroke: black;stroke-width: 0.9;fill-opacity: 0.5;\" transform=\"matrix(1.0, 0.0, 0.0, 1.0, 0.0, 0.1)\"><text style=\"text-align:center; text-anchor:middle; dominant-baseline:middle;&#10;                      font-family:sans-serif; font-weight: bold;&#10;                      font-size:0.9px;&#10;                      vector-effect: non-scaling-stroke;\" transform=\"translate(-5e-05, 0)\" /></g></g></g></g><g transform=\"matrix(1.0, 0.0, 0.0, 1.0, 0.0, 0.5)\"><g transform=\"matrix(0.0, -1.0, 1.0, 0.0, 0.0, 0.0)\"><g /></g></g><g transform=\"matrix(1.0, 0.0, 0.0, 1.0, 0.0, 0.5)\"><g /></g><g transform=\"matrix(1.0, 0.0, 0.0, 1.0, 0.0, 0.5)\"><g transform=\"matrix(0.0, -1.0, 1.0, 0.0, 0.0, 0.0)\"><g /></g></g><g transform=\"matrix(1.0, 0.0, 0.0, 1.0, 0.0, 1.5)\"><g><g transform=\"matrix(1.0, 0.0, 0.0, 1.0, -0.0, -0.0)\"><g><g transform=\"matrix(1.0, 0.0, 0.0, 1.0, -0.0, -0.0)\"><g><g transform=\"matrix(1.0, 0.0, 0.0, 1.0, -0.0, -0.0)\"><g><g transform=\"matrix(1.0, 0.0, 0.0, 1.0, -0.0, -0.0)\"><g><g transform=\"matrix(1.0, 0.0, 0.0, 1.0, -0.0, -0.0)\"><g><g transform=\"matrix(1.0, 0.0, 0.0, 1.0, -0.0, -0.0)\"><g><g transform=\"matrix(1.0, 0.0, 0.0, 1.0, -0.0, -0.5)\"><g><g style=\"fill: #ffffff;stroke: black;stroke-width: 1.8;\" transform=\"matrix(1.0, 0.0, 0.0, 1.0, 0.0, -0.5)\"><path d=\"M 0.0 0.0 L 35.0 0.0 L 35.0 1.0 L 0.0 1.0 L 0.0 0.0 Z\" style=\"vector-effect: non-scaling-stroke;\" /></g><g transform=\"matrix(1.0, 0.0, 0.0, 1.0, -2.0, 0.0)\"><g><g style=\"fill: #808080;stroke: black;stroke-width: 0.0;\" transform=\"matrix(1.0, 0.0, 0.0, 1.0, 0.0, 0.0)\"><text style=\"text-align:center; text-anchor:middle; dominant-baseline:middle;&#10;                      font-family:sans-serif; font-weight: bold;&#10;                      font-size:1px;&#10;                      vector-effect: non-scaling-stroke;\" transform=\"translate(-5e-05, 0)\">0</text></g><g /></g></g></g></g><g style=\"fill: #808080;stroke: black;stroke-width: 0.0;\" transform=\"matrix(1.0, 0.0, 0.0, 1.0, 0.0, -0.3333333333333333)\"><path d=\"M 0.0 0.0 L 8.0 0.0 L 8.0 0.3333333333333333 L 0.0 0.3333333333333333 L 0.0 0.0 Z\" style=\"vector-effect: non-scaling-stroke;\" /></g></g></g><g style=\"fill: #808080;stroke: black;stroke-width: 0.0;\" transform=\"matrix(1.0, 0.0, 0.0, 1.0, 8.0, -0.4444444444444444)\"><path d=\"M 0.0 0.0 L 8.0 0.0 L 8.0 0.4444444444444444 L 0.0 0.4444444444444444 L 0.0 0.0 Z\" style=\"vector-effect: non-scaling-stroke;\" /></g></g></g><g style=\"fill: #808080;stroke: black;stroke-width: 0.0;\" transform=\"matrix(1.0, 0.0, 0.0, 1.0, 16.0, -0.5555555555555556)\"><path d=\"M 0.0 0.0 L 0.0 0.0 L 0.0 0.5555555555555556 L 0.0 0.5555555555555556 L 0.0 0.0 Z\" style=\"vector-effect: non-scaling-stroke;\" /></g></g></g><g style=\"fill: #808080;stroke: black;stroke-width: 0.0;\" transform=\"matrix(1.0, 0.0, 0.0, 1.0, 16.0, -0.6666666666666666)\"><path d=\"M 0.0 0.0 L 8.0 0.0 L 8.0 0.6666666666666666 L 0.0 0.6666666666666666 L 0.0 0.0 Z\" style=\"vector-effect: non-scaling-stroke;\" /></g></g></g><g style=\"fill: #808080;stroke: black;stroke-width: 0.0;\" transform=\"matrix(1.0, 0.0, 0.0, 1.0, 24.0, -0.6111111111111112)\"><path d=\"M 0.0 0.0 L 1.0 0.0 L 1.0 0.6111111111111112 L 0.0 0.6111111111111112 L 0.0 0.0 Z\" style=\"vector-effect: non-scaling-stroke;\" /></g></g></g><g style=\"fill: #808080;stroke: black;stroke-width: 0.0;\" transform=\"matrix(1.0, 0.0, 0.0, 1.0, 25.0, -0.5)\"><path d=\"M 0.0 0.0 L 8.0 0.0 L 8.0 0.5 L 0.0 0.5 L 0.0 0.0 Z\" style=\"vector-effect: non-scaling-stroke;\" /></g></g></g><g style=\"fill: #808080;stroke: black;stroke-width: 0.0;\" transform=\"matrix(1.0, 0.0, 0.0, 1.0, 33.0, -0.4444444444444444)\"><path d=\"M 0.0 0.0 L 1.0 0.0 L 1.0 0.4444444444444444 L 0.0 0.4444444444444444 L 0.0 0.0 Z\" style=\"vector-effect: non-scaling-stroke;\" /></g><g style=\"stroke: #ff0000;stroke-width: 1.8;\" transform=\"matrix(1.0, 0.0, 0.0, 1.0, 15.95, -1.0)\"><path d=\"M 0.0 0.0 L 0.1 0.0 L 0.1 1.0 L 0.0 1.0 L 0.0 0.0 Z\" style=\"vector-effect: non-scaling-stroke;\" /></g><g transform=\"matrix(1.0, 0.0, 0.0, 1.0, 0.0, 0.0)\"><g transform=\"matrix(0.0, -1.0, 1.0, 0.0, 0.0, 0.0)\"><g /></g></g><g transform=\"matrix(1.0, 0.0, 0.0, 1.0, 0.0, 0.0)\"><g /></g></g></g></g></g></g></g></g><g /></g></g></g></g></svg>"
      ],
      "text/html": [
       "<?xml version=\"1.0\" encoding=\"utf-8\" ?>\n",
       "<svg baseProfile=\"full\" height=\"400\" version=\"1.1\" width=\"950\" xmlns=\"http://www.w3.org/2000/svg\" xmlns:ev=\"http://www.w3.org/2001/xml-events\" xmlns:xlink=\"http://www.w3.org/1999/xlink\"><defs><marker id=\"arrow\" markerHeight=\"3.5\" markerWidth=\"5\" orient=\"auto\" refX=\"5.0\" refY=\"1.7\"><polygon points=\"0,0 5,1.75 0,3.5\" /></marker></defs><g style=\"fill:white;\"><g transform=\"matrix(1.0, 0.0, 0.0, 1.0, 474.99999999999994, 200.0)\"><g transform=\"matrix(47.61904761904762, 0.0, 0.0, 47.61904761904762, 0.0, 0.0)\"><g><g transform=\"matrix(1.0, 0.0, 0.0, 1.0, -0.0, -0.0)\"><g><g style=\"stroke: black;stroke-width: 0.0;\" transform=\"matrix(1.0, 0.0, 0.0, 1.0, -0.75, -4.0)\"><path d=\"M 0.0 0.0 L 1.5 0.0 L 1.5 8.0 L 0.0 8.0 L 0.0 0.0 Z\" style=\"vector-effect: non-scaling-stroke;\" /></g><g transform=\"matrix(1.0, 0.0, 0.0, 1.0, -8.0, -0.25)\"><g transform=\"matrix(0.5, 0.0, 0.0, 0.5, 0.0, 0.0)\"><g><g /><g style=\"fill: #d3d3d3;stroke: black;stroke-width: 1.8;\" transform=\"matrix(1.0, 0.0, 0.0, 1.0, 0.0, -0.5)\"><path d=\"M 0.0 0.0 L 35.0 0.0 L 35.0 1.0 L 0.0 1.0 L 0.0 0.0 Z\" style=\"vector-effect: non-scaling-stroke;\" /></g><g transform=\"matrix(1.0, 0.0, 0.0, 1.0, -2.0, 0.0)\"><g><g style=\"fill: #ffa500;stroke: black;stroke-width: 0.0;\" transform=\"matrix(1.0, 0.0, 0.0, 1.0, 0.0, 0.0)\"><text style=\"text-align:center; text-anchor:middle; dominant-baseline:middle;&#10;                      font-family:sans-serif; font-weight: bold;&#10;                      font-size:1px;&#10;                      vector-effect: non-scaling-stroke;\" transform=\"translate(-5e-05, 0)\">0</text></g><g /></g></g><g transform=\"matrix(1.0, 0.0, 0.0, 1.0, 0.0, 0.0)\"><g transform=\"matrix(1.0, 0.0, 0.0, 1.0, 3.975, 0.0)\"><g><g style=\"fill: #008000;stroke: black;stroke-width: 0.0;\" transform=\"matrix(1.0, 0.0, 0.0, 1.0, -3.975, -0.45)\"><path d=\"M 0.0 0.0 L 7.95 0.0 L 7.95 0.9 L 0.0 0.9 L 0.0 0.0 Z\" style=\"vector-effect: non-scaling-stroke;\" /></g><g style=\"fill: #008000;stroke: black;stroke-width: 0.9;\" transform=\"matrix(1.0, 0.0, 0.0, 1.0, 0.0, 0.1)\"><text style=\"text-align:center; text-anchor:middle; dominant-baseline:middle;&#10;                      font-family:sans-serif; font-weight: bold;&#10;                      font-size:0.9px;&#10;                      vector-effect: non-scaling-stroke;\" transform=\"translate(-5e-05, 0)\">0 1 2 3</text></g></g></g></g><g transform=\"matrix(1.0, 0.0, 0.0, 1.0, 8.0, 0.0)\"><g transform=\"matrix(1.0, 0.0, 0.0, 1.0, 3.975, 0.0)\"><g><g style=\"fill: #bfbf00;stroke: black;stroke-width: 0.0;\" transform=\"matrix(1.0, 0.0, 0.0, 1.0, -3.975, -0.45)\"><path d=\"M 0.0 0.0 L 7.95 0.0 L 7.95 0.9 L 0.0 0.9 L 0.0 0.0 Z\" style=\"vector-effect: non-scaling-stroke;\" /></g><g style=\"fill: #bfbf00;stroke: black;stroke-width: 0.9;\" transform=\"matrix(1.0, 0.0, 0.0, 1.0, 0.0, 0.1)\"><text style=\"text-align:center; text-anchor:middle; dominant-baseline:middle;&#10;                      font-family:sans-serif; font-weight: bold;&#10;                      font-size:0.9px;&#10;                      vector-effect: non-scaling-stroke;\" transform=\"translate(-5e-05, 0)\">0 1 2 3</text></g></g></g></g><g transform=\"matrix(1.0, 0.0, 0.0, 1.0, 16.0, 0.0)\"><g transform=\"matrix(1.0, 0.0, 0.0, 1.0, 3.975, 0.0)\"><g><g style=\"fill: #bfbf00;stroke: black;stroke-width: 0.0;fill-opacity: 0.2;\" transform=\"matrix(1.0, 0.0, 0.0, 1.0, -3.975, -0.45)\"><path d=\"M 0.0 0.0 L 7.95 0.0 L 7.95 0.9 L 0.0 0.9 L 0.0 0.0 Z\" style=\"vector-effect: non-scaling-stroke;\" /></g><g style=\"fill: #bfbf00;stroke: black;stroke-width: 0.9;fill-opacity: 0.2;\" transform=\"matrix(1.0, 0.0, 0.0, 1.0, 0.0, 0.1)\"><text style=\"text-align:center; text-anchor:middle; dominant-baseline:middle;&#10;                      font-family:sans-serif; font-weight: bold;&#10;                      font-size:0.9px;&#10;                      vector-effect: non-scaling-stroke;\" transform=\"translate(-5e-05, 0)\">0 1 2 3</text></g></g></g></g><g transform=\"matrix(1.0, 0.0, 0.0, 1.0, 24.0, 0.0)\"><g transform=\"matrix(1.0, 0.0, 0.0, 1.0, 0.475, 0.0)\"><g><g style=\"fill: #ffff00;stroke: black;stroke-width: 0.0;fill-opacity: 0.5;\" transform=\"matrix(1.0, 0.0, 0.0, 1.0, -0.475, -0.45)\"><path d=\"M 0.0 0.0 L 0.95 0.0 L 0.95 0.9 L 0.0 0.9 L 0.0 0.0 Z\" style=\"vector-effect: non-scaling-stroke;\" /></g><g style=\"fill: #ffff00;stroke: black;stroke-width: 0.9;fill-opacity: 0.5;\" transform=\"matrix(1.0, 0.0, 0.0, 1.0, 0.0, 0.1)\"><text style=\"text-align:center; text-anchor:middle; dominant-baseline:middle;&#10;                      font-family:sans-serif; font-weight: bold;&#10;                      font-size:0.9px;&#10;                      vector-effect: non-scaling-stroke;\" transform=\"translate(-5e-05, 0)\" /></g></g></g></g><g transform=\"matrix(1.0, 0.0, 0.0, 1.0, 25.0, 0.0)\"><g transform=\"matrix(1.0, 0.0, 0.0, 1.0, 3.975, 0.0)\"><g><g style=\"fill: #008000;stroke: black;stroke-width: 0.0;fill-opacity: 0.2;\" transform=\"matrix(1.0, 0.0, 0.0, 1.0, -3.975, -0.45)\"><path d=\"M 0.0 0.0 L 7.95 0.0 L 7.95 0.9 L 0.0 0.9 L 0.0 0.0 Z\" style=\"vector-effect: non-scaling-stroke;\" /></g><g style=\"fill: #008000;stroke: black;stroke-width: 0.9;fill-opacity: 0.2;\" transform=\"matrix(1.0, 0.0, 0.0, 1.0, 0.0, 0.1)\"><text style=\"text-align:center; text-anchor:middle; dominant-baseline:middle;&#10;                      font-family:sans-serif; font-weight: bold;&#10;                      font-size:0.9px;&#10;                      vector-effect: non-scaling-stroke;\" transform=\"translate(-5e-05, 0)\">0 1 2 3</text></g></g></g></g><g transform=\"matrix(1.0, 0.0, 0.0, 1.0, 33.0, 0.0)\"><g transform=\"matrix(1.0, 0.0, 0.0, 1.0, 0.475, 0.0)\"><g><g style=\"fill: #ffff00;stroke: black;stroke-width: 0.0;fill-opacity: 0.5;\" transform=\"matrix(1.0, 0.0, 0.0, 1.0, -0.475, -0.45)\"><path d=\"M 0.0 0.0 L 0.95 0.0 L 0.95 0.9 L 0.0 0.9 L 0.0 0.0 Z\" style=\"vector-effect: non-scaling-stroke;\" /></g><g style=\"fill: #ffff00;stroke: black;stroke-width: 0.9;fill-opacity: 0.5;\" transform=\"matrix(1.0, 0.0, 0.0, 1.0, 0.0, 0.1)\"><text style=\"text-align:center; text-anchor:middle; dominant-baseline:middle;&#10;                      font-family:sans-serif; font-weight: bold;&#10;                      font-size:0.9px;&#10;                      vector-effect: non-scaling-stroke;\" transform=\"translate(-5e-05, 0)\" /></g></g></g></g><g transform=\"matrix(1.0, 0.0, 0.0, 1.0, 0.0, 0.5)\"><g transform=\"matrix(0.0, -1.0, 1.0, 0.0, 0.0, 0.0)\"><g /></g></g><g transform=\"matrix(1.0, 0.0, 0.0, 1.0, 0.0, 0.5)\"><g /></g><g transform=\"matrix(1.0, 0.0, 0.0, 1.0, 0.0, 0.5)\"><g transform=\"matrix(0.0, -1.0, 1.0, 0.0, 0.0, 0.0)\"><g /></g></g><g transform=\"matrix(1.0, 0.0, 0.0, 1.0, 0.0, 1.5)\"><g><g transform=\"matrix(1.0, 0.0, 0.0, 1.0, -0.0, -0.0)\"><g><g transform=\"matrix(1.0, 0.0, 0.0, 1.0, -0.0, -0.0)\"><g><g transform=\"matrix(1.0, 0.0, 0.0, 1.0, -0.0, -0.0)\"><g><g transform=\"matrix(1.0, 0.0, 0.0, 1.0, -0.0, -0.0)\"><g><g transform=\"matrix(1.0, 0.0, 0.0, 1.0, -0.0, -0.0)\"><g><g transform=\"matrix(1.0, 0.0, 0.0, 1.0, -0.0, -0.0)\"><g><g transform=\"matrix(1.0, 0.0, 0.0, 1.0, -0.0, -0.5)\"><g><g style=\"fill: #ffffff;stroke: black;stroke-width: 1.8;\" transform=\"matrix(1.0, 0.0, 0.0, 1.0, 0.0, -0.5)\"><path d=\"M 0.0 0.0 L 35.0 0.0 L 35.0 1.0 L 0.0 1.0 L 0.0 0.0 Z\" style=\"vector-effect: non-scaling-stroke;\" /></g><g transform=\"matrix(1.0, 0.0, 0.0, 1.0, -2.0, 0.0)\"><g><g style=\"fill: #808080;stroke: black;stroke-width: 0.0;\" transform=\"matrix(1.0, 0.0, 0.0, 1.0, 0.0, 0.0)\"><text style=\"text-align:center; text-anchor:middle; dominant-baseline:middle;&#10;                      font-family:sans-serif; font-weight: bold;&#10;                      font-size:1px;&#10;                      vector-effect: non-scaling-stroke;\" transform=\"translate(-5e-05, 0)\">0</text></g><g /></g></g></g></g><g style=\"fill: #808080;stroke: black;stroke-width: 0.0;\" transform=\"matrix(1.0, 0.0, 0.0, 1.0, 0.0, -0.3333333333333333)\"><path d=\"M 0.0 0.0 L 8.0 0.0 L 8.0 0.3333333333333333 L 0.0 0.3333333333333333 L 0.0 0.0 Z\" style=\"vector-effect: non-scaling-stroke;\" /></g></g></g><g style=\"fill: #808080;stroke: black;stroke-width: 0.0;\" transform=\"matrix(1.0, 0.0, 0.0, 1.0, 8.0, -0.4444444444444444)\"><path d=\"M 0.0 0.0 L 8.0 0.0 L 8.0 0.4444444444444444 L 0.0 0.4444444444444444 L 0.0 0.0 Z\" style=\"vector-effect: non-scaling-stroke;\" /></g></g></g><g style=\"fill: #808080;stroke: black;stroke-width: 0.0;\" transform=\"matrix(1.0, 0.0, 0.0, 1.0, 16.0, -0.5555555555555556)\"><path d=\"M 0.0 0.0 L 0.0 0.0 L 0.0 0.5555555555555556 L 0.0 0.5555555555555556 L 0.0 0.0 Z\" style=\"vector-effect: non-scaling-stroke;\" /></g></g></g><g style=\"fill: #808080;stroke: black;stroke-width: 0.0;\" transform=\"matrix(1.0, 0.0, 0.0, 1.0, 16.0, -0.6666666666666666)\"><path d=\"M 0.0 0.0 L 8.0 0.0 L 8.0 0.6666666666666666 L 0.0 0.6666666666666666 L 0.0 0.0 Z\" style=\"vector-effect: non-scaling-stroke;\" /></g></g></g><g style=\"fill: #808080;stroke: black;stroke-width: 0.0;\" transform=\"matrix(1.0, 0.0, 0.0, 1.0, 24.0, -0.6111111111111112)\"><path d=\"M 0.0 0.0 L 1.0 0.0 L 1.0 0.6111111111111112 L 0.0 0.6111111111111112 L 0.0 0.0 Z\" style=\"vector-effect: non-scaling-stroke;\" /></g></g></g><g style=\"fill: #808080;stroke: black;stroke-width: 0.0;\" transform=\"matrix(1.0, 0.0, 0.0, 1.0, 25.0, -0.5)\"><path d=\"M 0.0 0.0 L 8.0 0.0 L 8.0 0.5 L 0.0 0.5 L 0.0 0.0 Z\" style=\"vector-effect: non-scaling-stroke;\" /></g></g></g><g style=\"fill: #808080;stroke: black;stroke-width: 0.0;\" transform=\"matrix(1.0, 0.0, 0.0, 1.0, 33.0, -0.4444444444444444)\"><path d=\"M 0.0 0.0 L 1.0 0.0 L 1.0 0.4444444444444444 L 0.0 0.4444444444444444 L 0.0 0.0 Z\" style=\"vector-effect: non-scaling-stroke;\" /></g><g style=\"stroke: #ff0000;stroke-width: 1.8;\" transform=\"matrix(1.0, 0.0, 0.0, 1.0, 15.95, -1.0)\"><path d=\"M 0.0 0.0 L 0.1 0.0 L 0.1 1.0 L 0.0 1.0 L 0.0 0.0 Z\" style=\"vector-effect: non-scaling-stroke;\" /></g><g transform=\"matrix(1.0, 0.0, 0.0, 1.0, 0.0, 0.0)\"><g transform=\"matrix(0.0, -1.0, 1.0, 0.0, 0.0, 0.0)\"><g /></g></g><g transform=\"matrix(1.0, 0.0, 0.0, 1.0, 0.0, 0.0)\"><g /></g></g></g></g></g></g></g></g><g /></g></g></g></g></svg>"
      ],
      "text/plain": [
       "Compose(envelope=<chalk.envelope.Envelope object at 0x113d06370>, diagrams=[Primitive(shape=Path(loc_trails=[Located(trail=Trail(segments=[Segment(offset=Vec2(1.5, 0.0), origin=Vec2(0.0, 0.0)), Segment(offset=Vec2(0.0, 8.0), origin=Vec2(0.0, 0.0)), Segment(offset=Vec2(-1.5, 0.0), origin=Vec2(0.0, 0.0)), Segment(offset=Vec2(0.0, -8.0), origin=Vec2(0.0, 0.0))], closed=True), location=Vec2(0.0, 0.0))]), style=Style(line_width_=(<WidthType.NORMALIZED: 2>, 0), line_color_=None, fill_color_=None, fill_opacity_=None, dashing_=None, output_size=None), transform=Affine(1.0, 0.0, -0.75,\n",
       "       0.0, 1.0, -4.0)), ApplyTransform(transform=Affine(1.0, 0.0, -8.0,\n",
       "       0.0, 1.0, -0.25), diagram=ApplyTransform(transform=Affine(0.5, 0.0, 0.0,\n",
       "       0.0, 0.5, 0.0), diagram=Compose(envelope=<chalk.envelope.Envelope object at 0x113d01370>, diagrams=[Empty(), Primitive(shape=Path(loc_trails=[Located(trail=Trail(segments=[Segment(offset=Vec2(35.0, 0.0), origin=Vec2(0.0, 0.0)), Segment(offset=Vec2(0.0, 1.0), origin=Vec2(0.0, 0.0)), Segment(offset=Vec2(-35.0, 0.0), origin=Vec2(0.0, 0.0)), Segment(offset=Vec2(0.0, -1.0), origin=Vec2(0.0, 0.0))], closed=True), location=Vec2(0.0, 0.0))]), style=Style(line_width_=None, line_color_=None, fill_color_=<Color LightGray>, fill_opacity_=None, dashing_=None, output_size=None), transform=Affine(1.0, 0.0, 0.0,\n",
       "       0.0, 1.0, -0.5)), ApplyStyle(style=Style(line_width_=None, line_color_=None, fill_color_=<Color orange>, fill_opacity_=None, dashing_=None, output_size=None), diagram=ApplyTransform(transform=Affine(1.0, 0.0, -2.0,\n",
       "       0.0, 1.0, 0.0), diagram=Compose(envelope=<chalk.envelope.Envelope object at 0x113c872b0>, diagrams=[Primitive(shape=Text(text='0', font_size=1), style=Style(line_width_=(<WidthType.NORMALIZED: 2>, 0), line_color_=None, fill_color_=None, fill_opacity_=None, dashing_=None, output_size=None), transform=Affine(1.0, 0.0, 0.0,\n",
       "       0.0, 1.0, 0.0)), Empty()]))), ApplyStyle(style=Style(line_width_=None, line_color_=None, fill_color_=<Color green>, fill_opacity_=None, dashing_=None, output_size=None), diagram=ApplyTransform(transform=Affine(1.0, 0.0, 0.0,\n",
       "       0.0, 1.0, 0.0), diagram=ApplyTransform(transform=Affine(1.0, 0.0, 3.975,\n",
       "       0.0, 1.0, 0.0), diagram=Compose(envelope=<chalk.envelope.Envelope object at 0x113c8ed60>, diagrams=[Primitive(shape=Path(loc_trails=[Located(trail=Trail(segments=[Segment(offset=Vec2(7.95, 0.0), origin=Vec2(0.0, 0.0)), Segment(offset=Vec2(0.0, 0.9), origin=Vec2(0.0, 0.0)), Segment(offset=Vec2(-7.95, 0.0), origin=Vec2(0.0, 0.0)), Segment(offset=Vec2(0.0, -0.9), origin=Vec2(0.0, 0.0))], closed=True), location=Vec2(0.0, 0.0))]), style=Style(line_width_=(<WidthType.NORMALIZED: 2>, 0), line_color_=None, fill_color_=None, fill_opacity_=None, dashing_=None, output_size=None), transform=Affine(1.0, 0.0, -3.975,\n",
       "       0.0, 1.0, -0.45)), Primitive(shape=Text(text='0 1 2 3', font_size=0.9), style=Style(line_width_=(<WidthType.NORMALIZED: 2>, 0.05), line_color_=None, fill_color_=<Color black>, fill_opacity_=None, dashing_=None, output_size=None), transform=Affine(1.0, 0.0, 0.0,\n",
       "       0.0, 1.0, 0.1))])))), ApplyStyle(style=Style(line_width_=None, line_color_=None, fill_color_=<Color #bfbf00>, fill_opacity_=None, dashing_=None, output_size=None), diagram=ApplyTransform(transform=Affine(1.0, 0.0, 8.0,\n",
       "       0.0, 1.0, 0.0), diagram=ApplyTransform(transform=Affine(1.0, 0.0, 3.975,\n",
       "       0.0, 1.0, 0.0), diagram=Compose(envelope=<chalk.envelope.Envelope object at 0x113c75ca0>, diagrams=[Primitive(shape=Path(loc_trails=[Located(trail=Trail(segments=[Segment(offset=Vec2(7.95, 0.0), origin=Vec2(0.0, 0.0)), Segment(offset=Vec2(0.0, 0.9), origin=Vec2(0.0, 0.0)), Segment(offset=Vec2(-7.95, 0.0), origin=Vec2(0.0, 0.0)), Segment(offset=Vec2(0.0, -0.9), origin=Vec2(0.0, 0.0))], closed=True), location=Vec2(0.0, 0.0))]), style=Style(line_width_=(<WidthType.NORMALIZED: 2>, 0), line_color_=None, fill_color_=None, fill_opacity_=None, dashing_=None, output_size=None), transform=Affine(1.0, 0.0, -3.975,\n",
       "       0.0, 1.0, -0.45)), Primitive(shape=Text(text='0 1 2 3', font_size=0.9), style=Style(line_width_=(<WidthType.NORMALIZED: 2>, 0.05), line_color_=None, fill_color_=<Color black>, fill_opacity_=None, dashing_=None, output_size=None), transform=Affine(1.0, 0.0, 0.0,\n",
       "       0.0, 1.0, 0.1))])))), ApplyStyle(style=Style(line_width_=None, line_color_=None, fill_color_=None, fill_opacity_=0.2, dashing_=None, output_size=None), diagram=ApplyStyle(style=Style(line_width_=None, line_color_=None, fill_color_=<Color #bfbf00>, fill_opacity_=None, dashing_=None, output_size=None), diagram=ApplyTransform(transform=Affine(1.0, 0.0, 16.0,\n",
       "       0.0, 1.0, 0.0), diagram=ApplyTransform(transform=Affine(1.0, 0.0, 3.975,\n",
       "       0.0, 1.0, 0.0), diagram=Compose(envelope=<chalk.envelope.Envelope object at 0x113cbd9a0>, diagrams=[Primitive(shape=Path(loc_trails=[Located(trail=Trail(segments=[Segment(offset=Vec2(7.95, 0.0), origin=Vec2(0.0, 0.0)), Segment(offset=Vec2(0.0, 0.9), origin=Vec2(0.0, 0.0)), Segment(offset=Vec2(-7.95, 0.0), origin=Vec2(0.0, 0.0)), Segment(offset=Vec2(0.0, -0.9), origin=Vec2(0.0, 0.0))], closed=True), location=Vec2(0.0, 0.0))]), style=Style(line_width_=(<WidthType.NORMALIZED: 2>, 0), line_color_=None, fill_color_=None, fill_opacity_=None, dashing_=None, output_size=None), transform=Affine(1.0, 0.0, -3.975,\n",
       "       0.0, 1.0, -0.45)), Primitive(shape=Text(text='0 1 2 3', font_size=0.9), style=Style(line_width_=(<WidthType.NORMALIZED: 2>, 0.05), line_color_=None, fill_color_=<Color black>, fill_opacity_=None, dashing_=None, output_size=None), transform=Affine(1.0, 0.0, 0.0,\n",
       "       0.0, 1.0, 0.1))]))))), ApplyStyle(style=Style(line_width_=None, line_color_=None, fill_color_=None, fill_opacity_=0.5, dashing_=None, output_size=None), diagram=ApplyStyle(style=Style(line_width_=None, line_color_=None, fill_color_=<Color yellow>, fill_opacity_=None, dashing_=None, output_size=None), diagram=ApplyTransform(transform=Affine(1.0, 0.0, 24.0,\n",
       "       0.0, 1.0, 0.0), diagram=ApplyTransform(transform=Affine(1.0, 0.0, 0.475,\n",
       "       0.0, 1.0, 0.0), diagram=Compose(envelope=<chalk.envelope.Envelope object at 0x113ccb100>, diagrams=[Primitive(shape=Path(loc_trails=[Located(trail=Trail(segments=[Segment(offset=Vec2(0.95, 0.0), origin=Vec2(0.0, 0.0)), Segment(offset=Vec2(0.0, 0.9), origin=Vec2(0.0, 0.0)), Segment(offset=Vec2(-0.95, 0.0), origin=Vec2(0.0, 0.0)), Segment(offset=Vec2(0.0, -0.9), origin=Vec2(0.0, 0.0))], closed=True), location=Vec2(0.0, 0.0))]), style=Style(line_width_=(<WidthType.NORMALIZED: 2>, 0), line_color_=None, fill_color_=None, fill_opacity_=None, dashing_=None, output_size=None), transform=Affine(1.0, 0.0, -0.475,\n",
       "       0.0, 1.0, -0.45)), Primitive(shape=Text(text='', font_size=0.9), style=Style(line_width_=(<WidthType.NORMALIZED: 2>, 0.05), line_color_=None, fill_color_=<Color black>, fill_opacity_=None, dashing_=None, output_size=None), transform=Affine(1.0, 0.0, 0.0,\n",
       "       0.0, 1.0, 0.1))]))))), ApplyStyle(style=Style(line_width_=None, line_color_=None, fill_color_=None, fill_opacity_=0.2, dashing_=None, output_size=None), diagram=ApplyStyle(style=Style(line_width_=None, line_color_=None, fill_color_=<Color green>, fill_opacity_=None, dashing_=None, output_size=None), diagram=ApplyTransform(transform=Affine(1.0, 0.0, 25.0,\n",
       "       0.0, 1.0, 0.0), diagram=ApplyTransform(transform=Affine(1.0, 0.0, 3.975,\n",
       "       0.0, 1.0, 0.0), diagram=Compose(envelope=<chalk.envelope.Envelope object at 0x113cce910>, diagrams=[Primitive(shape=Path(loc_trails=[Located(trail=Trail(segments=[Segment(offset=Vec2(7.95, 0.0), origin=Vec2(0.0, 0.0)), Segment(offset=Vec2(0.0, 0.9), origin=Vec2(0.0, 0.0)), Segment(offset=Vec2(-7.95, 0.0), origin=Vec2(0.0, 0.0)), Segment(offset=Vec2(0.0, -0.9), origin=Vec2(0.0, 0.0))], closed=True), location=Vec2(0.0, 0.0))]), style=Style(line_width_=(<WidthType.NORMALIZED: 2>, 0), line_color_=None, fill_color_=None, fill_opacity_=None, dashing_=None, output_size=None), transform=Affine(1.0, 0.0, -3.975,\n",
       "       0.0, 1.0, -0.45)), Primitive(shape=Text(text='0 1 2 3', font_size=0.9), style=Style(line_width_=(<WidthType.NORMALIZED: 2>, 0.05), line_color_=None, fill_color_=<Color black>, fill_opacity_=None, dashing_=None, output_size=None), transform=Affine(1.0, 0.0, 0.0,\n",
       "       0.0, 1.0, 0.1))]))))), ApplyStyle(style=Style(line_width_=None, line_color_=None, fill_color_=None, fill_opacity_=0.5, dashing_=None, output_size=None), diagram=ApplyStyle(style=Style(line_width_=None, line_color_=None, fill_color_=<Color yellow>, fill_opacity_=None, dashing_=None, output_size=None), diagram=ApplyTransform(transform=Affine(1.0, 0.0, 33.0,\n",
       "       0.0, 1.0, 0.0), diagram=ApplyTransform(transform=Affine(1.0, 0.0, 0.475,\n",
       "       0.0, 1.0, 0.0), diagram=Compose(envelope=<chalk.envelope.Envelope object at 0x113cd4130>, diagrams=[Primitive(shape=Path(loc_trails=[Located(trail=Trail(segments=[Segment(offset=Vec2(0.95, 0.0), origin=Vec2(0.0, 0.0)), Segment(offset=Vec2(0.0, 0.9), origin=Vec2(0.0, 0.0)), Segment(offset=Vec2(-0.95, 0.0), origin=Vec2(0.0, 0.0)), Segment(offset=Vec2(0.0, -0.9), origin=Vec2(0.0, 0.0))], closed=True), location=Vec2(0.0, 0.0))]), style=Style(line_width_=(<WidthType.NORMALIZED: 2>, 0), line_color_=None, fill_color_=None, fill_opacity_=None, dashing_=None, output_size=None), transform=Affine(1.0, 0.0, -0.475,\n",
       "       0.0, 1.0, -0.45)), Primitive(shape=Text(text='', font_size=0.9), style=Style(line_width_=(<WidthType.NORMALIZED: 2>, 0.05), line_color_=None, fill_color_=<Color black>, fill_opacity_=None, dashing_=None, output_size=None), transform=Affine(1.0, 0.0, 0.0,\n",
       "       0.0, 1.0, 0.1))]))))), ApplyTransform(transform=Affine(1.0, 0.0, 0.0,\n",
       "       0.0, 1.0, 0.5), diagram=ApplyTransform(transform=Affine(0.0, 1.0, 0.0,\n",
       "       -1.0, 0.0, 0.0), diagram=Empty())), ApplyTransform(transform=Affine(1.0, 0.0, 0.0,\n",
       "       0.0, 1.0, 0.5), diagram=Empty()), ApplyTransform(transform=Affine(1.0, 0.0, 0.0,\n",
       "       0.0, 1.0, 0.5), diagram=ApplyTransform(transform=Affine(0.0, 1.0, 0.0,\n",
       "       -1.0, 0.0, 0.0), diagram=Empty())), ApplyTransform(transform=Affine(1.0, 0.0, 0.0,\n",
       "       0.0, 1.0, 1.5), diagram=Compose(envelope=<chalk.envelope.Envelope object at 0x113cfca30>, diagrams=[ApplyTransform(transform=Affine(1.0, 0.0, -0.0,\n",
       "       0.0, 1.0, -0.0), diagram=Compose(envelope=<chalk.envelope.Envelope object at 0x113cf2c10>, diagrams=[ApplyTransform(transform=Affine(1.0, 0.0, -0.0,\n",
       "       0.0, 1.0, -0.0), diagram=Compose(envelope=<chalk.envelope.Envelope object at 0x113cecd30>, diagrams=[ApplyTransform(transform=Affine(1.0, 0.0, -0.0,\n",
       "       0.0, 1.0, -0.0), diagram=Compose(envelope=<chalk.envelope.Envelope object at 0x113ce96a0>, diagrams=[ApplyTransform(transform=Affine(1.0, 0.0, -0.0,\n",
       "       0.0, 1.0, -0.0), diagram=Compose(envelope=<chalk.envelope.Envelope object at 0x113ce5910>, diagrams=[ApplyTransform(transform=Affine(1.0, 0.0, -0.0,\n",
       "       0.0, 1.0, -0.0), diagram=Compose(envelope=<chalk.envelope.Envelope object at 0x113ce1910>, diagrams=[ApplyTransform(transform=Affine(1.0, 0.0, -0.0,\n",
       "       0.0, 1.0, -0.0), diagram=Compose(envelope=<chalk.envelope.Envelope object at 0x113cdeb20>, diagrams=[ApplyTransform(transform=Affine(1.0, 0.0, -0.0,\n",
       "       0.0, 1.0, -0.5), diagram=Compose(envelope=<chalk.envelope.Envelope object at 0x113cdac40>, diagrams=[Primitive(shape=Path(loc_trails=[Located(trail=Trail(segments=[Segment(offset=Vec2(35.0, 0.0), origin=Vec2(0.0, 0.0)), Segment(offset=Vec2(0.0, 1.0), origin=Vec2(0.0, 0.0)), Segment(offset=Vec2(-35.0, 0.0), origin=Vec2(0.0, 0.0)), Segment(offset=Vec2(0.0, -1.0), origin=Vec2(0.0, 0.0))], closed=True), location=Vec2(0.0, 0.0))]), style=Style(line_width_=None, line_color_=None, fill_color_=<Color white>, fill_opacity_=None, dashing_=None, output_size=None), transform=Affine(1.0, 0.0, 0.0,\n",
       "       0.0, 1.0, -0.5)), ApplyStyle(style=Style(line_width_=None, line_color_=None, fill_color_=<Color gray>, fill_opacity_=None, dashing_=None, output_size=None), diagram=ApplyTransform(transform=Affine(1.0, 0.0, -2.0,\n",
       "       0.0, 1.0, 0.0), diagram=Compose(envelope=<chalk.envelope.Envelope object at 0x113cd8e20>, diagrams=[Primitive(shape=Text(text='0', font_size=1), style=Style(line_width_=(<WidthType.NORMALIZED: 2>, 0), line_color_=None, fill_color_=None, fill_opacity_=None, dashing_=None, output_size=None), transform=Affine(1.0, 0.0, 0.0,\n",
       "       0.0, 1.0, 0.0)), Empty()])))])), Primitive(shape=Path(loc_trails=[Located(trail=Trail(segments=[Segment(offset=Vec2(8.0, 0.0), origin=Vec2(0.0, 0.0)), Segment(offset=Vec2(0.0, 0.3333333333333333), origin=Vec2(0.0, 0.0)), Segment(offset=Vec2(-8.0, 0.0), origin=Vec2(0.0, 0.0)), Segment(offset=Vec2(0.0, -0.3333333333333333), origin=Vec2(0.0, 0.0))], closed=True), location=Vec2(0.0, 0.0))]), style=Style(line_width_=(<WidthType.NORMALIZED: 2>, 0), line_color_=None, fill_color_=<Color gray>, fill_opacity_=None, dashing_=None, output_size=None), transform=Affine(1.0, 0.0, 0.0,\n",
       "       0.0, 1.0, -0.3333333333333333))])), Primitive(shape=Path(loc_trails=[Located(trail=Trail(segments=[Segment(offset=Vec2(8.0, 0.0), origin=Vec2(0.0, 0.0)), Segment(offset=Vec2(0.0, 0.4444444444444444), origin=Vec2(0.0, 0.0)), Segment(offset=Vec2(-8.0, 0.0), origin=Vec2(0.0, 0.0)), Segment(offset=Vec2(0.0, -0.4444444444444444), origin=Vec2(0.0, 0.0))], closed=True), location=Vec2(0.0, 0.0))]), style=Style(line_width_=(<WidthType.NORMALIZED: 2>, 0), line_color_=None, fill_color_=<Color gray>, fill_opacity_=None, dashing_=None, output_size=None), transform=Affine(1.0, 0.0, 8.0,\n",
       "       0.0, 1.0, -0.4444444444444444))])), Primitive(shape=Path(loc_trails=[Located(trail=Trail(segments=[Segment(offset=Vec2(0.0, 0.0), origin=Vec2(0.0, 0.0)), Segment(offset=Vec2(0.0, 0.5555555555555556), origin=Vec2(0.0, 0.0)), Segment(offset=Vec2(0.0, 0.0), origin=Vec2(0.0, 0.0)), Segment(offset=Vec2(0.0, -0.5555555555555556), origin=Vec2(0.0, 0.0))], closed=True), location=Vec2(0.0, 0.0))]), style=Style(line_width_=(<WidthType.NORMALIZED: 2>, 0), line_color_=None, fill_color_=<Color gray>, fill_opacity_=None, dashing_=None, output_size=None), transform=Affine(1.0, 0.0, 16.0,\n",
       "       0.0, 1.0, -0.5555555555555556))])), Primitive(shape=Path(loc_trails=[Located(trail=Trail(segments=[Segment(offset=Vec2(8.0, 0.0), origin=Vec2(0.0, 0.0)), Segment(offset=Vec2(0.0, 0.6666666666666666), origin=Vec2(0.0, 0.0)), Segment(offset=Vec2(-8.0, 0.0), origin=Vec2(0.0, 0.0)), Segment(offset=Vec2(0.0, -0.6666666666666666), origin=Vec2(0.0, 0.0))], closed=True), location=Vec2(0.0, 0.0))]), style=Style(line_width_=(<WidthType.NORMALIZED: 2>, 0), line_color_=None, fill_color_=<Color gray>, fill_opacity_=None, dashing_=None, output_size=None), transform=Affine(1.0, 0.0, 16.0,\n",
       "       0.0, 1.0, -0.6666666666666666))])), Primitive(shape=Path(loc_trails=[Located(trail=Trail(segments=[Segment(offset=Vec2(1.0, 0.0), origin=Vec2(0.0, 0.0)), Segment(offset=Vec2(0.0, 0.6111111111111112), origin=Vec2(0.0, 0.0)), Segment(offset=Vec2(-1.0, 0.0), origin=Vec2(0.0, 0.0)), Segment(offset=Vec2(0.0, -0.6111111111111112), origin=Vec2(0.0, 0.0))], closed=True), location=Vec2(0.0, 0.0))]), style=Style(line_width_=(<WidthType.NORMALIZED: 2>, 0), line_color_=None, fill_color_=<Color gray>, fill_opacity_=None, dashing_=None, output_size=None), transform=Affine(1.0, 0.0, 24.0,\n",
       "       0.0, 1.0, -0.6111111111111112))])), Primitive(shape=Path(loc_trails=[Located(trail=Trail(segments=[Segment(offset=Vec2(8.0, 0.0), origin=Vec2(0.0, 0.0)), Segment(offset=Vec2(0.0, 0.5), origin=Vec2(0.0, 0.0)), Segment(offset=Vec2(-8.0, 0.0), origin=Vec2(0.0, 0.0)), Segment(offset=Vec2(0.0, -0.5), origin=Vec2(0.0, 0.0))], closed=True), location=Vec2(0.0, 0.0))]), style=Style(line_width_=(<WidthType.NORMALIZED: 2>, 0), line_color_=None, fill_color_=<Color gray>, fill_opacity_=None, dashing_=None, output_size=None), transform=Affine(1.0, 0.0, 25.0,\n",
       "       0.0, 1.0, -0.5))])), Primitive(shape=Path(loc_trails=[Located(trail=Trail(segments=[Segment(offset=Vec2(1.0, 0.0), origin=Vec2(0.0, 0.0)), Segment(offset=Vec2(0.0, 0.4444444444444444), origin=Vec2(0.0, 0.0)), Segment(offset=Vec2(-1.0, 0.0), origin=Vec2(0.0, 0.0)), Segment(offset=Vec2(0.0, -0.4444444444444444), origin=Vec2(0.0, 0.0))], closed=True), location=Vec2(0.0, 0.0))]), style=Style(line_width_=(<WidthType.NORMALIZED: 2>, 0), line_color_=None, fill_color_=<Color gray>, fill_opacity_=None, dashing_=None, output_size=None), transform=Affine(1.0, 0.0, 33.0,\n",
       "       0.0, 1.0, -0.4444444444444444)), Primitive(shape=Path(loc_trails=[Located(trail=Trail(segments=[Segment(offset=Vec2(0.1, 0.0), origin=Vec2(0.0, 0.0)), Segment(offset=Vec2(0.0, 1.0), origin=Vec2(0.0, 0.0)), Segment(offset=Vec2(-0.1, 0.0), origin=Vec2(0.0, 0.0)), Segment(offset=Vec2(0.0, -1.0), origin=Vec2(0.0, 0.0))], closed=True), location=Vec2(0.0, 0.0))]), style=Style(line_width_=None, line_color_=<Color red>, fill_color_=None, fill_opacity_=None, dashing_=None, output_size=None), transform=Affine(1.0, 0.0, 15.95,\n",
       "       0.0, 1.0, -1.0)), ApplyTransform(transform=Affine(1.0, 0.0, 0.0,\n",
       "       0.0, 1.0, 0.0), diagram=ApplyTransform(transform=Affine(0.0, 1.0, 0.0,\n",
       "       -1.0, 0.0, 0.0), diagram=Empty())), ApplyTransform(transform=Affine(1.0, 0.0, 0.0,\n",
       "       0.0, 1.0, 0.0), diagram=Empty())]))])))])"
      ]
     },
     "execution_count": 87,
     "metadata": {},
     "output_type": "execute_result"
    }
   ],
   "source": [
    "draw([out])"
   ]
  },
  {
   "cell_type": "code",
   "execution_count": 88,
   "id": "74e71f5a",
   "metadata": {},
   "outputs": [
    {
     "name": "stdout",
     "output_type": "stream",
     "text": [
      "Correct!\n"
     ]
    },
    {
     "data": {
      "text/html": [
       "\n",
       "        <video alt=\"test\" controls autoplay=1>\n",
       "            <source src=\"https://openpuppies.com/mp4/HlaTE8H.mp4\"  type=\"video/mp4\">\n",
       "        </video>\n",
       "        "
      ],
      "text/plain": [
       "<IPython.core.display.HTML object>"
      ]
     },
     "execution_count": 88,
     "metadata": {},
     "output_type": "execute_result"
    }
   ],
   "source": [
    "Model.check([out])"
   ]
  },
  {
   "cell_type": "markdown",
   "id": "d25bbcaf",
   "metadata": {},
   "source": [
    "### Puzzle 1 - Gradient Accumulation\n",
    "\n",
    "For this puzzle, the goal is to reduce max memory usage. To do so you are going to run on each batch individually instead of all together. \n",
    "\n",
    "Write a function with four parts. First run on batches {0} and then {1} etc. Sum the grad weights and then update.\n",
    "\n",
    "* Target Time:  17 steps\n",
    "* Target Memory: 2000000"
   ]
  },
  {
   "cell_type": "code",
   "execution_count": 89,
   "id": "4c870ae6",
   "metadata": {},
   "outputs": [],
   "source": [
    "def grad_accum(model: Model) -> Model:\n",
    "    # Storage on device.\n",
    "    weights, opt_states, activations, grad_activations, grad_weights = model.storage()\n",
    "\n",
    "    # Load in the full weights\n",
    "    for l in range(model.LAYERS):\n",
    "        weights[l], opt_states[l] = model.load_weights(l)\n",
    "\n",
    "    for batch in range(model.BATCHES):\n",
    "        activations[0] = model.get_activation(batches=[batch])\n",
    "        for l in range(model.LAYERS):\n",
    "            activations[l+1] = model.forward(l, activations[l], weights[l])\n",
    "        grad_activations[model.LAYERS] = model.loss(activations[model.LAYERS])\n",
    "        for l in reversed(range(model.LAYERS)):\n",
    "            grad_weights_subbatch, grad_activations[l] = model.backward(l, activations[l], grad_activations[l+1], weights[l])\n",
    "            # del activations[l]\n",
    "            # del grad_activations[l+1]\n",
    "            if l in grad_weights:\n",
    "                grad_weights[l] += grad_weights_subbatch\n",
    "            else:\n",
    "                grad_weights[l] = grad_weights_subbatch\n",
    "    for l in reversed(range(model.LAYERS)):\n",
    "        weights[l], opt_states[l] = model.update(l, grad_weights[l], weights[l], opt_states[l])\n",
    "        del grad_weights[l]\n",
    "        del opt_states[l]\n",
    "        \n",
    "    # assert False, 'TODO: Implement me'\n",
    "    for l in range(model.LAYERS):\n",
    "        model.set_final_weight(l, weights[l])\n",
    "    return model"
   ]
  },
  {
   "cell_type": "code",
   "execution_count": 90,
   "id": "672563cf",
   "metadata": {},
   "outputs": [
    {
     "data": {
      "image/svg+xml": [
       "<?xml version=\"1.0\" encoding=\"utf-8\" ?>\n",
       "<svg baseProfile=\"full\" height=\"400\" version=\"1.1\" width=\"233\" xmlns=\"http://www.w3.org/2000/svg\" xmlns:ev=\"http://www.w3.org/2001/xml-events\" xmlns:xlink=\"http://www.w3.org/1999/xlink\"><defs><marker id=\"arrow\" markerHeight=\"3.5\" markerWidth=\"5\" orient=\"auto\" refX=\"5.0\" refY=\"1.7\"><polygon points=\"0,0 5,1.75 0,3.5\" /></marker></defs><g style=\"fill:white;\"><g transform=\"matrix(1.0, 0.0, 0.0, 1.0, 116.50000000000001, 199.99166666666667)\"><g transform=\"matrix(73.96825396825396, 0.0, 0.0, 73.96825396825396, 0.0, 0.0)\"><g><g transform=\"matrix(1.0, 0.0, 0.0, 1.0, -0.0, -2.5749999999999997)\"><g><g style=\"stroke: black;stroke-width: 3.6;\" transform=\"matrix(1.0, 0.0, 0.0, 1.0, -0.75, 0.0)\"><path d=\"M 0.0 0.0 L 1.5 0.0 L 1.5 1.05 L 0.0 1.05 L 0.0 0.0 Z\" style=\"vector-effect: non-scaling-stroke;\" /></g><g style=\"stroke: black;stroke-width: 3.6;\" transform=\"matrix(1.0, 0.0, 0.0, 1.0, -1.5, 0.0)\"><path d=\"M 0.0 0.0 L 3.0 0.0 L 3.0 0.0 L 0.0 0.0 L 0.0 0.0 Z\" style=\"vector-effect: non-scaling-stroke;\" /></g><g transform=\"matrix(1.0, 0.0, 0.0, 1.0, 0.0, 1.05)\"><g transform=\"matrix(0.0, -1.0, 1.0, 0.0, 0.0, 0.0)\"><g /></g></g><g transform=\"matrix(1.0, 0.0, 0.0, 1.0, 0.0, 2.05)\"><g><g style=\"stroke: black;stroke-width: 3.6;\" transform=\"matrix(1.0, 0.0, 0.0, 1.0, -0.75, 0.0)\"><path d=\"M 0.0 0.0 L 1.5 0.0 L 1.5 1.05 L 0.0 1.05 L 0.0 0.0 Z\" style=\"vector-effect: non-scaling-stroke;\" /></g><g style=\"stroke: black;stroke-width: 3.6;\" transform=\"matrix(1.0, 0.0, 0.0, 1.0, -1.5, -1.0)\"><path d=\"M 0.0 0.0 L 3.0 0.0 L 3.0 1.0 L 0.0 1.0 L 0.0 0.0 Z\" style=\"vector-effect: non-scaling-stroke;\" /></g><g transform=\"matrix(1.0, 0.0, 0.0, 1.0, 0.0, 1.05)\"><g transform=\"matrix(0.0, -1.0, 1.0, 0.0, 0.0, 0.0)\"><g /></g></g><g transform=\"matrix(1.0, 0.0, 0.0, 1.0, 0.0, 2.05)\"><g><g style=\"stroke: black;stroke-width: 3.6;\" transform=\"matrix(1.0, 0.0, 0.0, 1.0, -0.75, 0.0)\"><path d=\"M 0.0 0.0 L 1.5 0.0 L 1.5 1.05 L 0.0 1.05 L 0.0 0.0 Z\" style=\"vector-effect: non-scaling-stroke;\" /></g><g style=\"stroke: black;stroke-width: 3.6;\" transform=\"matrix(1.0, 0.0, 0.0, 1.0, -1.5, -1.0)\"><path d=\"M 0.0 0.0 L 3.0 0.0 L 3.0 1.0 L 0.0 1.0 L 0.0 0.0 Z\" style=\"vector-effect: non-scaling-stroke;\" /></g></g></g></g></g><g /><g /><g /><g transform=\"matrix(1.0, 0.0, 0.0, 1.0, 0.0, 1.05)\"><g transform=\"matrix(0.0, -1.0, 1.0, 0.0, 0.0, 0.0)\"><g /></g></g><g transform=\"matrix(1.0, 0.0, 0.0, 1.0, 0.0, 2.05)\"><g><g /><g /><g /><g transform=\"matrix(1.0, 0.0, 0.0, 1.0, 0.0, 1.05)\"><g transform=\"matrix(0.0, -1.0, 1.0, 0.0, 0.0, 0.0)\"><g /></g></g><g transform=\"matrix(1.0, 0.0, 0.0, 1.0, 0.0, 2.05)\"><g><g /><g style=\"fill: #008000;stroke: #ffffff;stroke-width: 0.18;\" transform=\"matrix(1.0, 0.0, 0.0, 1.0, -1.5, -1.0)\"><path d=\"M 0.0 0.0 L 3.0 0.0 L 3.0 1.0 L 0.0 1.0 L 0.0 0.0 Z\" style=\"vector-effect: non-scaling-stroke;\" /></g><g /></g></g></g></g><g /><g /><g /><g transform=\"matrix(1.0, 0.0, 0.0, 1.0, 0.0, 1.05)\"><g transform=\"matrix(0.0, -1.0, 1.0, 0.0, 0.0, 0.0)\"><g /></g></g><g transform=\"matrix(1.0, 0.0, 0.0, 1.0, 0.0, 2.05)\"><g><g /><g style=\"fill: #bfbf00;stroke: #ffffff;stroke-width: 0.18;\" transform=\"matrix(1.0, 0.0, 0.0, 1.0, -1.5, -1.0)\"><path d=\"M 0.0 0.0 L 3.0 0.0 L 3.0 1.0 L 0.0 1.0 L 0.0 0.0 Z\" style=\"vector-effect: non-scaling-stroke;\" /></g><g /><g transform=\"matrix(1.0, 0.0, 0.0, 1.0, 0.0, 1.05)\"><g transform=\"matrix(0.0, -1.0, 1.0, 0.0, 0.0, 0.0)\"><g /></g></g><g transform=\"matrix(1.0, 0.0, 0.0, 1.0, 0.0, 2.05)\"><g><g /><g /><g /></g></g></g></g></g></g><g /></g></g></g></g></svg>"
      ],
      "text/html": [
       "<?xml version=\"1.0\" encoding=\"utf-8\" ?>\n",
       "<svg baseProfile=\"full\" height=\"400\" version=\"1.1\" width=\"233\" xmlns=\"http://www.w3.org/2000/svg\" xmlns:ev=\"http://www.w3.org/2001/xml-events\" xmlns:xlink=\"http://www.w3.org/1999/xlink\"><defs><marker id=\"arrow\" markerHeight=\"3.5\" markerWidth=\"5\" orient=\"auto\" refX=\"5.0\" refY=\"1.7\"><polygon points=\"0,0 5,1.75 0,3.5\" /></marker></defs><g style=\"fill:white;\"><g transform=\"matrix(1.0, 0.0, 0.0, 1.0, 116.50000000000001, 199.99166666666667)\"><g transform=\"matrix(73.96825396825396, 0.0, 0.0, 73.96825396825396, 0.0, 0.0)\"><g><g transform=\"matrix(1.0, 0.0, 0.0, 1.0, -0.0, -2.5749999999999997)\"><g><g style=\"stroke: black;stroke-width: 3.6;\" transform=\"matrix(1.0, 0.0, 0.0, 1.0, -0.75, 0.0)\"><path d=\"M 0.0 0.0 L 1.5 0.0 L 1.5 1.05 L 0.0 1.05 L 0.0 0.0 Z\" style=\"vector-effect: non-scaling-stroke;\" /></g><g style=\"stroke: black;stroke-width: 3.6;\" transform=\"matrix(1.0, 0.0, 0.0, 1.0, -1.5, 0.0)\"><path d=\"M 0.0 0.0 L 3.0 0.0 L 3.0 0.0 L 0.0 0.0 L 0.0 0.0 Z\" style=\"vector-effect: non-scaling-stroke;\" /></g><g transform=\"matrix(1.0, 0.0, 0.0, 1.0, 0.0, 1.05)\"><g transform=\"matrix(0.0, -1.0, 1.0, 0.0, 0.0, 0.0)\"><g /></g></g><g transform=\"matrix(1.0, 0.0, 0.0, 1.0, 0.0, 2.05)\"><g><g style=\"stroke: black;stroke-width: 3.6;\" transform=\"matrix(1.0, 0.0, 0.0, 1.0, -0.75, 0.0)\"><path d=\"M 0.0 0.0 L 1.5 0.0 L 1.5 1.05 L 0.0 1.05 L 0.0 0.0 Z\" style=\"vector-effect: non-scaling-stroke;\" /></g><g style=\"stroke: black;stroke-width: 3.6;\" transform=\"matrix(1.0, 0.0, 0.0, 1.0, -1.5, -1.0)\"><path d=\"M 0.0 0.0 L 3.0 0.0 L 3.0 1.0 L 0.0 1.0 L 0.0 0.0 Z\" style=\"vector-effect: non-scaling-stroke;\" /></g><g transform=\"matrix(1.0, 0.0, 0.0, 1.0, 0.0, 1.05)\"><g transform=\"matrix(0.0, -1.0, 1.0, 0.0, 0.0, 0.0)\"><g /></g></g><g transform=\"matrix(1.0, 0.0, 0.0, 1.0, 0.0, 2.05)\"><g><g style=\"stroke: black;stroke-width: 3.6;\" transform=\"matrix(1.0, 0.0, 0.0, 1.0, -0.75, 0.0)\"><path d=\"M 0.0 0.0 L 1.5 0.0 L 1.5 1.05 L 0.0 1.05 L 0.0 0.0 Z\" style=\"vector-effect: non-scaling-stroke;\" /></g><g style=\"stroke: black;stroke-width: 3.6;\" transform=\"matrix(1.0, 0.0, 0.0, 1.0, -1.5, -1.0)\"><path d=\"M 0.0 0.0 L 3.0 0.0 L 3.0 1.0 L 0.0 1.0 L 0.0 0.0 Z\" style=\"vector-effect: non-scaling-stroke;\" /></g></g></g></g></g><g /><g /><g /><g transform=\"matrix(1.0, 0.0, 0.0, 1.0, 0.0, 1.05)\"><g transform=\"matrix(0.0, -1.0, 1.0, 0.0, 0.0, 0.0)\"><g /></g></g><g transform=\"matrix(1.0, 0.0, 0.0, 1.0, 0.0, 2.05)\"><g><g /><g /><g /><g transform=\"matrix(1.0, 0.0, 0.0, 1.0, 0.0, 1.05)\"><g transform=\"matrix(0.0, -1.0, 1.0, 0.0, 0.0, 0.0)\"><g /></g></g><g transform=\"matrix(1.0, 0.0, 0.0, 1.0, 0.0, 2.05)\"><g><g /><g style=\"fill: #008000;stroke: #ffffff;stroke-width: 0.18;\" transform=\"matrix(1.0, 0.0, 0.0, 1.0, -1.5, -1.0)\"><path d=\"M 0.0 0.0 L 3.0 0.0 L 3.0 1.0 L 0.0 1.0 L 0.0 0.0 Z\" style=\"vector-effect: non-scaling-stroke;\" /></g><g /></g></g></g></g><g /><g /><g /><g transform=\"matrix(1.0, 0.0, 0.0, 1.0, 0.0, 1.05)\"><g transform=\"matrix(0.0, -1.0, 1.0, 0.0, 0.0, 0.0)\"><g /></g></g><g transform=\"matrix(1.0, 0.0, 0.0, 1.0, 0.0, 2.05)\"><g><g /><g style=\"fill: #bfbf00;stroke: #ffffff;stroke-width: 0.18;\" transform=\"matrix(1.0, 0.0, 0.0, 1.0, -1.5, -1.0)\"><path d=\"M 0.0 0.0 L 3.0 0.0 L 3.0 1.0 L 0.0 1.0 L 0.0 0.0 Z\" style=\"vector-effect: non-scaling-stroke;\" /></g><g /><g transform=\"matrix(1.0, 0.0, 0.0, 1.0, 0.0, 1.05)\"><g transform=\"matrix(0.0, -1.0, 1.0, 0.0, 0.0, 0.0)\"><g /></g></g><g transform=\"matrix(1.0, 0.0, 0.0, 1.0, 0.0, 2.05)\"><g><g /><g /><g /></g></g></g></g></g></g><g /></g></g></g></g></svg>"
      ],
      "text/plain": [
       "Compose(envelope=<chalk.envelope.Envelope object at 0x113d388e0>, diagrams=[Primitive(shape=Path(loc_trails=[Located(trail=Trail(segments=[Segment(offset=Vec2(1.5, 0.0), origin=Vec2(0.0, 0.0)), Segment(offset=Vec2(0.0, 1.05), origin=Vec2(0.0, 0.0)), Segment(offset=Vec2(-1.5, 0.0), origin=Vec2(0.0, 0.0)), Segment(offset=Vec2(0.0, -1.05), origin=Vec2(0.0, 0.0))], closed=True), location=Vec2(0.0, 0.0))]), style=Style(line_width_=(<WidthType.NORMALIZED: 2>, 0.2), line_color_=None, fill_color_=None, fill_opacity_=None, dashing_=None, output_size=None), transform=Affine(1.0, 0.0, -0.75,\n",
       "       0.0, 1.0, 0.0)), Primitive(shape=Path(loc_trails=[Located(trail=Trail(segments=[Segment(offset=Vec2(3.0, 0.0), origin=Vec2(0.0, 0.0)), Segment(offset=Vec2(0.0, 0.0), origin=Vec2(0.0, 0.0)), Segment(offset=Vec2(-3.0, 0.0), origin=Vec2(0.0, 0.0)), Segment(offset=Vec2(0.0, 0.0), origin=Vec2(0.0, 0.0))], closed=True), location=Vec2(0.0, 0.0))]), style=Style(line_width_=(<WidthType.NORMALIZED: 2>, 0.2), line_color_=None, fill_color_=None, fill_opacity_=None, dashing_=None, output_size=None), transform=Affine(1.0, 0.0, -1.5,\n",
       "       0.0, 1.0, 0.0)), ApplyTransform(transform=Affine(1.0, 0.0, 0.0,\n",
       "       0.0, 1.0, 1.05), diagram=ApplyTransform(transform=Affine(0.0, 1.0, 0.0,\n",
       "       -1.0, 0.0, 0.0), diagram=Empty())), ApplyTransform(transform=Affine(1.0, 0.0, 0.0,\n",
       "       0.0, 1.0, 2.05), diagram=Compose(envelope=<chalk.envelope.Envelope object at 0x113d27ac0>, diagrams=[Primitive(shape=Path(loc_trails=[Located(trail=Trail(segments=[Segment(offset=Vec2(1.5, 0.0), origin=Vec2(0.0, 0.0)), Segment(offset=Vec2(0.0, 1.05), origin=Vec2(0.0, 0.0)), Segment(offset=Vec2(-1.5, 0.0), origin=Vec2(0.0, 0.0)), Segment(offset=Vec2(0.0, -1.05), origin=Vec2(0.0, 0.0))], closed=True), location=Vec2(0.0, 0.0))]), style=Style(line_width_=(<WidthType.NORMALIZED: 2>, 0.2), line_color_=None, fill_color_=None, fill_opacity_=None, dashing_=None, output_size=None), transform=Affine(1.0, 0.0, -0.75,\n",
       "       0.0, 1.0, 0.0)), Primitive(shape=Path(loc_trails=[Located(trail=Trail(segments=[Segment(offset=Vec2(3.0, 0.0), origin=Vec2(0.0, 0.0)), Segment(offset=Vec2(0.0, 1.0), origin=Vec2(0.0, 0.0)), Segment(offset=Vec2(-3.0, 0.0), origin=Vec2(0.0, 0.0)), Segment(offset=Vec2(0.0, -1.0), origin=Vec2(0.0, 0.0))], closed=True), location=Vec2(0.0, 0.0))]), style=Style(line_width_=(<WidthType.NORMALIZED: 2>, 0.2), line_color_=None, fill_color_=None, fill_opacity_=None, dashing_=None, output_size=None), transform=Affine(1.0, 0.0, -1.5,\n",
       "       0.0, 1.0, -1.0)), ApplyTransform(transform=Affine(1.0, 0.0, 0.0,\n",
       "       0.0, 1.0, 1.05), diagram=ApplyTransform(transform=Affine(0.0, 1.0, 0.0,\n",
       "       -1.0, 0.0, 0.0), diagram=Empty())), ApplyTransform(transform=Affine(1.0, 0.0, 0.0,\n",
       "       0.0, 1.0, 2.05), diagram=Compose(envelope=<chalk.envelope.Envelope object at 0x113d06580>, diagrams=[Primitive(shape=Path(loc_trails=[Located(trail=Trail(segments=[Segment(offset=Vec2(1.5, 0.0), origin=Vec2(0.0, 0.0)), Segment(offset=Vec2(0.0, 1.05), origin=Vec2(0.0, 0.0)), Segment(offset=Vec2(-1.5, 0.0), origin=Vec2(0.0, 0.0)), Segment(offset=Vec2(0.0, -1.05), origin=Vec2(0.0, 0.0))], closed=True), location=Vec2(0.0, 0.0))]), style=Style(line_width_=(<WidthType.NORMALIZED: 2>, 0.2), line_color_=None, fill_color_=None, fill_opacity_=None, dashing_=None, output_size=None), transform=Affine(1.0, 0.0, -0.75,\n",
       "       0.0, 1.0, 0.0)), Primitive(shape=Path(loc_trails=[Located(trail=Trail(segments=[Segment(offset=Vec2(3.0, 0.0), origin=Vec2(0.0, 0.0)), Segment(offset=Vec2(0.0, 1.0), origin=Vec2(0.0, 0.0)), Segment(offset=Vec2(-3.0, 0.0), origin=Vec2(0.0, 0.0)), Segment(offset=Vec2(0.0, -1.0), origin=Vec2(0.0, 0.0))], closed=True), location=Vec2(0.0, 0.0))]), style=Style(line_width_=(<WidthType.NORMALIZED: 2>, 0.2), line_color_=None, fill_color_=None, fill_opacity_=None, dashing_=None, output_size=None), transform=Affine(1.0, 0.0, -1.5,\n",
       "       0.0, 1.0, -1.0))]))])), Empty(), Empty(), Empty(), ApplyTransform(transform=Affine(1.0, 0.0, 0.0,\n",
       "       0.0, 1.0, 1.05), diagram=ApplyTransform(transform=Affine(0.0, 1.0, 0.0,\n",
       "       -1.0, 0.0, 0.0), diagram=Empty())), ApplyTransform(transform=Affine(1.0, 0.0, 0.0,\n",
       "       0.0, 1.0, 2.05), diagram=Compose(envelope=<chalk.envelope.Envelope object at 0x113d3bf40>, diagrams=[Empty(), Empty(), Empty(), ApplyTransform(transform=Affine(1.0, 0.0, 0.0,\n",
       "       0.0, 1.0, 1.05), diagram=ApplyTransform(transform=Affine(0.0, 1.0, 0.0,\n",
       "       -1.0, 0.0, 0.0), diagram=Empty())), ApplyTransform(transform=Affine(1.0, 0.0, 0.0,\n",
       "       0.0, 1.0, 2.05), diagram=Compose(envelope=<chalk.envelope.Envelope object at 0x113d47f40>, diagrams=[Empty(), Primitive(shape=Path(loc_trails=[Located(trail=Trail(segments=[Segment(offset=Vec2(3.0, 0.0), origin=Vec2(0.0, 0.0)), Segment(offset=Vec2(0.0, 1.0), origin=Vec2(0.0, 0.0)), Segment(offset=Vec2(-3.0, 0.0), origin=Vec2(0.0, 0.0)), Segment(offset=Vec2(0.0, -1.0), origin=Vec2(0.0, 0.0))], closed=True), location=Vec2(0.0, 0.0))]), style=Style(line_width_=(<WidthType.NORMALIZED: 2>, 0.01), line_color_=<Color white>, fill_color_=<Color green>, fill_opacity_=None, dashing_=None, output_size=None), transform=Affine(1.0, 0.0, -1.5,\n",
       "       0.0, 1.0, -1.0)), Empty()]))])), Empty(), Empty(), Empty(), ApplyTransform(transform=Affine(1.0, 0.0, 0.0,\n",
       "       0.0, 1.0, 1.05), diagram=ApplyTransform(transform=Affine(0.0, 1.0, 0.0,\n",
       "       -1.0, 0.0, 0.0), diagram=Empty())), ApplyTransform(transform=Affine(1.0, 0.0, 0.0,\n",
       "       0.0, 1.0, 2.05), diagram=Compose(envelope=<chalk.envelope.Envelope object at 0x113d5ff40>, diagrams=[Empty(), Primitive(shape=Path(loc_trails=[Located(trail=Trail(segments=[Segment(offset=Vec2(3.0, 0.0), origin=Vec2(0.0, 0.0)), Segment(offset=Vec2(0.0, 1.0), origin=Vec2(0.0, 0.0)), Segment(offset=Vec2(-3.0, 0.0), origin=Vec2(0.0, 0.0)), Segment(offset=Vec2(0.0, -1.0), origin=Vec2(0.0, 0.0))], closed=True), location=Vec2(0.0, 0.0))]), style=Style(line_width_=(<WidthType.NORMALIZED: 2>, 0.01), line_color_=<Color white>, fill_color_=<Color #bfbf00>, fill_opacity_=None, dashing_=None, output_size=None), transform=Affine(1.0, 0.0, -1.5,\n",
       "       0.0, 1.0, -1.0)), Empty(), ApplyTransform(transform=Affine(1.0, 0.0, 0.0,\n",
       "       0.0, 1.0, 1.05), diagram=ApplyTransform(transform=Affine(0.0, 1.0, 0.0,\n",
       "       -1.0, 0.0, 0.0), diagram=Empty())), ApplyTransform(transform=Affine(1.0, 0.0, 0.0,\n",
       "       0.0, 1.0, 2.05), diagram=Compose(envelope=<chalk.envelope.Envelope object at 0x113d5f700>, diagrams=[Empty(), Empty(), Empty()]))]))])"
      ]
     },
     "execution_count": 90,
     "metadata": {},
     "output_type": "execute_result"
    }
   ],
   "source": [
    "out = grad_accum(Model(layers=2, batches=4, rank=0, dist=Dist(1)))\n",
    "draw_group(out.final_weights)"
   ]
  },
  {
   "cell_type": "code",
   "execution_count": 91,
   "id": "77bb31d7",
   "metadata": {},
   "outputs": [
    {
     "name": "stdout",
     "output_type": "stream",
     "text": [
      "Timesteps: 16.5 \n",
      "Maximum Memory: 2359296.0 at GPU: 0 time: 4\n"
     ]
    },
    {
     "data": {
      "image/svg+xml": [
       "<?xml version=\"1.0\" encoding=\"utf-8\" ?>\n",
       "<svg baseProfile=\"full\" height=\"400\" version=\"1.1\" width=\"950\" xmlns=\"http://www.w3.org/2000/svg\" xmlns:ev=\"http://www.w3.org/2001/xml-events\" xmlns:xlink=\"http://www.w3.org/1999/xlink\"><defs><marker id=\"arrow\" markerHeight=\"3.5\" markerWidth=\"5\" orient=\"auto\" refX=\"5.0\" refY=\"1.7\"><polygon points=\"0,0 5,1.75 0,3.5\" /></marker></defs><g style=\"fill:white;\"><g transform=\"matrix(1.0, 0.0, 0.0, 1.0, 474.99999999999994, 200.0)\"><g transform=\"matrix(47.61904761904762, 0.0, 0.0, 47.61904761904762, 0.0, 0.0)\"><g><g transform=\"matrix(1.0, 0.0, 0.0, 1.0, -0.0, -0.0)\"><g><g style=\"stroke: black;stroke-width: 0.0;\" transform=\"matrix(1.0, 0.0, 0.0, 1.0, -0.75, -4.0)\"><path d=\"M 0.0 0.0 L 1.5 0.0 L 1.5 8.0 L 0.0 8.0 L 0.0 0.0 Z\" style=\"vector-effect: non-scaling-stroke;\" /></g><g transform=\"matrix(1.0, 0.0, 0.0, 1.0, -8.0, -0.25)\"><g transform=\"matrix(0.5, 0.0, 0.0, 0.5, 0.0, 0.0)\"><g><g /><g style=\"fill: #d3d3d3;stroke: black;stroke-width: 1.8;\" transform=\"matrix(1.0, 0.0, 0.0, 1.0, 0.0, -0.5)\"><path d=\"M 0.0 0.0 L 35.0 0.0 L 35.0 1.0 L 0.0 1.0 L 0.0 0.0 Z\" style=\"vector-effect: non-scaling-stroke;\" /></g><g transform=\"matrix(1.0, 0.0, 0.0, 1.0, -2.0, 0.0)\"><g><g style=\"fill: #ffa500;stroke: black;stroke-width: 0.0;\" transform=\"matrix(1.0, 0.0, 0.0, 1.0, 0.0, 0.0)\"><text style=\"text-align:center; text-anchor:middle; dominant-baseline:middle;&#10;                      font-family:sans-serif; font-weight: bold;&#10;                      font-size:1px;&#10;                      vector-effect: non-scaling-stroke;\" transform=\"translate(-5e-05, 0)\">0</text></g><g /></g></g><g transform=\"matrix(1.0, 0.0, 0.0, 1.0, 0.0, 0.0)\"><g transform=\"matrix(1.0, 0.0, 0.0, 1.0, 0.975, 0.0)\"><g><g style=\"fill: #008000;stroke: black;stroke-width: 0.0;\" transform=\"matrix(1.0, 0.0, 0.0, 1.0, -0.975, -0.45)\"><path d=\"M 0.0 0.0 L 1.95 0.0 L 1.95 0.9 L 0.0 0.9 L 0.0 0.0 Z\" style=\"vector-effect: non-scaling-stroke;\" /></g><g style=\"fill: #008000;stroke: black;stroke-width: 0.9;\" transform=\"matrix(1.0, 0.0, 0.0, 1.0, 0.0, 0.1)\"><text style=\"text-align:center; text-anchor:middle; dominant-baseline:middle;&#10;                      font-family:sans-serif; font-weight: bold;&#10;                      font-size:0.9px;&#10;                      vector-effect: non-scaling-stroke;\" transform=\"translate(-5e-05, 0)\">0</text></g></g></g></g><g transform=\"matrix(1.0, 0.0, 0.0, 1.0, 2.0, 0.0)\"><g transform=\"matrix(1.0, 0.0, 0.0, 1.0, 0.975, 0.0)\"><g><g style=\"fill: #bfbf00;stroke: black;stroke-width: 0.0;\" transform=\"matrix(1.0, 0.0, 0.0, 1.0, -0.975, -0.45)\"><path d=\"M 0.0 0.0 L 1.95 0.0 L 1.95 0.9 L 0.0 0.9 L 0.0 0.0 Z\" style=\"vector-effect: non-scaling-stroke;\" /></g><g style=\"fill: #bfbf00;stroke: black;stroke-width: 0.9;\" transform=\"matrix(1.0, 0.0, 0.0, 1.0, 0.0, 0.1)\"><text style=\"text-align:center; text-anchor:middle; dominant-baseline:middle;&#10;                      font-family:sans-serif; font-weight: bold;&#10;                      font-size:0.9px;&#10;                      vector-effect: non-scaling-stroke;\" transform=\"translate(-5e-05, 0)\">0</text></g></g></g></g><g transform=\"matrix(1.0, 0.0, 0.0, 1.0, 4.0, 0.0)\"><g transform=\"matrix(1.0, 0.0, 0.0, 1.0, 0.975, 0.0)\"><g><g style=\"fill: #bfbf00;stroke: black;stroke-width: 0.0;fill-opacity: 0.2;\" transform=\"matrix(1.0, 0.0, 0.0, 1.0, -0.975, -0.45)\"><path d=\"M 0.0 0.0 L 1.95 0.0 L 1.95 0.9 L 0.0 0.9 L 0.0 0.0 Z\" style=\"vector-effect: non-scaling-stroke;\" /></g><g style=\"fill: #bfbf00;stroke: black;stroke-width: 0.9;fill-opacity: 0.2;\" transform=\"matrix(1.0, 0.0, 0.0, 1.0, 0.0, 0.1)\"><text style=\"text-align:center; text-anchor:middle; dominant-baseline:middle;&#10;                      font-family:sans-serif; font-weight: bold;&#10;                      font-size:0.9px;&#10;                      vector-effect: non-scaling-stroke;\" transform=\"translate(-5e-05, 0)\">0</text></g></g></g></g><g transform=\"matrix(1.0, 0.0, 0.0, 1.0, 6.0, 0.0)\"><g transform=\"matrix(1.0, 0.0, 0.0, 1.0, 0.975, 0.0)\"><g><g style=\"fill: #008000;stroke: black;stroke-width: 0.0;fill-opacity: 0.2;\" transform=\"matrix(1.0, 0.0, 0.0, 1.0, -0.975, -0.45)\"><path d=\"M 0.0 0.0 L 1.95 0.0 L 1.95 0.9 L 0.0 0.9 L 0.0 0.0 Z\" style=\"vector-effect: non-scaling-stroke;\" /></g><g style=\"fill: #008000;stroke: black;stroke-width: 0.9;fill-opacity: 0.2;\" transform=\"matrix(1.0, 0.0, 0.0, 1.0, 0.0, 0.1)\"><text style=\"text-align:center; text-anchor:middle; dominant-baseline:middle;&#10;                      font-family:sans-serif; font-weight: bold;&#10;                      font-size:0.9px;&#10;                      vector-effect: non-scaling-stroke;\" transform=\"translate(-5e-05, 0)\">0</text></g></g></g></g><g transform=\"matrix(1.0, 0.0, 0.0, 1.0, 8.0, 0.0)\"><g transform=\"matrix(1.0, 0.0, 0.0, 1.0, 0.975, 0.0)\"><g><g style=\"fill: #008000;stroke: black;stroke-width: 0.0;\" transform=\"matrix(1.0, 0.0, 0.0, 1.0, -0.975, -0.45)\"><path d=\"M 0.0 0.0 L 1.95 0.0 L 1.95 0.9 L 0.0 0.9 L 0.0 0.0 Z\" style=\"vector-effect: non-scaling-stroke;\" /></g><g style=\"fill: #008000;stroke: black;stroke-width: 0.9;\" transform=\"matrix(1.0, 0.0, 0.0, 1.0, 0.0, 0.1)\"><text style=\"text-align:center; text-anchor:middle; dominant-baseline:middle;&#10;                      font-family:sans-serif; font-weight: bold;&#10;                      font-size:0.9px;&#10;                      vector-effect: non-scaling-stroke;\" transform=\"translate(-5e-05, 0)\">1</text></g></g></g></g><g transform=\"matrix(1.0, 0.0, 0.0, 1.0, 10.0, 0.0)\"><g transform=\"matrix(1.0, 0.0, 0.0, 1.0, 0.975, 0.0)\"><g><g style=\"fill: #bfbf00;stroke: black;stroke-width: 0.0;\" transform=\"matrix(1.0, 0.0, 0.0, 1.0, -0.975, -0.45)\"><path d=\"M 0.0 0.0 L 1.95 0.0 L 1.95 0.9 L 0.0 0.9 L 0.0 0.0 Z\" style=\"vector-effect: non-scaling-stroke;\" /></g><g style=\"fill: #bfbf00;stroke: black;stroke-width: 0.9;\" transform=\"matrix(1.0, 0.0, 0.0, 1.0, 0.0, 0.1)\"><text style=\"text-align:center; text-anchor:middle; dominant-baseline:middle;&#10;                      font-family:sans-serif; font-weight: bold;&#10;                      font-size:0.9px;&#10;                      vector-effect: non-scaling-stroke;\" transform=\"translate(-5e-05, 0)\">1</text></g></g></g></g><g transform=\"matrix(1.0, 0.0, 0.0, 1.0, 12.0, 0.0)\"><g transform=\"matrix(1.0, 0.0, 0.0, 1.0, 0.975, 0.0)\"><g><g style=\"fill: #bfbf00;stroke: black;stroke-width: 0.0;fill-opacity: 0.2;\" transform=\"matrix(1.0, 0.0, 0.0, 1.0, -0.975, -0.45)\"><path d=\"M 0.0 0.0 L 1.95 0.0 L 1.95 0.9 L 0.0 0.9 L 0.0 0.0 Z\" style=\"vector-effect: non-scaling-stroke;\" /></g><g style=\"fill: #bfbf00;stroke: black;stroke-width: 0.9;fill-opacity: 0.2;\" transform=\"matrix(1.0, 0.0, 0.0, 1.0, 0.0, 0.1)\"><text style=\"text-align:center; text-anchor:middle; dominant-baseline:middle;&#10;                      font-family:sans-serif; font-weight: bold;&#10;                      font-size:0.9px;&#10;                      vector-effect: non-scaling-stroke;\" transform=\"translate(-5e-05, 0)\">1</text></g></g></g></g><g transform=\"matrix(1.0, 0.0, 0.0, 1.0, 14.0, 0.0)\"><g transform=\"matrix(1.0, 0.0, 0.0, 1.0, 0.975, 0.0)\"><g><g style=\"fill: #008000;stroke: black;stroke-width: 0.0;fill-opacity: 0.2;\" transform=\"matrix(1.0, 0.0, 0.0, 1.0, -0.975, -0.45)\"><path d=\"M 0.0 0.0 L 1.95 0.0 L 1.95 0.9 L 0.0 0.9 L 0.0 0.0 Z\" style=\"vector-effect: non-scaling-stroke;\" /></g><g style=\"fill: #008000;stroke: black;stroke-width: 0.9;fill-opacity: 0.2;\" transform=\"matrix(1.0, 0.0, 0.0, 1.0, 0.0, 0.1)\"><text style=\"text-align:center; text-anchor:middle; dominant-baseline:middle;&#10;                      font-family:sans-serif; font-weight: bold;&#10;                      font-size:0.9px;&#10;                      vector-effect: non-scaling-stroke;\" transform=\"translate(-5e-05, 0)\">1</text></g></g></g></g><g transform=\"matrix(1.0, 0.0, 0.0, 1.0, 16.0, 0.0)\"><g transform=\"matrix(1.0, 0.0, 0.0, 1.0, 0.975, 0.0)\"><g><g style=\"fill: #008000;stroke: black;stroke-width: 0.0;\" transform=\"matrix(1.0, 0.0, 0.0, 1.0, -0.975, -0.45)\"><path d=\"M 0.0 0.0 L 1.95 0.0 L 1.95 0.9 L 0.0 0.9 L 0.0 0.0 Z\" style=\"vector-effect: non-scaling-stroke;\" /></g><g style=\"fill: #008000;stroke: black;stroke-width: 0.9;\" transform=\"matrix(1.0, 0.0, 0.0, 1.0, 0.0, 0.1)\"><text style=\"text-align:center; text-anchor:middle; dominant-baseline:middle;&#10;                      font-family:sans-serif; font-weight: bold;&#10;                      font-size:0.9px;&#10;                      vector-effect: non-scaling-stroke;\" transform=\"translate(-5e-05, 0)\">2</text></g></g></g></g><g transform=\"matrix(1.0, 0.0, 0.0, 1.0, 18.0, 0.0)\"><g transform=\"matrix(1.0, 0.0, 0.0, 1.0, 0.975, 0.0)\"><g><g style=\"fill: #bfbf00;stroke: black;stroke-width: 0.0;\" transform=\"matrix(1.0, 0.0, 0.0, 1.0, -0.975, -0.45)\"><path d=\"M 0.0 0.0 L 1.95 0.0 L 1.95 0.9 L 0.0 0.9 L 0.0 0.0 Z\" style=\"vector-effect: non-scaling-stroke;\" /></g><g style=\"fill: #bfbf00;stroke: black;stroke-width: 0.9;\" transform=\"matrix(1.0, 0.0, 0.0, 1.0, 0.0, 0.1)\"><text style=\"text-align:center; text-anchor:middle; dominant-baseline:middle;&#10;                      font-family:sans-serif; font-weight: bold;&#10;                      font-size:0.9px;&#10;                      vector-effect: non-scaling-stroke;\" transform=\"translate(-5e-05, 0)\">2</text></g></g></g></g><g transform=\"matrix(1.0, 0.0, 0.0, 1.0, 20.0, 0.0)\"><g transform=\"matrix(1.0, 0.0, 0.0, 1.0, 0.975, 0.0)\"><g><g style=\"fill: #bfbf00;stroke: black;stroke-width: 0.0;fill-opacity: 0.2;\" transform=\"matrix(1.0, 0.0, 0.0, 1.0, -0.975, -0.45)\"><path d=\"M 0.0 0.0 L 1.95 0.0 L 1.95 0.9 L 0.0 0.9 L 0.0 0.0 Z\" style=\"vector-effect: non-scaling-stroke;\" /></g><g style=\"fill: #bfbf00;stroke: black;stroke-width: 0.9;fill-opacity: 0.2;\" transform=\"matrix(1.0, 0.0, 0.0, 1.0, 0.0, 0.1)\"><text style=\"text-align:center; text-anchor:middle; dominant-baseline:middle;&#10;                      font-family:sans-serif; font-weight: bold;&#10;                      font-size:0.9px;&#10;                      vector-effect: non-scaling-stroke;\" transform=\"translate(-5e-05, 0)\">2</text></g></g></g></g><g transform=\"matrix(1.0, 0.0, 0.0, 1.0, 22.0, 0.0)\"><g transform=\"matrix(1.0, 0.0, 0.0, 1.0, 0.975, 0.0)\"><g><g style=\"fill: #008000;stroke: black;stroke-width: 0.0;fill-opacity: 0.2;\" transform=\"matrix(1.0, 0.0, 0.0, 1.0, -0.975, -0.45)\"><path d=\"M 0.0 0.0 L 1.95 0.0 L 1.95 0.9 L 0.0 0.9 L 0.0 0.0 Z\" style=\"vector-effect: non-scaling-stroke;\" /></g><g style=\"fill: #008000;stroke: black;stroke-width: 0.9;fill-opacity: 0.2;\" transform=\"matrix(1.0, 0.0, 0.0, 1.0, 0.0, 0.1)\"><text style=\"text-align:center; text-anchor:middle; dominant-baseline:middle;&#10;                      font-family:sans-serif; font-weight: bold;&#10;                      font-size:0.9px;&#10;                      vector-effect: non-scaling-stroke;\" transform=\"translate(-5e-05, 0)\">2</text></g></g></g></g><g transform=\"matrix(1.0, 0.0, 0.0, 1.0, 24.0, 0.0)\"><g transform=\"matrix(1.0, 0.0, 0.0, 1.0, 0.975, 0.0)\"><g><g style=\"fill: #008000;stroke: black;stroke-width: 0.0;\" transform=\"matrix(1.0, 0.0, 0.0, 1.0, -0.975, -0.45)\"><path d=\"M 0.0 0.0 L 1.95 0.0 L 1.95 0.9 L 0.0 0.9 L 0.0 0.0 Z\" style=\"vector-effect: non-scaling-stroke;\" /></g><g style=\"fill: #008000;stroke: black;stroke-width: 0.9;\" transform=\"matrix(1.0, 0.0, 0.0, 1.0, 0.0, 0.1)\"><text style=\"text-align:center; text-anchor:middle; dominant-baseline:middle;&#10;                      font-family:sans-serif; font-weight: bold;&#10;                      font-size:0.9px;&#10;                      vector-effect: non-scaling-stroke;\" transform=\"translate(-5e-05, 0)\">3</text></g></g></g></g><g transform=\"matrix(1.0, 0.0, 0.0, 1.0, 26.0, 0.0)\"><g transform=\"matrix(1.0, 0.0, 0.0, 1.0, 0.975, 0.0)\"><g><g style=\"fill: #bfbf00;stroke: black;stroke-width: 0.0;\" transform=\"matrix(1.0, 0.0, 0.0, 1.0, -0.975, -0.45)\"><path d=\"M 0.0 0.0 L 1.95 0.0 L 1.95 0.9 L 0.0 0.9 L 0.0 0.0 Z\" style=\"vector-effect: non-scaling-stroke;\" /></g><g style=\"fill: #bfbf00;stroke: black;stroke-width: 0.9;\" transform=\"matrix(1.0, 0.0, 0.0, 1.0, 0.0, 0.1)\"><text style=\"text-align:center; text-anchor:middle; dominant-baseline:middle;&#10;                      font-family:sans-serif; font-weight: bold;&#10;                      font-size:0.9px;&#10;                      vector-effect: non-scaling-stroke;\" transform=\"translate(-5e-05, 0)\">3</text></g></g></g></g><g transform=\"matrix(1.0, 0.0, 0.0, 1.0, 28.0, 0.0)\"><g transform=\"matrix(1.0, 0.0, 0.0, 1.0, 0.975, 0.0)\"><g><g style=\"fill: #bfbf00;stroke: black;stroke-width: 0.0;fill-opacity: 0.2;\" transform=\"matrix(1.0, 0.0, 0.0, 1.0, -0.975, -0.45)\"><path d=\"M 0.0 0.0 L 1.95 0.0 L 1.95 0.9 L 0.0 0.9 L 0.0 0.0 Z\" style=\"vector-effect: non-scaling-stroke;\" /></g><g style=\"fill: #bfbf00;stroke: black;stroke-width: 0.9;fill-opacity: 0.2;\" transform=\"matrix(1.0, 0.0, 0.0, 1.0, 0.0, 0.1)\"><text style=\"text-align:center; text-anchor:middle; dominant-baseline:middle;&#10;                      font-family:sans-serif; font-weight: bold;&#10;                      font-size:0.9px;&#10;                      vector-effect: non-scaling-stroke;\" transform=\"translate(-5e-05, 0)\">3</text></g></g></g></g><g transform=\"matrix(1.0, 0.0, 0.0, 1.0, 30.0, 0.0)\"><g transform=\"matrix(1.0, 0.0, 0.0, 1.0, 0.975, 0.0)\"><g><g style=\"fill: #008000;stroke: black;stroke-width: 0.0;fill-opacity: 0.2;\" transform=\"matrix(1.0, 0.0, 0.0, 1.0, -0.975, -0.45)\"><path d=\"M 0.0 0.0 L 1.95 0.0 L 1.95 0.9 L 0.0 0.9 L 0.0 0.0 Z\" style=\"vector-effect: non-scaling-stroke;\" /></g><g style=\"fill: #008000;stroke: black;stroke-width: 0.9;fill-opacity: 0.2;\" transform=\"matrix(1.0, 0.0, 0.0, 1.0, 0.0, 0.1)\"><text style=\"text-align:center; text-anchor:middle; dominant-baseline:middle;&#10;                      font-family:sans-serif; font-weight: bold;&#10;                      font-size:0.9px;&#10;                      vector-effect: non-scaling-stroke;\" transform=\"translate(-5e-05, 0)\">3</text></g></g></g></g><g transform=\"matrix(1.0, 0.0, 0.0, 1.0, 32.0, 0.0)\"><g transform=\"matrix(1.0, 0.0, 0.0, 1.0, 0.475, 0.0)\"><g><g style=\"fill: #ffff00;stroke: black;stroke-width: 0.0;fill-opacity: 0.5;\" transform=\"matrix(1.0, 0.0, 0.0, 1.0, -0.475, -0.45)\"><path d=\"M 0.0 0.0 L 0.95 0.0 L 0.95 0.9 L 0.0 0.9 L 0.0 0.0 Z\" style=\"vector-effect: non-scaling-stroke;\" /></g><g style=\"fill: #ffff00;stroke: black;stroke-width: 0.9;fill-opacity: 0.5;\" transform=\"matrix(1.0, 0.0, 0.0, 1.0, 0.0, 0.1)\"><text style=\"text-align:center; text-anchor:middle; dominant-baseline:middle;&#10;                      font-family:sans-serif; font-weight: bold;&#10;                      font-size:0.9px;&#10;                      vector-effect: non-scaling-stroke;\" transform=\"translate(-5e-05, 0)\" /></g></g></g></g><g transform=\"matrix(1.0, 0.0, 0.0, 1.0, 33.0, 0.0)\"><g transform=\"matrix(1.0, 0.0, 0.0, 1.0, 0.475, 0.0)\"><g><g style=\"fill: #ffff00;stroke: black;stroke-width: 0.0;fill-opacity: 0.5;\" transform=\"matrix(1.0, 0.0, 0.0, 1.0, -0.475, -0.45)\"><path d=\"M 0.0 0.0 L 0.95 0.0 L 0.95 0.9 L 0.0 0.9 L 0.0 0.0 Z\" style=\"vector-effect: non-scaling-stroke;\" /></g><g style=\"fill: #ffff00;stroke: black;stroke-width: 0.9;fill-opacity: 0.5;\" transform=\"matrix(1.0, 0.0, 0.0, 1.0, 0.0, 0.1)\"><text style=\"text-align:center; text-anchor:middle; dominant-baseline:middle;&#10;                      font-family:sans-serif; font-weight: bold;&#10;                      font-size:0.9px;&#10;                      vector-effect: non-scaling-stroke;\" transform=\"translate(-5e-05, 0)\" /></g></g></g></g><g transform=\"matrix(1.0, 0.0, 0.0, 1.0, 0.0, 0.5)\"><g transform=\"matrix(0.0, -1.0, 1.0, 0.0, 0.0, 0.0)\"><g /></g></g><g transform=\"matrix(1.0, 0.0, 0.0, 1.0, 0.0, 0.5)\"><g /></g><g transform=\"matrix(1.0, 0.0, 0.0, 1.0, 0.0, 0.5)\"><g transform=\"matrix(0.0, -1.0, 1.0, 0.0, 0.0, 0.0)\"><g /></g></g><g transform=\"matrix(1.0, 0.0, 0.0, 1.0, 0.0, 1.5)\"><g><g transform=\"matrix(1.0, 0.0, 0.0, 1.0, -0.0, -0.0)\"><g><g transform=\"matrix(1.0, 0.0, 0.0, 1.0, -0.0, -0.0)\"><g><g transform=\"matrix(1.0, 0.0, 0.0, 1.0, -0.0, -0.0)\"><g><g transform=\"matrix(1.0, 0.0, 0.0, 1.0, -0.0, -0.0)\"><g><g transform=\"matrix(1.0, 0.0, 0.0, 1.0, -0.0, -0.0)\"><g><g transform=\"matrix(1.0, 0.0, 0.0, 1.0, -0.0, -0.0)\"><g><g transform=\"matrix(1.0, 0.0, 0.0, 1.0, -0.0, -0.0)\"><g><g transform=\"matrix(1.0, 0.0, 0.0, 1.0, -0.0, -0.0)\"><g><g transform=\"matrix(1.0, 0.0, 0.0, 1.0, -0.0, -0.0)\"><g><g transform=\"matrix(1.0, 0.0, 0.0, 1.0, -0.0, -0.0)\"><g><g transform=\"matrix(1.0, 0.0, 0.0, 1.0, -0.0, -0.0)\"><g><g transform=\"matrix(1.0, 0.0, 0.0, 1.0, -0.0, -0.0)\"><g><g transform=\"matrix(1.0, 0.0, 0.0, 1.0, -0.0, -0.0)\"><g><g transform=\"matrix(1.0, 0.0, 0.0, 1.0, -0.0, -0.0)\"><g><g transform=\"matrix(1.0, 0.0, 0.0, 1.0, -0.0, -0.0)\"><g><g transform=\"matrix(1.0, 0.0, 0.0, 1.0, -0.0, -0.0)\"><g><g transform=\"matrix(1.0, 0.0, 0.0, 1.0, -0.0, -0.0)\"><g><g transform=\"matrix(1.0, 0.0, 0.0, 1.0, -0.0, -0.0)\"><g><g transform=\"matrix(1.0, 0.0, 0.0, 1.0, -0.0, -0.0)\"><g><g transform=\"matrix(1.0, 0.0, 0.0, 1.0, -0.0, -0.0)\"><g><g transform=\"matrix(1.0, 0.0, 0.0, 1.0, -0.0, -0.0)\"><g><g transform=\"matrix(1.0, 0.0, 0.0, 1.0, -0.0, -0.5)\"><g><g style=\"fill: #ffffff;stroke: black;stroke-width: 1.8;\" transform=\"matrix(1.0, 0.0, 0.0, 1.0, 0.0, -0.5)\"><path d=\"M 0.0 0.0 L 35.0 0.0 L 35.0 1.0 L 0.0 1.0 L 0.0 0.0 Z\" style=\"vector-effect: non-scaling-stroke;\" /></g><g transform=\"matrix(1.0, 0.0, 0.0, 1.0, -2.0, 0.0)\"><g><g style=\"fill: #808080;stroke: black;stroke-width: 0.0;\" transform=\"matrix(1.0, 0.0, 0.0, 1.0, 0.0, 0.0)\"><text style=\"text-align:center; text-anchor:middle; dominant-baseline:middle;&#10;                      font-family:sans-serif; font-weight: bold;&#10;                      font-size:1px;&#10;                      vector-effect: non-scaling-stroke;\" transform=\"translate(-5e-05, 0)\">0</text></g><g /></g></g></g></g><g style=\"fill: #808080;stroke: black;stroke-width: 0.0;\" transform=\"matrix(1.0, 0.0, 0.0, 1.0, 0.0, -0.3333333333333333)\"><path d=\"M 0.0 0.0 L 2.0 0.0 L 2.0 0.3333333333333333 L 0.0 0.3333333333333333 L 0.0 0.0 Z\" style=\"vector-effect: non-scaling-stroke;\" /></g></g></g><g style=\"fill: #808080;stroke: black;stroke-width: 0.0;\" transform=\"matrix(1.0, 0.0, 0.0, 1.0, 2.0, -0.37037037037037035)\"><path d=\"M 0.0 0.0 L 2.0 0.0 L 2.0 0.37037037037037035 L 0.0 0.37037037037037035 L 0.0 0.0 Z\" style=\"vector-effect: non-scaling-stroke;\" /></g></g></g><g style=\"fill: #808080;stroke: black;stroke-width: 0.0;\" transform=\"matrix(1.0, 0.0, 0.0, 1.0, 4.0, -0.4074074074074074)\"><path d=\"M 0.0 0.0 L 0.0 0.0 L 0.0 0.4074074074074074 L 0.0 0.4074074074074074 L 0.0 0.0 Z\" style=\"vector-effect: non-scaling-stroke;\" /></g></g></g><g style=\"fill: #808080;stroke: black;stroke-width: 0.0;\" transform=\"matrix(1.0, 0.0, 0.0, 1.0, 4.0, -0.4444444444444444)\"><path d=\"M 0.0 0.0 L 2.0 0.0 L 2.0 0.4444444444444444 L 0.0 0.4444444444444444 L 0.0 0.0 Z\" style=\"vector-effect: non-scaling-stroke;\" /></g></g></g><g style=\"fill: #808080;stroke: black;stroke-width: 0.0;\" transform=\"matrix(1.0, 0.0, 0.0, 1.0, 6.0, -0.5555555555555556)\"><path d=\"M 0.0 0.0 L 2.0 0.0 L 2.0 0.5555555555555556 L 0.0 0.5555555555555556 L 0.0 0.0 Z\" style=\"vector-effect: non-scaling-stroke;\" /></g></g></g><g style=\"fill: #808080;stroke: black;stroke-width: 0.0;\" transform=\"matrix(1.0, 0.0, 0.0, 1.0, 8.0, -0.6666666666666666)\"><path d=\"M 0.0 0.0 L 2.0 0.0 L 2.0 0.6666666666666666 L 0.0 0.6666666666666666 L 0.0 0.0 Z\" style=\"vector-effect: non-scaling-stroke;\" /></g></g></g><g style=\"fill: #808080;stroke: black;stroke-width: 0.0;\" transform=\"matrix(1.0, 0.0, 0.0, 1.0, 10.0, -0.6666666666666666)\"><path d=\"M 0.0 0.0 L 2.0 0.0 L 2.0 0.6666666666666666 L 0.0 0.6666666666666666 L 0.0 0.0 Z\" style=\"vector-effect: non-scaling-stroke;\" /></g></g></g><g style=\"fill: #808080;stroke: black;stroke-width: 0.0;\" transform=\"matrix(1.0, 0.0, 0.0, 1.0, 12.0, -0.6666666666666666)\"><path d=\"M 0.0 0.0 L 0.0 0.0 L 0.0 0.6666666666666666 L 0.0 0.6666666666666666 L 0.0 0.0 Z\" style=\"vector-effect: non-scaling-stroke;\" /></g></g></g><g style=\"fill: #808080;stroke: black;stroke-width: 0.0;\" transform=\"matrix(1.0, 0.0, 0.0, 1.0, 12.0, -0.6666666666666666)\"><path d=\"M 0.0 0.0 L 2.0 0.0 L 2.0 0.6666666666666666 L 0.0 0.6666666666666666 L 0.0 0.0 Z\" style=\"vector-effect: non-scaling-stroke;\" /></g></g></g><g style=\"fill: #808080;stroke: black;stroke-width: 0.0;\" transform=\"matrix(1.0, 0.0, 0.0, 1.0, 14.0, -0.6666666666666666)\"><path d=\"M 0.0 0.0 L 2.0 0.0 L 2.0 0.6666666666666666 L 0.0 0.6666666666666666 L 0.0 0.0 Z\" style=\"vector-effect: non-scaling-stroke;\" /></g></g></g><g style=\"fill: #808080;stroke: black;stroke-width: 0.0;\" transform=\"matrix(1.0, 0.0, 0.0, 1.0, 16.0, -0.6666666666666666)\"><path d=\"M 0.0 0.0 L 2.0 0.0 L 2.0 0.6666666666666666 L 0.0 0.6666666666666666 L 0.0 0.0 Z\" style=\"vector-effect: non-scaling-stroke;\" /></g></g></g><g style=\"fill: #808080;stroke: black;stroke-width: 0.0;\" transform=\"matrix(1.0, 0.0, 0.0, 1.0, 18.0, -0.6666666666666666)\"><path d=\"M 0.0 0.0 L 2.0 0.0 L 2.0 0.6666666666666666 L 0.0 0.6666666666666666 L 0.0 0.0 Z\" style=\"vector-effect: non-scaling-stroke;\" /></g></g></g><g style=\"fill: #808080;stroke: black;stroke-width: 0.0;\" transform=\"matrix(1.0, 0.0, 0.0, 1.0, 20.0, -0.6666666666666666)\"><path d=\"M 0.0 0.0 L 0.0 0.0 L 0.0 0.6666666666666666 L 0.0 0.6666666666666666 L 0.0 0.0 Z\" style=\"vector-effect: non-scaling-stroke;\" /></g></g></g><g style=\"fill: #808080;stroke: black;stroke-width: 0.0;\" transform=\"matrix(1.0, 0.0, 0.0, 1.0, 20.0, -0.6666666666666666)\"><path d=\"M 0.0 0.0 L 2.0 0.0 L 2.0 0.6666666666666666 L 0.0 0.6666666666666666 L 0.0 0.0 Z\" style=\"vector-effect: non-scaling-stroke;\" /></g></g></g><g style=\"fill: #808080;stroke: black;stroke-width: 0.0;\" transform=\"matrix(1.0, 0.0, 0.0, 1.0, 22.0, -0.6666666666666666)\"><path d=\"M 0.0 0.0 L 2.0 0.0 L 2.0 0.6666666666666666 L 0.0 0.6666666666666666 L 0.0 0.0 Z\" style=\"vector-effect: non-scaling-stroke;\" /></g></g></g><g style=\"fill: #808080;stroke: black;stroke-width: 0.0;\" transform=\"matrix(1.0, 0.0, 0.0, 1.0, 24.0, -0.6666666666666666)\"><path d=\"M 0.0 0.0 L 2.0 0.0 L 2.0 0.6666666666666666 L 0.0 0.6666666666666666 L 0.0 0.0 Z\" style=\"vector-effect: non-scaling-stroke;\" /></g></g></g><g style=\"fill: #808080;stroke: black;stroke-width: 0.0;\" transform=\"matrix(1.0, 0.0, 0.0, 1.0, 26.0, -0.6666666666666666)\"><path d=\"M 0.0 0.0 L 2.0 0.0 L 2.0 0.6666666666666666 L 0.0 0.6666666666666666 L 0.0 0.0 Z\" style=\"vector-effect: non-scaling-stroke;\" /></g></g></g><g style=\"fill: #808080;stroke: black;stroke-width: 0.0;\" transform=\"matrix(1.0, 0.0, 0.0, 1.0, 28.0, -0.6666666666666666)\"><path d=\"M 0.0 0.0 L 0.0 0.0 L 0.0 0.6666666666666666 L 0.0 0.6666666666666666 L 0.0 0.0 Z\" style=\"vector-effect: non-scaling-stroke;\" /></g></g></g><g style=\"fill: #808080;stroke: black;stroke-width: 0.0;\" transform=\"matrix(1.0, 0.0, 0.0, 1.0, 28.0, -0.6666666666666666)\"><path d=\"M 0.0 0.0 L 2.0 0.0 L 2.0 0.6666666666666666 L 0.0 0.6666666666666666 L 0.0 0.0 Z\" style=\"vector-effect: non-scaling-stroke;\" /></g></g></g><g style=\"fill: #808080;stroke: black;stroke-width: 0.0;\" transform=\"matrix(1.0, 0.0, 0.0, 1.0, 30.0, -0.6666666666666666)\"><path d=\"M 0.0 0.0 L 2.0 0.0 L 2.0 0.6666666666666666 L 0.0 0.6666666666666666 L 0.0 0.0 Z\" style=\"vector-effect: non-scaling-stroke;\" /></g></g></g><g style=\"fill: #808080;stroke: black;stroke-width: 0.0;\" transform=\"matrix(1.0, 0.0, 0.0, 1.0, 32.0, -0.6666666666666666)\"><path d=\"M 0.0 0.0 L 1.0 0.0 L 1.0 0.6666666666666666 L 0.0 0.6666666666666666 L 0.0 0.0 Z\" style=\"vector-effect: non-scaling-stroke;\" /></g></g></g><g style=\"fill: #808080;stroke: black;stroke-width: 0.0;\" transform=\"matrix(1.0, 0.0, 0.0, 1.0, 33.0, -0.5185185185185185)\"><path d=\"M 0.0 0.0 L 1.0 0.0 L 1.0 0.5185185185185185 L 0.0 0.5185185185185185 L 0.0 0.0 Z\" style=\"vector-effect: non-scaling-stroke;\" /></g><g style=\"stroke: #ff0000;stroke-width: 1.8;\" transform=\"matrix(1.0, 0.0, 0.0, 1.0, 7.95, -1.0)\"><path d=\"M 0.0 0.0 L 0.1 0.0 L 0.1 1.0 L 0.0 1.0 L 0.0 0.0 Z\" style=\"vector-effect: non-scaling-stroke;\" /></g><g transform=\"matrix(1.0, 0.0, 0.0, 1.0, 0.0, 0.0)\"><g transform=\"matrix(0.0, -1.0, 1.0, 0.0, 0.0, 0.0)\"><g /></g></g><g transform=\"matrix(1.0, 0.0, 0.0, 1.0, 0.0, 0.0)\"><g /></g></g></g></g></g></g></g></g><g /></g></g></g></g></svg>"
      ],
      "text/html": [
       "<?xml version=\"1.0\" encoding=\"utf-8\" ?>\n",
       "<svg baseProfile=\"full\" height=\"400\" version=\"1.1\" width=\"950\" xmlns=\"http://www.w3.org/2000/svg\" xmlns:ev=\"http://www.w3.org/2001/xml-events\" xmlns:xlink=\"http://www.w3.org/1999/xlink\"><defs><marker id=\"arrow\" markerHeight=\"3.5\" markerWidth=\"5\" orient=\"auto\" refX=\"5.0\" refY=\"1.7\"><polygon points=\"0,0 5,1.75 0,3.5\" /></marker></defs><g style=\"fill:white;\"><g transform=\"matrix(1.0, 0.0, 0.0, 1.0, 474.99999999999994, 200.0)\"><g transform=\"matrix(47.61904761904762, 0.0, 0.0, 47.61904761904762, 0.0, 0.0)\"><g><g transform=\"matrix(1.0, 0.0, 0.0, 1.0, -0.0, -0.0)\"><g><g style=\"stroke: black;stroke-width: 0.0;\" transform=\"matrix(1.0, 0.0, 0.0, 1.0, -0.75, -4.0)\"><path d=\"M 0.0 0.0 L 1.5 0.0 L 1.5 8.0 L 0.0 8.0 L 0.0 0.0 Z\" style=\"vector-effect: non-scaling-stroke;\" /></g><g transform=\"matrix(1.0, 0.0, 0.0, 1.0, -8.0, -0.25)\"><g transform=\"matrix(0.5, 0.0, 0.0, 0.5, 0.0, 0.0)\"><g><g /><g style=\"fill: #d3d3d3;stroke: black;stroke-width: 1.8;\" transform=\"matrix(1.0, 0.0, 0.0, 1.0, 0.0, -0.5)\"><path d=\"M 0.0 0.0 L 35.0 0.0 L 35.0 1.0 L 0.0 1.0 L 0.0 0.0 Z\" style=\"vector-effect: non-scaling-stroke;\" /></g><g transform=\"matrix(1.0, 0.0, 0.0, 1.0, -2.0, 0.0)\"><g><g style=\"fill: #ffa500;stroke: black;stroke-width: 0.0;\" transform=\"matrix(1.0, 0.0, 0.0, 1.0, 0.0, 0.0)\"><text style=\"text-align:center; text-anchor:middle; dominant-baseline:middle;&#10;                      font-family:sans-serif; font-weight: bold;&#10;                      font-size:1px;&#10;                      vector-effect: non-scaling-stroke;\" transform=\"translate(-5e-05, 0)\">0</text></g><g /></g></g><g transform=\"matrix(1.0, 0.0, 0.0, 1.0, 0.0, 0.0)\"><g transform=\"matrix(1.0, 0.0, 0.0, 1.0, 0.975, 0.0)\"><g><g style=\"fill: #008000;stroke: black;stroke-width: 0.0;\" transform=\"matrix(1.0, 0.0, 0.0, 1.0, -0.975, -0.45)\"><path d=\"M 0.0 0.0 L 1.95 0.0 L 1.95 0.9 L 0.0 0.9 L 0.0 0.0 Z\" style=\"vector-effect: non-scaling-stroke;\" /></g><g style=\"fill: #008000;stroke: black;stroke-width: 0.9;\" transform=\"matrix(1.0, 0.0, 0.0, 1.0, 0.0, 0.1)\"><text style=\"text-align:center; text-anchor:middle; dominant-baseline:middle;&#10;                      font-family:sans-serif; font-weight: bold;&#10;                      font-size:0.9px;&#10;                      vector-effect: non-scaling-stroke;\" transform=\"translate(-5e-05, 0)\">0</text></g></g></g></g><g transform=\"matrix(1.0, 0.0, 0.0, 1.0, 2.0, 0.0)\"><g transform=\"matrix(1.0, 0.0, 0.0, 1.0, 0.975, 0.0)\"><g><g style=\"fill: #bfbf00;stroke: black;stroke-width: 0.0;\" transform=\"matrix(1.0, 0.0, 0.0, 1.0, -0.975, -0.45)\"><path d=\"M 0.0 0.0 L 1.95 0.0 L 1.95 0.9 L 0.0 0.9 L 0.0 0.0 Z\" style=\"vector-effect: non-scaling-stroke;\" /></g><g style=\"fill: #bfbf00;stroke: black;stroke-width: 0.9;\" transform=\"matrix(1.0, 0.0, 0.0, 1.0, 0.0, 0.1)\"><text style=\"text-align:center; text-anchor:middle; dominant-baseline:middle;&#10;                      font-family:sans-serif; font-weight: bold;&#10;                      font-size:0.9px;&#10;                      vector-effect: non-scaling-stroke;\" transform=\"translate(-5e-05, 0)\">0</text></g></g></g></g><g transform=\"matrix(1.0, 0.0, 0.0, 1.0, 4.0, 0.0)\"><g transform=\"matrix(1.0, 0.0, 0.0, 1.0, 0.975, 0.0)\"><g><g style=\"fill: #bfbf00;stroke: black;stroke-width: 0.0;fill-opacity: 0.2;\" transform=\"matrix(1.0, 0.0, 0.0, 1.0, -0.975, -0.45)\"><path d=\"M 0.0 0.0 L 1.95 0.0 L 1.95 0.9 L 0.0 0.9 L 0.0 0.0 Z\" style=\"vector-effect: non-scaling-stroke;\" /></g><g style=\"fill: #bfbf00;stroke: black;stroke-width: 0.9;fill-opacity: 0.2;\" transform=\"matrix(1.0, 0.0, 0.0, 1.0, 0.0, 0.1)\"><text style=\"text-align:center; text-anchor:middle; dominant-baseline:middle;&#10;                      font-family:sans-serif; font-weight: bold;&#10;                      font-size:0.9px;&#10;                      vector-effect: non-scaling-stroke;\" transform=\"translate(-5e-05, 0)\">0</text></g></g></g></g><g transform=\"matrix(1.0, 0.0, 0.0, 1.0, 6.0, 0.0)\"><g transform=\"matrix(1.0, 0.0, 0.0, 1.0, 0.975, 0.0)\"><g><g style=\"fill: #008000;stroke: black;stroke-width: 0.0;fill-opacity: 0.2;\" transform=\"matrix(1.0, 0.0, 0.0, 1.0, -0.975, -0.45)\"><path d=\"M 0.0 0.0 L 1.95 0.0 L 1.95 0.9 L 0.0 0.9 L 0.0 0.0 Z\" style=\"vector-effect: non-scaling-stroke;\" /></g><g style=\"fill: #008000;stroke: black;stroke-width: 0.9;fill-opacity: 0.2;\" transform=\"matrix(1.0, 0.0, 0.0, 1.0, 0.0, 0.1)\"><text style=\"text-align:center; text-anchor:middle; dominant-baseline:middle;&#10;                      font-family:sans-serif; font-weight: bold;&#10;                      font-size:0.9px;&#10;                      vector-effect: non-scaling-stroke;\" transform=\"translate(-5e-05, 0)\">0</text></g></g></g></g><g transform=\"matrix(1.0, 0.0, 0.0, 1.0, 8.0, 0.0)\"><g transform=\"matrix(1.0, 0.0, 0.0, 1.0, 0.975, 0.0)\"><g><g style=\"fill: #008000;stroke: black;stroke-width: 0.0;\" transform=\"matrix(1.0, 0.0, 0.0, 1.0, -0.975, -0.45)\"><path d=\"M 0.0 0.0 L 1.95 0.0 L 1.95 0.9 L 0.0 0.9 L 0.0 0.0 Z\" style=\"vector-effect: non-scaling-stroke;\" /></g><g style=\"fill: #008000;stroke: black;stroke-width: 0.9;\" transform=\"matrix(1.0, 0.0, 0.0, 1.0, 0.0, 0.1)\"><text style=\"text-align:center; text-anchor:middle; dominant-baseline:middle;&#10;                      font-family:sans-serif; font-weight: bold;&#10;                      font-size:0.9px;&#10;                      vector-effect: non-scaling-stroke;\" transform=\"translate(-5e-05, 0)\">1</text></g></g></g></g><g transform=\"matrix(1.0, 0.0, 0.0, 1.0, 10.0, 0.0)\"><g transform=\"matrix(1.0, 0.0, 0.0, 1.0, 0.975, 0.0)\"><g><g style=\"fill: #bfbf00;stroke: black;stroke-width: 0.0;\" transform=\"matrix(1.0, 0.0, 0.0, 1.0, -0.975, -0.45)\"><path d=\"M 0.0 0.0 L 1.95 0.0 L 1.95 0.9 L 0.0 0.9 L 0.0 0.0 Z\" style=\"vector-effect: non-scaling-stroke;\" /></g><g style=\"fill: #bfbf00;stroke: black;stroke-width: 0.9;\" transform=\"matrix(1.0, 0.0, 0.0, 1.0, 0.0, 0.1)\"><text style=\"text-align:center; text-anchor:middle; dominant-baseline:middle;&#10;                      font-family:sans-serif; font-weight: bold;&#10;                      font-size:0.9px;&#10;                      vector-effect: non-scaling-stroke;\" transform=\"translate(-5e-05, 0)\">1</text></g></g></g></g><g transform=\"matrix(1.0, 0.0, 0.0, 1.0, 12.0, 0.0)\"><g transform=\"matrix(1.0, 0.0, 0.0, 1.0, 0.975, 0.0)\"><g><g style=\"fill: #bfbf00;stroke: black;stroke-width: 0.0;fill-opacity: 0.2;\" transform=\"matrix(1.0, 0.0, 0.0, 1.0, -0.975, -0.45)\"><path d=\"M 0.0 0.0 L 1.95 0.0 L 1.95 0.9 L 0.0 0.9 L 0.0 0.0 Z\" style=\"vector-effect: non-scaling-stroke;\" /></g><g style=\"fill: #bfbf00;stroke: black;stroke-width: 0.9;fill-opacity: 0.2;\" transform=\"matrix(1.0, 0.0, 0.0, 1.0, 0.0, 0.1)\"><text style=\"text-align:center; text-anchor:middle; dominant-baseline:middle;&#10;                      font-family:sans-serif; font-weight: bold;&#10;                      font-size:0.9px;&#10;                      vector-effect: non-scaling-stroke;\" transform=\"translate(-5e-05, 0)\">1</text></g></g></g></g><g transform=\"matrix(1.0, 0.0, 0.0, 1.0, 14.0, 0.0)\"><g transform=\"matrix(1.0, 0.0, 0.0, 1.0, 0.975, 0.0)\"><g><g style=\"fill: #008000;stroke: black;stroke-width: 0.0;fill-opacity: 0.2;\" transform=\"matrix(1.0, 0.0, 0.0, 1.0, -0.975, -0.45)\"><path d=\"M 0.0 0.0 L 1.95 0.0 L 1.95 0.9 L 0.0 0.9 L 0.0 0.0 Z\" style=\"vector-effect: non-scaling-stroke;\" /></g><g style=\"fill: #008000;stroke: black;stroke-width: 0.9;fill-opacity: 0.2;\" transform=\"matrix(1.0, 0.0, 0.0, 1.0, 0.0, 0.1)\"><text style=\"text-align:center; text-anchor:middle; dominant-baseline:middle;&#10;                      font-family:sans-serif; font-weight: bold;&#10;                      font-size:0.9px;&#10;                      vector-effect: non-scaling-stroke;\" transform=\"translate(-5e-05, 0)\">1</text></g></g></g></g><g transform=\"matrix(1.0, 0.0, 0.0, 1.0, 16.0, 0.0)\"><g transform=\"matrix(1.0, 0.0, 0.0, 1.0, 0.975, 0.0)\"><g><g style=\"fill: #008000;stroke: black;stroke-width: 0.0;\" transform=\"matrix(1.0, 0.0, 0.0, 1.0, -0.975, -0.45)\"><path d=\"M 0.0 0.0 L 1.95 0.0 L 1.95 0.9 L 0.0 0.9 L 0.0 0.0 Z\" style=\"vector-effect: non-scaling-stroke;\" /></g><g style=\"fill: #008000;stroke: black;stroke-width: 0.9;\" transform=\"matrix(1.0, 0.0, 0.0, 1.0, 0.0, 0.1)\"><text style=\"text-align:center; text-anchor:middle; dominant-baseline:middle;&#10;                      font-family:sans-serif; font-weight: bold;&#10;                      font-size:0.9px;&#10;                      vector-effect: non-scaling-stroke;\" transform=\"translate(-5e-05, 0)\">2</text></g></g></g></g><g transform=\"matrix(1.0, 0.0, 0.0, 1.0, 18.0, 0.0)\"><g transform=\"matrix(1.0, 0.0, 0.0, 1.0, 0.975, 0.0)\"><g><g style=\"fill: #bfbf00;stroke: black;stroke-width: 0.0;\" transform=\"matrix(1.0, 0.0, 0.0, 1.0, -0.975, -0.45)\"><path d=\"M 0.0 0.0 L 1.95 0.0 L 1.95 0.9 L 0.0 0.9 L 0.0 0.0 Z\" style=\"vector-effect: non-scaling-stroke;\" /></g><g style=\"fill: #bfbf00;stroke: black;stroke-width: 0.9;\" transform=\"matrix(1.0, 0.0, 0.0, 1.0, 0.0, 0.1)\"><text style=\"text-align:center; text-anchor:middle; dominant-baseline:middle;&#10;                      font-family:sans-serif; font-weight: bold;&#10;                      font-size:0.9px;&#10;                      vector-effect: non-scaling-stroke;\" transform=\"translate(-5e-05, 0)\">2</text></g></g></g></g><g transform=\"matrix(1.0, 0.0, 0.0, 1.0, 20.0, 0.0)\"><g transform=\"matrix(1.0, 0.0, 0.0, 1.0, 0.975, 0.0)\"><g><g style=\"fill: #bfbf00;stroke: black;stroke-width: 0.0;fill-opacity: 0.2;\" transform=\"matrix(1.0, 0.0, 0.0, 1.0, -0.975, -0.45)\"><path d=\"M 0.0 0.0 L 1.95 0.0 L 1.95 0.9 L 0.0 0.9 L 0.0 0.0 Z\" style=\"vector-effect: non-scaling-stroke;\" /></g><g style=\"fill: #bfbf00;stroke: black;stroke-width: 0.9;fill-opacity: 0.2;\" transform=\"matrix(1.0, 0.0, 0.0, 1.0, 0.0, 0.1)\"><text style=\"text-align:center; text-anchor:middle; dominant-baseline:middle;&#10;                      font-family:sans-serif; font-weight: bold;&#10;                      font-size:0.9px;&#10;                      vector-effect: non-scaling-stroke;\" transform=\"translate(-5e-05, 0)\">2</text></g></g></g></g><g transform=\"matrix(1.0, 0.0, 0.0, 1.0, 22.0, 0.0)\"><g transform=\"matrix(1.0, 0.0, 0.0, 1.0, 0.975, 0.0)\"><g><g style=\"fill: #008000;stroke: black;stroke-width: 0.0;fill-opacity: 0.2;\" transform=\"matrix(1.0, 0.0, 0.0, 1.0, -0.975, -0.45)\"><path d=\"M 0.0 0.0 L 1.95 0.0 L 1.95 0.9 L 0.0 0.9 L 0.0 0.0 Z\" style=\"vector-effect: non-scaling-stroke;\" /></g><g style=\"fill: #008000;stroke: black;stroke-width: 0.9;fill-opacity: 0.2;\" transform=\"matrix(1.0, 0.0, 0.0, 1.0, 0.0, 0.1)\"><text style=\"text-align:center; text-anchor:middle; dominant-baseline:middle;&#10;                      font-family:sans-serif; font-weight: bold;&#10;                      font-size:0.9px;&#10;                      vector-effect: non-scaling-stroke;\" transform=\"translate(-5e-05, 0)\">2</text></g></g></g></g><g transform=\"matrix(1.0, 0.0, 0.0, 1.0, 24.0, 0.0)\"><g transform=\"matrix(1.0, 0.0, 0.0, 1.0, 0.975, 0.0)\"><g><g style=\"fill: #008000;stroke: black;stroke-width: 0.0;\" transform=\"matrix(1.0, 0.0, 0.0, 1.0, -0.975, -0.45)\"><path d=\"M 0.0 0.0 L 1.95 0.0 L 1.95 0.9 L 0.0 0.9 L 0.0 0.0 Z\" style=\"vector-effect: non-scaling-stroke;\" /></g><g style=\"fill: #008000;stroke: black;stroke-width: 0.9;\" transform=\"matrix(1.0, 0.0, 0.0, 1.0, 0.0, 0.1)\"><text style=\"text-align:center; text-anchor:middle; dominant-baseline:middle;&#10;                      font-family:sans-serif; font-weight: bold;&#10;                      font-size:0.9px;&#10;                      vector-effect: non-scaling-stroke;\" transform=\"translate(-5e-05, 0)\">3</text></g></g></g></g><g transform=\"matrix(1.0, 0.0, 0.0, 1.0, 26.0, 0.0)\"><g transform=\"matrix(1.0, 0.0, 0.0, 1.0, 0.975, 0.0)\"><g><g style=\"fill: #bfbf00;stroke: black;stroke-width: 0.0;\" transform=\"matrix(1.0, 0.0, 0.0, 1.0, -0.975, -0.45)\"><path d=\"M 0.0 0.0 L 1.95 0.0 L 1.95 0.9 L 0.0 0.9 L 0.0 0.0 Z\" style=\"vector-effect: non-scaling-stroke;\" /></g><g style=\"fill: #bfbf00;stroke: black;stroke-width: 0.9;\" transform=\"matrix(1.0, 0.0, 0.0, 1.0, 0.0, 0.1)\"><text style=\"text-align:center; text-anchor:middle; dominant-baseline:middle;&#10;                      font-family:sans-serif; font-weight: bold;&#10;                      font-size:0.9px;&#10;                      vector-effect: non-scaling-stroke;\" transform=\"translate(-5e-05, 0)\">3</text></g></g></g></g><g transform=\"matrix(1.0, 0.0, 0.0, 1.0, 28.0, 0.0)\"><g transform=\"matrix(1.0, 0.0, 0.0, 1.0, 0.975, 0.0)\"><g><g style=\"fill: #bfbf00;stroke: black;stroke-width: 0.0;fill-opacity: 0.2;\" transform=\"matrix(1.0, 0.0, 0.0, 1.0, -0.975, -0.45)\"><path d=\"M 0.0 0.0 L 1.95 0.0 L 1.95 0.9 L 0.0 0.9 L 0.0 0.0 Z\" style=\"vector-effect: non-scaling-stroke;\" /></g><g style=\"fill: #bfbf00;stroke: black;stroke-width: 0.9;fill-opacity: 0.2;\" transform=\"matrix(1.0, 0.0, 0.0, 1.0, 0.0, 0.1)\"><text style=\"text-align:center; text-anchor:middle; dominant-baseline:middle;&#10;                      font-family:sans-serif; font-weight: bold;&#10;                      font-size:0.9px;&#10;                      vector-effect: non-scaling-stroke;\" transform=\"translate(-5e-05, 0)\">3</text></g></g></g></g><g transform=\"matrix(1.0, 0.0, 0.0, 1.0, 30.0, 0.0)\"><g transform=\"matrix(1.0, 0.0, 0.0, 1.0, 0.975, 0.0)\"><g><g style=\"fill: #008000;stroke: black;stroke-width: 0.0;fill-opacity: 0.2;\" transform=\"matrix(1.0, 0.0, 0.0, 1.0, -0.975, -0.45)\"><path d=\"M 0.0 0.0 L 1.95 0.0 L 1.95 0.9 L 0.0 0.9 L 0.0 0.0 Z\" style=\"vector-effect: non-scaling-stroke;\" /></g><g style=\"fill: #008000;stroke: black;stroke-width: 0.9;fill-opacity: 0.2;\" transform=\"matrix(1.0, 0.0, 0.0, 1.0, 0.0, 0.1)\"><text style=\"text-align:center; text-anchor:middle; dominant-baseline:middle;&#10;                      font-family:sans-serif; font-weight: bold;&#10;                      font-size:0.9px;&#10;                      vector-effect: non-scaling-stroke;\" transform=\"translate(-5e-05, 0)\">3</text></g></g></g></g><g transform=\"matrix(1.0, 0.0, 0.0, 1.0, 32.0, 0.0)\"><g transform=\"matrix(1.0, 0.0, 0.0, 1.0, 0.475, 0.0)\"><g><g style=\"fill: #ffff00;stroke: black;stroke-width: 0.0;fill-opacity: 0.5;\" transform=\"matrix(1.0, 0.0, 0.0, 1.0, -0.475, -0.45)\"><path d=\"M 0.0 0.0 L 0.95 0.0 L 0.95 0.9 L 0.0 0.9 L 0.0 0.0 Z\" style=\"vector-effect: non-scaling-stroke;\" /></g><g style=\"fill: #ffff00;stroke: black;stroke-width: 0.9;fill-opacity: 0.5;\" transform=\"matrix(1.0, 0.0, 0.0, 1.0, 0.0, 0.1)\"><text style=\"text-align:center; text-anchor:middle; dominant-baseline:middle;&#10;                      font-family:sans-serif; font-weight: bold;&#10;                      font-size:0.9px;&#10;                      vector-effect: non-scaling-stroke;\" transform=\"translate(-5e-05, 0)\" /></g></g></g></g><g transform=\"matrix(1.0, 0.0, 0.0, 1.0, 33.0, 0.0)\"><g transform=\"matrix(1.0, 0.0, 0.0, 1.0, 0.475, 0.0)\"><g><g style=\"fill: #ffff00;stroke: black;stroke-width: 0.0;fill-opacity: 0.5;\" transform=\"matrix(1.0, 0.0, 0.0, 1.0, -0.475, -0.45)\"><path d=\"M 0.0 0.0 L 0.95 0.0 L 0.95 0.9 L 0.0 0.9 L 0.0 0.0 Z\" style=\"vector-effect: non-scaling-stroke;\" /></g><g style=\"fill: #ffff00;stroke: black;stroke-width: 0.9;fill-opacity: 0.5;\" transform=\"matrix(1.0, 0.0, 0.0, 1.0, 0.0, 0.1)\"><text style=\"text-align:center; text-anchor:middle; dominant-baseline:middle;&#10;                      font-family:sans-serif; font-weight: bold;&#10;                      font-size:0.9px;&#10;                      vector-effect: non-scaling-stroke;\" transform=\"translate(-5e-05, 0)\" /></g></g></g></g><g transform=\"matrix(1.0, 0.0, 0.0, 1.0, 0.0, 0.5)\"><g transform=\"matrix(0.0, -1.0, 1.0, 0.0, 0.0, 0.0)\"><g /></g></g><g transform=\"matrix(1.0, 0.0, 0.0, 1.0, 0.0, 0.5)\"><g /></g><g transform=\"matrix(1.0, 0.0, 0.0, 1.0, 0.0, 0.5)\"><g transform=\"matrix(0.0, -1.0, 1.0, 0.0, 0.0, 0.0)\"><g /></g></g><g transform=\"matrix(1.0, 0.0, 0.0, 1.0, 0.0, 1.5)\"><g><g transform=\"matrix(1.0, 0.0, 0.0, 1.0, -0.0, -0.0)\"><g><g transform=\"matrix(1.0, 0.0, 0.0, 1.0, -0.0, -0.0)\"><g><g transform=\"matrix(1.0, 0.0, 0.0, 1.0, -0.0, -0.0)\"><g><g transform=\"matrix(1.0, 0.0, 0.0, 1.0, -0.0, -0.0)\"><g><g transform=\"matrix(1.0, 0.0, 0.0, 1.0, -0.0, -0.0)\"><g><g transform=\"matrix(1.0, 0.0, 0.0, 1.0, -0.0, -0.0)\"><g><g transform=\"matrix(1.0, 0.0, 0.0, 1.0, -0.0, -0.0)\"><g><g transform=\"matrix(1.0, 0.0, 0.0, 1.0, -0.0, -0.0)\"><g><g transform=\"matrix(1.0, 0.0, 0.0, 1.0, -0.0, -0.0)\"><g><g transform=\"matrix(1.0, 0.0, 0.0, 1.0, -0.0, -0.0)\"><g><g transform=\"matrix(1.0, 0.0, 0.0, 1.0, -0.0, -0.0)\"><g><g transform=\"matrix(1.0, 0.0, 0.0, 1.0, -0.0, -0.0)\"><g><g transform=\"matrix(1.0, 0.0, 0.0, 1.0, -0.0, -0.0)\"><g><g transform=\"matrix(1.0, 0.0, 0.0, 1.0, -0.0, -0.0)\"><g><g transform=\"matrix(1.0, 0.0, 0.0, 1.0, -0.0, -0.0)\"><g><g transform=\"matrix(1.0, 0.0, 0.0, 1.0, -0.0, -0.0)\"><g><g transform=\"matrix(1.0, 0.0, 0.0, 1.0, -0.0, -0.0)\"><g><g transform=\"matrix(1.0, 0.0, 0.0, 1.0, -0.0, -0.0)\"><g><g transform=\"matrix(1.0, 0.0, 0.0, 1.0, -0.0, -0.0)\"><g><g transform=\"matrix(1.0, 0.0, 0.0, 1.0, -0.0, -0.0)\"><g><g transform=\"matrix(1.0, 0.0, 0.0, 1.0, -0.0, -0.0)\"><g><g transform=\"matrix(1.0, 0.0, 0.0, 1.0, -0.0, -0.5)\"><g><g style=\"fill: #ffffff;stroke: black;stroke-width: 1.8;\" transform=\"matrix(1.0, 0.0, 0.0, 1.0, 0.0, -0.5)\"><path d=\"M 0.0 0.0 L 35.0 0.0 L 35.0 1.0 L 0.0 1.0 L 0.0 0.0 Z\" style=\"vector-effect: non-scaling-stroke;\" /></g><g transform=\"matrix(1.0, 0.0, 0.0, 1.0, -2.0, 0.0)\"><g><g style=\"fill: #808080;stroke: black;stroke-width: 0.0;\" transform=\"matrix(1.0, 0.0, 0.0, 1.0, 0.0, 0.0)\"><text style=\"text-align:center; text-anchor:middle; dominant-baseline:middle;&#10;                      font-family:sans-serif; font-weight: bold;&#10;                      font-size:1px;&#10;                      vector-effect: non-scaling-stroke;\" transform=\"translate(-5e-05, 0)\">0</text></g><g /></g></g></g></g><g style=\"fill: #808080;stroke: black;stroke-width: 0.0;\" transform=\"matrix(1.0, 0.0, 0.0, 1.0, 0.0, -0.3333333333333333)\"><path d=\"M 0.0 0.0 L 2.0 0.0 L 2.0 0.3333333333333333 L 0.0 0.3333333333333333 L 0.0 0.0 Z\" style=\"vector-effect: non-scaling-stroke;\" /></g></g></g><g style=\"fill: #808080;stroke: black;stroke-width: 0.0;\" transform=\"matrix(1.0, 0.0, 0.0, 1.0, 2.0, -0.37037037037037035)\"><path d=\"M 0.0 0.0 L 2.0 0.0 L 2.0 0.37037037037037035 L 0.0 0.37037037037037035 L 0.0 0.0 Z\" style=\"vector-effect: non-scaling-stroke;\" /></g></g></g><g style=\"fill: #808080;stroke: black;stroke-width: 0.0;\" transform=\"matrix(1.0, 0.0, 0.0, 1.0, 4.0, -0.4074074074074074)\"><path d=\"M 0.0 0.0 L 0.0 0.0 L 0.0 0.4074074074074074 L 0.0 0.4074074074074074 L 0.0 0.0 Z\" style=\"vector-effect: non-scaling-stroke;\" /></g></g></g><g style=\"fill: #808080;stroke: black;stroke-width: 0.0;\" transform=\"matrix(1.0, 0.0, 0.0, 1.0, 4.0, -0.4444444444444444)\"><path d=\"M 0.0 0.0 L 2.0 0.0 L 2.0 0.4444444444444444 L 0.0 0.4444444444444444 L 0.0 0.0 Z\" style=\"vector-effect: non-scaling-stroke;\" /></g></g></g><g style=\"fill: #808080;stroke: black;stroke-width: 0.0;\" transform=\"matrix(1.0, 0.0, 0.0, 1.0, 6.0, -0.5555555555555556)\"><path d=\"M 0.0 0.0 L 2.0 0.0 L 2.0 0.5555555555555556 L 0.0 0.5555555555555556 L 0.0 0.0 Z\" style=\"vector-effect: non-scaling-stroke;\" /></g></g></g><g style=\"fill: #808080;stroke: black;stroke-width: 0.0;\" transform=\"matrix(1.0, 0.0, 0.0, 1.0, 8.0, -0.6666666666666666)\"><path d=\"M 0.0 0.0 L 2.0 0.0 L 2.0 0.6666666666666666 L 0.0 0.6666666666666666 L 0.0 0.0 Z\" style=\"vector-effect: non-scaling-stroke;\" /></g></g></g><g style=\"fill: #808080;stroke: black;stroke-width: 0.0;\" transform=\"matrix(1.0, 0.0, 0.0, 1.0, 10.0, -0.6666666666666666)\"><path d=\"M 0.0 0.0 L 2.0 0.0 L 2.0 0.6666666666666666 L 0.0 0.6666666666666666 L 0.0 0.0 Z\" style=\"vector-effect: non-scaling-stroke;\" /></g></g></g><g style=\"fill: #808080;stroke: black;stroke-width: 0.0;\" transform=\"matrix(1.0, 0.0, 0.0, 1.0, 12.0, -0.6666666666666666)\"><path d=\"M 0.0 0.0 L 0.0 0.0 L 0.0 0.6666666666666666 L 0.0 0.6666666666666666 L 0.0 0.0 Z\" style=\"vector-effect: non-scaling-stroke;\" /></g></g></g><g style=\"fill: #808080;stroke: black;stroke-width: 0.0;\" transform=\"matrix(1.0, 0.0, 0.0, 1.0, 12.0, -0.6666666666666666)\"><path d=\"M 0.0 0.0 L 2.0 0.0 L 2.0 0.6666666666666666 L 0.0 0.6666666666666666 L 0.0 0.0 Z\" style=\"vector-effect: non-scaling-stroke;\" /></g></g></g><g style=\"fill: #808080;stroke: black;stroke-width: 0.0;\" transform=\"matrix(1.0, 0.0, 0.0, 1.0, 14.0, -0.6666666666666666)\"><path d=\"M 0.0 0.0 L 2.0 0.0 L 2.0 0.6666666666666666 L 0.0 0.6666666666666666 L 0.0 0.0 Z\" style=\"vector-effect: non-scaling-stroke;\" /></g></g></g><g style=\"fill: #808080;stroke: black;stroke-width: 0.0;\" transform=\"matrix(1.0, 0.0, 0.0, 1.0, 16.0, -0.6666666666666666)\"><path d=\"M 0.0 0.0 L 2.0 0.0 L 2.0 0.6666666666666666 L 0.0 0.6666666666666666 L 0.0 0.0 Z\" style=\"vector-effect: non-scaling-stroke;\" /></g></g></g><g style=\"fill: #808080;stroke: black;stroke-width: 0.0;\" transform=\"matrix(1.0, 0.0, 0.0, 1.0, 18.0, -0.6666666666666666)\"><path d=\"M 0.0 0.0 L 2.0 0.0 L 2.0 0.6666666666666666 L 0.0 0.6666666666666666 L 0.0 0.0 Z\" style=\"vector-effect: non-scaling-stroke;\" /></g></g></g><g style=\"fill: #808080;stroke: black;stroke-width: 0.0;\" transform=\"matrix(1.0, 0.0, 0.0, 1.0, 20.0, -0.6666666666666666)\"><path d=\"M 0.0 0.0 L 0.0 0.0 L 0.0 0.6666666666666666 L 0.0 0.6666666666666666 L 0.0 0.0 Z\" style=\"vector-effect: non-scaling-stroke;\" /></g></g></g><g style=\"fill: #808080;stroke: black;stroke-width: 0.0;\" transform=\"matrix(1.0, 0.0, 0.0, 1.0, 20.0, -0.6666666666666666)\"><path d=\"M 0.0 0.0 L 2.0 0.0 L 2.0 0.6666666666666666 L 0.0 0.6666666666666666 L 0.0 0.0 Z\" style=\"vector-effect: non-scaling-stroke;\" /></g></g></g><g style=\"fill: #808080;stroke: black;stroke-width: 0.0;\" transform=\"matrix(1.0, 0.0, 0.0, 1.0, 22.0, -0.6666666666666666)\"><path d=\"M 0.0 0.0 L 2.0 0.0 L 2.0 0.6666666666666666 L 0.0 0.6666666666666666 L 0.0 0.0 Z\" style=\"vector-effect: non-scaling-stroke;\" /></g></g></g><g style=\"fill: #808080;stroke: black;stroke-width: 0.0;\" transform=\"matrix(1.0, 0.0, 0.0, 1.0, 24.0, -0.6666666666666666)\"><path d=\"M 0.0 0.0 L 2.0 0.0 L 2.0 0.6666666666666666 L 0.0 0.6666666666666666 L 0.0 0.0 Z\" style=\"vector-effect: non-scaling-stroke;\" /></g></g></g><g style=\"fill: #808080;stroke: black;stroke-width: 0.0;\" transform=\"matrix(1.0, 0.0, 0.0, 1.0, 26.0, -0.6666666666666666)\"><path d=\"M 0.0 0.0 L 2.0 0.0 L 2.0 0.6666666666666666 L 0.0 0.6666666666666666 L 0.0 0.0 Z\" style=\"vector-effect: non-scaling-stroke;\" /></g></g></g><g style=\"fill: #808080;stroke: black;stroke-width: 0.0;\" transform=\"matrix(1.0, 0.0, 0.0, 1.0, 28.0, -0.6666666666666666)\"><path d=\"M 0.0 0.0 L 0.0 0.0 L 0.0 0.6666666666666666 L 0.0 0.6666666666666666 L 0.0 0.0 Z\" style=\"vector-effect: non-scaling-stroke;\" /></g></g></g><g style=\"fill: #808080;stroke: black;stroke-width: 0.0;\" transform=\"matrix(1.0, 0.0, 0.0, 1.0, 28.0, -0.6666666666666666)\"><path d=\"M 0.0 0.0 L 2.0 0.0 L 2.0 0.6666666666666666 L 0.0 0.6666666666666666 L 0.0 0.0 Z\" style=\"vector-effect: non-scaling-stroke;\" /></g></g></g><g style=\"fill: #808080;stroke: black;stroke-width: 0.0;\" transform=\"matrix(1.0, 0.0, 0.0, 1.0, 30.0, -0.6666666666666666)\"><path d=\"M 0.0 0.0 L 2.0 0.0 L 2.0 0.6666666666666666 L 0.0 0.6666666666666666 L 0.0 0.0 Z\" style=\"vector-effect: non-scaling-stroke;\" /></g></g></g><g style=\"fill: #808080;stroke: black;stroke-width: 0.0;\" transform=\"matrix(1.0, 0.0, 0.0, 1.0, 32.0, -0.6666666666666666)\"><path d=\"M 0.0 0.0 L 1.0 0.0 L 1.0 0.6666666666666666 L 0.0 0.6666666666666666 L 0.0 0.0 Z\" style=\"vector-effect: non-scaling-stroke;\" /></g></g></g><g style=\"fill: #808080;stroke: black;stroke-width: 0.0;\" transform=\"matrix(1.0, 0.0, 0.0, 1.0, 33.0, -0.5185185185185185)\"><path d=\"M 0.0 0.0 L 1.0 0.0 L 1.0 0.5185185185185185 L 0.0 0.5185185185185185 L 0.0 0.0 Z\" style=\"vector-effect: non-scaling-stroke;\" /></g><g style=\"stroke: #ff0000;stroke-width: 1.8;\" transform=\"matrix(1.0, 0.0, 0.0, 1.0, 7.95, -1.0)\"><path d=\"M 0.0 0.0 L 0.1 0.0 L 0.1 1.0 L 0.0 1.0 L 0.0 0.0 Z\" style=\"vector-effect: non-scaling-stroke;\" /></g><g transform=\"matrix(1.0, 0.0, 0.0, 1.0, 0.0, 0.0)\"><g transform=\"matrix(0.0, -1.0, 1.0, 0.0, 0.0, 0.0)\"><g /></g></g><g transform=\"matrix(1.0, 0.0, 0.0, 1.0, 0.0, 0.0)\"><g /></g></g></g></g></g></g></g></g><g /></g></g></g></g></svg>"
      ],
      "text/plain": [
       "Compose(envelope=<chalk.envelope.Envelope object at 0x113e41970>, diagrams=[Primitive(shape=Path(loc_trails=[Located(trail=Trail(segments=[Segment(offset=Vec2(1.5, 0.0), origin=Vec2(0.0, 0.0)), Segment(offset=Vec2(0.0, 8.0), origin=Vec2(0.0, 0.0)), Segment(offset=Vec2(-1.5, 0.0), origin=Vec2(0.0, 0.0)), Segment(offset=Vec2(0.0, -8.0), origin=Vec2(0.0, 0.0))], closed=True), location=Vec2(0.0, 0.0))]), style=Style(line_width_=(<WidthType.NORMALIZED: 2>, 0), line_color_=None, fill_color_=None, fill_opacity_=None, dashing_=None, output_size=None), transform=Affine(1.0, 0.0, -0.75,\n",
       "       0.0, 1.0, -4.0)), ApplyTransform(transform=Affine(1.0, 0.0, -8.0,\n",
       "       0.0, 1.0, -0.25), diagram=ApplyTransform(transform=Affine(0.5, 0.0, 0.0,\n",
       "       0.0, 0.5, 0.0), diagram=Compose(envelope=<chalk.envelope.Envelope object at 0x113e39910>, diagrams=[Empty(), Primitive(shape=Path(loc_trails=[Located(trail=Trail(segments=[Segment(offset=Vec2(35.0, 0.0), origin=Vec2(0.0, 0.0)), Segment(offset=Vec2(0.0, 1.0), origin=Vec2(0.0, 0.0)), Segment(offset=Vec2(-35.0, 0.0), origin=Vec2(0.0, 0.0)), Segment(offset=Vec2(0.0, -1.0), origin=Vec2(0.0, 0.0))], closed=True), location=Vec2(0.0, 0.0))]), style=Style(line_width_=None, line_color_=None, fill_color_=<Color LightGray>, fill_opacity_=None, dashing_=None, output_size=None), transform=Affine(1.0, 0.0, 0.0,\n",
       "       0.0, 1.0, -0.5)), ApplyStyle(style=Style(line_width_=None, line_color_=None, fill_color_=<Color orange>, fill_opacity_=None, dashing_=None, output_size=None), diagram=ApplyTransform(transform=Affine(1.0, 0.0, -2.0,\n",
       "       0.0, 1.0, 0.0), diagram=Compose(envelope=<chalk.envelope.Envelope object at 0x113d38df0>, diagrams=[Primitive(shape=Text(text='0', font_size=1), style=Style(line_width_=(<WidthType.NORMALIZED: 2>, 0), line_color_=None, fill_color_=None, fill_opacity_=None, dashing_=None, output_size=None), transform=Affine(1.0, 0.0, 0.0,\n",
       "       0.0, 1.0, 0.0)), Empty()]))), ApplyStyle(style=Style(line_width_=None, line_color_=None, fill_color_=<Color green>, fill_opacity_=None, dashing_=None, output_size=None), diagram=ApplyTransform(transform=Affine(1.0, 0.0, 0.0,\n",
       "       0.0, 1.0, 0.0), diagram=ApplyTransform(transform=Affine(1.0, 0.0, 0.975,\n",
       "       0.0, 1.0, 0.0), diagram=Compose(envelope=<chalk.envelope.Envelope object at 0x113d40490>, diagrams=[Primitive(shape=Path(loc_trails=[Located(trail=Trail(segments=[Segment(offset=Vec2(1.95, 0.0), origin=Vec2(0.0, 0.0)), Segment(offset=Vec2(0.0, 0.9), origin=Vec2(0.0, 0.0)), Segment(offset=Vec2(-1.95, 0.0), origin=Vec2(0.0, 0.0)), Segment(offset=Vec2(0.0, -0.9), origin=Vec2(0.0, 0.0))], closed=True), location=Vec2(0.0, 0.0))]), style=Style(line_width_=(<WidthType.NORMALIZED: 2>, 0), line_color_=None, fill_color_=None, fill_opacity_=None, dashing_=None, output_size=None), transform=Affine(1.0, 0.0, -0.975,\n",
       "       0.0, 1.0, -0.45)), Primitive(shape=Text(text='0', font_size=0.9), style=Style(line_width_=(<WidthType.NORMALIZED: 2>, 0.05), line_color_=None, fill_color_=<Color black>, fill_opacity_=None, dashing_=None, output_size=None), transform=Affine(1.0, 0.0, 0.0,\n",
       "       0.0, 1.0, 0.1))])))), ApplyStyle(style=Style(line_width_=None, line_color_=None, fill_color_=<Color #bfbf00>, fill_opacity_=None, dashing_=None, output_size=None), diagram=ApplyTransform(transform=Affine(1.0, 0.0, 2.0,\n",
       "       0.0, 1.0, 0.0), diagram=ApplyTransform(transform=Affine(1.0, 0.0, 0.975,\n",
       "       0.0, 1.0, 0.0), diagram=Compose(envelope=<chalk.envelope.Envelope object at 0x113d148e0>, diagrams=[Primitive(shape=Path(loc_trails=[Located(trail=Trail(segments=[Segment(offset=Vec2(1.95, 0.0), origin=Vec2(0.0, 0.0)), Segment(offset=Vec2(0.0, 0.9), origin=Vec2(0.0, 0.0)), Segment(offset=Vec2(-1.95, 0.0), origin=Vec2(0.0, 0.0)), Segment(offset=Vec2(0.0, -0.9), origin=Vec2(0.0, 0.0))], closed=True), location=Vec2(0.0, 0.0))]), style=Style(line_width_=(<WidthType.NORMALIZED: 2>, 0), line_color_=None, fill_color_=None, fill_opacity_=None, dashing_=None, output_size=None), transform=Affine(1.0, 0.0, -0.975,\n",
       "       0.0, 1.0, -0.45)), Primitive(shape=Text(text='0', font_size=0.9), style=Style(line_width_=(<WidthType.NORMALIZED: 2>, 0.05), line_color_=None, fill_color_=<Color black>, fill_opacity_=None, dashing_=None, output_size=None), transform=Affine(1.0, 0.0, 0.0,\n",
       "       0.0, 1.0, 0.1))])))), ApplyStyle(style=Style(line_width_=None, line_color_=None, fill_color_=None, fill_opacity_=0.2, dashing_=None, output_size=None), diagram=ApplyStyle(style=Style(line_width_=None, line_color_=None, fill_color_=<Color #bfbf00>, fill_opacity_=None, dashing_=None, output_size=None), diagram=ApplyTransform(transform=Affine(1.0, 0.0, 4.0,\n",
       "       0.0, 1.0, 0.0), diagram=ApplyTransform(transform=Affine(1.0, 0.0, 0.975,\n",
       "       0.0, 1.0, 0.0), diagram=Compose(envelope=<chalk.envelope.Envelope object at 0x113d6eac0>, diagrams=[Primitive(shape=Path(loc_trails=[Located(trail=Trail(segments=[Segment(offset=Vec2(1.95, 0.0), origin=Vec2(0.0, 0.0)), Segment(offset=Vec2(0.0, 0.9), origin=Vec2(0.0, 0.0)), Segment(offset=Vec2(-1.95, 0.0), origin=Vec2(0.0, 0.0)), Segment(offset=Vec2(0.0, -0.9), origin=Vec2(0.0, 0.0))], closed=True), location=Vec2(0.0, 0.0))]), style=Style(line_width_=(<WidthType.NORMALIZED: 2>, 0), line_color_=None, fill_color_=None, fill_opacity_=None, dashing_=None, output_size=None), transform=Affine(1.0, 0.0, -0.975,\n",
       "       0.0, 1.0, -0.45)), Primitive(shape=Text(text='0', font_size=0.9), style=Style(line_width_=(<WidthType.NORMALIZED: 2>, 0.05), line_color_=None, fill_color_=<Color black>, fill_opacity_=None, dashing_=None, output_size=None), transform=Affine(1.0, 0.0, 0.0,\n",
       "       0.0, 1.0, 0.1))]))))), ApplyStyle(style=Style(line_width_=None, line_color_=None, fill_color_=None, fill_opacity_=0.2, dashing_=None, output_size=None), diagram=ApplyStyle(style=Style(line_width_=None, line_color_=None, fill_color_=<Color green>, fill_opacity_=None, dashing_=None, output_size=None), diagram=ApplyTransform(transform=Affine(1.0, 0.0, 6.0,\n",
       "       0.0, 1.0, 0.0), diagram=ApplyTransform(transform=Affine(1.0, 0.0, 0.975,\n",
       "       0.0, 1.0, 0.0), diagram=Compose(envelope=<chalk.envelope.Envelope object at 0x113d7e280>, diagrams=[Primitive(shape=Path(loc_trails=[Located(trail=Trail(segments=[Segment(offset=Vec2(1.95, 0.0), origin=Vec2(0.0, 0.0)), Segment(offset=Vec2(0.0, 0.9), origin=Vec2(0.0, 0.0)), Segment(offset=Vec2(-1.95, 0.0), origin=Vec2(0.0, 0.0)), Segment(offset=Vec2(0.0, -0.9), origin=Vec2(0.0, 0.0))], closed=True), location=Vec2(0.0, 0.0))]), style=Style(line_width_=(<WidthType.NORMALIZED: 2>, 0), line_color_=None, fill_color_=None, fill_opacity_=None, dashing_=None, output_size=None), transform=Affine(1.0, 0.0, -0.975,\n",
       "       0.0, 1.0, -0.45)), Primitive(shape=Text(text='0', font_size=0.9), style=Style(line_width_=(<WidthType.NORMALIZED: 2>, 0.05), line_color_=None, fill_color_=<Color black>, fill_opacity_=None, dashing_=None, output_size=None), transform=Affine(1.0, 0.0, 0.0,\n",
       "       0.0, 1.0, 0.1))]))))), ApplyStyle(style=Style(line_width_=None, line_color_=None, fill_color_=<Color green>, fill_opacity_=None, dashing_=None, output_size=None), diagram=ApplyTransform(transform=Affine(1.0, 0.0, 8.0,\n",
       "       0.0, 1.0, 0.0), diagram=ApplyTransform(transform=Affine(1.0, 0.0, 0.975,\n",
       "       0.0, 1.0, 0.0), diagram=Compose(envelope=<chalk.envelope.Envelope object at 0x113d80a30>, diagrams=[Primitive(shape=Path(loc_trails=[Located(trail=Trail(segments=[Segment(offset=Vec2(1.95, 0.0), origin=Vec2(0.0, 0.0)), Segment(offset=Vec2(0.0, 0.9), origin=Vec2(0.0, 0.0)), Segment(offset=Vec2(-1.95, 0.0), origin=Vec2(0.0, 0.0)), Segment(offset=Vec2(0.0, -0.9), origin=Vec2(0.0, 0.0))], closed=True), location=Vec2(0.0, 0.0))]), style=Style(line_width_=(<WidthType.NORMALIZED: 2>, 0), line_color_=None, fill_color_=None, fill_opacity_=None, dashing_=None, output_size=None), transform=Affine(1.0, 0.0, -0.975,\n",
       "       0.0, 1.0, -0.45)), Primitive(shape=Text(text='1', font_size=0.9), style=Style(line_width_=(<WidthType.NORMALIZED: 2>, 0.05), line_color_=None, fill_color_=<Color black>, fill_opacity_=None, dashing_=None, output_size=None), transform=Affine(1.0, 0.0, 0.0,\n",
       "       0.0, 1.0, 0.1))])))), ApplyStyle(style=Style(line_width_=None, line_color_=None, fill_color_=<Color #bfbf00>, fill_opacity_=None, dashing_=None, output_size=None), diagram=ApplyTransform(transform=Affine(1.0, 0.0, 10.0,\n",
       "       0.0, 1.0, 0.0), diagram=ApplyTransform(transform=Affine(1.0, 0.0, 0.975,\n",
       "       0.0, 1.0, 0.0), diagram=Compose(envelope=<chalk.envelope.Envelope object at 0x113d871c0>, diagrams=[Primitive(shape=Path(loc_trails=[Located(trail=Trail(segments=[Segment(offset=Vec2(1.95, 0.0), origin=Vec2(0.0, 0.0)), Segment(offset=Vec2(0.0, 0.9), origin=Vec2(0.0, 0.0)), Segment(offset=Vec2(-1.95, 0.0), origin=Vec2(0.0, 0.0)), Segment(offset=Vec2(0.0, -0.9), origin=Vec2(0.0, 0.0))], closed=True), location=Vec2(0.0, 0.0))]), style=Style(line_width_=(<WidthType.NORMALIZED: 2>, 0), line_color_=None, fill_color_=None, fill_opacity_=None, dashing_=None, output_size=None), transform=Affine(1.0, 0.0, -0.975,\n",
       "       0.0, 1.0, -0.45)), Primitive(shape=Text(text='1', font_size=0.9), style=Style(line_width_=(<WidthType.NORMALIZED: 2>, 0.05), line_color_=None, fill_color_=<Color black>, fill_opacity_=None, dashing_=None, output_size=None), transform=Affine(1.0, 0.0, 0.0,\n",
       "       0.0, 1.0, 0.1))])))), ApplyStyle(style=Style(line_width_=None, line_color_=None, fill_color_=None, fill_opacity_=0.2, dashing_=None, output_size=None), diagram=ApplyStyle(style=Style(line_width_=None, line_color_=None, fill_color_=<Color #bfbf00>, fill_opacity_=None, dashing_=None, output_size=None), diagram=ApplyTransform(transform=Affine(1.0, 0.0, 12.0,\n",
       "       0.0, 1.0, 0.0), diagram=ApplyTransform(transform=Affine(1.0, 0.0, 0.975,\n",
       "       0.0, 1.0, 0.0), diagram=Compose(envelope=<chalk.envelope.Envelope object at 0x113d89910>, diagrams=[Primitive(shape=Path(loc_trails=[Located(trail=Trail(segments=[Segment(offset=Vec2(1.95, 0.0), origin=Vec2(0.0, 0.0)), Segment(offset=Vec2(0.0, 0.9), origin=Vec2(0.0, 0.0)), Segment(offset=Vec2(-1.95, 0.0), origin=Vec2(0.0, 0.0)), Segment(offset=Vec2(0.0, -0.9), origin=Vec2(0.0, 0.0))], closed=True), location=Vec2(0.0, 0.0))]), style=Style(line_width_=(<WidthType.NORMALIZED: 2>, 0), line_color_=None, fill_color_=None, fill_opacity_=None, dashing_=None, output_size=None), transform=Affine(1.0, 0.0, -0.975,\n",
       "       0.0, 1.0, -0.45)), Primitive(shape=Text(text='1', font_size=0.9), style=Style(line_width_=(<WidthType.NORMALIZED: 2>, 0.05), line_color_=None, fill_color_=<Color black>, fill_opacity_=None, dashing_=None, output_size=None), transform=Affine(1.0, 0.0, 0.0,\n",
       "       0.0, 1.0, 0.1))]))))), ApplyStyle(style=Style(line_width_=None, line_color_=None, fill_color_=None, fill_opacity_=0.2, dashing_=None, output_size=None), diagram=ApplyStyle(style=Style(line_width_=None, line_color_=None, fill_color_=<Color green>, fill_opacity_=None, dashing_=None, output_size=None), diagram=ApplyTransform(transform=Affine(1.0, 0.0, 14.0,\n",
       "       0.0, 1.0, 0.0), diagram=ApplyTransform(transform=Affine(1.0, 0.0, 0.975,\n",
       "       0.0, 1.0, 0.0), diagram=Compose(envelope=<chalk.envelope.Envelope object at 0x113d90250>, diagrams=[Primitive(shape=Path(loc_trails=[Located(trail=Trail(segments=[Segment(offset=Vec2(1.95, 0.0), origin=Vec2(0.0, 0.0)), Segment(offset=Vec2(0.0, 0.9), origin=Vec2(0.0, 0.0)), Segment(offset=Vec2(-1.95, 0.0), origin=Vec2(0.0, 0.0)), Segment(offset=Vec2(0.0, -0.9), origin=Vec2(0.0, 0.0))], closed=True), location=Vec2(0.0, 0.0))]), style=Style(line_width_=(<WidthType.NORMALIZED: 2>, 0), line_color_=None, fill_color_=None, fill_opacity_=None, dashing_=None, output_size=None), transform=Affine(1.0, 0.0, -0.975,\n",
       "       0.0, 1.0, -0.45)), Primitive(shape=Text(text='1', font_size=0.9), style=Style(line_width_=(<WidthType.NORMALIZED: 2>, 0.05), line_color_=None, fill_color_=<Color black>, fill_opacity_=None, dashing_=None, output_size=None), transform=Affine(1.0, 0.0, 0.0,\n",
       "       0.0, 1.0, 0.1))]))))), ApplyStyle(style=Style(line_width_=None, line_color_=None, fill_color_=<Color green>, fill_opacity_=None, dashing_=None, output_size=None), diagram=ApplyTransform(transform=Affine(1.0, 0.0, 16.0,\n",
       "       0.0, 1.0, 0.0), diagram=ApplyTransform(transform=Affine(1.0, 0.0, 0.975,\n",
       "       0.0, 1.0, 0.0), diagram=Compose(envelope=<chalk.envelope.Envelope object at 0x113d94a30>, diagrams=[Primitive(shape=Path(loc_trails=[Located(trail=Trail(segments=[Segment(offset=Vec2(1.95, 0.0), origin=Vec2(0.0, 0.0)), Segment(offset=Vec2(0.0, 0.9), origin=Vec2(0.0, 0.0)), Segment(offset=Vec2(-1.95, 0.0), origin=Vec2(0.0, 0.0)), Segment(offset=Vec2(0.0, -0.9), origin=Vec2(0.0, 0.0))], closed=True), location=Vec2(0.0, 0.0))]), style=Style(line_width_=(<WidthType.NORMALIZED: 2>, 0), line_color_=None, fill_color_=None, fill_opacity_=None, dashing_=None, output_size=None), transform=Affine(1.0, 0.0, -0.975,\n",
       "       0.0, 1.0, -0.45)), Primitive(shape=Text(text='2', font_size=0.9), style=Style(line_width_=(<WidthType.NORMALIZED: 2>, 0.05), line_color_=None, fill_color_=<Color black>, fill_opacity_=None, dashing_=None, output_size=None), transform=Affine(1.0, 0.0, 0.0,\n",
       "       0.0, 1.0, 0.1))])))), ApplyStyle(style=Style(line_width_=None, line_color_=None, fill_color_=<Color #bfbf00>, fill_opacity_=None, dashing_=None, output_size=None), diagram=ApplyTransform(transform=Affine(1.0, 0.0, 18.0,\n",
       "       0.0, 1.0, 0.0), diagram=ApplyTransform(transform=Affine(1.0, 0.0, 0.975,\n",
       "       0.0, 1.0, 0.0), diagram=Compose(envelope=<chalk.envelope.Envelope object at 0x113d9c1c0>, diagrams=[Primitive(shape=Path(loc_trails=[Located(trail=Trail(segments=[Segment(offset=Vec2(1.95, 0.0), origin=Vec2(0.0, 0.0)), Segment(offset=Vec2(0.0, 0.9), origin=Vec2(0.0, 0.0)), Segment(offset=Vec2(-1.95, 0.0), origin=Vec2(0.0, 0.0)), Segment(offset=Vec2(0.0, -0.9), origin=Vec2(0.0, 0.0))], closed=True), location=Vec2(0.0, 0.0))]), style=Style(line_width_=(<WidthType.NORMALIZED: 2>, 0), line_color_=None, fill_color_=None, fill_opacity_=None, dashing_=None, output_size=None), transform=Affine(1.0, 0.0, -0.975,\n",
       "       0.0, 1.0, -0.45)), Primitive(shape=Text(text='2', font_size=0.9), style=Style(line_width_=(<WidthType.NORMALIZED: 2>, 0.05), line_color_=None, fill_color_=<Color black>, fill_opacity_=None, dashing_=None, output_size=None), transform=Affine(1.0, 0.0, 0.0,\n",
       "       0.0, 1.0, 0.1))])))), ApplyStyle(style=Style(line_width_=None, line_color_=None, fill_color_=None, fill_opacity_=0.2, dashing_=None, output_size=None), diagram=ApplyStyle(style=Style(line_width_=None, line_color_=None, fill_color_=<Color #bfbf00>, fill_opacity_=None, dashing_=None, output_size=None), diagram=ApplyTransform(transform=Affine(1.0, 0.0, 20.0,\n",
       "       0.0, 1.0, 0.0), diagram=ApplyTransform(transform=Affine(1.0, 0.0, 0.975,\n",
       "       0.0, 1.0, 0.0), diagram=Compose(envelope=<chalk.envelope.Envelope object at 0x113d9f910>, diagrams=[Primitive(shape=Path(loc_trails=[Located(trail=Trail(segments=[Segment(offset=Vec2(1.95, 0.0), origin=Vec2(0.0, 0.0)), Segment(offset=Vec2(0.0, 0.9), origin=Vec2(0.0, 0.0)), Segment(offset=Vec2(-1.95, 0.0), origin=Vec2(0.0, 0.0)), Segment(offset=Vec2(0.0, -0.9), origin=Vec2(0.0, 0.0))], closed=True), location=Vec2(0.0, 0.0))]), style=Style(line_width_=(<WidthType.NORMALIZED: 2>, 0), line_color_=None, fill_color_=None, fill_opacity_=None, dashing_=None, output_size=None), transform=Affine(1.0, 0.0, -0.975,\n",
       "       0.0, 1.0, -0.45)), Primitive(shape=Text(text='2', font_size=0.9), style=Style(line_width_=(<WidthType.NORMALIZED: 2>, 0.05), line_color_=None, fill_color_=<Color black>, fill_opacity_=None, dashing_=None, output_size=None), transform=Affine(1.0, 0.0, 0.0,\n",
       "       0.0, 1.0, 0.1))]))))), ApplyStyle(style=Style(line_width_=None, line_color_=None, fill_color_=None, fill_opacity_=0.2, dashing_=None, output_size=None), diagram=ApplyStyle(style=Style(line_width_=None, line_color_=None, fill_color_=<Color green>, fill_opacity_=None, dashing_=None, output_size=None), diagram=ApplyTransform(transform=Affine(1.0, 0.0, 22.0,\n",
       "       0.0, 1.0, 0.0), diagram=ApplyTransform(transform=Affine(1.0, 0.0, 0.975,\n",
       "       0.0, 1.0, 0.0), diagram=Compose(envelope=<chalk.envelope.Envelope object at 0x113da8130>, diagrams=[Primitive(shape=Path(loc_trails=[Located(trail=Trail(segments=[Segment(offset=Vec2(1.95, 0.0), origin=Vec2(0.0, 0.0)), Segment(offset=Vec2(0.0, 0.9), origin=Vec2(0.0, 0.0)), Segment(offset=Vec2(-1.95, 0.0), origin=Vec2(0.0, 0.0)), Segment(offset=Vec2(0.0, -0.9), origin=Vec2(0.0, 0.0))], closed=True), location=Vec2(0.0, 0.0))]), style=Style(line_width_=(<WidthType.NORMALIZED: 2>, 0), line_color_=None, fill_color_=None, fill_opacity_=None, dashing_=None, output_size=None), transform=Affine(1.0, 0.0, -0.975,\n",
       "       0.0, 1.0, -0.45)), Primitive(shape=Text(text='2', font_size=0.9), style=Style(line_width_=(<WidthType.NORMALIZED: 2>, 0.05), line_color_=None, fill_color_=<Color black>, fill_opacity_=None, dashing_=None, output_size=None), transform=Affine(1.0, 0.0, 0.0,\n",
       "       0.0, 1.0, 0.1))]))))), ApplyStyle(style=Style(line_width_=None, line_color_=None, fill_color_=<Color green>, fill_opacity_=None, dashing_=None, output_size=None), diagram=ApplyTransform(transform=Affine(1.0, 0.0, 24.0,\n",
       "       0.0, 1.0, 0.0), diagram=ApplyTransform(transform=Affine(1.0, 0.0, 0.975,\n",
       "       0.0, 1.0, 0.0), diagram=Compose(envelope=<chalk.envelope.Envelope object at 0x113dab910>, diagrams=[Primitive(shape=Path(loc_trails=[Located(trail=Trail(segments=[Segment(offset=Vec2(1.95, 0.0), origin=Vec2(0.0, 0.0)), Segment(offset=Vec2(0.0, 0.9), origin=Vec2(0.0, 0.0)), Segment(offset=Vec2(-1.95, 0.0), origin=Vec2(0.0, 0.0)), Segment(offset=Vec2(0.0, -0.9), origin=Vec2(0.0, 0.0))], closed=True), location=Vec2(0.0, 0.0))]), style=Style(line_width_=(<WidthType.NORMALIZED: 2>, 0), line_color_=None, fill_color_=None, fill_opacity_=None, dashing_=None, output_size=None), transform=Affine(1.0, 0.0, -0.975,\n",
       "       0.0, 1.0, -0.45)), Primitive(shape=Text(text='3', font_size=0.9), style=Style(line_width_=(<WidthType.NORMALIZED: 2>, 0.05), line_color_=None, fill_color_=<Color black>, fill_opacity_=None, dashing_=None, output_size=None), transform=Affine(1.0, 0.0, 0.0,\n",
       "       0.0, 1.0, 0.1))])))), ApplyStyle(style=Style(line_width_=None, line_color_=None, fill_color_=<Color #bfbf00>, fill_opacity_=None, dashing_=None, output_size=None), diagram=ApplyTransform(transform=Affine(1.0, 0.0, 26.0,\n",
       "       0.0, 1.0, 0.0), diagram=ApplyTransform(transform=Affine(1.0, 0.0, 0.975,\n",
       "       0.0, 1.0, 0.0), diagram=Compose(envelope=<chalk.envelope.Envelope object at 0x113db4100>, diagrams=[Primitive(shape=Path(loc_trails=[Located(trail=Trail(segments=[Segment(offset=Vec2(1.95, 0.0), origin=Vec2(0.0, 0.0)), Segment(offset=Vec2(0.0, 0.9), origin=Vec2(0.0, 0.0)), Segment(offset=Vec2(-1.95, 0.0), origin=Vec2(0.0, 0.0)), Segment(offset=Vec2(0.0, -0.9), origin=Vec2(0.0, 0.0))], closed=True), location=Vec2(0.0, 0.0))]), style=Style(line_width_=(<WidthType.NORMALIZED: 2>, 0), line_color_=None, fill_color_=None, fill_opacity_=None, dashing_=None, output_size=None), transform=Affine(1.0, 0.0, -0.975,\n",
       "       0.0, 1.0, -0.45)), Primitive(shape=Text(text='3', font_size=0.9), style=Style(line_width_=(<WidthType.NORMALIZED: 2>, 0.05), line_color_=None, fill_color_=<Color black>, fill_opacity_=None, dashing_=None, output_size=None), transform=Affine(1.0, 0.0, 0.0,\n",
       "       0.0, 1.0, 0.1))])))), ApplyStyle(style=Style(line_width_=None, line_color_=None, fill_color_=None, fill_opacity_=0.2, dashing_=None, output_size=None), diagram=ApplyStyle(style=Style(line_width_=None, line_color_=None, fill_color_=<Color #bfbf00>, fill_opacity_=None, dashing_=None, output_size=None), diagram=ApplyTransform(transform=Affine(1.0, 0.0, 28.0,\n",
       "       0.0, 1.0, 0.0), diagram=ApplyTransform(transform=Affine(1.0, 0.0, 0.975,\n",
       "       0.0, 1.0, 0.0), diagram=Compose(envelope=<chalk.envelope.Envelope object at 0x113db8850>, diagrams=[Primitive(shape=Path(loc_trails=[Located(trail=Trail(segments=[Segment(offset=Vec2(1.95, 0.0), origin=Vec2(0.0, 0.0)), Segment(offset=Vec2(0.0, 0.9), origin=Vec2(0.0, 0.0)), Segment(offset=Vec2(-1.95, 0.0), origin=Vec2(0.0, 0.0)), Segment(offset=Vec2(0.0, -0.9), origin=Vec2(0.0, 0.0))], closed=True), location=Vec2(0.0, 0.0))]), style=Style(line_width_=(<WidthType.NORMALIZED: 2>, 0), line_color_=None, fill_color_=None, fill_opacity_=None, dashing_=None, output_size=None), transform=Affine(1.0, 0.0, -0.975,\n",
       "       0.0, 1.0, -0.45)), Primitive(shape=Text(text='3', font_size=0.9), style=Style(line_width_=(<WidthType.NORMALIZED: 2>, 0.05), line_color_=None, fill_color_=<Color black>, fill_opacity_=None, dashing_=None, output_size=None), transform=Affine(1.0, 0.0, 0.0,\n",
       "       0.0, 1.0, 0.1))]))))), ApplyStyle(style=Style(line_width_=None, line_color_=None, fill_color_=None, fill_opacity_=0.2, dashing_=None, output_size=None), diagram=ApplyStyle(style=Style(line_width_=None, line_color_=None, fill_color_=<Color green>, fill_opacity_=None, dashing_=None, output_size=None), diagram=ApplyTransform(transform=Affine(1.0, 0.0, 30.0,\n",
       "       0.0, 1.0, 0.0), diagram=ApplyTransform(transform=Affine(1.0, 0.0, 0.975,\n",
       "       0.0, 1.0, 0.0), diagram=Compose(envelope=<chalk.envelope.Envelope object at 0x113dbf070>, diagrams=[Primitive(shape=Path(loc_trails=[Located(trail=Trail(segments=[Segment(offset=Vec2(1.95, 0.0), origin=Vec2(0.0, 0.0)), Segment(offset=Vec2(0.0, 0.9), origin=Vec2(0.0, 0.0)), Segment(offset=Vec2(-1.95, 0.0), origin=Vec2(0.0, 0.0)), Segment(offset=Vec2(0.0, -0.9), origin=Vec2(0.0, 0.0))], closed=True), location=Vec2(0.0, 0.0))]), style=Style(line_width_=(<WidthType.NORMALIZED: 2>, 0), line_color_=None, fill_color_=None, fill_opacity_=None, dashing_=None, output_size=None), transform=Affine(1.0, 0.0, -0.975,\n",
       "       0.0, 1.0, -0.45)), Primitive(shape=Text(text='3', font_size=0.9), style=Style(line_width_=(<WidthType.NORMALIZED: 2>, 0.05), line_color_=None, fill_color_=<Color black>, fill_opacity_=None, dashing_=None, output_size=None), transform=Affine(1.0, 0.0, 0.0,\n",
       "       0.0, 1.0, 0.1))]))))), ApplyStyle(style=Style(line_width_=None, line_color_=None, fill_color_=None, fill_opacity_=0.5, dashing_=None, output_size=None), diagram=ApplyStyle(style=Style(line_width_=None, line_color_=None, fill_color_=<Color yellow>, fill_opacity_=None, dashing_=None, output_size=None), diagram=ApplyTransform(transform=Affine(1.0, 0.0, 32.0,\n",
       "       0.0, 1.0, 0.0), diagram=ApplyTransform(transform=Affine(1.0, 0.0, 0.475,\n",
       "       0.0, 1.0, 0.0), diagram=Compose(envelope=<chalk.envelope.Envelope object at 0x113dc3850>, diagrams=[Primitive(shape=Path(loc_trails=[Located(trail=Trail(segments=[Segment(offset=Vec2(0.95, 0.0), origin=Vec2(0.0, 0.0)), Segment(offset=Vec2(0.0, 0.9), origin=Vec2(0.0, 0.0)), Segment(offset=Vec2(-0.95, 0.0), origin=Vec2(0.0, 0.0)), Segment(offset=Vec2(0.0, -0.9), origin=Vec2(0.0, 0.0))], closed=True), location=Vec2(0.0, 0.0))]), style=Style(line_width_=(<WidthType.NORMALIZED: 2>, 0), line_color_=None, fill_color_=None, fill_opacity_=None, dashing_=None, output_size=None), transform=Affine(1.0, 0.0, -0.475,\n",
       "       0.0, 1.0, -0.45)), Primitive(shape=Text(text='', font_size=0.9), style=Style(line_width_=(<WidthType.NORMALIZED: 2>, 0.05), line_color_=None, fill_color_=<Color black>, fill_opacity_=None, dashing_=None, output_size=None), transform=Affine(1.0, 0.0, 0.0,\n",
       "       0.0, 1.0, 0.1))]))))), ApplyStyle(style=Style(line_width_=None, line_color_=None, fill_color_=None, fill_opacity_=0.5, dashing_=None, output_size=None), diagram=ApplyStyle(style=Style(line_width_=None, line_color_=None, fill_color_=<Color yellow>, fill_opacity_=None, dashing_=None, output_size=None), diagram=ApplyTransform(transform=Affine(1.0, 0.0, 33.0,\n",
       "       0.0, 1.0, 0.0), diagram=ApplyTransform(transform=Affine(1.0, 0.0, 0.475,\n",
       "       0.0, 1.0, 0.0), diagram=Compose(envelope=<chalk.envelope.Envelope object at 0x113dcb0d0>, diagrams=[Primitive(shape=Path(loc_trails=[Located(trail=Trail(segments=[Segment(offset=Vec2(0.95, 0.0), origin=Vec2(0.0, 0.0)), Segment(offset=Vec2(0.0, 0.9), origin=Vec2(0.0, 0.0)), Segment(offset=Vec2(-0.95, 0.0), origin=Vec2(0.0, 0.0)), Segment(offset=Vec2(0.0, -0.9), origin=Vec2(0.0, 0.0))], closed=True), location=Vec2(0.0, 0.0))]), style=Style(line_width_=(<WidthType.NORMALIZED: 2>, 0), line_color_=None, fill_color_=None, fill_opacity_=None, dashing_=None, output_size=None), transform=Affine(1.0, 0.0, -0.475,\n",
       "       0.0, 1.0, -0.45)), Primitive(shape=Text(text='', font_size=0.9), style=Style(line_width_=(<WidthType.NORMALIZED: 2>, 0.05), line_color_=None, fill_color_=<Color black>, fill_opacity_=None, dashing_=None, output_size=None), transform=Affine(1.0, 0.0, 0.0,\n",
       "       0.0, 1.0, 0.1))]))))), ApplyTransform(transform=Affine(1.0, 0.0, 0.0,\n",
       "       0.0, 1.0, 0.5), diagram=ApplyTransform(transform=Affine(0.0, 1.0, 0.0,\n",
       "       -1.0, 0.0, 0.0), diagram=Empty())), ApplyTransform(transform=Affine(1.0, 0.0, 0.0,\n",
       "       0.0, 1.0, 0.5), diagram=Empty()), ApplyTransform(transform=Affine(1.0, 0.0, 0.0,\n",
       "       0.0, 1.0, 0.5), diagram=ApplyTransform(transform=Affine(0.0, 1.0, 0.0,\n",
       "       -1.0, 0.0, 0.0), diagram=Empty())), ApplyTransform(transform=Affine(1.0, 0.0, 0.0,\n",
       "       0.0, 1.0, 1.5), diagram=Compose(envelope=<chalk.envelope.Envelope object at 0x113e39190>, diagrams=[ApplyTransform(transform=Affine(1.0, 0.0, -0.0,\n",
       "       0.0, 1.0, -0.0), diagram=Compose(envelope=<chalk.envelope.Envelope object at 0x113e2f7f0>, diagrams=[ApplyTransform(transform=Affine(1.0, 0.0, -0.0,\n",
       "       0.0, 1.0, -0.0), diagram=Compose(envelope=<chalk.envelope.Envelope object at 0x113e2e6d0>, diagrams=[ApplyTransform(transform=Affine(1.0, 0.0, -0.0,\n",
       "       0.0, 1.0, -0.0), diagram=Compose(envelope=<chalk.envelope.Envelope object at 0x113e25d90>, diagrams=[ApplyTransform(transform=Affine(1.0, 0.0, -0.0,\n",
       "       0.0, 1.0, -0.0), diagram=Compose(envelope=<chalk.envelope.Envelope object at 0x113e22e80>, diagrams=[ApplyTransform(transform=Affine(1.0, 0.0, -0.0,\n",
       "       0.0, 1.0, -0.0), diagram=Compose(envelope=<chalk.envelope.Envelope object at 0x113e1dac0>, diagrams=[ApplyTransform(transform=Affine(1.0, 0.0, -0.0,\n",
       "       0.0, 1.0, -0.0), diagram=Compose(envelope=<chalk.envelope.Envelope object at 0x113e19b80>, diagrams=[ApplyTransform(transform=Affine(1.0, 0.0, -0.0,\n",
       "       0.0, 1.0, -0.0), diagram=Compose(envelope=<chalk.envelope.Envelope object at 0x113e13b50>, diagrams=[ApplyTransform(transform=Affine(1.0, 0.0, -0.0,\n",
       "       0.0, 1.0, -0.0), diagram=Compose(envelope=<chalk.envelope.Envelope object at 0x113e11910>, diagrams=[ApplyTransform(transform=Affine(1.0, 0.0, -0.0,\n",
       "       0.0, 1.0, -0.0), diagram=Compose(envelope=<chalk.envelope.Envelope object at 0x113e0b760>, diagrams=[ApplyTransform(transform=Affine(1.0, 0.0, -0.0,\n",
       "       0.0, 1.0, -0.0), diagram=Compose(envelope=<chalk.envelope.Envelope object at 0x113e08100>, diagrams=[ApplyTransform(transform=Affine(1.0, 0.0, -0.0,\n",
       "       0.0, 1.0, -0.0), diagram=Compose(envelope=<chalk.envelope.Envelope object at 0x113e05310>, diagrams=[ApplyTransform(transform=Affine(1.0, 0.0, -0.0,\n",
       "       0.0, 1.0, -0.0), diagram=Compose(envelope=<chalk.envelope.Envelope object at 0x113dfca00>, diagrams=[ApplyTransform(transform=Affine(1.0, 0.0, -0.0,\n",
       "       0.0, 1.0, -0.0), diagram=Compose(envelope=<chalk.envelope.Envelope object at 0x113df9be0>, diagrams=[ApplyTransform(transform=Affine(1.0, 0.0, -0.0,\n",
       "       0.0, 1.0, -0.0), diagram=Compose(envelope=<chalk.envelope.Envelope object at 0x113df5d00>, diagrams=[ApplyTransform(transform=Affine(1.0, 0.0, -0.0,\n",
       "       0.0, 1.0, -0.0), diagram=Compose(envelope=<chalk.envelope.Envelope object at 0x113df0a00>, diagrams=[ApplyTransform(transform=Affine(1.0, 0.0, -0.0,\n",
       "       0.0, 1.0, -0.0), diagram=Compose(envelope=<chalk.envelope.Envelope object at 0x113decb80>, diagrams=[ApplyTransform(transform=Affine(1.0, 0.0, -0.0,\n",
       "       0.0, 1.0, -0.0), diagram=Compose(envelope=<chalk.envelope.Envelope object at 0x113de8b80>, diagrams=[ApplyTransform(transform=Affine(1.0, 0.0, -0.0,\n",
       "       0.0, 1.0, -0.0), diagram=Compose(envelope=<chalk.envelope.Envelope object at 0x113de3c10>, diagrams=[ApplyTransform(transform=Affine(1.0, 0.0, -0.0,\n",
       "       0.0, 1.0, -0.0), diagram=Compose(envelope=<chalk.envelope.Envelope object at 0x113de0e80>, diagrams=[ApplyTransform(transform=Affine(1.0, 0.0, -0.0,\n",
       "       0.0, 1.0, -0.0), diagram=Compose(envelope=<chalk.envelope.Envelope object at 0x113ddebb0>, diagrams=[ApplyTransform(transform=Affine(1.0, 0.0, -0.0,\n",
       "       0.0, 1.0, -0.0), diagram=Compose(envelope=<chalk.envelope.Envelope object at 0x113dd8dc0>, diagrams=[ApplyTransform(transform=Affine(1.0, 0.0, -0.0,\n",
       "       0.0, 1.0, -0.5), diagram=Compose(envelope=<chalk.envelope.Envelope object at 0x113dd2ee0>, diagrams=[Primitive(shape=Path(loc_trails=[Located(trail=Trail(segments=[Segment(offset=Vec2(35.0, 0.0), origin=Vec2(0.0, 0.0)), Segment(offset=Vec2(0.0, 1.0), origin=Vec2(0.0, 0.0)), Segment(offset=Vec2(-35.0, 0.0), origin=Vec2(0.0, 0.0)), Segment(offset=Vec2(0.0, -1.0), origin=Vec2(0.0, 0.0))], closed=True), location=Vec2(0.0, 0.0))]), style=Style(line_width_=None, line_color_=None, fill_color_=<Color white>, fill_opacity_=None, dashing_=None, output_size=None), transform=Affine(1.0, 0.0, 0.0,\n",
       "       0.0, 1.0, -0.5)), ApplyStyle(style=Style(line_width_=None, line_color_=None, fill_color_=<Color gray>, fill_opacity_=None, dashing_=None, output_size=None), diagram=ApplyTransform(transform=Affine(1.0, 0.0, -2.0,\n",
       "       0.0, 1.0, 0.0), diagram=Compose(envelope=<chalk.envelope.Envelope object at 0x113dcee80>, diagrams=[Primitive(shape=Text(text='0', font_size=1), style=Style(line_width_=(<WidthType.NORMALIZED: 2>, 0), line_color_=None, fill_color_=None, fill_opacity_=None, dashing_=None, output_size=None), transform=Affine(1.0, 0.0, 0.0,\n",
       "       0.0, 1.0, 0.0)), Empty()])))])), Primitive(shape=Path(loc_trails=[Located(trail=Trail(segments=[Segment(offset=Vec2(2.0, 0.0), origin=Vec2(0.0, 0.0)), Segment(offset=Vec2(0.0, 0.3333333333333333), origin=Vec2(0.0, 0.0)), Segment(offset=Vec2(-2.0, 0.0), origin=Vec2(0.0, 0.0)), Segment(offset=Vec2(0.0, -0.3333333333333333), origin=Vec2(0.0, 0.0))], closed=True), location=Vec2(0.0, 0.0))]), style=Style(line_width_=(<WidthType.NORMALIZED: 2>, 0), line_color_=None, fill_color_=<Color gray>, fill_opacity_=None, dashing_=None, output_size=None), transform=Affine(1.0, 0.0, 0.0,\n",
       "       0.0, 1.0, -0.3333333333333333))])), Primitive(shape=Path(loc_trails=[Located(trail=Trail(segments=[Segment(offset=Vec2(2.0, 0.0), origin=Vec2(0.0, 0.0)), Segment(offset=Vec2(0.0, 0.37037037037037035), origin=Vec2(0.0, 0.0)), Segment(offset=Vec2(-2.0, 0.0), origin=Vec2(0.0, 0.0)), Segment(offset=Vec2(0.0, -0.37037037037037035), origin=Vec2(0.0, 0.0))], closed=True), location=Vec2(0.0, 0.0))]), style=Style(line_width_=(<WidthType.NORMALIZED: 2>, 0), line_color_=None, fill_color_=<Color gray>, fill_opacity_=None, dashing_=None, output_size=None), transform=Affine(1.0, 0.0, 2.0,\n",
       "       0.0, 1.0, -0.37037037037037035))])), Primitive(shape=Path(loc_trails=[Located(trail=Trail(segments=[Segment(offset=Vec2(0.0, 0.0), origin=Vec2(0.0, 0.0)), Segment(offset=Vec2(0.0, 0.4074074074074074), origin=Vec2(0.0, 0.0)), Segment(offset=Vec2(0.0, 0.0), origin=Vec2(0.0, 0.0)), Segment(offset=Vec2(0.0, -0.4074074074074074), origin=Vec2(0.0, 0.0))], closed=True), location=Vec2(0.0, 0.0))]), style=Style(line_width_=(<WidthType.NORMALIZED: 2>, 0), line_color_=None, fill_color_=<Color gray>, fill_opacity_=None, dashing_=None, output_size=None), transform=Affine(1.0, 0.0, 4.0,\n",
       "       0.0, 1.0, -0.4074074074074074))])), Primitive(shape=Path(loc_trails=[Located(trail=Trail(segments=[Segment(offset=Vec2(2.0, 0.0), origin=Vec2(0.0, 0.0)), Segment(offset=Vec2(0.0, 0.4444444444444444), origin=Vec2(0.0, 0.0)), Segment(offset=Vec2(-2.0, 0.0), origin=Vec2(0.0, 0.0)), Segment(offset=Vec2(0.0, -0.4444444444444444), origin=Vec2(0.0, 0.0))], closed=True), location=Vec2(0.0, 0.0))]), style=Style(line_width_=(<WidthType.NORMALIZED: 2>, 0), line_color_=None, fill_color_=<Color gray>, fill_opacity_=None, dashing_=None, output_size=None), transform=Affine(1.0, 0.0, 4.0,\n",
       "       0.0, 1.0, -0.4444444444444444))])), Primitive(shape=Path(loc_trails=[Located(trail=Trail(segments=[Segment(offset=Vec2(2.0, 0.0), origin=Vec2(0.0, 0.0)), Segment(offset=Vec2(0.0, 0.5555555555555556), origin=Vec2(0.0, 0.0)), Segment(offset=Vec2(-2.0, 0.0), origin=Vec2(0.0, 0.0)), Segment(offset=Vec2(0.0, -0.5555555555555556), origin=Vec2(0.0, 0.0))], closed=True), location=Vec2(0.0, 0.0))]), style=Style(line_width_=(<WidthType.NORMALIZED: 2>, 0), line_color_=None, fill_color_=<Color gray>, fill_opacity_=None, dashing_=None, output_size=None), transform=Affine(1.0, 0.0, 6.0,\n",
       "       0.0, 1.0, -0.5555555555555556))])), Primitive(shape=Path(loc_trails=[Located(trail=Trail(segments=[Segment(offset=Vec2(2.0, 0.0), origin=Vec2(0.0, 0.0)), Segment(offset=Vec2(0.0, 0.6666666666666666), origin=Vec2(0.0, 0.0)), Segment(offset=Vec2(-2.0, 0.0), origin=Vec2(0.0, 0.0)), Segment(offset=Vec2(0.0, -0.6666666666666666), origin=Vec2(0.0, 0.0))], closed=True), location=Vec2(0.0, 0.0))]), style=Style(line_width_=(<WidthType.NORMALIZED: 2>, 0), line_color_=None, fill_color_=<Color gray>, fill_opacity_=None, dashing_=None, output_size=None), transform=Affine(1.0, 0.0, 8.0,\n",
       "       0.0, 1.0, -0.6666666666666666))])), Primitive(shape=Path(loc_trails=[Located(trail=Trail(segments=[Segment(offset=Vec2(2.0, 0.0), origin=Vec2(0.0, 0.0)), Segment(offset=Vec2(0.0, 0.6666666666666666), origin=Vec2(0.0, 0.0)), Segment(offset=Vec2(-2.0, 0.0), origin=Vec2(0.0, 0.0)), Segment(offset=Vec2(0.0, -0.6666666666666666), origin=Vec2(0.0, 0.0))], closed=True), location=Vec2(0.0, 0.0))]), style=Style(line_width_=(<WidthType.NORMALIZED: 2>, 0), line_color_=None, fill_color_=<Color gray>, fill_opacity_=None, dashing_=None, output_size=None), transform=Affine(1.0, 0.0, 10.0,\n",
       "       0.0, 1.0, -0.6666666666666666))])), Primitive(shape=Path(loc_trails=[Located(trail=Trail(segments=[Segment(offset=Vec2(0.0, 0.0), origin=Vec2(0.0, 0.0)), Segment(offset=Vec2(0.0, 0.6666666666666666), origin=Vec2(0.0, 0.0)), Segment(offset=Vec2(0.0, 0.0), origin=Vec2(0.0, 0.0)), Segment(offset=Vec2(0.0, -0.6666666666666666), origin=Vec2(0.0, 0.0))], closed=True), location=Vec2(0.0, 0.0))]), style=Style(line_width_=(<WidthType.NORMALIZED: 2>, 0), line_color_=None, fill_color_=<Color gray>, fill_opacity_=None, dashing_=None, output_size=None), transform=Affine(1.0, 0.0, 12.0,\n",
       "       0.0, 1.0, -0.6666666666666666))])), Primitive(shape=Path(loc_trails=[Located(trail=Trail(segments=[Segment(offset=Vec2(2.0, 0.0), origin=Vec2(0.0, 0.0)), Segment(offset=Vec2(0.0, 0.6666666666666666), origin=Vec2(0.0, 0.0)), Segment(offset=Vec2(-2.0, 0.0), origin=Vec2(0.0, 0.0)), Segment(offset=Vec2(0.0, -0.6666666666666666), origin=Vec2(0.0, 0.0))], closed=True), location=Vec2(0.0, 0.0))]), style=Style(line_width_=(<WidthType.NORMALIZED: 2>, 0), line_color_=None, fill_color_=<Color gray>, fill_opacity_=None, dashing_=None, output_size=None), transform=Affine(1.0, 0.0, 12.0,\n",
       "       0.0, 1.0, -0.6666666666666666))])), Primitive(shape=Path(loc_trails=[Located(trail=Trail(segments=[Segment(offset=Vec2(2.0, 0.0), origin=Vec2(0.0, 0.0)), Segment(offset=Vec2(0.0, 0.6666666666666666), origin=Vec2(0.0, 0.0)), Segment(offset=Vec2(-2.0, 0.0), origin=Vec2(0.0, 0.0)), Segment(offset=Vec2(0.0, -0.6666666666666666), origin=Vec2(0.0, 0.0))], closed=True), location=Vec2(0.0, 0.0))]), style=Style(line_width_=(<WidthType.NORMALIZED: 2>, 0), line_color_=None, fill_color_=<Color gray>, fill_opacity_=None, dashing_=None, output_size=None), transform=Affine(1.0, 0.0, 14.0,\n",
       "       0.0, 1.0, -0.6666666666666666))])), Primitive(shape=Path(loc_trails=[Located(trail=Trail(segments=[Segment(offset=Vec2(2.0, 0.0), origin=Vec2(0.0, 0.0)), Segment(offset=Vec2(0.0, 0.6666666666666666), origin=Vec2(0.0, 0.0)), Segment(offset=Vec2(-2.0, 0.0), origin=Vec2(0.0, 0.0)), Segment(offset=Vec2(0.0, -0.6666666666666666), origin=Vec2(0.0, 0.0))], closed=True), location=Vec2(0.0, 0.0))]), style=Style(line_width_=(<WidthType.NORMALIZED: 2>, 0), line_color_=None, fill_color_=<Color gray>, fill_opacity_=None, dashing_=None, output_size=None), transform=Affine(1.0, 0.0, 16.0,\n",
       "       0.0, 1.0, -0.6666666666666666))])), Primitive(shape=Path(loc_trails=[Located(trail=Trail(segments=[Segment(offset=Vec2(2.0, 0.0), origin=Vec2(0.0, 0.0)), Segment(offset=Vec2(0.0, 0.6666666666666666), origin=Vec2(0.0, 0.0)), Segment(offset=Vec2(-2.0, 0.0), origin=Vec2(0.0, 0.0)), Segment(offset=Vec2(0.0, -0.6666666666666666), origin=Vec2(0.0, 0.0))], closed=True), location=Vec2(0.0, 0.0))]), style=Style(line_width_=(<WidthType.NORMALIZED: 2>, 0), line_color_=None, fill_color_=<Color gray>, fill_opacity_=None, dashing_=None, output_size=None), transform=Affine(1.0, 0.0, 18.0,\n",
       "       0.0, 1.0, -0.6666666666666666))])), Primitive(shape=Path(loc_trails=[Located(trail=Trail(segments=[Segment(offset=Vec2(0.0, 0.0), origin=Vec2(0.0, 0.0)), Segment(offset=Vec2(0.0, 0.6666666666666666), origin=Vec2(0.0, 0.0)), Segment(offset=Vec2(0.0, 0.0), origin=Vec2(0.0, 0.0)), Segment(offset=Vec2(0.0, -0.6666666666666666), origin=Vec2(0.0, 0.0))], closed=True), location=Vec2(0.0, 0.0))]), style=Style(line_width_=(<WidthType.NORMALIZED: 2>, 0), line_color_=None, fill_color_=<Color gray>, fill_opacity_=None, dashing_=None, output_size=None), transform=Affine(1.0, 0.0, 20.0,\n",
       "       0.0, 1.0, -0.6666666666666666))])), Primitive(shape=Path(loc_trails=[Located(trail=Trail(segments=[Segment(offset=Vec2(2.0, 0.0), origin=Vec2(0.0, 0.0)), Segment(offset=Vec2(0.0, 0.6666666666666666), origin=Vec2(0.0, 0.0)), Segment(offset=Vec2(-2.0, 0.0), origin=Vec2(0.0, 0.0)), Segment(offset=Vec2(0.0, -0.6666666666666666), origin=Vec2(0.0, 0.0))], closed=True), location=Vec2(0.0, 0.0))]), style=Style(line_width_=(<WidthType.NORMALIZED: 2>, 0), line_color_=None, fill_color_=<Color gray>, fill_opacity_=None, dashing_=None, output_size=None), transform=Affine(1.0, 0.0, 20.0,\n",
       "       0.0, 1.0, -0.6666666666666666))])), Primitive(shape=Path(loc_trails=[Located(trail=Trail(segments=[Segment(offset=Vec2(2.0, 0.0), origin=Vec2(0.0, 0.0)), Segment(offset=Vec2(0.0, 0.6666666666666666), origin=Vec2(0.0, 0.0)), Segment(offset=Vec2(-2.0, 0.0), origin=Vec2(0.0, 0.0)), Segment(offset=Vec2(0.0, -0.6666666666666666), origin=Vec2(0.0, 0.0))], closed=True), location=Vec2(0.0, 0.0))]), style=Style(line_width_=(<WidthType.NORMALIZED: 2>, 0), line_color_=None, fill_color_=<Color gray>, fill_opacity_=None, dashing_=None, output_size=None), transform=Affine(1.0, 0.0, 22.0,\n",
       "       0.0, 1.0, -0.6666666666666666))])), Primitive(shape=Path(loc_trails=[Located(trail=Trail(segments=[Segment(offset=Vec2(2.0, 0.0), origin=Vec2(0.0, 0.0)), Segment(offset=Vec2(0.0, 0.6666666666666666), origin=Vec2(0.0, 0.0)), Segment(offset=Vec2(-2.0, 0.0), origin=Vec2(0.0, 0.0)), Segment(offset=Vec2(0.0, -0.6666666666666666), origin=Vec2(0.0, 0.0))], closed=True), location=Vec2(0.0, 0.0))]), style=Style(line_width_=(<WidthType.NORMALIZED: 2>, 0), line_color_=None, fill_color_=<Color gray>, fill_opacity_=None, dashing_=None, output_size=None), transform=Affine(1.0, 0.0, 24.0,\n",
       "       0.0, 1.0, -0.6666666666666666))])), Primitive(shape=Path(loc_trails=[Located(trail=Trail(segments=[Segment(offset=Vec2(2.0, 0.0), origin=Vec2(0.0, 0.0)), Segment(offset=Vec2(0.0, 0.6666666666666666), origin=Vec2(0.0, 0.0)), Segment(offset=Vec2(-2.0, 0.0), origin=Vec2(0.0, 0.0)), Segment(offset=Vec2(0.0, -0.6666666666666666), origin=Vec2(0.0, 0.0))], closed=True), location=Vec2(0.0, 0.0))]), style=Style(line_width_=(<WidthType.NORMALIZED: 2>, 0), line_color_=None, fill_color_=<Color gray>, fill_opacity_=None, dashing_=None, output_size=None), transform=Affine(1.0, 0.0, 26.0,\n",
       "       0.0, 1.0, -0.6666666666666666))])), Primitive(shape=Path(loc_trails=[Located(trail=Trail(segments=[Segment(offset=Vec2(0.0, 0.0), origin=Vec2(0.0, 0.0)), Segment(offset=Vec2(0.0, 0.6666666666666666), origin=Vec2(0.0, 0.0)), Segment(offset=Vec2(0.0, 0.0), origin=Vec2(0.0, 0.0)), Segment(offset=Vec2(0.0, -0.6666666666666666), origin=Vec2(0.0, 0.0))], closed=True), location=Vec2(0.0, 0.0))]), style=Style(line_width_=(<WidthType.NORMALIZED: 2>, 0), line_color_=None, fill_color_=<Color gray>, fill_opacity_=None, dashing_=None, output_size=None), transform=Affine(1.0, 0.0, 28.0,\n",
       "       0.0, 1.0, -0.6666666666666666))])), Primitive(shape=Path(loc_trails=[Located(trail=Trail(segments=[Segment(offset=Vec2(2.0, 0.0), origin=Vec2(0.0, 0.0)), Segment(offset=Vec2(0.0, 0.6666666666666666), origin=Vec2(0.0, 0.0)), Segment(offset=Vec2(-2.0, 0.0), origin=Vec2(0.0, 0.0)), Segment(offset=Vec2(0.0, -0.6666666666666666), origin=Vec2(0.0, 0.0))], closed=True), location=Vec2(0.0, 0.0))]), style=Style(line_width_=(<WidthType.NORMALIZED: 2>, 0), line_color_=None, fill_color_=<Color gray>, fill_opacity_=None, dashing_=None, output_size=None), transform=Affine(1.0, 0.0, 28.0,\n",
       "       0.0, 1.0, -0.6666666666666666))])), Primitive(shape=Path(loc_trails=[Located(trail=Trail(segments=[Segment(offset=Vec2(2.0, 0.0), origin=Vec2(0.0, 0.0)), Segment(offset=Vec2(0.0, 0.6666666666666666), origin=Vec2(0.0, 0.0)), Segment(offset=Vec2(-2.0, 0.0), origin=Vec2(0.0, 0.0)), Segment(offset=Vec2(0.0, -0.6666666666666666), origin=Vec2(0.0, 0.0))], closed=True), location=Vec2(0.0, 0.0))]), style=Style(line_width_=(<WidthType.NORMALIZED: 2>, 0), line_color_=None, fill_color_=<Color gray>, fill_opacity_=None, dashing_=None, output_size=None), transform=Affine(1.0, 0.0, 30.0,\n",
       "       0.0, 1.0, -0.6666666666666666))])), Primitive(shape=Path(loc_trails=[Located(trail=Trail(segments=[Segment(offset=Vec2(1.0, 0.0), origin=Vec2(0.0, 0.0)), Segment(offset=Vec2(0.0, 0.6666666666666666), origin=Vec2(0.0, 0.0)), Segment(offset=Vec2(-1.0, 0.0), origin=Vec2(0.0, 0.0)), Segment(offset=Vec2(0.0, -0.6666666666666666), origin=Vec2(0.0, 0.0))], closed=True), location=Vec2(0.0, 0.0))]), style=Style(line_width_=(<WidthType.NORMALIZED: 2>, 0), line_color_=None, fill_color_=<Color gray>, fill_opacity_=None, dashing_=None, output_size=None), transform=Affine(1.0, 0.0, 32.0,\n",
       "       0.0, 1.0, -0.6666666666666666))])), Primitive(shape=Path(loc_trails=[Located(trail=Trail(segments=[Segment(offset=Vec2(1.0, 0.0), origin=Vec2(0.0, 0.0)), Segment(offset=Vec2(0.0, 0.5185185185185185), origin=Vec2(0.0, 0.0)), Segment(offset=Vec2(-1.0, 0.0), origin=Vec2(0.0, 0.0)), Segment(offset=Vec2(0.0, -0.5185185185185185), origin=Vec2(0.0, 0.0))], closed=True), location=Vec2(0.0, 0.0))]), style=Style(line_width_=(<WidthType.NORMALIZED: 2>, 0), line_color_=None, fill_color_=<Color gray>, fill_opacity_=None, dashing_=None, output_size=None), transform=Affine(1.0, 0.0, 33.0,\n",
       "       0.0, 1.0, -0.5185185185185185)), Primitive(shape=Path(loc_trails=[Located(trail=Trail(segments=[Segment(offset=Vec2(0.1, 0.0), origin=Vec2(0.0, 0.0)), Segment(offset=Vec2(0.0, 1.0), origin=Vec2(0.0, 0.0)), Segment(offset=Vec2(-0.1, 0.0), origin=Vec2(0.0, 0.0)), Segment(offset=Vec2(0.0, -1.0), origin=Vec2(0.0, 0.0))], closed=True), location=Vec2(0.0, 0.0))]), style=Style(line_width_=None, line_color_=<Color red>, fill_color_=None, fill_opacity_=None, dashing_=None, output_size=None), transform=Affine(1.0, 0.0, 7.95,\n",
       "       0.0, 1.0, -1.0)), ApplyTransform(transform=Affine(1.0, 0.0, 0.0,\n",
       "       0.0, 1.0, 0.0), diagram=ApplyTransform(transform=Affine(0.0, 1.0, 0.0,\n",
       "       -1.0, 0.0, 0.0), diagram=Empty())), ApplyTransform(transform=Affine(1.0, 0.0, 0.0,\n",
       "       0.0, 1.0, 0.0), diagram=Empty())]))])))])"
      ]
     },
     "execution_count": 91,
     "metadata": {},
     "output_type": "execute_result"
    }
   ],
   "source": [
    "draw([out])"
   ]
  },
  {
   "cell_type": "code",
   "execution_count": 92,
   "id": "28cf8167",
   "metadata": {},
   "outputs": [
    {
     "name": "stdout",
     "output_type": "stream",
     "text": [
      "Correct!\n"
     ]
    },
    {
     "data": {
      "text/html": [
       "\n",
       "        <video alt=\"test\" controls autoplay=1>\n",
       "            <source src=\"https://openpuppies.com/mp4/Eq2uMTA.mp4\"  type=\"video/mp4\">\n",
       "        </video>\n",
       "        "
      ],
      "text/plain": [
       "<IPython.core.display.HTML object>"
      ]
     },
     "execution_count": 92,
     "metadata": {},
     "output_type": "execute_result"
    }
   ],
   "source": [
    "Model.check([out])"
   ]
  },
  {
   "cell_type": "markdown",
   "id": "ccfb345c",
   "metadata": {},
   "source": [
    "## Communications: AllReduce"
   ]
  },
  {
   "cell_type": "markdown",
   "id": "17383602",
   "metadata": {},
   "source": [
    "When working with multiple GPUs we need to have communication. \n",
    "The primary communication primitives for GPUs are implemented in NCCL. \n",
    "\n",
    "https://docs.nvidia.com/deeplearning/nccl/user-guide/docs/usage/operations.html\n",
    "\n",
    "We are not going to use these directly, but simulate them using Python and asyncio. \n",
    "\n",
    "The first operation is AllReduce. We will have 4 GPUs (ranks=4) and use them each to compute a batch of weight grads."
   ]
  },
  {
   "cell_type": "code",
   "execution_count": 93,
   "id": "1f7bb767",
   "metadata": {},
   "outputs": [
    {
     "data": {
      "image/svg+xml": [
       "<?xml version=\"1.0\" encoding=\"utf-8\" ?>\n",
       "<svg baseProfile=\"full\" height=\"400\" version=\"1.1\" width=\"387\" xmlns=\"http://www.w3.org/2000/svg\" xmlns:ev=\"http://www.w3.org/2001/xml-events\" xmlns:xlink=\"http://www.w3.org/1999/xlink\"><defs><marker id=\"arrow\" markerHeight=\"3.5\" markerWidth=\"5\" orient=\"auto\" refX=\"5.0\" refY=\"1.7\"><polygon points=\"0,0 5,1.75 0,3.5\" /></marker></defs><g style=\"fill:white;\"><g transform=\"matrix(1.0, 0.0, 0.0, 1.0, 193.49999999999997, 199.94999999999996)\"><g transform=\"matrix(122.85714285714285, 0.0, 0.0, 122.85714285714285, 0.0, 0.0)\"><g><g transform=\"matrix(1.0, 0.0, 0.0, 1.0, -0.0, -1.5499999999999998)\"><g><g style=\"stroke: black;stroke-width: 3.6;\" transform=\"matrix(1.0, 0.0, 0.0, 1.0, -0.75, 0.0)\"><path d=\"M 0.0 0.0 L 1.5 0.0 L 1.5 1.05 L 0.0 1.05 L 0.0 0.0 Z\" style=\"vector-effect: non-scaling-stroke;\" /></g><g style=\"stroke: black;stroke-width: 3.6;\" transform=\"matrix(1.0, 0.0, 0.0, 1.0, -1.5, 0.0)\"><path d=\"M 0.0 0.0 L 3.0 0.0 L 3.0 0.0 L 0.0 0.0 L 0.0 0.0 Z\" style=\"vector-effect: non-scaling-stroke;\" /></g><g transform=\"matrix(1.0, 0.0, 0.0, 1.0, 0.0, 1.05)\"><g transform=\"matrix(0.0, -1.0, 1.0, 0.0, 0.0, 0.0)\"><g /></g></g><g transform=\"matrix(1.0, 0.0, 0.0, 1.0, 0.0, 2.05)\"><g><g style=\"stroke: black;stroke-width: 3.6;\" transform=\"matrix(1.0, 0.0, 0.0, 1.0, -0.75, 0.0)\"><path d=\"M 0.0 0.0 L 1.5 0.0 L 1.5 1.05 L 0.0 1.05 L 0.0 0.0 Z\" style=\"vector-effect: non-scaling-stroke;\" /></g><g style=\"stroke: black;stroke-width: 3.6;\" transform=\"matrix(1.0, 0.0, 0.0, 1.0, -1.5, -1.0)\"><path d=\"M 0.0 0.0 L 3.0 0.0 L 3.0 1.0 L 0.0 1.0 L 0.0 0.0 Z\" style=\"vector-effect: non-scaling-stroke;\" /></g></g></g><g /><g /><g /><g transform=\"matrix(1.0, 0.0, 0.0, 1.0, 0.0, 1.05)\"><g transform=\"matrix(0.0, -1.0, 1.0, 0.0, 0.0, 0.0)\"><g /></g></g><g transform=\"matrix(1.0, 0.0, 0.0, 1.0, 0.0, 2.05)\"><g><g /><g><g style=\"fill: #008000;stroke: #ffffff;stroke-width: 0.18;fill-opacity: 0.5;\" transform=\"matrix(1.0, 0.0, 0.0, 1.0, -1.5, -1.0)\"><path d=\"M 0.0 0.0 L 0.75 0.0 L 0.75 1.0 L 0.0 1.0 L 0.0 0.0 Z\" style=\"vector-effect: non-scaling-stroke;\" /></g><g style=\"fill: #008000;stroke: #ffffff;stroke-width: 0.18;fill-opacity: 0.5;\" transform=\"matrix(1.0, 0.0, 0.0, 1.0, -0.75, -1.0)\"><path d=\"M 0.0 0.0 L 0.75 0.0 L 0.75 1.0 L 0.0 1.0 L 0.0 0.0 Z\" style=\"vector-effect: non-scaling-stroke;\" /></g><g style=\"fill: #008000;stroke: #ffffff;stroke-width: 0.18;fill-opacity: 0.5;\" transform=\"matrix(1.0, 0.0, 0.0, 1.0, 0.0, -1.0)\"><path d=\"M 0.0 0.0 L 0.75 0.0 L 0.75 1.0 L 0.0 1.0 L 0.0 0.0 Z\" style=\"vector-effect: non-scaling-stroke;\" /></g><g style=\"fill: #008000;stroke: #ffffff;stroke-width: 0.18;fill-opacity: 0.5;\" transform=\"matrix(1.0, 0.0, 0.0, 1.0, 0.75, -1.0)\"><path d=\"M 0.0 0.0 L 0.75 0.0 L 0.75 1.0 L 0.0 1.0 L 0.0 0.0 Z\" style=\"vector-effect: non-scaling-stroke;\" /></g></g><g /></g></g></g></g><g /></g></g></g></g></svg>"
      ],
      "text/plain": [
       "WeightGrad(layer=0, layers=1, batches={0, 1, 2, 3}, total_batches=4, shards=frozenset({0}), total=1)"
      ]
     },
     "execution_count": 93,
     "metadata": {},
     "output_type": "execute_result"
    }
   ],
   "source": [
    "ranks = 4\n",
    "weight_grads = [WeightGrad(0, 1, {i}, ranks) for i in range(ranks)]\n",
    "weight_grads[0] + weight_grads[1] + weight_grads[2] + weight_grads[3]"
   ]
  },
  {
   "cell_type": "code",
   "execution_count": 94,
   "id": "ef0232db",
   "metadata": {},
   "outputs": [],
   "source": [
    "# Simple asynchronous function that calls allreduce to sum the weight grads at layer 0\n",
    "async def myfunc(model: Model) -> WeightGrad:\n",
    "    return await model.allreduce(weight_grads[model.rank], 0)"
   ]
  },
  {
   "cell_type": "code",
   "execution_count": 95,
   "id": "43a91ae4",
   "metadata": {},
   "outputs": [
    {
     "data": {
      "image/svg+xml": [
       "<?xml version=\"1.0\" encoding=\"utf-8\" ?>\n",
       "<svg baseProfile=\"full\" height=\"400\" version=\"1.1\" width=\"387\" xmlns=\"http://www.w3.org/2000/svg\" xmlns:ev=\"http://www.w3.org/2001/xml-events\" xmlns:xlink=\"http://www.w3.org/1999/xlink\"><defs><marker id=\"arrow\" markerHeight=\"3.5\" markerWidth=\"5\" orient=\"auto\" refX=\"5.0\" refY=\"1.7\"><polygon points=\"0,0 5,1.75 0,3.5\" /></marker></defs><g style=\"fill:white;\"><g transform=\"matrix(1.0, 0.0, 0.0, 1.0, 193.49999999999997, 199.94999999999996)\"><g transform=\"matrix(122.85714285714285, 0.0, 0.0, 122.85714285714285, 0.0, 0.0)\"><g><g transform=\"matrix(1.0, 0.0, 0.0, 1.0, -0.0, -1.5499999999999998)\"><g><g style=\"stroke: black;stroke-width: 3.6;\" transform=\"matrix(1.0, 0.0, 0.0, 1.0, -0.75, 0.0)\"><path d=\"M 0.0 0.0 L 1.5 0.0 L 1.5 1.05 L 0.0 1.05 L 0.0 0.0 Z\" style=\"vector-effect: non-scaling-stroke;\" /></g><g style=\"stroke: black;stroke-width: 3.6;\" transform=\"matrix(1.0, 0.0, 0.0, 1.0, -1.5, 0.0)\"><path d=\"M 0.0 0.0 L 3.0 0.0 L 3.0 0.0 L 0.0 0.0 L 0.0 0.0 Z\" style=\"vector-effect: non-scaling-stroke;\" /></g><g transform=\"matrix(1.0, 0.0, 0.0, 1.0, 0.0, 1.05)\"><g transform=\"matrix(0.0, -1.0, 1.0, 0.0, 0.0, 0.0)\"><g /></g></g><g transform=\"matrix(1.0, 0.0, 0.0, 1.0, 0.0, 2.05)\"><g><g style=\"stroke: black;stroke-width: 3.6;\" transform=\"matrix(1.0, 0.0, 0.0, 1.0, -0.75, 0.0)\"><path d=\"M 0.0 0.0 L 1.5 0.0 L 1.5 1.05 L 0.0 1.05 L 0.0 0.0 Z\" style=\"vector-effect: non-scaling-stroke;\" /></g><g style=\"stroke: black;stroke-width: 3.6;\" transform=\"matrix(1.0, 0.0, 0.0, 1.0, -1.5, -1.0)\"><path d=\"M 0.0 0.0 L 3.0 0.0 L 3.0 1.0 L 0.0 1.0 L 0.0 0.0 Z\" style=\"vector-effect: non-scaling-stroke;\" /></g></g></g><g /><g /><g /><g transform=\"matrix(1.0, 0.0, 0.0, 1.0, 0.0, 1.05)\"><g transform=\"matrix(0.0, -1.0, 1.0, 0.0, 0.0, 0.0)\"><g /></g></g><g transform=\"matrix(1.0, 0.0, 0.0, 1.0, 0.0, 2.05)\"><g><g /><g><g style=\"fill: #008000;stroke: #ffffff;stroke-width: 0.18;fill-opacity: 0.5;\" transform=\"matrix(1.0, 0.0, 0.0, 1.0, -1.5, -1.0)\"><path d=\"M 0.0 0.0 L 0.75 0.0 L 0.75 1.0 L 0.0 1.0 L 0.0 0.0 Z\" style=\"vector-effect: non-scaling-stroke;\" /></g><g style=\"fill: #008000;stroke: #ffffff;stroke-width: 0.18;fill-opacity: 0.5;\" transform=\"matrix(1.0, 0.0, 0.0, 1.0, -0.75, -1.0)\"><path d=\"M 0.0 0.0 L 0.75 0.0 L 0.75 1.0 L 0.0 1.0 L 0.0 0.0 Z\" style=\"vector-effect: non-scaling-stroke;\" /></g><g style=\"fill: #008000;stroke: #ffffff;stroke-width: 0.18;fill-opacity: 0.5;\" transform=\"matrix(1.0, 0.0, 0.0, 1.0, 0.0, -1.0)\"><path d=\"M 0.0 0.0 L 0.75 0.0 L 0.75 1.0 L 0.0 1.0 L 0.0 0.0 Z\" style=\"vector-effect: non-scaling-stroke;\" /></g><g style=\"fill: #008000;stroke: #ffffff;stroke-width: 0.18;fill-opacity: 0.5;\" transform=\"matrix(1.0, 0.0, 0.0, 1.0, 0.75, -1.0)\"><path d=\"M 0.0 0.0 L 0.75 0.0 L 0.75 1.0 L 0.0 1.0 L 0.0 0.0 Z\" style=\"vector-effect: non-scaling-stroke;\" /></g></g><g /></g></g></g></g><g /></g></g></g></g></svg>"
      ],
      "text/plain": [
       "WeightGrad(layer=0, layers=1, batches={0, 1, 2, 3}, total_batches=4, shards=frozenset({0}), total=1)"
      ]
     },
     "execution_count": 95,
     "metadata": {},
     "output_type": "execute_result"
    }
   ],
   "source": [
    "# This code uses asyncio to run the above function on 4 \"GPUs\" .\n",
    "dist = Dist(ranks)\n",
    "out_weight_grads = await asyncio.gather(*[\n",
    "    myfunc(Model(layers=1, batches=1, rank=i, dist=dist))\n",
    "    for i in range(ranks)])\n",
    "out_weight_grads[0]"
   ]
  },
  {
   "cell_type": "markdown",
   "id": "73d4ee90",
   "metadata": {},
   "source": [
    "Note: When running communication operations like AllReduce on a GPU, the communication happens in parallel to the computation on that GPU. That means the API for AllReduce does not block, and allows the model to continue running while waiting for this command to run. This means it is beneficial to run AllReduce (and other communication) as early as possible so that other compute can be run during the reduction. \n",
    "\n",
    "We will ignore this in these puzzles and represent communication as happening efficiently."
   ]
  },
  {
   "cell_type": "markdown",
   "id": "1020523e",
   "metadata": {},
   "source": [
    "### Puzzle 2 - Distributed Data Parallel\n",
    "\n",
    "Write a function with four parts. First run on batches {0} and then {1} etc. Sum the grad weights and then update. The main benefit of this approach is compute efficiency over gradient accumulation.\n",
    "\n",
    "* Total Steps: 5\n",
    "* Total Memory: 1800000"
   ]
  },
  {
   "cell_type": "code",
   "execution_count": 105,
   "id": "f492668c",
   "metadata": {
    "lines_to_next_cell": 2
   },
   "outputs": [],
   "source": [
    "async def ddp(model: Model) -> Model:\n",
    "    # Storage on device.\n",
    "    weights, opt_states, activations, grad_activations, grad_weights = model.storage()\n",
    "    # Load all the activations\n",
    "    model.activations[0] = model.get_activation([model.rank])\n",
    "    for l in range(model.LAYERS):\n",
    "        model.weights[l], model.opt_states[l] = model.load_weights(l)\n",
    "    for l in range(model.LAYERS):\n",
    "        activations[l+1] = model.forward(l, activations[l], weights[l])\n",
    "    grad_activations[model.LAYERS] = model.loss(activations[model.LAYERS])\n",
    "    for l in reversed(range(model.LAYERS)):\n",
    "        grad_weights_subbatch, grad_activations[l] = model.backward(l, activations[l], grad_activations[l+1], weights[l])\n",
    "        del  activations[l]\n",
    "        del grad_activations[l+1]\n",
    "        grad_weights[l] = await model.allreduce(grad_weights_subbatch, l)\n",
    "        del grad_weights_subbatch   \n",
    "        weights[l], opt_states[l] = model.update(l, grad_weights[l], weights[l], opt_states[l])\n",
    "        del grad_weights[l]\n",
    "        del opt_states[l]\n",
    "    \n",
    "    # assert False, 'TODO: Implement me'\n",
    "    for l in range(model.LAYERS):\n",
    "        model.set_final_weight(l, weights[l])\n",
    "    return model"
   ]
  },
  {
   "cell_type": "code",
   "execution_count": 106,
   "id": "d6ed44f7",
   "metadata": {},
   "outputs": [
    {
     "ename": "AssertionError",
     "evalue": "",
     "output_type": "error",
     "traceback": [
      "\u001b[0;31m---------------------------------------------------------------------------\u001b[0m",
      "\u001b[0;31mAssertionError\u001b[0m                            Traceback (most recent call last)",
      "Cell \u001b[0;32mIn[106], line 2\u001b[0m\n\u001b[1;32m      1\u001b[0m dist \u001b[38;5;241m=\u001b[39m Dist(ranks)\n\u001b[0;32m----> 2\u001b[0m out \u001b[38;5;241m=\u001b[39m \u001b[38;5;28;01mawait\u001b[39;00m asyncio\u001b[38;5;241m.\u001b[39mgather(\u001b[38;5;241m*\u001b[39m[\n\u001b[1;32m      3\u001b[0m     ddp(Model(layers\u001b[38;5;241m=\u001b[39m\u001b[38;5;241m2\u001b[39m, batches\u001b[38;5;241m=\u001b[39mranks, rank\u001b[38;5;241m=\u001b[39mi, dist\u001b[38;5;241m=\u001b[39mdist))\n\u001b[1;32m      4\u001b[0m     \u001b[38;5;28;01mfor\u001b[39;00m i \u001b[38;5;129;01min\u001b[39;00m \u001b[38;5;28mrange\u001b[39m(ranks)])\n\u001b[1;32m      5\u001b[0m draw_group(out[\u001b[38;5;241m0\u001b[39m]\u001b[38;5;241m.\u001b[39mfinal_weights)\n",
      "Cell \u001b[0;32mIn[105], line 9\u001b[0m, in \u001b[0;36mddp\u001b[0;34m(model)\u001b[0m\n\u001b[1;32m      7\u001b[0m     model\u001b[38;5;241m.\u001b[39mweights[l], model\u001b[38;5;241m.\u001b[39mopt_states[l] \u001b[38;5;241m=\u001b[39m model\u001b[38;5;241m.\u001b[39mload_weights(l, model\u001b[38;5;241m.\u001b[39mrank, model\u001b[38;5;241m.\u001b[39mRANKS)\n\u001b[1;32m      8\u001b[0m \u001b[38;5;28;01mfor\u001b[39;00m l \u001b[38;5;129;01min\u001b[39;00m \u001b[38;5;28mrange\u001b[39m(model\u001b[38;5;241m.\u001b[39mLAYERS):\n\u001b[0;32m----> 9\u001b[0m     activations[l\u001b[38;5;241m+\u001b[39m\u001b[38;5;241m1\u001b[39m] \u001b[38;5;241m=\u001b[39m \u001b[43mmodel\u001b[49m\u001b[38;5;241;43m.\u001b[39;49m\u001b[43mforward\u001b[49m\u001b[43m(\u001b[49m\u001b[43ml\u001b[49m\u001b[43m,\u001b[49m\u001b[43m \u001b[49m\u001b[43mactivations\u001b[49m\u001b[43m[\u001b[49m\u001b[43ml\u001b[49m\u001b[43m]\u001b[49m\u001b[43m,\u001b[49m\u001b[43m \u001b[49m\u001b[43mweights\u001b[49m\u001b[43m[\u001b[49m\u001b[43ml\u001b[49m\u001b[43m]\u001b[49m\u001b[43m)\u001b[49m\n\u001b[1;32m     10\u001b[0m grad_activations[model\u001b[38;5;241m.\u001b[39mLAYERS] \u001b[38;5;241m=\u001b[39m model\u001b[38;5;241m.\u001b[39mloss(activations[model\u001b[38;5;241m.\u001b[39mLAYERS])\n\u001b[1;32m     11\u001b[0m \u001b[38;5;28;01mfor\u001b[39;00m l \u001b[38;5;129;01min\u001b[39;00m \u001b[38;5;28mreversed\u001b[39m(\u001b[38;5;28mrange\u001b[39m(model\u001b[38;5;241m.\u001b[39mLAYERS)):\n",
      "File \u001b[0;32m~/LLM-Training-Puzzles/lib.py:355\u001b[0m, in \u001b[0;36mModel.forward\u001b[0;34m(self, layer, inp, weight)\u001b[0m\n\u001b[1;32m    353\u001b[0m \u001b[38;5;124m\"\u001b[39m\u001b[38;5;124mTake in activation at layer i and return layer i + 1\u001b[39m\u001b[38;5;124m\"\u001b[39m\n\u001b[1;32m    354\u001b[0m \u001b[38;5;28mself\u001b[39m\u001b[38;5;241m.\u001b[39mevent(\u001b[38;5;124m\"\u001b[39m\u001b[38;5;124mforward\u001b[39m\u001b[38;5;124m\"\u001b[39m, layer, inp\u001b[38;5;241m.\u001b[39mbatches)\n\u001b[0;32m--> 355\u001b[0m \u001b[38;5;28;01massert\u001b[39;00m weight\u001b[38;5;241m.\u001b[39mis_complete()\n\u001b[1;32m    356\u001b[0m \u001b[38;5;28;01massert\u001b[39;00m weight\u001b[38;5;241m.\u001b[39mlayer \u001b[38;5;241m==\u001b[39m layer, \u001b[38;5;124mf\u001b[39m\u001b[38;5;124m\"\u001b[39m\u001b[38;5;124mWeight should be layer \u001b[39m\u001b[38;5;132;01m{\u001b[39;00mlayer\u001b[38;5;132;01m}\u001b[39;00m\u001b[38;5;124m\"\u001b[39m\n\u001b[1;32m    357\u001b[0m \u001b[38;5;28;01massert\u001b[39;00m inp\u001b[38;5;241m.\u001b[39mlayer \u001b[38;5;241m==\u001b[39m layer, \u001b[38;5;124mf\u001b[39m\u001b[38;5;124m\"\u001b[39m\u001b[38;5;124mInput should be layer \u001b[39m\u001b[38;5;132;01m{\u001b[39;00mlayer\u001b[38;5;132;01m}\u001b[39;00m\u001b[38;5;124m\"\u001b[39m\n",
      "\u001b[0;31mAssertionError\u001b[0m: "
     ]
    }
   ],
   "source": [
    "dist = Dist(ranks)\n",
    "out = await asyncio.gather(*[\n",
    "    ddp(Model(layers=2, batches=ranks, rank=i, dist=dist))\n",
    "    for i in range(ranks)])\n",
    "draw_group(out[0].final_weights)"
   ]
  },
  {
   "cell_type": "code",
   "execution_count": null,
   "id": "89411fad",
   "metadata": {},
   "outputs": [],
   "source": [
    "draw(out)"
   ]
  },
  {
   "cell_type": "code",
   "execution_count": null,
   "id": "2df8166f",
   "metadata": {},
   "outputs": [],
   "source": [
    "Model.check(out)"
   ]
  },
  {
   "cell_type": "markdown",
   "id": "8c3df405",
   "metadata": {},
   "source": [
    "## Communication: AllGather / Sharding\n",
    "\n",
    "Our next primitive is AllGather. This allows us to communicate \"shards\" of an object stored on different GPUs to all the GPUs."
   ]
  },
  {
   "cell_type": "code",
   "execution_count": null,
   "id": "5b4bad85",
   "metadata": {},
   "outputs": [],
   "source": [
    "# Load only part of a weights.\n",
    "model = Model(layers=2, batches=1, rank=0, dist=Dist(1))\n",
    "weight, _ = model.load_weights(0, shard=0, total=4)\n",
    "weight"
   ]
  },
  {
   "cell_type": "code",
   "execution_count": null,
   "id": "2597b152",
   "metadata": {},
   "outputs": [],
   "source": [
    "# Combine togegher two shards on one machine.\n",
    "weights = [model.load_weights(0, shard=i, total=ranks)[0] for i in range(ranks)]\n",
    "weights[0].combine(weights[2])"
   ]
  },
  {
   "cell_type": "code",
   "execution_count": null,
   "id": "5e3d10b6",
   "metadata": {},
   "outputs": [],
   "source": [
    "# Use allgather to collect the shards from all machines.\n",
    "async def mygather(model: Model) -> WeightGrad:\n",
    "    # Allreduce sums together all the weight grads\n",
    "    return await model.allgather(weights[model.rank], 0)\n",
    "\n",
    "dist = Dist(ranks)\n",
    "out_weights = await asyncio.gather(*[\n",
    "    mygather(Model(layers=1, batches=1, rank=i, dist=dist))\n",
    "    for i in range(ranks)])\n",
    "out_weights[0]"
   ]
  },
  {
   "cell_type": "markdown",
   "id": "c3903613",
   "metadata": {},
   "source": [
    "### Puzzle 3: Weight-Sharded Data Parallel\n",
    "\n",
    "Run a model that shards each layer weight over all the machines. Reconstruct the layer weight at each layer using allgather. Finally update the weights on each machine using allreduce.\n",
    "\n",
    "* Total Steps: 20\n",
    "* Total Memory: 2800000"
   ]
  },
  {
   "cell_type": "code",
   "execution_count": null,
   "id": "4b674be7",
   "metadata": {},
   "outputs": [],
   "source": [
    "async def wsdp(model: Model) -> Model:\n",
    "    # Storage on device.\n",
    "    weights, opt_states, activations, grad_activations, grad_weights = model.storage()\n",
    "\n",
    "    # Load all the activations\n",
    "    model.activations[0] = model.get_activation([model.rank])\n",
    "\n",
    "    # Load a shard of the weights for every layer. Load in the full weights\n",
    "    for l in range(model.LAYERS):\n",
    "        weights[l], opt_states[l] = model.load_weights(l, model.rank, model.RANKS) \n",
    "\n",
    "    assert False, 'TODO: Implement me'\n",
    "    for l in range(model.LAYERS):\n",
    "        model.set_final_weight(l, weights[l])\n",
    "\n",
    "    return model"
   ]
  },
  {
   "cell_type": "code",
   "execution_count": null,
   "id": "6c23a1eb",
   "metadata": {},
   "outputs": [],
   "source": [
    "dist = Dist(ranks)\n",
    "out = await asyncio.gather(*[\n",
    "    wsdp(Model(layers=6, batches=ranks, rank=i, dist=dist))\n",
    "    for i in range(ranks)])\n",
    "draw_group(out[1].final_weights)"
   ]
  },
  {
   "cell_type": "code",
   "execution_count": null,
   "id": "09731c67",
   "metadata": {},
   "outputs": [],
   "source": [
    "draw(out)"
   ]
  },
  {
   "cell_type": "code",
   "execution_count": null,
   "id": "d3ff46b6",
   "metadata": {},
   "outputs": [],
   "source": [
    "Model.check(out)"
   ]
  },
  {
   "cell_type": "markdown",
   "id": "32243386",
   "metadata": {},
   "source": [
    "## Communication: Scatter-Reduce"
   ]
  },
  {
   "cell_type": "markdown",
   "id": "44610031",
   "metadata": {},
   "source": [
    "Scatter across shards\n",
    "Reduce across batches"
   ]
  },
  {
   "cell_type": "code",
   "execution_count": null,
   "id": "1034dbb9",
   "metadata": {},
   "outputs": [],
   "source": [
    "grad_weight = WeightGrad(0, 1, batches={1}, total_batches=4, \n",
    "                         shards={1}, total=4)\n",
    "grad_weight"
   ]
  },
  {
   "cell_type": "code",
   "execution_count": null,
   "id": "02680e7e",
   "metadata": {},
   "outputs": [],
   "source": [
    "grad_weights = {i: WeightGrad(0, 1, batches={i}, total_batches=4, \n",
    "                         shards={0,1,2,3}, total=4) for i in range(4)}\n",
    "grad_weights[2]"
   ]
  },
  {
   "cell_type": "code",
   "execution_count": null,
   "id": "1498773a",
   "metadata": {
    "lines_to_next_cell": 0
   },
   "outputs": [],
   "source": [
    "async def scatterreduce(model: Model) -> WeightGrad:\n",
    "    # Allreduce sums together all the weight grads\n",
    "    return await model.scatterreduce(grad_weights[model.rank], 0)\n",
    "\n",
    "dist = Dist(ranks)\n",
    "out = await asyncio.gather(*[\n",
    "    scatterreduce(Model(layers=1, batches=1, rank=i, dist=dist))\n",
    "    for i in range(ranks)])\n",
    "out[0]"
   ]
  },
  {
   "cell_type": "code",
   "execution_count": null,
   "id": "261435f2",
   "metadata": {
    "lines_to_next_cell": 2
   },
   "outputs": [],
   "source": []
  },
  {
   "cell_type": "markdown",
   "id": "7e62da15",
   "metadata": {},
   "source": [
    "### Puzzle 4: Fully-Sharded Data Parallel\n",
    "\n",
    "Run a model that shards each layer weight over all the machines. Reconstruct the layer weight at each layer using allgather. Collect the gradients with scatter-reduce.\n",
    "\n",
    "* Total Steps: 20\n",
    "* Total Memory: 2300000"
   ]
  },
  {
   "cell_type": "code",
   "execution_count": null,
   "id": "43a35535",
   "metadata": {
    "lines_to_next_cell": 2
   },
   "outputs": [],
   "source": [
    "async def fsdp(model: Model) -> Model:\n",
    "    # Storage on device.\n",
    "    weights, opt_states, activations, grad_activations, grad_weights = model.storage()\n",
    "\n",
    "    # Load all the activations\n",
    "    model.activations[0] = model.get_activation([model.rank])\n",
    "\n",
    "    # Load a shard of the weights for every layer. Load in the full weights\n",
    "    for l in range(model.LAYERS):\n",
    "        weights[l], opt_states[l] = model.load_weights(l, model.rank, model.RANKS) \n",
    "\n",
    "    assert False, 'TODO: Implement me'\n",
    "    for l in range(model.LAYERS):\n",
    "        model.set_final_weight(l, weights[l])\n",
    "    return model"
   ]
  },
  {
   "cell_type": "code",
   "execution_count": null,
   "id": "dec61bda",
   "metadata": {},
   "outputs": [],
   "source": [
    "dist = Dist(ranks)\n",
    "out = await asyncio.gather(*[\n",
    "    fsdp(Model(layers=6, batches=ranks, rank=i, dist=dist))\n",
    "    for i in range(ranks)])\n",
    "draw_group(out[1].final_weights)"
   ]
  },
  {
   "cell_type": "code",
   "execution_count": null,
   "id": "b9f62f28",
   "metadata": {},
   "outputs": [],
   "source": [
    "draw(out)"
   ]
  },
  {
   "cell_type": "code",
   "execution_count": null,
   "id": "3a527fc7",
   "metadata": {},
   "outputs": [],
   "source": [
    "Model.check(out)"
   ]
  },
  {
   "cell_type": "markdown",
   "id": "0858bb4f",
   "metadata": {},
   "source": [
    "## Communication: Point-to-Point\n",
    "\n",
    "An alternative approach to communication is to directly communicate specific information between GPUs. In our model, both GPUs talking to each other block and wait for the handoff. "
   ]
  },
  {
   "cell_type": "code",
   "execution_count": null,
   "id": "de38df4d",
   "metadata": {
    "lines_to_next_cell": 2
   },
   "outputs": [],
   "source": [
    "async def talk(model: Model) -> None:\n",
    "    if model.rank == 0:\n",
    "        await model.pass_to(1, \"extra cheese\")\n",
    "        val = await model.receive()\n",
    "        print(val)\n",
    "    else:\n",
    "        val = await model.receive()\n",
    "        print(val)\n",
    "        val = await model.pass_to(0, \"pizza\")\n",
    "\n",
    "dist = Dist(2)\n",
    "result = await asyncio.gather(*[\n",
    "    talk(Model(layers=1, batches=1, rank=i, dist=dist))\n",
    "    for i in range(2)])"
   ]
  },
  {
   "cell_type": "markdown",
   "id": "027b159c",
   "metadata": {},
   "source": [
    "### Puzzle 5: Pipeline Parallelism\n",
    "\n",
    "Split the layer weights and optimizers equally between GPUs. Have each GPU handle only its layer. Pass the full set of batches for activations and grad_activations between layers using p2p communication. No need for any global communication.\n",
    "\n",
    "* Total Steps: 66\n",
    "* Total Memory: 3300000"
   ]
  },
  {
   "cell_type": "code",
   "execution_count": null,
   "id": "09feb2a6",
   "metadata": {
    "lines_to_next_cell": 2
   },
   "outputs": [],
   "source": [
    "async def pipeline(model: Model) -> Model:\n",
    "    weights, opt_states, activations, grad_activations, grad_weights = model.storage()\n",
    "    per_rank = model.LAYERS // model.RANKS\n",
    "    my_layers = list([l + (model.rank * per_rank) for l in range(per_rank)])\n",
    "    for l in my_layers:\n",
    "        weights[l], opt_states[l] = model.load_weights(l)\n",
    "    assert False, 'TODO: Implement me'\n",
    "    for l in my_layers:\n",
    "        model.set_final_weight(l, weights[l])\n",
    "    return model"
   ]
  },
  {
   "cell_type": "code",
   "execution_count": null,
   "id": "2e5c381b",
   "metadata": {},
   "outputs": [],
   "source": [
    "dist = Dist(ranks)\n",
    "out = await asyncio.gather(*[\n",
    "    pipeline(Model(layers=8, batches=ranks, rank=i, dist=dist))\n",
    "    for i in range(ranks)])\n",
    "draw_group(out[1].final_weights)"
   ]
  },
  {
   "cell_type": "code",
   "execution_count": null,
   "id": "5a99ecad",
   "metadata": {},
   "outputs": [],
   "source": [
    "draw(out)"
   ]
  },
  {
   "cell_type": "code",
   "execution_count": null,
   "id": "2b2f11d5",
   "metadata": {},
   "outputs": [],
   "source": [
    "Model.check(out)"
   ]
  },
  {
   "cell_type": "markdown",
   "id": "f6606efc",
   "metadata": {},
   "source": [
    "### Puzzle 6: GPipe Schedule\n",
    "\n",
    "A major issue with the pipeline approach is that it causes a \"bubble\", i.e. time in the later layers waiting for the earlier layers to complete. An alternative approach is to split the batches smaller so you can pass them earlier. \n",
    "\n",
    "In this puzzle, you should run each batch by itself, and then pass. The graph should look similar as the one above but with a smaller bubble. \n",
    "\n",
    "* Total Steps: 33\n",
    "* Total Memory: 4100000"
   ]
  },
  {
   "cell_type": "code",
   "execution_count": null,
   "id": "f5f33513",
   "metadata": {
    "lines_to_next_cell": 2
   },
   "outputs": [],
   "source": [
    "async def gpipe(model: Model) -> Model:\n",
    "    weights, opt_states, activations, grad_activations, grad_weights = model.storage()\n",
    "    per_rank = model.LAYERS // model.RANKS\n",
    "    my_layers = list([l + (model.rank * per_rank) for l in range(per_rank)])\n",
    "    for l in my_layers:\n",
    "        weights[l], opt_states[l] = model.load_weights(l)\n",
    "\n",
    "    assert False, 'TODO: Implement me'\n",
    "    for l in my_layers:\n",
    "        model.set_final_weight(l, weights[l])\n",
    "\n",
    "    return model"
   ]
  },
  {
   "cell_type": "code",
   "execution_count": null,
   "id": "f5c73b29",
   "metadata": {},
   "outputs": [],
   "source": [
    "dist = Dist(ranks)\n",
    "out = await asyncio.gather(*[\n",
    "    gpipe(Model(layers=8, batches=ranks, rank=i, dist=dist))\n",
    "    for i in range(ranks)])\n",
    "draw_group(out[1].final_weights)"
   ]
  },
  {
   "cell_type": "code",
   "execution_count": null,
   "id": "0e759da9",
   "metadata": {},
   "outputs": [],
   "source": [
    "draw(out)"
   ]
  },
  {
   "cell_type": "code",
   "execution_count": null,
   "id": "47d3102b",
   "metadata": {
    "lines_to_next_cell": 2
   },
   "outputs": [],
   "source": [
    "Model.check(out)"
   ]
  },
  {
   "cell_type": "markdown",
   "id": "3a4bc062",
   "metadata": {},
   "source": [
    "### Puzzle 7: Pipeline + FSDP\n",
    "\n",
    "As a last exercise, we can put everything together. Here we are going to run a combination of pipeline parallelism while also sharding our weight between 16 different machines. Here the model only has 4 layers, so we will assign 4 GPUs to each layer in the pipeline parallel approach. \n",
    "\n",
    "This example requires combining both collective communication and p2p communication effectively. \n",
    "\n",
    "* Total Steps: 15\n",
    "* Total Memory: 1000000"
   ]
  },
  {
   "cell_type": "code",
   "execution_count": null,
   "id": "34757c26",
   "metadata": {},
   "outputs": [],
   "source": [
    "async def pipeline_fsdp(model: Model) -> Model:\n",
    "    weights, opt_states, activations, grad_activations, grad_weights = model.storage()\n",
    "    per_rank = model.LAYERS // (model.RANKS // 4)\n",
    "    my_layers = list([l + ((model.rank % 4)  * per_rank) for l in range(per_rank)])\n",
    "    for l in range(model.LAYERS):\n",
    "        weights[l, 0], opt_states[l, 0] = model.load_weights(l, model.rank, model.RANKS)\n",
    "    def empty_grad(l):\n",
    "        return model.fake_grad(l, [])\n",
    "    assert False, 'TODO: Implement me'\n",
    "    for l in range(model.LAYERS):\n",
    "        model.set_final_weight(l, weights[l])\n",
    "    # Update\n",
    "    return model"
   ]
  },
  {
   "cell_type": "code",
   "execution_count": null,
   "id": "35a0877b",
   "metadata": {
    "lines_to_next_cell": 2
   },
   "outputs": [],
   "source": [
    "dist = Dist(16)\n",
    "out = await asyncio.gather(*[\n",
    "    pipeline_fsdp(Model(layers=4, batches=ranks, rank=i, dist=dist))\n",
    "    for i in range(16)])"
   ]
  },
  {
   "cell_type": "code",
   "execution_count": null,
   "id": "d93c6256",
   "metadata": {},
   "outputs": [],
   "source": [
    "Model.check(out)\n",
    "chalk.set_svg_height(1000)\n",
    "chalk.set_svg_draw_height(1000) \n",
    "\n",
    "draw(out)"
   ]
  },
  {
   "cell_type": "markdown",
   "id": "24393483",
   "metadata": {},
   "source": [
    "### When does it make sense to combine?\n",
    "\n",
    "The goal of these exercises is to give you a sense of the different methods out there for distributed training. However, there is not currently a one size fits all approach for distributed training. The right choice will depend on the constants such as batch size, memory per GPU, communication overhead, implementation complexity, model size, and specifics of architecture. \n",
    "\n",
    "As an example  of what's left to explore, this last method Pipeline + FSDP is often not a great choice due to the complexities of communication speed. And in fact GPipe + FSDP also gets you into a bad place. The paper [Breadth First Pipeline Parallelism](https://arxiv.org/pdf/2211.05953.pdf) proposes instead a combination of pipeline scheduling and communication. Here's what it looks like. "
   ]
  },
  {
   "cell_type": "markdown",
   "id": "35c9493a",
   "metadata": {},
   "source": [
    "![image.png](https://github.com/srush/LLM-Training-Puzzles/assets/35882/f286089a-83bd-483c-b441-f154821d161c)"
   ]
  }
 ],
 "metadata": {
  "jupytext": {
   "cell_metadata_filter": "-all",
   "custom_cell_magics": "kql"
  },
  "kernelspec": {
   "display_name": "Python 3",
   "language": "python",
   "name": "python3"
  },
  "language_info": {
   "codemirror_mode": {
    "name": "ipython",
    "version": 3
   },
   "file_extension": ".py",
   "mimetype": "text/x-python",
   "name": "python",
   "nbconvert_exporter": "python",
   "pygments_lexer": "ipython3",
   "version": "3.9.20"
  }
 },
 "nbformat": 4,
 "nbformat_minor": 5
}
